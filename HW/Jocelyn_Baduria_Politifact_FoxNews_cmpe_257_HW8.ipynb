{
  "nbformat": 4,
  "nbformat_minor": 0,
  "metadata": {
    "colab": {
      "name": "Jocelyn_Baduria_Politifact_FoxNews_cmpe-257_HW8.ipynb",
      "provenance": [],
      "collapsed_sections": [
        "15d7qCtPTNRu",
        "4-eX5WlRS5Xs",
        "HgEhCqJyyKvA",
        "tidkCDwLQG6K",
        "NBkNSotsQfk7",
        "GyjUjOQPyCMH",
        "gTDy1ZxSjm-U",
        "ucaVEG3xEKd6",
        "b22SoZYDbvnI",
        "mxq3oLUQUh_Q",
        "kxlSM8VgFHbF",
        "LApIG1XrGmcU",
        "RgzhvGarJAUz",
        "Rh2-OuspFIDG",
        "azWLYlNvY5Ub"
      ],
      "mount_file_id": "1DpF2ylH4pFEsSggo5kMV3w8AGqzBpakV",
      "authorship_tag": "ABX9TyOzhuP0t9U90f9W0CvWq5FE",
      "include_colab_link": true
    },
    "kernelspec": {
      "name": "python3",
      "display_name": "Python 3"
    },
    "language_info": {
      "name": "python"
    }
  },
  "cells": [
    {
      "cell_type": "markdown",
      "metadata": {
        "id": "view-in-github",
        "colab_type": "text"
      },
      "source": [
        "<a href=\"https://colab.research.google.com/github/jocelynbaduria/cmpe-257_Machine_Learning/blob/main/Jocelyn_Baduria_Politifact_FoxNews_cmpe_257_HW8.ipynb\" target=\"_parent\"><img src=\"https://colab.research.google.com/assets/colab-badge.svg\" alt=\"Open In Colab\"/></a>"
      ]
    },
    {
      "cell_type": "markdown",
      "metadata": {
        "id": "15d7qCtPTNRu"
      },
      "source": [
        "### Install necessary Libraries to run the notebook. Mounting drive is done automatically once login to your google drive.\n",
        "\n",
        "![Screen Shot 2021-04-13 at 10.36.52 AM.png](data:image/png;base64,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)"
      ]
    },
    {
      "cell_type": "code",
      "metadata": {
        "colab": {
          "base_uri": "https://localhost:8080/",
          "height": 1000
        },
        "id": "Gh4RY_RysY9d",
        "outputId": "4b44b8cd-a14c-40a5-8e5e-749bd9bf92af"
      },
      "source": [
        "# !pip install requests beautifulsoup4 \n",
        "# !pip install sidetable\n",
        "!pip install sidetable -U\n",
        "!pip install pandas -U  \n",
        "!pip install nltk\n",
        "!pip install gensim\n",
        "!pip install textract"
      ],
      "execution_count": null,
      "outputs": [
        {
          "output_type": "stream",
          "text": [
            "Collecting sidetable\n",
            "  Downloading https://files.pythonhosted.org/packages/71/a0/380de6f4b8d8a03dfe14d183238c9f3300178b44e3000c8fc5076a736ca2/sidetable-0.8.0-py3-none-any.whl\n",
            "Requirement already satisfied, skipping upgrade: pandas>=1.0 in /usr/local/lib/python3.7/dist-packages (from sidetable) (1.1.5)\n",
            "Requirement already satisfied, skipping upgrade: numpy>=1.15.4 in /usr/local/lib/python3.7/dist-packages (from pandas>=1.0->sidetable) (1.19.5)\n",
            "Requirement already satisfied, skipping upgrade: pytz>=2017.2 in /usr/local/lib/python3.7/dist-packages (from pandas>=1.0->sidetable) (2018.9)\n",
            "Requirement already satisfied, skipping upgrade: python-dateutil>=2.7.3 in /usr/local/lib/python3.7/dist-packages (from pandas>=1.0->sidetable) (2.8.1)\n",
            "Requirement already satisfied, skipping upgrade: six>=1.5 in /usr/local/lib/python3.7/dist-packages (from python-dateutil>=2.7.3->pandas>=1.0->sidetable) (1.15.0)\n",
            "Installing collected packages: sidetable\n",
            "Successfully installed sidetable-0.8.0\n",
            "Collecting pandas\n",
            "\u001b[?25l  Downloading https://files.pythonhosted.org/packages/51/51/48f3fc47c4e2144da2806dfb6629c4dd1fa3d5a143f9652b141e979a8ca9/pandas-1.2.4-cp37-cp37m-manylinux1_x86_64.whl (9.9MB)\n",
            "\u001b[K     |████████████████████████████████| 9.9MB 14.2MB/s \n",
            "\u001b[?25hRequirement already satisfied, skipping upgrade: python-dateutil>=2.7.3 in /usr/local/lib/python3.7/dist-packages (from pandas) (2.8.1)\n",
            "Requirement already satisfied, skipping upgrade: numpy>=1.16.5 in /usr/local/lib/python3.7/dist-packages (from pandas) (1.19.5)\n",
            "Requirement already satisfied, skipping upgrade: pytz>=2017.3 in /usr/local/lib/python3.7/dist-packages (from pandas) (2018.9)\n",
            "Requirement already satisfied, skipping upgrade: six>=1.5 in /usr/local/lib/python3.7/dist-packages (from python-dateutil>=2.7.3->pandas) (1.15.0)\n",
            "\u001b[31mERROR: google-colab 1.0.0 has requirement pandas~=1.1.0; python_version >= \"3.0\", but you'll have pandas 1.2.4 which is incompatible.\u001b[0m\n",
            "Installing collected packages: pandas\n",
            "  Found existing installation: pandas 1.1.5\n",
            "    Uninstalling pandas-1.1.5:\n",
            "      Successfully uninstalled pandas-1.1.5\n",
            "Successfully installed pandas-1.2.4\n"
          ],
          "name": "stdout"
        },
        {
          "output_type": "display_data",
          "data": {
            "application/vnd.colab-display-data+json": {
              "pip_warning": {
                "packages": [
                  "pandas"
                ]
              }
            }
          },
          "metadata": {
            "tags": []
          }
        },
        {
          "output_type": "stream",
          "text": [
            "Requirement already satisfied: nltk in /usr/local/lib/python3.7/dist-packages (3.2.5)\n",
            "Requirement already satisfied: six in /usr/local/lib/python3.7/dist-packages (from nltk) (1.15.0)\n",
            "Requirement already satisfied: gensim in /usr/local/lib/python3.7/dist-packages (3.6.0)\n",
            "Requirement already satisfied: scipy>=0.18.1 in /usr/local/lib/python3.7/dist-packages (from gensim) (1.4.1)\n",
            "Requirement already satisfied: six>=1.5.0 in /usr/local/lib/python3.7/dist-packages (from gensim) (1.15.0)\n",
            "Requirement already satisfied: numpy>=1.11.3 in /usr/local/lib/python3.7/dist-packages (from gensim) (1.19.5)\n",
            "Requirement already satisfied: smart-open>=1.2.1 in /usr/local/lib/python3.7/dist-packages (from gensim) (5.0.0)\n",
            "Collecting textract\n",
            "  Downloading https://files.pythonhosted.org/packages/32/31/ef9451e6e48a1a57e337c5f20d4ef58c1a13d91560d2574c738b1320bb8d/textract-1.6.3-py3-none-any.whl\n",
            "Collecting pdfminer.six==20181108\n",
            "\u001b[?25l  Downloading https://files.pythonhosted.org/packages/8a/fd/6e8746e6965d1a7ea8e97253e3d79e625da5547e8f376f88de5d024bacb9/pdfminer.six-20181108-py2.py3-none-any.whl (5.6MB)\n",
            "\u001b[K     |████████████████████████████████| 5.6MB 14.2MB/s \n",
            "\u001b[?25hCollecting six==1.12.0\n",
            "  Downloading https://files.pythonhosted.org/packages/73/fb/00a976f728d0d1fecfe898238ce23f502a721c0ac0ecfedb80e0d88c64e9/six-1.12.0-py2.py3-none-any.whl\n",
            "Collecting xlrd==1.2.0\n",
            "\u001b[?25l  Downloading https://files.pythonhosted.org/packages/b0/16/63576a1a001752e34bf8ea62e367997530dc553b689356b9879339cf45a4/xlrd-1.2.0-py2.py3-none-any.whl (103kB)\n",
            "\u001b[K     |████████████████████████████████| 112kB 42.7MB/s \n",
            "\u001b[?25hCollecting beautifulsoup4==4.8.0\n",
            "\u001b[?25l  Downloading https://files.pythonhosted.org/packages/1a/b7/34eec2fe5a49718944e215fde81288eec1fa04638aa3fb57c1c6cd0f98c3/beautifulsoup4-4.8.0-py3-none-any.whl (97kB)\n",
            "\u001b[K     |████████████████████████████████| 102kB 10.4MB/s \n",
            "\u001b[?25hCollecting SpeechRecognition==3.8.1\n",
            "\u001b[?25l  Downloading https://files.pythonhosted.org/packages/26/e1/7f5678cd94ec1234269d23756dbdaa4c8cfaed973412f88ae8adf7893a50/SpeechRecognition-3.8.1-py2.py3-none-any.whl (32.8MB)\n",
            "\u001b[K     |████████████████████████████████| 32.8MB 131kB/s \n",
            "\u001b[?25hCollecting docx2txt==0.8\n",
            "  Downloading https://files.pythonhosted.org/packages/7d/7d/60ee3f2b16d9bfdfa72e8599470a2c1a5b759cb113c6fe1006be28359327/docx2txt-0.8.tar.gz\n",
            "Collecting EbookLib==0.17.1\n",
            "\u001b[?25l  Downloading https://files.pythonhosted.org/packages/00/38/7d6ab2e569a9165249619d73b7bc6be0e713a899a3bc2513814b6598a84c/EbookLib-0.17.1.tar.gz (111kB)\n",
            "\u001b[K     |████████████████████████████████| 112kB 54.8MB/s \n",
            "\u001b[?25hCollecting extract-msg==0.23.1\n",
            "\u001b[?25l  Downloading https://files.pythonhosted.org/packages/a1/90/84485a914ed90adb5e87df17e626be04162fbba146dfecf34643659a4633/extract_msg-0.23.1-py2.py3-none-any.whl (45kB)\n",
            "\u001b[K     |████████████████████████████████| 51kB 6.3MB/s \n",
            "\u001b[?25hCollecting python-pptx==0.6.18\n",
            "\u001b[?25l  Downloading https://files.pythonhosted.org/packages/bf/86/eb979f7b0333ec769041aae36df8b9f1bd8bea5bbad44620663890dce561/python-pptx-0.6.18.tar.gz (8.9MB)\n",
            "\u001b[K     |████████████████████████████████| 8.9MB 43.3MB/s \n",
            "\u001b[?25hCollecting argcomplete==1.10.0\n",
            "  Downloading https://files.pythonhosted.org/packages/4d/82/f44c9661e479207348a979b1f6f063625d11dc4ca6256af053719bbb0124/argcomplete-1.10.0-py2.py3-none-any.whl\n",
            "Requirement already satisfied: chardet==3.0.4 in /usr/local/lib/python3.7/dist-packages (from textract) (3.0.4)\n",
            "Requirement already satisfied: sortedcontainers in /usr/local/lib/python3.7/dist-packages (from pdfminer.six==20181108->textract) (2.3.0)\n",
            "Collecting pycryptodome\n",
            "\u001b[?25l  Downloading https://files.pythonhosted.org/packages/ad/16/9627ab0493894a11c68e46000dbcc82f578c8ff06bc2980dcd016aea9bd3/pycryptodome-3.10.1-cp35-abi3-manylinux2010_x86_64.whl (1.9MB)\n",
            "\u001b[K     |████████████████████████████████| 1.9MB 44.8MB/s \n",
            "\u001b[?25hCollecting soupsieve>=1.2\n",
            "  Downloading https://files.pythonhosted.org/packages/36/69/d82d04022f02733bf9a72bc3b96332d360c0c5307096d76f6bb7489f7e57/soupsieve-2.2.1-py3-none-any.whl\n",
            "Requirement already satisfied: lxml in /usr/local/lib/python3.7/dist-packages (from EbookLib==0.17.1->textract) (4.2.6)\n",
            "Requirement already satisfied: tzlocal==1.5.1 in /usr/local/lib/python3.7/dist-packages (from extract-msg==0.23.1->textract) (1.5.1)\n",
            "Collecting imapclient==2.1.0\n",
            "\u001b[?25l  Downloading https://files.pythonhosted.org/packages/dc/39/e1c2c2c6e2356ab6ea81fcfc0a74b044b311d6a91a45300811d9a6077ef7/IMAPClient-2.1.0-py2.py3-none-any.whl (73kB)\n",
            "\u001b[K     |████████████████████████████████| 81kB 9.4MB/s \n",
            "\u001b[?25hCollecting olefile==0.46\n",
            "\u001b[?25l  Downloading https://files.pythonhosted.org/packages/34/81/e1ac43c6b45b4c5f8d9352396a14144bba52c8fec72a80f425f6a4d653ad/olefile-0.46.zip (112kB)\n",
            "\u001b[K     |████████████████████████████████| 112kB 51.1MB/s \n",
            "\u001b[?25hRequirement already satisfied: Pillow>=3.3.2 in /usr/local/lib/python3.7/dist-packages (from python-pptx==0.6.18->textract) (7.1.2)\n",
            "Collecting XlsxWriter>=0.5.7\n",
            "\u001b[?25l  Downloading https://files.pythonhosted.org/packages/9f/65/22746ca0b059aada544681325ff9c3f4f2d80c900165777b23e32f56eff2/XlsxWriter-1.3.9-py2.py3-none-any.whl (145kB)\n",
            "\u001b[K     |████████████████████████████████| 153kB 51.8MB/s \n",
            "\u001b[?25hRequirement already satisfied: pytz in /usr/local/lib/python3.7/dist-packages (from tzlocal==1.5.1->extract-msg==0.23.1->textract) (2018.9)\n",
            "Building wheels for collected packages: docx2txt, EbookLib, python-pptx, olefile\n",
            "  Building wheel for docx2txt (setup.py) ... \u001b[?25l\u001b[?25hdone\n",
            "  Created wheel for docx2txt: filename=docx2txt-0.8-cp37-none-any.whl size=3963 sha256=e8adbc1a41f750c680289f16a014c36d506c914c29607d4e6fea88958b3617b6\n",
            "  Stored in directory: /root/.cache/pip/wheels/b2/1f/26/a051209bbb77fc6bcfae2bb7e01fa0ff941b82292ab084d596\n",
            "  Building wheel for EbookLib (setup.py) ... \u001b[?25l\u001b[?25hdone\n",
            "  Created wheel for EbookLib: filename=EbookLib-0.17.1-cp37-none-any.whl size=38165 sha256=21163062e762dd6f47f71e806f9905438829c08b12a0803016e1c8727a7ebf77\n",
            "  Stored in directory: /root/.cache/pip/wheels/84/11/01/951369cbbf8f96878786a1f4da68bd7ac19a5d945b38e03d54\n",
            "  Building wheel for python-pptx (setup.py) ... \u001b[?25l\u001b[?25hdone\n",
            "  Created wheel for python-pptx: filename=python_pptx-0.6.18-cp37-none-any.whl size=275704 sha256=36763343cb8bb92169aede0921bb92ab10dc7688f2014f0ff106ecb1bc304a40\n",
            "  Stored in directory: /root/.cache/pip/wheels/1f/1f/2c/29acca422b420a0b5210bd2cd7e9669804520d602d2462f20b\n",
            "  Building wheel for olefile (setup.py) ... \u001b[?25l\u001b[?25hdone\n",
            "  Created wheel for olefile: filename=olefile-0.46-py2.py3-none-any.whl size=35416 sha256=fc4157333dc2fb7764aa0a8b8436e14f9efdf123c9ff823c721b07799a341d88\n",
            "  Stored in directory: /root/.cache/pip/wheels/4b/f4/11/bc4166107c27f07fd7bba707ffcb439619197638a1ac986df3\n",
            "Successfully built docx2txt EbookLib python-pptx olefile\n",
            "\u001b[31mERROR: tensorflow 2.4.1 has requirement six~=1.15.0, but you'll have six 1.12.0 which is incompatible.\u001b[0m\n",
            "\u001b[31mERROR: google-colab 1.0.0 has requirement pandas~=1.1.0; python_version >= \"3.0\", but you'll have pandas 1.2.4 which is incompatible.\u001b[0m\n",
            "\u001b[31mERROR: google-colab 1.0.0 has requirement six~=1.15.0, but you'll have six 1.12.0 which is incompatible.\u001b[0m\n",
            "\u001b[31mERROR: google-api-python-client 1.12.8 has requirement six<2dev,>=1.13.0, but you'll have six 1.12.0 which is incompatible.\u001b[0m\n",
            "\u001b[31mERROR: google-api-core 1.26.3 has requirement six>=1.13.0, but you'll have six 1.12.0 which is incompatible.\u001b[0m\n",
            "\u001b[31mERROR: datascience 0.10.6 has requirement folium==0.2.1, but you'll have folium 0.8.3 which is incompatible.\u001b[0m\n",
            "\u001b[31mERROR: albumentations 0.1.12 has requirement imgaug<0.2.7,>=0.2.5, but you'll have imgaug 0.2.9 which is incompatible.\u001b[0m\n",
            "Installing collected packages: pycryptodome, six, pdfminer.six, xlrd, soupsieve, beautifulsoup4, SpeechRecognition, docx2txt, EbookLib, imapclient, olefile, extract-msg, XlsxWriter, python-pptx, argcomplete, textract\n",
            "  Found existing installation: six 1.15.0\n",
            "    Uninstalling six-1.15.0:\n",
            "      Successfully uninstalled six-1.15.0\n",
            "  Found existing installation: xlrd 1.1.0\n",
            "    Uninstalling xlrd-1.1.0:\n",
            "      Successfully uninstalled xlrd-1.1.0\n",
            "  Found existing installation: beautifulsoup4 4.6.3\n",
            "    Uninstalling beautifulsoup4-4.6.3:\n",
            "      Successfully uninstalled beautifulsoup4-4.6.3\n",
            "Successfully installed EbookLib-0.17.1 SpeechRecognition-3.8.1 XlsxWriter-1.3.9 argcomplete-1.10.0 beautifulsoup4-4.8.0 docx2txt-0.8 extract-msg-0.23.1 imapclient-2.1.0 olefile-0.46 pdfminer.six-20181108 pycryptodome-3.10.1 python-pptx-0.6.18 six-1.12.0 soupsieve-2.2.1 textract-1.6.3 xlrd-1.2.0\n"
          ],
          "name": "stdout"
        },
        {
          "output_type": "display_data",
          "data": {
            "application/vnd.colab-display-data+json": {
              "pip_warning": {
                "packages": [
                  "six"
                ]
              }
            }
          },
          "metadata": {
            "tags": []
          }
        }
      ]
    },
    {
      "cell_type": "code",
      "metadata": {
        "id": "gVu5vs59Ch9j",
        "colab": {
          "base_uri": "https://localhost:8080/"
        },
        "outputId": "7adfc006-9ea5-480f-8887-09af951cfb95"
      },
      "source": [
        "from bs4 import BeautifulSoup \n",
        "import pandas as pd\n",
        "import requests\n",
        "import urllib.request\n",
        "import time\n",
        "import re\n",
        "import sidetable\n",
        "import gensim\n",
        "from textract import process\n",
        "\n",
        "import nltk\n",
        "nltk.download('stopwords')\n",
        "%matplotlib inline\n",
        "\n",
        "from nltk.corpus import stopwords\n",
        "from nltk.stem import PorterStemmer\n",
        "from sklearn.feature_extraction.text import TfidfTransformer\n",
        "from sklearn.feature_extraction.text import TfidfVectorizer\n",
        "from sklearn.pipeline import Pipeline\n",
        "from sklearn.metrics import classification_report, confusion_matrix\n",
        "from sklearn.model_selection import train_test_split\n",
        "import pickle"
      ],
      "execution_count": null,
      "outputs": [
        {
          "output_type": "stream",
          "text": [
            "[nltk_data] Downloading package stopwords to /root/nltk_data...\n",
            "[nltk_data]   Package stopwords is already up-to-date!\n"
          ],
          "name": "stdout"
        }
      ]
    },
    {
      "cell_type": "markdown",
      "metadata": {
        "id": "hyKCoVgONuXN"
      },
      "source": [
        "Factor: Source Reputation\n",
        "\n",
        "Microfactors\n",
        "1. Url ( news article )\n",
        "2. Article count, publish date\n",
        "3. Wrting Style ( Sentence Similarity )"
      ]
    },
    {
      "cell_type": "markdown",
      "metadata": {
        "id": "4-eX5WlRS5Xs"
      },
      "source": [
        "## Visualization"
      ]
    },
    {
      "cell_type": "code",
      "metadata": {
        "id": "UuC5_dHdVZvU"
      },
      "source": [
        "# Politifact\n",
        "import pandas as pd\n",
        "path = '/content/drive/MyDrive/cmpe-257 Machine Leaning/scraped_data/saved_csv/political_fact_checker_2000.csv'\n",
        "data_politifact = pd.read_csv(path, parse_dates=True)"
      ],
      "execution_count": null,
      "outputs": []
    },
    {
      "cell_type": "code",
      "metadata": {
        "id": "e9FsVNgKKFr3"
      },
      "source": [
        "# Fox News\n",
        "import pandas as pd\n",
        "path = '/content/drive/MyDrive/cmpe-257 Machine Leaning/scraped_data/saved_csv/foxnews_2000.csv'\n",
        "data_foxnews = pd.read_csv(path, parse_dates=True)"
      ],
      "execution_count": null,
      "outputs": []
    },
    {
      "cell_type": "markdown",
      "metadata": {
        "id": "HgEhCqJyyKvA"
      },
      "source": [
        "### Factor - Reliable Source\n",
        "Microfactors (1. news article - (politifact, foxnews), 2. persona credibility - source count and published date, and 3. writing style - Naive Base Classifier and Cosine Text Similarity)\n",
        "\n",
        "Data Narrative : "
      ]
    },
    {
      "cell_type": "code",
      "metadata": {
        "colab": {
          "base_uri": "https://localhost:8080/",
          "height": 419
        },
        "id": "_y18-jFuKzbO",
        "outputId": "386b5a24-4777-4c25-b013-7c47365c7d71"
      },
      "source": [
        "data_politifact"
      ],
      "execution_count": null,
      "outputs": [
        {
          "output_type": "execute_result",
          "data": {
            "text/html": [
              "<div>\n",
              "<style scoped>\n",
              "    .dataframe tbody tr th:only-of-type {\n",
              "        vertical-align: middle;\n",
              "    }\n",
              "\n",
              "    .dataframe tbody tr th {\n",
              "        vertical-align: top;\n",
              "    }\n",
              "\n",
              "    .dataframe thead th {\n",
              "        text-align: right;\n",
              "    }\n",
              "</style>\n",
              "<table border=\"1\" class=\"dataframe\">\n",
              "  <thead>\n",
              "    <tr style=\"text-align: right;\">\n",
              "      <th></th>\n",
              "      <th>author</th>\n",
              "      <th>date</th>\n",
              "      <th>statement</th>\n",
              "      <th>source</th>\n",
              "      <th>date_published</th>\n",
              "      <th>target</th>\n",
              "    </tr>\n",
              "  </thead>\n",
              "  <tbody>\n",
              "    <tr>\n",
              "      <th>0</th>\n",
              "      <td>Tom Kertscher</td>\n",
              "      <td>March 30, 2021</td>\n",
              "      <td>“Less than 500 people a year killed by all rif...</td>\n",
              "      <td>Facebook posts</td>\n",
              "      <td>March 21, 2021</td>\n",
              "      <td>barely-true</td>\n",
              "    </tr>\n",
              "    <tr>\n",
              "      <th>1</th>\n",
              "      <td>Tom Kertscher</td>\n",
              "      <td>March 30, 2021</td>\n",
              "      <td>Says the suspected Boulder mass shooter is a M...</td>\n",
              "      <td>Facebook posts</td>\n",
              "      <td>March 24, 2021</td>\n",
              "      <td>barely-true</td>\n",
              "    </tr>\n",
              "    <tr>\n",
              "      <th>2</th>\n",
              "      <td>Bill McCarthy</td>\n",
              "      <td>March 30, 2021</td>\n",
              "      <td>“Toxicology report was made public by the MN p...</td>\n",
              "      <td>Facebook posts</td>\n",
              "      <td>March 24, 2021</td>\n",
              "      <td>false</td>\n",
              "    </tr>\n",
              "    <tr>\n",
              "      <th>3</th>\n",
              "      <td>Gabrielle Settles</td>\n",
              "      <td>March 30, 2021</td>\n",
              "      <td>Says Jimmy Kimmel, Jimmy Fallon and Stephen Co...</td>\n",
              "      <td>Facebook posts</td>\n",
              "      <td>March 25, 2021</td>\n",
              "      <td>false</td>\n",
              "    </tr>\n",
              "    <tr>\n",
              "      <th>4</th>\n",
              "      <td>Samantha Putterman</td>\n",
              "      <td>March 29, 2021</td>\n",
              "      <td>Says Google Earth blocked people from seeing t...</td>\n",
              "      <td>Facebook posts</td>\n",
              "      <td>March 28, 2021</td>\n",
              "      <td>false</td>\n",
              "    </tr>\n",
              "    <tr>\n",
              "      <th>...</th>\n",
              "      <td>...</td>\n",
              "      <td>...</td>\n",
              "      <td>...</td>\n",
              "      <td>...</td>\n",
              "      <td>...</td>\n",
              "      <td>...</td>\n",
              "    </tr>\n",
              "    <tr>\n",
              "      <th>59965</th>\n",
              "      <td>Ciara O'Rourke</td>\n",
              "      <td>March 25, 2021</td>\n",
              "      <td>Passports aren’t required to enter the United ...</td>\n",
              "      <td>Facebook posts</td>\n",
              "      <td>March 20, 2021</td>\n",
              "      <td>barely-true</td>\n",
              "    </tr>\n",
              "    <tr>\n",
              "      <th>59966</th>\n",
              "      <td>Daniel Funke</td>\n",
              "      <td>March 25, 2021</td>\n",
              "      <td>\"Suez Canal blocked by huge container ship nam...</td>\n",
              "      <td>Facebook posts</td>\n",
              "      <td>March 24, 2021</td>\n",
              "      <td>pants-fire</td>\n",
              "    </tr>\n",
              "    <tr>\n",
              "      <th>59967</th>\n",
              "      <td>Duncan Slade</td>\n",
              "      <td>March 25, 2021</td>\n",
              "      <td>West Virginia “is the only state to decline in...</td>\n",
              "      <td>Jim Justice</td>\n",
              "      <td>March 4, 2021</td>\n",
              "      <td>true</td>\n",
              "    </tr>\n",
              "    <tr>\n",
              "      <th>59968</th>\n",
              "      <td>Bill McCarthy</td>\n",
              "      <td>March 25, 2021</td>\n",
              "      <td>A CNN chyron said the Boulder “shooter was fac...</td>\n",
              "      <td>Facebook posts</td>\n",
              "      <td>March 24, 2021</td>\n",
              "      <td>pants-fire</td>\n",
              "    </tr>\n",
              "    <tr>\n",
              "      <th>59969</th>\n",
              "      <td>Bill McCarthy</td>\n",
              "      <td>March 25, 2021</td>\n",
              "      <td>\"In 2004, George W. Bush lifted the ban on tho...</td>\n",
              "      <td>Joy Behar</td>\n",
              "      <td>March 23, 2021</td>\n",
              "      <td>half-true</td>\n",
              "    </tr>\n",
              "  </tbody>\n",
              "</table>\n",
              "<p>59970 rows × 6 columns</p>\n",
              "</div>"
            ],
            "text/plain": [
              "                   author            date  ...  date_published       target\n",
              "0           Tom Kertscher  March 30, 2021  ...  March 21, 2021  barely-true\n",
              "1           Tom Kertscher  March 30, 2021  ...  March 24, 2021  barely-true\n",
              "2           Bill McCarthy  March 30, 2021  ...  March 24, 2021        false\n",
              "3       Gabrielle Settles  March 30, 2021  ...  March 25, 2021        false\n",
              "4      Samantha Putterman  March 29, 2021  ...  March 28, 2021        false\n",
              "...                   ...             ...  ...             ...          ...\n",
              "59965      Ciara O'Rourke  March 25, 2021  ...  March 20, 2021  barely-true\n",
              "59966        Daniel Funke  March 25, 2021  ...  March 24, 2021   pants-fire\n",
              "59967        Duncan Slade  March 25, 2021  ...   March 4, 2021         true\n",
              "59968       Bill McCarthy  March 25, 2021  ...  March 24, 2021   pants-fire\n",
              "59969       Bill McCarthy  March 25, 2021  ...  March 23, 2021    half-true\n",
              "\n",
              "[59970 rows x 6 columns]"
            ]
          },
          "metadata": {
            "tags": []
          },
          "execution_count": 5
        }
      ]
    },
    {
      "cell_type": "code",
      "metadata": {
        "colab": {
          "base_uri": "https://localhost:8080/",
          "height": 419
        },
        "id": "py3rrJytK4RZ",
        "outputId": "b36f0616-d941-4250-8c50-fa39b3e84f77"
      },
      "source": [
        "data_foxnews"
      ],
      "execution_count": null,
      "outputs": [
        {
          "output_type": "execute_result",
          "data": {
            "text/html": [
              "<div>\n",
              "<style scoped>\n",
              "    .dataframe tbody tr th:only-of-type {\n",
              "        vertical-align: middle;\n",
              "    }\n",
              "\n",
              "    .dataframe tbody tr th {\n",
              "        vertical-align: top;\n",
              "    }\n",
              "\n",
              "    .dataframe thead th {\n",
              "        text-align: right;\n",
              "    }\n",
              "</style>\n",
              "<table border=\"1\" class=\"dataframe\">\n",
              "  <thead>\n",
              "    <tr style=\"text-align: right;\">\n",
              "      <th></th>\n",
              "      <th>date</th>\n",
              "      <th>headline</th>\n",
              "    </tr>\n",
              "  </thead>\n",
              "  <tbody>\n",
              "    <tr>\n",
              "      <th>0</th>\n",
              "      <td>2021-04-18</td>\n",
              "      <td>Wisconsin police arrest suspect wanted for dea...</td>\n",
              "    </tr>\n",
              "    <tr>\n",
              "      <th>1</th>\n",
              "      <td>2021-04-18</td>\n",
              "      <td>WATCH: County officials ignore mother pleading...</td>\n",
              "    </tr>\n",
              "    <tr>\n",
              "      <th>2</th>\n",
              "      <td>2021-04-18</td>\n",
              "      <td>Grocery chain closes two stores in city that r...</td>\n",
              "    </tr>\n",
              "    <tr>\n",
              "      <th>3</th>\n",
              "      <td>2021-04-18</td>\n",
              "      <td>Insider ripped for piece victimizing teachers ...</td>\n",
              "    </tr>\n",
              "    <tr>\n",
              "      <th>4</th>\n",
              "      <td>2021-04-18</td>\n",
              "      <td>Photo catches Queen in rare moment of emotion ...</td>\n",
              "    </tr>\n",
              "    <tr>\n",
              "      <th>...</th>\n",
              "      <td>...</td>\n",
              "      <td>...</td>\n",
              "    </tr>\n",
              "    <tr>\n",
              "      <th>331995</th>\n",
              "      <td>2021-04-18</td>\n",
              "      <td>Minnesota armed carjacker points gun at vehicl...</td>\n",
              "    </tr>\n",
              "    <tr>\n",
              "      <th>331996</th>\n",
              "      <td>2021-04-18</td>\n",
              "      <td>Houston police say crystal meth found in break...</td>\n",
              "    </tr>\n",
              "    <tr>\n",
              "      <th>331997</th>\n",
              "      <td>2021-04-18</td>\n",
              "      <td>Minneapolis drive-by shooting leaves 2 Nationa...</td>\n",
              "    </tr>\n",
              "    <tr>\n",
              "      <th>331998</th>\n",
              "      <td>2021-04-18</td>\n",
              "      <td>Man charged with attacking undercover NYPD cop...</td>\n",
              "    </tr>\n",
              "    <tr>\n",
              "      <th>331999</th>\n",
              "      <td>2021-04-18</td>\n",
              "      <td>Portland church damaged in riot says cost of r...</td>\n",
              "    </tr>\n",
              "  </tbody>\n",
              "</table>\n",
              "<p>332000 rows × 2 columns</p>\n",
              "</div>"
            ],
            "text/plain": [
              "              date                                           headline\n",
              "0       2021-04-18  Wisconsin police arrest suspect wanted for dea...\n",
              "1       2021-04-18  WATCH: County officials ignore mother pleading...\n",
              "2       2021-04-18  Grocery chain closes two stores in city that r...\n",
              "3       2021-04-18  Insider ripped for piece victimizing teachers ...\n",
              "4       2021-04-18  Photo catches Queen in rare moment of emotion ...\n",
              "...            ...                                                ...\n",
              "331995  2021-04-18  Minnesota armed carjacker points gun at vehicl...\n",
              "331996  2021-04-18  Houston police say crystal meth found in break...\n",
              "331997  2021-04-18  Minneapolis drive-by shooting leaves 2 Nationa...\n",
              "331998  2021-04-18  Man charged with attacking undercover NYPD cop...\n",
              "331999  2021-04-18  Portland church damaged in riot says cost of r...\n",
              "\n",
              "[332000 rows x 2 columns]"
            ]
          },
          "metadata": {
            "tags": []
          },
          "execution_count": 6
        }
      ]
    },
    {
      "cell_type": "markdown",
      "metadata": {
        "id": "tidkCDwLQG6K"
      },
      "source": [
        "### Politifact Visualization"
      ]
    },
    {
      "cell_type": "code",
      "metadata": {
        "colab": {
          "base_uri": "https://localhost:8080/",
          "height": 617
        },
        "id": "5xgVQa6xWR75",
        "outputId": "22421863-a7bc-4e2e-afc6-c5a01b9c6f89"
      },
      "source": [
        "import plotly.express as px\n",
        "fig = px.histogram(data_politifact, x='target',y='source', color=\"source\",\n",
        "                   marginal=\"violin\", # or violin, rug\n",
        "                   hover_data=data_politifact.columns, width=1000, height=600, title=\"Fact Checked vs Publisher \")\n",
        "fig.show()"
      ],
      "execution_count": null,
      "outputs": []
    },
    {
      "cell_type": "code",
      "metadata": {
        "colab": {
          "base_uri": "https://localhost:8080/",
          "height": 617
        },
        "id": "2qdWvb9L-hQp",
        "outputId": "3561f292-882f-4a35-f532-db78804c5a8a"
      },
      "source": [
        "import plotly.express as px\n",
        "fig = px.histogram(data_politifact, x='source',y='target', color=\"target\",\n",
        "                   marginal=\"violin\", # or violin, rug\n",
        "                   hover_data=data_politifact.columns, width=1000, height=600, title=\"Publisher vs Fact Checked\")\n",
        "fig.show()"
      ],
      "execution_count": null,
      "outputs": []
    },
    {
      "cell_type": "code",
      "metadata": {
        "colab": {
          "base_uri": "https://localhost:8080/",
          "height": 617
        },
        "id": "S3KjCWUSRbyc",
        "outputId": "6c8959d6-72fb-43c4-b05b-db07a0c20034"
      },
      "source": [
        "import plotly.express as px\n",
        "fig = px.histogram(data_politifact, x='date',y='statement', color=\"date\",\n",
        "                   hover_data=data_politifact.columns, width=1000, height=600, title=\"Politifact Published date vs Headline Counts \")\n",
        "fig.show()"
      ],
      "execution_count": null,
      "outputs": []
    },
    {
      "cell_type": "markdown",
      "metadata": {
        "id": "Gp_l6hbBQUGN"
      },
      "source": [
        "Politifact Table - Cumulative Count and Percent"
      ]
    },
    {
      "cell_type": "code",
      "metadata": {
        "colab": {
          "base_uri": "https://localhost:8080/",
          "height": 235
        },
        "id": "r6wM5hzyaXdp",
        "outputId": "be73b848-d9bf-4f8a-aff1-170772398a0f"
      },
      "source": [
        "import sidetable\n",
        "data_politifact.stb.freq(['target'])"
      ],
      "execution_count": null,
      "outputs": [
        {
          "output_type": "execute_result",
          "data": {
            "text/html": [
              "<div>\n",
              "<style scoped>\n",
              "    .dataframe tbody tr th:only-of-type {\n",
              "        vertical-align: middle;\n",
              "    }\n",
              "\n",
              "    .dataframe tbody tr th {\n",
              "        vertical-align: top;\n",
              "    }\n",
              "\n",
              "    .dataframe thead th {\n",
              "        text-align: right;\n",
              "    }\n",
              "</style>\n",
              "<table border=\"1\" class=\"dataframe\">\n",
              "  <thead>\n",
              "    <tr style=\"text-align: right;\">\n",
              "      <th></th>\n",
              "      <th>target</th>\n",
              "      <th>count</th>\n",
              "      <th>percent</th>\n",
              "      <th>cumulative_count</th>\n",
              "      <th>cumulative_percent</th>\n",
              "    </tr>\n",
              "  </thead>\n",
              "  <tbody>\n",
              "    <tr>\n",
              "      <th>0</th>\n",
              "      <td>barely-true</td>\n",
              "      <td>17991</td>\n",
              "      <td>30.000000</td>\n",
              "      <td>17991</td>\n",
              "      <td>30.000000</td>\n",
              "    </tr>\n",
              "    <tr>\n",
              "      <th>1</th>\n",
              "      <td>false</td>\n",
              "      <td>15992</td>\n",
              "      <td>26.666667</td>\n",
              "      <td>33983</td>\n",
              "      <td>56.666667</td>\n",
              "    </tr>\n",
              "    <tr>\n",
              "      <th>2</th>\n",
              "      <td>half-true</td>\n",
              "      <td>9995</td>\n",
              "      <td>16.666667</td>\n",
              "      <td>43978</td>\n",
              "      <td>73.333333</td>\n",
              "    </tr>\n",
              "    <tr>\n",
              "      <th>3</th>\n",
              "      <td>pants-fire</td>\n",
              "      <td>5997</td>\n",
              "      <td>10.000000</td>\n",
              "      <td>49975</td>\n",
              "      <td>83.333333</td>\n",
              "    </tr>\n",
              "    <tr>\n",
              "      <th>4</th>\n",
              "      <td>mostly-true</td>\n",
              "      <td>5997</td>\n",
              "      <td>10.000000</td>\n",
              "      <td>55972</td>\n",
              "      <td>93.333333</td>\n",
              "    </tr>\n",
              "    <tr>\n",
              "      <th>5</th>\n",
              "      <td>true</td>\n",
              "      <td>3998</td>\n",
              "      <td>6.666667</td>\n",
              "      <td>59970</td>\n",
              "      <td>100.000000</td>\n",
              "    </tr>\n",
              "  </tbody>\n",
              "</table>\n",
              "</div>"
            ],
            "text/plain": [
              "        target  count    percent  cumulative_count  cumulative_percent\n",
              "0  barely-true  17991  30.000000             17991           30.000000\n",
              "1        false  15992  26.666667             33983           56.666667\n",
              "2    half-true   9995  16.666667             43978           73.333333\n",
              "3   pants-fire   5997  10.000000             49975           83.333333\n",
              "4  mostly-true   5997  10.000000             55972           93.333333\n",
              "5         true   3998   6.666667             59970          100.000000"
            ]
          },
          "metadata": {
            "tags": []
          },
          "execution_count": 65
        }
      ]
    },
    {
      "cell_type": "code",
      "metadata": {
        "colab": {
          "base_uri": "https://localhost:8080/",
          "height": 607
        },
        "id": "uh_4Ufbt-Pv7",
        "outputId": "57f6033e-047b-4496-bee0-8a88dfdf4a60"
      },
      "source": [
        "import sidetable\n",
        "data_politifact.stb.freq(['source'])"
      ],
      "execution_count": null,
      "outputs": [
        {
          "output_type": "execute_result",
          "data": {
            "text/html": [
              "<div>\n",
              "<style scoped>\n",
              "    .dataframe tbody tr th:only-of-type {\n",
              "        vertical-align: middle;\n",
              "    }\n",
              "\n",
              "    .dataframe tbody tr th {\n",
              "        vertical-align: top;\n",
              "    }\n",
              "\n",
              "    .dataframe thead th {\n",
              "        text-align: right;\n",
              "    }\n",
              "</style>\n",
              "<table border=\"1\" class=\"dataframe\">\n",
              "  <thead>\n",
              "    <tr style=\"text-align: right;\">\n",
              "      <th></th>\n",
              "      <th>source</th>\n",
              "      <th>count</th>\n",
              "      <th>percent</th>\n",
              "      <th>cumulative_count</th>\n",
              "      <th>cumulative_percent</th>\n",
              "    </tr>\n",
              "  </thead>\n",
              "  <tbody>\n",
              "    <tr>\n",
              "      <th>0</th>\n",
              "      <td>Facebook posts</td>\n",
              "      <td>23988</td>\n",
              "      <td>40.000000</td>\n",
              "      <td>23988</td>\n",
              "      <td>40.000000</td>\n",
              "    </tr>\n",
              "    <tr>\n",
              "      <th>1</th>\n",
              "      <td>Joe Biden</td>\n",
              "      <td>3998</td>\n",
              "      <td>6.666667</td>\n",
              "      <td>27986</td>\n",
              "      <td>46.666667</td>\n",
              "    </tr>\n",
              "    <tr>\n",
              "      <th>2</th>\n",
              "      <td>Viral image</td>\n",
              "      <td>1999</td>\n",
              "      <td>3.333333</td>\n",
              "      <td>29985</td>\n",
              "      <td>50.000000</td>\n",
              "    </tr>\n",
              "    <tr>\n",
              "      <th>3</th>\n",
              "      <td>Veronica Escobar</td>\n",
              "      <td>1999</td>\n",
              "      <td>3.333333</td>\n",
              "      <td>31984</td>\n",
              "      <td>53.333333</td>\n",
              "    </tr>\n",
              "    <tr>\n",
              "      <th>4</th>\n",
              "      <td>Tweets</td>\n",
              "      <td>1999</td>\n",
              "      <td>3.333333</td>\n",
              "      <td>33983</td>\n",
              "      <td>56.666667</td>\n",
              "    </tr>\n",
              "    <tr>\n",
              "      <th>5</th>\n",
              "      <td>Tony Evers</td>\n",
              "      <td>1999</td>\n",
              "      <td>3.333333</td>\n",
              "      <td>35982</td>\n",
              "      <td>60.000000</td>\n",
              "    </tr>\n",
              "    <tr>\n",
              "      <th>6</th>\n",
              "      <td>Rand Paul</td>\n",
              "      <td>1999</td>\n",
              "      <td>3.333333</td>\n",
              "      <td>37981</td>\n",
              "      <td>63.333333</td>\n",
              "    </tr>\n",
              "    <tr>\n",
              "      <th>7</th>\n",
              "      <td>Kirsten Gillibrand</td>\n",
              "      <td>1999</td>\n",
              "      <td>3.333333</td>\n",
              "      <td>39980</td>\n",
              "      <td>66.666667</td>\n",
              "    </tr>\n",
              "    <tr>\n",
              "      <th>8</th>\n",
              "      <td>Julian Bradley</td>\n",
              "      <td>1999</td>\n",
              "      <td>3.333333</td>\n",
              "      <td>41979</td>\n",
              "      <td>70.000000</td>\n",
              "    </tr>\n",
              "    <tr>\n",
              "      <th>9</th>\n",
              "      <td>Joy Behar</td>\n",
              "      <td>1999</td>\n",
              "      <td>3.333333</td>\n",
              "      <td>43978</td>\n",
              "      <td>73.333333</td>\n",
              "    </tr>\n",
              "    <tr>\n",
              "      <th>10</th>\n",
              "      <td>Josh Holmes</td>\n",
              "      <td>1999</td>\n",
              "      <td>3.333333</td>\n",
              "      <td>45977</td>\n",
              "      <td>76.666667</td>\n",
              "    </tr>\n",
              "    <tr>\n",
              "      <th>11</th>\n",
              "      <td>Jim Justice</td>\n",
              "      <td>1999</td>\n",
              "      <td>3.333333</td>\n",
              "      <td>47976</td>\n",
              "      <td>80.000000</td>\n",
              "    </tr>\n",
              "    <tr>\n",
              "      <th>12</th>\n",
              "      <td>James Edming</td>\n",
              "      <td>1999</td>\n",
              "      <td>3.333333</td>\n",
              "      <td>49975</td>\n",
              "      <td>83.333333</td>\n",
              "    </tr>\n",
              "    <tr>\n",
              "      <th>13</th>\n",
              "      <td>James Clyburn</td>\n",
              "      <td>1999</td>\n",
              "      <td>3.333333</td>\n",
              "      <td>51974</td>\n",
              "      <td>86.666667</td>\n",
              "    </tr>\n",
              "    <tr>\n",
              "      <th>14</th>\n",
              "      <td>Charles Schumer</td>\n",
              "      <td>1999</td>\n",
              "      <td>3.333333</td>\n",
              "      <td>53973</td>\n",
              "      <td>90.000000</td>\n",
              "    </tr>\n",
              "    <tr>\n",
              "      <th>15</th>\n",
              "      <td>Cathy McMorris Rodgers</td>\n",
              "      <td>1999</td>\n",
              "      <td>3.333333</td>\n",
              "      <td>55972</td>\n",
              "      <td>93.333333</td>\n",
              "    </tr>\n",
              "    <tr>\n",
              "      <th>16</th>\n",
              "      <td>Allen West</td>\n",
              "      <td>1999</td>\n",
              "      <td>3.333333</td>\n",
              "      <td>57971</td>\n",
              "      <td>96.666667</td>\n",
              "    </tr>\n",
              "    <tr>\n",
              "      <th>17</th>\n",
              "      <td>Alex Padilla</td>\n",
              "      <td>1999</td>\n",
              "      <td>3.333333</td>\n",
              "      <td>59970</td>\n",
              "      <td>100.000000</td>\n",
              "    </tr>\n",
              "  </tbody>\n",
              "</table>\n",
              "</div>"
            ],
            "text/plain": [
              "                    source  count  ...  cumulative_count  cumulative_percent\n",
              "0           Facebook posts  23988  ...             23988           40.000000\n",
              "1                Joe Biden   3998  ...             27986           46.666667\n",
              "2              Viral image   1999  ...             29985           50.000000\n",
              "3         Veronica Escobar   1999  ...             31984           53.333333\n",
              "4                   Tweets   1999  ...             33983           56.666667\n",
              "5               Tony Evers   1999  ...             35982           60.000000\n",
              "6                Rand Paul   1999  ...             37981           63.333333\n",
              "7       Kirsten Gillibrand   1999  ...             39980           66.666667\n",
              "8           Julian Bradley   1999  ...             41979           70.000000\n",
              "9                Joy Behar   1999  ...             43978           73.333333\n",
              "10             Josh Holmes   1999  ...             45977           76.666667\n",
              "11             Jim Justice   1999  ...             47976           80.000000\n",
              "12            James Edming   1999  ...             49975           83.333333\n",
              "13           James Clyburn   1999  ...             51974           86.666667\n",
              "14         Charles Schumer   1999  ...             53973           90.000000\n",
              "15  Cathy McMorris Rodgers   1999  ...             55972           93.333333\n",
              "16              Allen West   1999  ...             57971           96.666667\n",
              "17            Alex Padilla   1999  ...             59970          100.000000\n",
              "\n",
              "[18 rows x 5 columns]"
            ]
          },
          "metadata": {
            "tags": []
          },
          "execution_count": 66
        }
      ]
    },
    {
      "cell_type": "code",
      "metadata": {
        "colab": {
          "base_uri": "https://localhost:8080/",
          "height": 979
        },
        "id": "NiJ9MHjW_lRN",
        "outputId": "0ba47b6e-873d-4918-90e9-fc763663bda1"
      },
      "source": [
        "import sidetable\n",
        "data_politifact.stb.freq(['statement'])"
      ],
      "execution_count": null,
      "outputs": [
        {
          "output_type": "execute_result",
          "data": {
            "text/html": [
              "<div>\n",
              "<style scoped>\n",
              "    .dataframe tbody tr th:only-of-type {\n",
              "        vertical-align: middle;\n",
              "    }\n",
              "\n",
              "    .dataframe tbody tr th {\n",
              "        vertical-align: top;\n",
              "    }\n",
              "\n",
              "    .dataframe thead th {\n",
              "        text-align: right;\n",
              "    }\n",
              "</style>\n",
              "<table border=\"1\" class=\"dataframe\">\n",
              "  <thead>\n",
              "    <tr style=\"text-align: right;\">\n",
              "      <th></th>\n",
              "      <th>statement</th>\n",
              "      <th>count</th>\n",
              "      <th>percent</th>\n",
              "      <th>cumulative_count</th>\n",
              "      <th>cumulative_percent</th>\n",
              "    </tr>\n",
              "  </thead>\n",
              "  <tbody>\n",
              "    <tr>\n",
              "      <th>0</th>\n",
              "      <td>“You can’t tell me they can (develop a safe va...</td>\n",
              "      <td>1999</td>\n",
              "      <td>3.333333</td>\n",
              "      <td>1999</td>\n",
              "      <td>3.333333</td>\n",
              "    </tr>\n",
              "    <tr>\n",
              "      <th>1</th>\n",
              "      <td>“We’re sending back the vast majority of the f...</td>\n",
              "      <td>1999</td>\n",
              "      <td>3.333333</td>\n",
              "      <td>3998</td>\n",
              "      <td>6.666667</td>\n",
              "    </tr>\n",
              "    <tr>\n",
              "      <th>2</th>\n",
              "      <td>“We spent billions on a border wall and quit w...</td>\n",
              "      <td>1999</td>\n",
              "      <td>3.333333</td>\n",
              "      <td>5997</td>\n",
              "      <td>10.000000</td>\n",
              "    </tr>\n",
              "    <tr>\n",
              "      <th>3</th>\n",
              "      <td>“We had the highest number of (military) sexua...</td>\n",
              "      <td>1999</td>\n",
              "      <td>3.333333</td>\n",
              "      <td>7996</td>\n",
              "      <td>13.333333</td>\n",
              "    </tr>\n",
              "    <tr>\n",
              "      <th>4</th>\n",
              "      <td>“Toxicology report was made public by the MN p...</td>\n",
              "      <td>1999</td>\n",
              "      <td>3.333333</td>\n",
              "      <td>9995</td>\n",
              "      <td>16.666667</td>\n",
              "    </tr>\n",
              "    <tr>\n",
              "      <th>5</th>\n",
              "      <td>“There’s still (only) a handful of school dist...</td>\n",
              "      <td>1999</td>\n",
              "      <td>3.333333</td>\n",
              "      <td>11994</td>\n",
              "      <td>20.000000</td>\n",
              "    </tr>\n",
              "    <tr>\n",
              "      <th>6</th>\n",
              "      <td>“Sorry Dr Fauci and other fearmongers, new stu...</td>\n",
              "      <td>1999</td>\n",
              "      <td>3.333333</td>\n",
              "      <td>13993</td>\n",
              "      <td>23.333333</td>\n",
              "    </tr>\n",
              "    <tr>\n",
              "      <th>7</th>\n",
              "      <td>“Republicans recently passed a bill to elimina...</td>\n",
              "      <td>1999</td>\n",
              "      <td>3.333333</td>\n",
              "      <td>15992</td>\n",
              "      <td>26.666667</td>\n",
              "    </tr>\n",
              "    <tr>\n",
              "      <th>8</th>\n",
              "      <td>“Less than 500 people a year killed by all rif...</td>\n",
              "      <td>1999</td>\n",
              "      <td>3.333333</td>\n",
              "      <td>17991</td>\n",
              "      <td>30.000000</td>\n",
              "    </tr>\n",
              "    <tr>\n",
              "      <th>9</th>\n",
              "      <td>“In a vegan world there would be no pandemics....</td>\n",
              "      <td>1999</td>\n",
              "      <td>3.333333</td>\n",
              "      <td>19990</td>\n",
              "      <td>33.333333</td>\n",
              "    </tr>\n",
              "    <tr>\n",
              "      <th>10</th>\n",
              "      <td>“In a majority of states, new voters are able ...</td>\n",
              "      <td>1999</td>\n",
              "      <td>3.333333</td>\n",
              "      <td>21989</td>\n",
              "      <td>36.666667</td>\n",
              "    </tr>\n",
              "    <tr>\n",
              "      <th>11</th>\n",
              "      <td>West Virginia “is the only state to decline in...</td>\n",
              "      <td>1999</td>\n",
              "      <td>3.333333</td>\n",
              "      <td>23988</td>\n",
              "      <td>40.000000</td>\n",
              "    </tr>\n",
              "    <tr>\n",
              "      <th>12</th>\n",
              "      <td>The latest stimulus package \"sends stimulus ch...</td>\n",
              "      <td>1999</td>\n",
              "      <td>3.333333</td>\n",
              "      <td>25987</td>\n",
              "      <td>43.333333</td>\n",
              "    </tr>\n",
              "    <tr>\n",
              "      <th>13</th>\n",
              "      <td>The Democratic clean energy plan is pro-China,...</td>\n",
              "      <td>1999</td>\n",
              "      <td>3.333333</td>\n",
              "      <td>27986</td>\n",
              "      <td>46.666667</td>\n",
              "    </tr>\n",
              "    <tr>\n",
              "      <th>14</th>\n",
              "      <td>Says there was a “28% increase in children to ...</td>\n",
              "      <td>1999</td>\n",
              "      <td>3.333333</td>\n",
              "      <td>29985</td>\n",
              "      <td>50.000000</td>\n",
              "    </tr>\n",
              "    <tr>\n",
              "      <th>15</th>\n",
              "      <td>Says the suspected Boulder mass shooter is a M...</td>\n",
              "      <td>1999</td>\n",
              "      <td>3.333333</td>\n",
              "      <td>31984</td>\n",
              "      <td>53.333333</td>\n",
              "    </tr>\n",
              "    <tr>\n",
              "      <th>16</th>\n",
              "      <td>Says Jimmy Kimmel, Jimmy Fallon and Stephen Co...</td>\n",
              "      <td>1999</td>\n",
              "      <td>3.333333</td>\n",
              "      <td>33983</td>\n",
              "      <td>56.666667</td>\n",
              "    </tr>\n",
              "    <tr>\n",
              "      <th>17</th>\n",
              "      <td>Says Google Earth blocked people from seeing t...</td>\n",
              "      <td>1999</td>\n",
              "      <td>3.333333</td>\n",
              "      <td>35982</td>\n",
              "      <td>60.000000</td>\n",
              "    </tr>\n",
              "    <tr>\n",
              "      <th>18</th>\n",
              "      <td>Passports aren’t required to enter the United ...</td>\n",
              "      <td>1999</td>\n",
              "      <td>3.333333</td>\n",
              "      <td>37981</td>\n",
              "      <td>63.333333</td>\n",
              "    </tr>\n",
              "    <tr>\n",
              "      <th>19</th>\n",
              "      <td>Nike and Lil Nas X are launching “demonic shoe...</td>\n",
              "      <td>1999</td>\n",
              "      <td>3.333333</td>\n",
              "      <td>39980</td>\n",
              "      <td>66.666667</td>\n",
              "    </tr>\n",
              "    <tr>\n",
              "      <th>20</th>\n",
              "      <td>Bull sharks were released in an Arkansas river.</td>\n",
              "      <td>1999</td>\n",
              "      <td>3.333333</td>\n",
              "      <td>41979</td>\n",
              "      <td>70.000000</td>\n",
              "    </tr>\n",
              "    <tr>\n",
              "      <th>21</th>\n",
              "      <td>A Georgia law has not “criminalized giving peo...</td>\n",
              "      <td>1999</td>\n",
              "      <td>3.333333</td>\n",
              "      <td>43978</td>\n",
              "      <td>73.333333</td>\n",
              "    </tr>\n",
              "    <tr>\n",
              "      <th>22</th>\n",
              "      <td>A CNN chyron said the Boulder “shooter was fac...</td>\n",
              "      <td>1999</td>\n",
              "      <td>3.333333</td>\n",
              "      <td>45977</td>\n",
              "      <td>76.666667</td>\n",
              "    </tr>\n",
              "    <tr>\n",
              "      <th>23</th>\n",
              "      <td>\"We began seeing the increase in unaccompanied...</td>\n",
              "      <td>1999</td>\n",
              "      <td>3.333333</td>\n",
              "      <td>47976</td>\n",
              "      <td>80.000000</td>\n",
              "    </tr>\n",
              "    <tr>\n",
              "      <th>24</th>\n",
              "      <td>\"There are 43 states that have now passed vote...</td>\n",
              "      <td>1999</td>\n",
              "      <td>3.333333</td>\n",
              "      <td>49975</td>\n",
              "      <td>83.333333</td>\n",
              "    </tr>\n",
              "    <tr>\n",
              "      <th>25</th>\n",
              "      <td>\"Ted Cruz says owning a gun should be as hassl...</td>\n",
              "      <td>1999</td>\n",
              "      <td>3.333333</td>\n",
              "      <td>51974</td>\n",
              "      <td>86.666667</td>\n",
              "    </tr>\n",
              "    <tr>\n",
              "      <th>26</th>\n",
              "      <td>\"Suez Canal blocked by huge container ship nam...</td>\n",
              "      <td>1999</td>\n",
              "      <td>3.333333</td>\n",
              "      <td>53973</td>\n",
              "      <td>90.000000</td>\n",
              "    </tr>\n",
              "    <tr>\n",
              "      <th>27</th>\n",
              "      <td>\"Since 2006 Texas has given $19B in taxpayer s...</td>\n",
              "      <td>1999</td>\n",
              "      <td>3.333333</td>\n",
              "      <td>55972</td>\n",
              "      <td>93.333333</td>\n",
              "    </tr>\n",
              "    <tr>\n",
              "      <th>28</th>\n",
              "      <td>\"Joe Biden forced the U.S. Attorney for the Ea...</td>\n",
              "      <td>1999</td>\n",
              "      <td>3.333333</td>\n",
              "      <td>57971</td>\n",
              "      <td>96.666667</td>\n",
              "    </tr>\n",
              "    <tr>\n",
              "      <th>29</th>\n",
              "      <td>\"In 2004, George W. Bush lifted the ban on tho...</td>\n",
              "      <td>1999</td>\n",
              "      <td>3.333333</td>\n",
              "      <td>59970</td>\n",
              "      <td>100.000000</td>\n",
              "    </tr>\n",
              "  </tbody>\n",
              "</table>\n",
              "</div>"
            ],
            "text/plain": [
              "                                            statement  ...  cumulative_percent\n",
              "0   “You can’t tell me they can (develop a safe va...  ...            3.333333\n",
              "1   “We’re sending back the vast majority of the f...  ...            6.666667\n",
              "2   “We spent billions on a border wall and quit w...  ...           10.000000\n",
              "3   “We had the highest number of (military) sexua...  ...           13.333333\n",
              "4   “Toxicology report was made public by the MN p...  ...           16.666667\n",
              "5   “There’s still (only) a handful of school dist...  ...           20.000000\n",
              "6   “Sorry Dr Fauci and other fearmongers, new stu...  ...           23.333333\n",
              "7   “Republicans recently passed a bill to elimina...  ...           26.666667\n",
              "8   “Less than 500 people a year killed by all rif...  ...           30.000000\n",
              "9   “In a vegan world there would be no pandemics....  ...           33.333333\n",
              "10  “In a majority of states, new voters are able ...  ...           36.666667\n",
              "11  West Virginia “is the only state to decline in...  ...           40.000000\n",
              "12  The latest stimulus package \"sends stimulus ch...  ...           43.333333\n",
              "13  The Democratic clean energy plan is pro-China,...  ...           46.666667\n",
              "14  Says there was a “28% increase in children to ...  ...           50.000000\n",
              "15  Says the suspected Boulder mass shooter is a M...  ...           53.333333\n",
              "16  Says Jimmy Kimmel, Jimmy Fallon and Stephen Co...  ...           56.666667\n",
              "17  Says Google Earth blocked people from seeing t...  ...           60.000000\n",
              "18  Passports aren’t required to enter the United ...  ...           63.333333\n",
              "19  Nike and Lil Nas X are launching “demonic shoe...  ...           66.666667\n",
              "20    Bull sharks were released in an Arkansas river.  ...           70.000000\n",
              "21  A Georgia law has not “criminalized giving peo...  ...           73.333333\n",
              "22  A CNN chyron said the Boulder “shooter was fac...  ...           76.666667\n",
              "23  \"We began seeing the increase in unaccompanied...  ...           80.000000\n",
              "24  \"There are 43 states that have now passed vote...  ...           83.333333\n",
              "25  \"Ted Cruz says owning a gun should be as hassl...  ...           86.666667\n",
              "26  \"Suez Canal blocked by huge container ship nam...  ...           90.000000\n",
              "27  \"Since 2006 Texas has given $19B in taxpayer s...  ...           93.333333\n",
              "28  \"Joe Biden forced the U.S. Attorney for the Ea...  ...           96.666667\n",
              "29  \"In 2004, George W. Bush lifted the ban on tho...  ...          100.000000\n",
              "\n",
              "[30 rows x 5 columns]"
            ]
          },
          "metadata": {
            "tags": []
          },
          "execution_count": 67
        }
      ]
    },
    {
      "cell_type": "code",
      "metadata": {
        "colab": {
          "base_uri": "https://localhost:8080/"
        },
        "id": "AWGedb5v2U1w",
        "outputId": "b35eeb32-31cf-4786-d1b1-eed011403da2"
      },
      "source": [
        "# Unique target \n",
        "statement_sorted = data_politifact['target'].unique()\n",
        "statement_sorted.sort()\n",
        "print(statement_sorted)"
      ],
      "execution_count": null,
      "outputs": [
        {
          "output_type": "stream",
          "text": [
            "['barely-true' 'false' 'half-true' 'mostly-true' 'pants-fire' 'true']\n"
          ],
          "name": "stdout"
        }
      ]
    },
    {
      "cell_type": "markdown",
      "metadata": {
        "id": "NBkNSotsQfk7"
      },
      "source": [
        "### FoxNews Visualization"
      ]
    },
    {
      "cell_type": "code",
      "metadata": {
        "colab": {
          "base_uri": "https://localhost:8080/",
          "height": 617
        },
        "id": "DeefaivmQoxQ",
        "outputId": "197c7fcd-c9ce-4dba-ec34-06eaf036bf92"
      },
      "source": [
        "import plotly.express as px\n",
        "fig = px.histogram(data_foxnews, x='date',y='headline', color=\"date\",\n",
        "                   hover_data=data_foxnews.columns, width=1000, height=600, title=\"Fox News Published date vs Headline Counts \")\n",
        "fig.show()"
      ],
      "execution_count": null,
      "outputs": []
    },
    {
      "cell_type": "markdown",
      "metadata": {
        "id": "GyjUjOQPyCMH"
      },
      "source": [
        "## Politifact NLP Modeling - CountVectorizer, Tf-Idf and Naive Bayes Classifier\n",
        "Data Narrative :\n",
        "\n",
        "Training Text Data using Politifact headlines got an accuracy of 100%."
      ]
    },
    {
      "cell_type": "markdown",
      "metadata": {
        "id": "nt4HDajxD257"
      },
      "source": [
        "Train the Politifact text"
      ]
    },
    {
      "cell_type": "code",
      "metadata": {
        "id": "-3iODax6hppE"
      },
      "source": [
        "from sklearn.model_selection import train_test_split\n",
        "X = data_politifact['statement']\n",
        "y = data_politifact['statement']\n",
        "X_train, X_test, y_train, y_test = train_test_split(X, y, test_size = 0.20, random_state=0)"
      ],
      "execution_count": null,
      "outputs": []
    },
    {
      "cell_type": "markdown",
      "metadata": {
        "id": "gTDy1ZxSjm-U"
      },
      "source": [
        "### CountVectorizer"
      ]
    },
    {
      "cell_type": "code",
      "metadata": {
        "id": "bGqnN-54dmis"
      },
      "source": [
        "from sklearn.feature_extraction.text import CountVectorizer\n",
        "from sklearn.feature_extraction.text import TfidfVectorizer\n",
        "count_vect = CountVectorizer()"
      ],
      "execution_count": null,
      "outputs": []
    },
    {
      "cell_type": "code",
      "metadata": {
        "id": "iThrWutcqXAi"
      },
      "source": [
        "X_politifact_train = count_vect.fit_transform(data_politifact['statement'])"
      ],
      "execution_count": null,
      "outputs": []
    },
    {
      "cell_type": "code",
      "metadata": {
        "id": "KDuu253zclqv"
      },
      "source": [
        "y_politifact_train = count_vect.fit_transform(data_politifact['statement'])"
      ],
      "execution_count": null,
      "outputs": []
    },
    {
      "cell_type": "code",
      "metadata": {
        "id": "4AFE_vOoNLOj",
        "colab": {
          "base_uri": "https://localhost:8080/"
        },
        "outputId": "daeb58a7-1a34-4b4c-e89e-43b7473bf12b"
      },
      "source": [
        "y = data_politifact.iloc[1:10, [2]].values\n",
        "print(y)"
      ],
      "execution_count": null,
      "outputs": [
        {
          "output_type": "stream",
          "text": [
            "[['Says the suspected Boulder mass shooter is a Muslim \"who entered illegally from Mexico and purchased the firearm from a guy that sells stolen guns.\"']\n",
            " ['“Toxicology report was made public by the MN prosecution revealing the cause of George Floyd’s death was a fentanyl overdose.”']\n",
            " ['Says Jimmy Kimmel, Jimmy Fallon and Stephen Colbert are “still not doing Biden jokes.\"']\n",
            " ['Says Google Earth blocked people from seeing the Suez Canal.']\n",
            " ['“We spent billions on a border wall and quit when it was 90% finished.”']\n",
            " ['A Georgia law has not “criminalized giving people bottles of water.” It pertains to political organizations.']\n",
            " ['\"There are 43 states that have now passed voter suppression laws.\"']\n",
            " ['\"Joe Biden forced the U.S. Attorney for the Eastern District of North Carolina to resign after 24 people were charged with election fraud and the Mainstream Media never even batted an eyelash.\"']\n",
            " ['Nike and Lil Nas X are launching “demonic shoes” containing human blood.']]\n"
          ],
          "name": "stdout"
        }
      ]
    },
    {
      "cell_type": "code",
      "metadata": {
        "id": "Ck7FLLZRUmoe"
      },
      "source": [
        "# y_politifact_train = data_politifact.iloc[0:1000, [2]].values"
      ],
      "execution_count": null,
      "outputs": []
    },
    {
      "cell_type": "code",
      "metadata": {
        "colab": {
          "base_uri": "https://localhost:8080/"
        },
        "id": "Ncw39GTkfixQ",
        "outputId": "8f40a483-910a-4471-8997-5f1af16d5e83"
      },
      "source": [
        "X_politifact_train.shape"
      ],
      "execution_count": null,
      "outputs": [
        {
          "output_type": "execute_result",
          "data": {
            "text/plain": [
              "(59970, 349)"
            ]
          },
          "metadata": {
            "tags": []
          },
          "execution_count": 13
        }
      ]
    },
    {
      "cell_type": "code",
      "metadata": {
        "colab": {
          "base_uri": "https://localhost:8080/"
        },
        "id": "aptF8eC3Ux8L",
        "outputId": "d58fd9e1-677b-4978-b3f7-a9364c30dd75"
      },
      "source": [
        "y_politifact_train.shape"
      ],
      "execution_count": null,
      "outputs": [
        {
          "output_type": "execute_result",
          "data": {
            "text/plain": [
              "(59970, 349)"
            ]
          },
          "metadata": {
            "tags": []
          },
          "execution_count": 14
        }
      ]
    },
    {
      "cell_type": "code",
      "metadata": {
        "id": "JFYT5wmGJiRa"
      },
      "source": [
        "count_vect.vocabulary_.get(u'algorithm')"
      ],
      "execution_count": null,
      "outputs": []
    },
    {
      "cell_type": "code",
      "metadata": {
        "colab": {
          "base_uri": "https://localhost:8080/"
        },
        "id": "G4bEiCFSf8q1",
        "outputId": "50fcc52a-a7f1-429c-a28d-36ec24c49f02"
      },
      "source": [
        "# count_vect.vocabulary_.get(u'algorithm')\n",
        "print(count_vect.vocabulary_)"
      ],
      "execution_count": null,
      "outputs": [
        {
          "output_type": "stream",
          "text": [
            "{'less': 173, 'than': 305, '500': 18, 'people': 232, 'year': 345, 'killed': 166, 'by': 58, 'all': 26, 'rifles': 263, 'combined': 76, 'and': 28, '000': 0, 'illegals': 152, 'says': 267, 'the': 307, 'suspected': 298, 'boulder': 54, 'mass': 184, 'shooter': 279, 'is': 160, 'muslim': 200, 'who': 340, 'entered': 108, 'illegally': 151, 'from': 129, 'mexico': 188, 'purchased': 243, 'firearm': 122, 'guy': 138, 'that': 306, 'sells': 270, 'stolen': 292, 'guns': 137, 'toxicology': 316, 'report': 254, 'was': 332, 'made': 180, 'public': 242, 'mn': 193, 'prosecution': 241, 'revealing': 261, 'cause': 65, 'of': 215, 'george': 130, 'floyd': 124, 'death': 86, 'fentanyl': 120, 'overdose': 224, 'jimmy': 163, 'kimmel': 167, 'fallon': 115, 'stephen': 289, 'colbert': 75, 'are': 32, 'still': 290, 'not': 211, 'doing': 96, 'biden': 47, 'jokes': 165, 'google': 135, 'earth': 100, 'blocked': 50, 'seeing': 269, 'suez': 295, 'canal': 61, 'we': 334, 'spent': 286, 'billions': 49, 'on': 216, 'border': 52, 'wall': 331, 'quit': 245, 'when': 337, 'it': 161, '90': 21, 'finished': 121, 'georgia': 131, 'law': 171, 'has': 143, 'criminalized': 84, 'giving': 133, 'bottles': 53, 'water': 333, 'pertains': 235, 'to': 315, 'political': 237, 'organizations': 219, 'there': 310, '43': 17, 'states': 288, 'have': 145, 'now': 212, 'passed': 229, 'voter': 328, 'suppression': 297, 'laws': 172, 'joe': 164, 'forced': 126, 'attorney': 38, 'for': 125, 'eastern': 101, 'district': 93, 'north': 210, 'carolina': 63, 'resign': 259, 'after': 25, '24': 12, 'were': 335, 'charged': 66, 'with': 342, 'election': 104, 'fraud': 127, 'mainstream': 181, 'media': 187, 'never': 206, 'even': 109, 'batted': 42, 'an': 27, 'eyelash': 113, 'nike': 208, 'lil': 177, 'nas': 203, 'launching': 170, 'demonic': 89, 'shoes': 278, 'containing': 80, 'human': 150, 'blood': 51, 'began': 46, 'increase': 157, 'in': 155, 'unaccompanied': 320, 'minors': 192, 'going': 134, 'back': 39, 'last': 168, 'april': 29, '2020': 10, 'this': 312, 'something': 284, 'happened': 141, 'as': 35, 'result': 260, 'becoming': 45, 'president': 239, 'vegan': 326, 'world': 343, 'would': 344, 'be': 43, 'no': 209, 'pandemics': 227, '100': 2, 'zoonotic': 348, 'origin': 220, 'ted': 302, 'cruz': 85, 'owning': 225, 'gun': 136, 'should': 280, 'hassle': 144, 'free': 128, 'car': 62, 'which': 338, 'recall': 250, 'requires': 258, 'license': 174, 'registration': 252, 'only': 217, 'handful': 140, 'school': 268, 'districts': 94, 'person': 234, 'instruction': 159, 'majority': 182, 'new': 207, 'voters': 329, 'able': 22, 'obtain': 214, 'rifle': 262, 'quicker': 244, 'they': 311, 're': 249, 'cast': 64, 'their': 308, 'first': 123, 'ballot': 40, 'democratic': 88, 'clean': 72, 'energy': 106, 'plan': 236, 'pro': 240, 'china': 70, 'because': 44, 'solar': 283, 'panels': 228, '80': 20, 'wind': 341, 'machines': 179, 'rare': 247, 'minerals': 191, 'asia': 36, 'or': 218, '28': 14, 'children': 69, 'my': 201, 'administration': 24, '31': 15, '2019': 9, 'migration': 189, 'january': 162, 'february': 119, 'march': 183, 'happens': 142, 'every': 112, 'since': 282, '2006': 8, 'texas': 304, 'given': 132, '19b': 6, 'taxpayer': 301, 'subsidies': 294, 'companies': 78, 'over': 223, 'past': 231, 'years': 346, 'tripled': 318, 'our': 222, 'dependence': 90, '23': 11, '25': 13, 'percent': 233, 'distribution': 92, 'system': 299, 'sorry': 285, 'dr': 97, 'fauci': 117, 'other': 221, 'fearmongers': 118, 'study': 293, 'shows': 281, 'vaccines': 323, 'naturally': 204, 'acquired': 23, 'immunity': 153, 'do': 95, 'effectively': 102, 'neutralize': 205, 'covid': 83, 'variants': 324, 'you': 347, 'can': 59, 'tell': 303, 'me': 186, 'develop': 91, 'safe': 265, 'vaccine': 322, 'eight': 103, '10': 1, 'months': 195, 'takes': 300, 'more': 197, 'time': 314, 'republicans': 256, 'recently': 251, 'bill': 48, 'eliminate': 105, 'early': 99, 'voting': 330, 'sunday': 296, 'latest': 169, 'stimulus': 291, 'package': 226, 'sends': 272, 'checks': 67, 'imprisoned': 154, 'murderers': 199, 'rapists': 246, 'child': 68, 'molesters': 194, 'sending': 271, 'vast': 325, 'families': 116, 'coming': 77, 'bull': 55, 'sharks': 275, 'released': 253, 'arkansas': 34, 'river': 264, 'had': 139, 'highest': 147, 'number': 213, 'military': 190, 'sexual': 274, 'assaults': 37, 'ever': 110, 'reported': 255, 'lowest': 178, 'conviction': 81, 'rate': 248, 'passports': 230, 'aren': 33, 'required': 257, 'enter': 107, 'united': 321, 'canada': 60, 'huge': 149, 'container': 79, 'ship': 276, 'named': 202, 'evergreen': 111, 'shipping': 277, 'most': 198, 'likely': 176, 'cover': 82, 'sex': 273, 'trafficking': 317, 'hillary': 148, 'clinton': 73, 'west': 336, 'virginia': 327, 'state': 287, 'decline': 87, 'population': 238, '70': 19, 'cnn': 74, 'chyron': 71, 'said': 266, 'factually': 114, 'arabic': 31, 'but': 57, 'morally': 196, 'white': 339, '2004': 7, 'bush': 56, 'lifted': 175, 'ban': 41, 'those': 313, 'ar': 30, '15': 4, 'type': 319, 'then': 309, 'massacres': 185, 'increased': 158, '183': 5, 'during': 98, '12': 3, 'incidents': 156, 'he': 146, '34': 16}\n"
          ],
          "name": "stdout"
        }
      ]
    },
    {
      "cell_type": "code",
      "metadata": {
        "id": "T8bGpHToVJ9b"
      },
      "source": [
        "# encode the whole document\n",
        "vector_politifact = count_vect.transform(data_politifact['statement'])"
      ],
      "execution_count": null,
      "outputs": []
    },
    {
      "cell_type": "code",
      "metadata": {
        "colab": {
          "base_uri": "https://localhost:8080/"
        },
        "id": "gAhsPJSpJuSL",
        "outputId": "6c409dbf-a1fd-4ef7-cc9b-042b3e7784eb"
      },
      "source": [
        "# summarize encoded vector\n",
        "print(vector_politifact.shape)\n",
        "print(type(vector_politifact))\n",
        "print(vector_politifact.toarray())"
      ],
      "execution_count": null,
      "outputs": [
        {
          "output_type": "stream",
          "text": [
            "(59970, 349)\n",
            "<class 'scipy.sparse.csr.csr_matrix'>\n",
            "[[1 0 0 ... 0 0 0]\n",
            " [0 0 0 ... 0 0 0]\n",
            " [0 0 0 ... 0 0 0]\n",
            " ...\n",
            " [0 0 0 ... 1 0 0]\n",
            " [0 0 0 ... 0 0 0]\n",
            " [0 0 0 ... 0 0 0]]\n"
          ],
          "name": "stdout"
        }
      ]
    },
    {
      "cell_type": "markdown",
      "metadata": {
        "id": "ucaVEG3xEKd6"
      },
      "source": [
        "### Tf-Idf"
      ]
    },
    {
      "cell_type": "code",
      "metadata": {
        "colab": {
          "base_uri": "https://localhost:8080/"
        },
        "id": "t6-l8nHLi-Pa",
        "outputId": "c679d5ad-d504-492c-9dd9-de296a396fff"
      },
      "source": [
        "tfidf_transformer = TfidfTransformer()\n",
        "X_train_tfidf = tfidf_transformer.fit_transform(X_politifact_train)\n",
        "X_train_tfidf.shape"
      ],
      "execution_count": null,
      "outputs": [
        {
          "output_type": "execute_result",
          "data": {
            "text/plain": [
              "(59970, 349)"
            ]
          },
          "metadata": {
            "tags": []
          },
          "execution_count": 19
        }
      ]
    },
    {
      "cell_type": "code",
      "metadata": {
        "colab": {
          "base_uri": "https://localhost:8080/"
        },
        "id": "2feiATeGLdYI",
        "outputId": "a8618d19-29cd-4f99-b786-0b35dd652b94"
      },
      "source": [
        "print(X_train_tfidf)"
      ],
      "execution_count": null,
      "outputs": [
        {
          "output_type": "stream",
          "text": [
            "  (0, 345)\t0.34218670669346984\n",
            "  (0, 305)\t0.18741730403769205\n",
            "  (0, 263)\t0.21042322362368693\n",
            "  (0, 232)\t0.17109335334673492\n",
            "  (0, 173)\t0.249746000438621\n",
            "  (0, 166)\t0.499492000877242\n",
            "  (0, 152)\t0.249746000438621\n",
            "  (0, 76)\t0.249746000438621\n",
            "  (0, 58)\t0.3748346080753841\n",
            "  (0, 28)\t0.10000256270717497\n",
            "  (0, 26)\t0.249746000438621\n",
            "  (0, 18)\t0.249746000438621\n",
            "  (0, 0)\t0.249746000438621\n",
            "  (1, 340)\t0.23349474424960173\n",
            "  (1, 307)\t0.1796695175502441\n",
            "  (1, 306)\t0.14812180635442712\n",
            "  (1, 298)\t0.23349474424960173\n",
            "  (1, 292)\t0.23349474424960173\n",
            "  (1, 279)\t0.19673074522874962\n",
            "  (1, 270)\t0.23349474424960173\n",
            "  (1, 267)\t0.14812180635442712\n",
            "  (1, 243)\t0.23349474424960173\n",
            "  (1, 200)\t0.23349474424960173\n",
            "  (1, 188)\t0.19673074522874962\n",
            "  (1, 184)\t0.23349474424960173\n",
            "  :\t:\n",
            "  (59969, 309)\t0.15117469627321886\n",
            "  (59969, 307)\t0.23265178693854258\n",
            "  (59969, 282)\t0.25474415497565056\n",
            "  (59969, 263)\t0.12737207748782528\n",
            "  (59969, 216)\t0.10356516493210426\n",
            "  (59969, 215)\t0.06582815714103164\n",
            "  (59969, 213)\t0.12737207748782528\n",
            "  (59969, 185)\t0.15117469627321886\n",
            "  (59969, 175)\t0.3023493925464377\n",
            "  (59969, 158)\t0.15117469627321886\n",
            "  (59969, 156)\t0.3023493925464377\n",
            "  (59969, 155)\t0.06307861525928793\n",
            "  (59969, 146)\t0.15117469627321886\n",
            "  (59969, 143)\t0.11344627727564681\n",
            "  (59969, 130)\t0.12737207748782528\n",
            "  (59969, 98)\t0.15117469627321886\n",
            "  (59969, 56)\t0.15117469627321886\n",
            "  (59969, 41)\t0.45352408881965656\n",
            "  (59969, 30)\t0.15117469627321886\n",
            "  (59969, 28)\t0.060532929525396545\n",
            "  (59969, 16)\t0.15117469627321886\n",
            "  (59969, 7)\t0.15117469627321886\n",
            "  (59969, 5)\t0.15117469627321886\n",
            "  (59969, 4)\t0.15117469627321886\n",
            "  (59969, 3)\t0.15117469627321886\n"
          ],
          "name": "stdout"
        }
      ]
    },
    {
      "cell_type": "markdown",
      "metadata": {
        "id": "2mWXGirMDo1q"
      },
      "source": [
        "### Naive Bayes Classifier Politifact"
      ]
    },
    {
      "cell_type": "code",
      "metadata": {
        "id": "8bl-phGDjRLz"
      },
      "source": [
        "from sklearn.naive_bayes import MultinomialNB\n",
        "clf = MultinomialNB().fit(X_train_tfidf, data_politifact['statement'])"
      ],
      "execution_count": null,
      "outputs": []
    },
    {
      "cell_type": "code",
      "metadata": {
        "id": "aYAbgy8NjXOg"
      },
      "source": [
        "statement_new = ['Jimmy is my friend.\"']\n",
        "X_new_counts = count_vect.transform(statement_new)\n",
        "X_new_tfidf = tfidf_transformer.transform(X_new_counts)\n",
        "\n",
        "predicted = clf.predict(X_new_tfidf)"
      ],
      "execution_count": null,
      "outputs": []
    },
    {
      "cell_type": "code",
      "metadata": {
        "colab": {
          "base_uri": "https://localhost:8080/"
        },
        "id": "aeOe5yYej3vB",
        "outputId": "8002905f-996c-4c2f-8191-21ed889914db"
      },
      "source": [
        "for doc, category in zip(statement_new, predicted):\n",
        "  print('%r => %s' % (doc, predicted))"
      ],
      "execution_count": null,
      "outputs": [
        {
          "output_type": "stream",
          "text": [
            "'Jimmy is my friend.\"' => ['Says Jimmy Kimmel, Jimmy Fallon and Stephen Colbert are “still not doing Biden jokes.\"']\n"
          ],
          "name": "stdout"
        }
      ]
    },
    {
      "cell_type": "markdown",
      "metadata": {
        "id": "b22SoZYDbvnI"
      },
      "source": [
        "### Pipeline Politifact"
      ]
    },
    {
      "cell_type": "code",
      "metadata": {
        "id": "wsQc7jjx79lB"
      },
      "source": [
        "from sklearn.pipeline import Pipeline\n",
        "from sklearn.naive_bayes import MultinomialNB\n",
        "from sklearn.feature_extraction.text import CountVectorizer\n",
        "from sklearn.feature_extraction.text import TfidfTransformer\n",
        "from sklearn.metrics import classification_report\n",
        "from sklearn.metrics import plot_confusion_matrix\n",
        "from sklearn.metrics import confusion_matrix\n",
        "import matplotlib.pyplot as plt  \n",
        "from sklearn.metrics import roc_auc_score\n",
        "from sklearn.metrics import plot_roc_curve\n",
        "text_clf = Pipeline([\n",
        "     ('vect', CountVectorizer()),\n",
        "     ('tfidf', TfidfTransformer()),\n",
        "     ('clf', MultinomialNB()),\n",
        "])"
      ],
      "execution_count": null,
      "outputs": []
    },
    {
      "cell_type": "code",
      "metadata": {
        "colab": {
          "base_uri": "https://localhost:8080/"
        },
        "id": "u2VUCyNc8L1y",
        "outputId": "8fc1c7ba-e19a-47c2-b2af-e522d53d27cc"
      },
      "source": [
        "text_clf.fit(X_train, y_train )"
      ],
      "execution_count": null,
      "outputs": [
        {
          "output_type": "execute_result",
          "data": {
            "text/plain": [
              "Pipeline(memory=None,\n",
              "         steps=[('vect',\n",
              "                 CountVectorizer(analyzer='word', binary=False,\n",
              "                                 decode_error='strict',\n",
              "                                 dtype=<class 'numpy.int64'>, encoding='utf-8',\n",
              "                                 input='content', lowercase=True, max_df=1.0,\n",
              "                                 max_features=None, min_df=1,\n",
              "                                 ngram_range=(1, 1), preprocessor=None,\n",
              "                                 stop_words=None, strip_accents=None,\n",
              "                                 token_pattern='(?u)\\\\b\\\\w\\\\w+\\\\b',\n",
              "                                 tokenizer=None, vocabulary=None)),\n",
              "                ('tfidf',\n",
              "                 TfidfTransformer(norm='l2', smooth_idf=True,\n",
              "                                  sublinear_tf=False, use_idf=True)),\n",
              "                ('clf',\n",
              "                 MultinomialNB(alpha=1.0, class_prior=None, fit_prior=True))],\n",
              "         verbose=False)"
            ]
          },
          "metadata": {
            "tags": []
          },
          "execution_count": 25
        }
      ]
    },
    {
      "cell_type": "code",
      "metadata": {
        "colab": {
          "base_uri": "https://localhost:8080/"
        },
        "id": "zdbN9QlPe69e",
        "outputId": "85ce77dd-cacd-4b35-dcee-aeb3a4dd6cfb"
      },
      "source": [
        "from sklearn import metrics\n",
        "text_clf.fit(list(X_train), list(y_train))\n",
        "predicted = text_clf.predict(list(X_test))\n",
        "print(metrics.classification_report(list(y_test), predicted))"
      ],
      "execution_count": null,
      "outputs": [
        {
          "output_type": "stream",
          "text": [
            "                                                                                                                                                                                                                               precision    recall  f1-score   support\n",
            "\n",
            "\"In 2004, George W. Bush lifted the ban on those (AR-15 type) rifles, and since then, the number of massacres has increased 183%. During the ban, there were 12 incidents. Since he lifted the ban, there were 34 incidents.\"       1.00      1.00      1.00       404\n",
            "                            \"Joe Biden forced the U.S. Attorney for the Eastern District of North Carolina to resign after 24 people were charged with election fraud and the Mainstream Media never even batted an eyelash.\"       1.00      1.00      1.00       387\n",
            "                \"Since 2006 Texas has given $19B in taxpayer subsidies to wind energy companies. Over the past 2-3 years Texas has tripled our dependence on wind energy to 23-25 percent of our energy distribution system.\"       1.00      1.00      1.00       383\n",
            "                                                                     \"Suez Canal blocked by huge container ship named Evergreen. Evergreen shipping is most likely a cover for human and sex trafficking” by Hillary Clinton.       1.00      1.00      1.00       410\n",
            "                                                                                                \"Ted Cruz says owning a gun should be as hassle free as owning a car, which as I recall requires a license and registration.\"       1.00      1.00      1.00       397\n",
            "                                                                                                                                                           \"There are 43 states that have now passed voter suppression laws.\"       1.00      1.00      1.00       411\n",
            "                                                       \"We began seeing the increase in unaccompanied minors going back to last April 2020. This is not something that happened as a result of Joe Biden becoming president.”       1.00      1.00      1.00       381\n",
            "                                                                                                                                             A CNN chyron said the Boulder “shooter was factually Arabic, but morally white.”       1.00      1.00      1.00       379\n",
            "                                                                                                                 A Georgia law has not “criminalized giving people bottles of water.” It pertains to political organizations.       1.00      1.00      1.00       425\n",
            "                                                                                                                                                                              Bull sharks were released in an Arkansas river.       1.00      1.00      1.00       409\n",
            "                                                                                                                                                     Nike and Lil Nas X are launching “demonic shoes” containing human blood.       1.00      1.00      1.00       424\n",
            "                                                                                                                                                 Passports aren’t required to enter the United States from Mexico and Canada.       1.00      1.00      1.00       391\n",
            "                                                                                                                                                                 Says Google Earth blocked people from seeing the Suez Canal.       1.00      1.00      1.00       406\n",
            "                                                                                                                                       Says Jimmy Kimmel, Jimmy Fallon and Stephen Colbert are “still not doing Biden jokes.\"       1.00      1.00      1.00       376\n",
            "                                                                         Says the suspected Boulder mass shooter is a Muslim \"who entered illegally from Mexico and purchased the firearm from a guy that sells stolen guns.\"       1.00      1.00      1.00       432\n",
            "                                           Says there was a “28% increase in children to the border in my administration” and “31% … in 2019.” The increase in migration in January, February and March “happens every year.”       1.00      1.00      1.00       400\n",
            "                                                        The Democratic clean energy plan is pro-China, because \"90% of the solar panels, 80% of the wind machines, 90% of the rare earth minerals … are in Asia or in China.”       1.00      1.00      1.00       404\n",
            "                                                                                                                   The latest stimulus package \"sends stimulus checks to imprisoned murderers, rapists, and child molesters.”       1.00      1.00      1.00       434\n",
            "                                                                                                                                            West Virginia “is the only state to decline in population over the last 70 years”       1.00      1.00      1.00       403\n",
            "                                                                                                       “In a majority of states, new voters are able to obtain a rifle quicker than they’re able to cast their first ballot.”       1.00      1.00      1.00       400\n",
            "                                                                                                                                    “In a vegan world there would be no pandemics. 100% of pandemics are zoonotic in origin.”       1.00      1.00      1.00       372\n",
            "                                                                                                                           “Less than 500 people a year killed by all rifles combined” and “4,000 a year killed by illegals.”       1.00      1.00      1.00       395\n",
            "                                                                                                                                          “Republicans recently passed a bill to eliminate early voting on Sunday” in Georgia       1.00      1.00      1.00       398\n",
            "                                                                                   “Sorry Dr Fauci and other fearmongers, new study shows vaccines and naturally acquired immunity DO effectively neutralize COVID variants.”       1.00      1.00      1.00       378\n",
            "                                                                                                                                         “There’s still (only) a handful of school districts\" doing no in-person instruction.       1.00      1.00      1.00       384\n",
            "                                                                                               “Toxicology report was made public by the MN prosecution revealing the cause of George Floyd’s death was a fentanyl overdose.”       1.00      1.00      1.00       412\n",
            "                                                            “We had the highest number of (military) sexual assaults ever reported in the last year” and “we had the lowest conviction rate and the lowest prosecution rate.”       1.00      1.00      1.00       368\n",
            "                                                                                                                                                      “We spent billions on a border wall and quit when it was 90% finished.”       1.00      1.00      1.00       422\n",
            "                                                                                                                                                      “We’re sending back the vast majority of the families that are coming.”       1.00      1.00      1.00       399\n",
            "                                                                                                        “You can’t tell me they can (develop a safe vaccine) in eight to 10 months. Or a year. It takes more time than that.”       1.00      1.00      1.00       410\n",
            "\n",
            "                                                                                                                                                                                                                     accuracy                           1.00     11994\n",
            "                                                                                                                                                                                                                    macro avg       1.00      1.00      1.00     11994\n",
            "                                                                                                                                                                                                                 weighted avg       1.00      1.00      1.00     11994\n",
            "\n"
          ],
          "name": "stdout"
        }
      ]
    },
    {
      "cell_type": "code",
      "metadata": {
        "id": "XyKZGEX8-fBn"
      },
      "source": [
        "cf_matrix = confusion_matrix(X_test, y_test)"
      ],
      "execution_count": null,
      "outputs": []
    },
    {
      "cell_type": "code",
      "metadata": {
        "colab": {
          "base_uri": "https://localhost:8080/",
          "height": 284
        },
        "id": "uXmblorb_2wP",
        "outputId": "891f058f-919c-4194-eec3-89a076d855eb"
      },
      "source": [
        "import seaborn as sns\n",
        "sns.heatmap(cf_matrix, annot=True)"
      ],
      "execution_count": null,
      "outputs": [
        {
          "output_type": "execute_result",
          "data": {
            "text/plain": [
              "<matplotlib.axes._subplots.AxesSubplot at 0x7ff37213e090>"
            ]
          },
          "metadata": {
            "tags": []
          },
          "execution_count": 28
        },
        {
          "output_type": "display_data",
          "data": {
            "image/png": "[encoded data removed]",
            "text/plain": [
              "<Figure size 432x288 with 2 Axes>"
            ]
          },
          "metadata": {
            "tags": [],
            "needs_background": "light"
          }
        }
      ]
    },
    {
      "cell_type": "code",
      "metadata": {
        "id": "NM2oyQSq8j85"
      },
      "source": [
        "# plot_confusion_matrix(text_clf, X_test, y_test)"
      ],
      "execution_count": null,
      "outputs": []
    },
    {
      "cell_type": "code",
      "metadata": {
        "colab": {
          "base_uri": "https://localhost:8080/"
        },
        "id": "b5DQazfWBtyX",
        "outputId": "c0ba1f94-a83e-4d5f-d277-cb52cfdd17d9"
      },
      "source": [
        "roc_auc_score(y_test, text_clf.predict_proba(X_test), multi_class='ovr')"
      ],
      "execution_count": null,
      "outputs": [
        {
          "output_type": "execute_result",
          "data": {
            "text/plain": [
              "1.0"
            ]
          },
          "metadata": {
            "tags": []
          },
          "execution_count": 29
        }
      ]
    },
    {
      "cell_type": "markdown",
      "metadata": {
        "id": "mxq3oLUQUh_Q"
      },
      "source": [
        "### Cosine Similarity - for verification the indexing method"
      ]
    },
    {
      "cell_type": "code",
      "metadata": {
        "colab": {
          "base_uri": "https://localhost:8080/"
        },
        "id": "wDo6c3w2UxDE",
        "outputId": "baeecbeb-80dd-4073-bf83-fddcb5d05b8d"
      },
      "source": [
        "import gensim\n",
        "import re\n",
        "import nltk\n",
        "nltk.download('stopwords')\n",
        "from nltk.corpus import stopwords\n",
        "from nltk.stem.porter import PorterStemmer\n",
        "politifact_corpus = []\n",
        "for i in range(0, 2):\n",
        "  review = re.sub('[^a-zA-Z]', ' ', data_politifact['statement'][i])\n",
        "  review = review.lower()\n",
        "  review = review.split()\n",
        "  ps = PorterStemmer()\n",
        "  all_stopwords = stopwords.words('english')\n",
        "  all_stopwords.remove('not')\n",
        "  review = [ps.stem(word) for word in review if not word in set(all_stopwords)]\n",
        "  review = ' '.join(review)\n",
        "  politifact_corpus.append(review)"
      ],
      "execution_count": null,
      "outputs": [
        {
          "output_type": "stream",
          "text": [
            "[nltk_data] Downloading package stopwords to /root/nltk_data...\n",
            "[nltk_data]   Package stopwords is already up-to-date!\n"
          ],
          "name": "stdout"
        }
      ]
    },
    {
      "cell_type": "code",
      "metadata": {
        "colab": {
          "base_uri": "https://localhost:8080/"
        },
        "id": "Z7crp34dU4AZ",
        "outputId": "0977560f-c288-4104-a4c2-6efbb24b1290"
      },
      "source": [
        "print(politifact_corpus)"
      ],
      "execution_count": null,
      "outputs": [
        {
          "output_type": "stream",
          "text": [
            "['less peopl year kill rifl combin year kill illeg', 'say suspect boulder mass shooter muslim enter illeg mexico purchas firearm guy sell stolen gun']\n"
          ],
          "name": "stdout"
        }
      ]
    },
    {
      "cell_type": "code",
      "metadata": {
        "colab": {
          "base_uri": "https://localhost:8080/"
        },
        "id": "3XcO-ibmUlxM",
        "outputId": "99af1e30-7b5f-40f1-d610-af6b7f526362"
      },
      "source": [
        "import re\n",
        "import nltk\n",
        "nltk.download('stopwords')\n",
        "nltk.download('punkt')\n",
        "from nltk.tokenize import word_tokenize\n",
        "from nltk.corpus import stopwords\n",
        "from nltk.stem.porter import PorterStemmer\n",
        "gen_docs = [[w.lower() for w in word_tokenize(text)] \n",
        "  for text in politifact_corpus]"
      ],
      "execution_count": null,
      "outputs": [
        {
          "output_type": "stream",
          "text": [
            "[nltk_data] Downloading package stopwords to /root/nltk_data...\n",
            "[nltk_data]   Package stopwords is already up-to-date!\n",
            "[nltk_data] Downloading package punkt to /root/nltk_data...\n",
            "[nltk_data]   Package punkt is already up-to-date!\n"
          ],
          "name": "stdout"
        }
      ]
    },
    {
      "cell_type": "code",
      "metadata": {
        "colab": {
          "base_uri": "https://localhost:8080/"
        },
        "id": "sx48ojJKV3mV",
        "outputId": "a1a96fea-a501-4c66-c83f-7a7d5a2f8db9"
      },
      "source": [
        "dictionary = gensim.corpora.Dictionary(gen_docs)\n",
        "print(dictionary.token2id)"
      ],
      "execution_count": null,
      "outputs": [
        {
          "output_type": "stream",
          "text": [
            "{'combin': 0, 'illeg': 1, 'kill': 2, 'less': 3, 'peopl': 4, 'rifl': 5, 'year': 6, 'boulder': 7, 'enter': 8, 'firearm': 9, 'gun': 10, 'guy': 11, 'mass': 12, 'mexico': 13, 'muslim': 14, 'purchas': 15, 'say': 16, 'sell': 17, 'shooter': 18, 'stolen': 19, 'suspect': 20}\n"
          ],
          "name": "stdout"
        }
      ]
    },
    {
      "cell_type": "code",
      "metadata": {
        "id": "RaawpevVV8nY"
      },
      "source": [
        "# Convert to Bag of Words\n",
        "politifact_corpus = [dictionary.doc2bow(gen_doc) for gen_doc in gen_docs]"
      ],
      "execution_count": null,
      "outputs": []
    },
    {
      "cell_type": "code",
      "metadata": {
        "colab": {
          "base_uri": "https://localhost:8080/"
        },
        "id": "pkZ-WkqPWbvq",
        "outputId": "bed92379-d1a5-46db-a424-fb249c7d2cf0"
      },
      "source": [
        "politifact_corpus"
      ],
      "execution_count": null,
      "outputs": [
        {
          "output_type": "execute_result",
          "data": {
            "text/plain": [
              "[[(0, 1), (1, 1), (2, 2), (3, 1), (4, 1), (5, 1), (6, 2)],\n",
              " [(1, 1),\n",
              "  (7, 1),\n",
              "  (8, 1),\n",
              "  (9, 1),\n",
              "  (10, 1),\n",
              "  (11, 1),\n",
              "  (12, 1),\n",
              "  (13, 1),\n",
              "  (14, 1),\n",
              "  (15, 1),\n",
              "  (16, 1),\n",
              "  (17, 1),\n",
              "  (18, 1),\n",
              "  (19, 1),\n",
              "  (20, 1)]]"
            ]
          },
          "metadata": {
            "tags": []
          },
          "execution_count": 27
        }
      ]
    },
    {
      "cell_type": "code",
      "metadata": {
        "id": "CN9HdYRYWi9r"
      },
      "source": [
        "# Convert to tfidf >>> tfidf = models.TfidfModel(corpus)\n",
        "tf_idf = gensim.models.TfidfModel(politifact_corpus)"
      ],
      "execution_count": null,
      "outputs": []
    },
    {
      "cell_type": "code",
      "metadata": {
        "colab": {
          "base_uri": "https://localhost:8080/"
        },
        "id": "Pw9rBiNOforS",
        "outputId": "06588b80-c438-4a20-e39e-7bab5c49610e"
      },
      "source": [
        "# Print the text frequency\n",
        "import numpy as np\n",
        "for doc in tf_idf[politifact_corpus]:\n",
        "    print([[dictionary[id], np.around(freq, decimals=2)] for id, freq in doc])"
      ],
      "execution_count": null,
      "outputs": [
        {
          "output_type": "stream",
          "text": [
            "[['combin', 0.29], ['kill', 0.58], ['less', 0.29], ['peopl', 0.29], ['rifl', 0.29], ['year', 0.58]]\n",
            "[['boulder', 0.27], ['enter', 0.27], ['firearm', 0.27], ['gun', 0.27], ['guy', 0.27], ['mass', 0.27], ['mexico', 0.27], ['muslim', 0.27], ['purchas', 0.27], ['say', 0.27], ['sell', 0.27], ['shooter', 0.27], ['stolen', 0.27], ['suspect', 0.27]]\n"
          ],
          "name": "stdout"
        }
      ]
    },
    {
      "cell_type": "code",
      "metadata": {
        "id": "MSL2AlX8WtHE"
      },
      "source": [
        "# building the similarity index\n",
        "# gensim.similarities.MatrixSimilarity corpus, num_best=None, dtype=<type 'numpy.float32'>, num_features=None, chunksize=256, corpus_len=None\n",
        "index = gensim.similarities.Similarity('/content/drive/MyDrive/cmpe-257 Machine Leaning/HW/dir',tf_idf[politifact_corpus],num_features=len(dictionary))"
      ],
      "execution_count": null,
      "outputs": []
    },
    {
      "cell_type": "code",
      "metadata": {
        "colab": {
          "base_uri": "https://localhost:8080/"
        },
        "id": "mXo_njiMjn6F",
        "outputId": "6bba53bb-9e80-486e-88b4-f7a41a7b81be"
      },
      "source": [
        "print(index)"
      ],
      "execution_count": null,
      "outputs": [
        {
          "output_type": "stream",
          "text": [
            "Similarity index with 2 documents in 0 shards (stored under /content/drive/MyDrive/cmpe-257 Machine Leaning/HW/dir)\n"
          ],
          "name": "stdout"
        }
      ]
    },
    {
      "cell_type": "code",
      "metadata": {
        "id": "MjRLmdP9dHr9"
      },
      "source": [
        "import gensim\n",
        "sims = index[tf_idf[politifact_corpus]]"
      ],
      "execution_count": null,
      "outputs": []
    },
    {
      "cell_type": "code",
      "metadata": {
        "colab": {
          "base_uri": "https://localhost:8080/"
        },
        "id": "ksPD1glOXCQ2",
        "outputId": "050a7d99-b38f-474b-dc30-4fec1c7a78c0"
      },
      "source": [
        "# The highest index with text similarity is 1.000001 the second document indexed.\n",
        "print(sims)"
      ],
      "execution_count": null,
      "outputs": [
        {
          "output_type": "stream",
          "text": [
            "[[0.99999994 0.        ]\n",
            " [0.         1.0000001 ]]\n"
          ],
          "name": "stdout"
        }
      ]
    },
    {
      "cell_type": "markdown",
      "metadata": {
        "id": "kxlSM8VgFHbF"
      },
      "source": [
        "## Test the Politifact Trained model with text data from Fox News\n",
        "\n",
        "Data Narrative : \n",
        "\n",
        "Accuracy score = 3%.\n",
        "\n",
        "F1 score for each trained text samples range from 1% to 7% score.\n"
      ]
    },
    {
      "cell_type": "markdown",
      "metadata": {
        "id": "fM96I3F2G3Sx"
      },
      "source": [
        "Train Test Split "
      ]
    },
    {
      "cell_type": "code",
      "metadata": {
        "id": "D3WOom5FFHxq"
      },
      "source": [
        "from sklearn.model_selection import train_test_split\n",
        "X_train = data_politifact['statement']\n",
        "y_train = data_politifact['statement']\n",
        "X_test = data_foxnews['headline']\n",
        "y_test = data_foxnews['headline']\n",
        "\n",
        "max_r = 59970\n",
        "X_test = X_test.iloc[0:max_r]\n",
        "y_test = y_test.iloc[0:max_r]\n",
        "# X = X_train + X_test\n",
        "# y = y_train + y_test\n",
        "# X_train, X_test, y_train, y_test = train_test_split(X, y, test_size = 0.20, random_state=0)"
      ],
      "execution_count": null,
      "outputs": []
    },
    {
      "cell_type": "markdown",
      "metadata": {
        "id": "LApIG1XrGmcU"
      },
      "source": [
        "### CountVectorizer"
      ]
    },
    {
      "cell_type": "code",
      "metadata": {
        "id": "uvBuRioOMLgw"
      },
      "source": [
        "from sklearn.feature_extraction.text import CountVectorizer\n",
        "from sklearn.feature_extraction.text import TfidfVectorizer\n",
        "count_vect = CountVectorizer()"
      ],
      "execution_count": null,
      "outputs": []
    },
    {
      "cell_type": "code",
      "metadata": {
        "id": "4ypktx4KMLg-"
      },
      "source": [
        "X = count_vect.fit_transform(X_test)"
      ],
      "execution_count": null,
      "outputs": []
    },
    {
      "cell_type": "code",
      "metadata": {
        "id": "kuC16rIsMLg-"
      },
      "source": [
        "y = count_vect.fit_transform(y_test)"
      ],
      "execution_count": null,
      "outputs": []
    },
    {
      "cell_type": "code",
      "metadata": {
        "colab": {
          "base_uri": "https://localhost:8080/"
        },
        "id": "1dJismk8MLg-",
        "outputId": "5894d535-85fc-48b1-f268-fcc82cf2fa73"
      },
      "source": [
        "y = data_foxnews.iloc[1:10, [1]].values\n",
        "print(y)"
      ],
      "execution_count": null,
      "outputs": [
        {
          "output_type": "stream",
          "text": [
            "[['WATCH: County officials ignore mother pleading for school reopening']\n",
            " [\"Grocery chain closes two stores in city that required 'hero pay'\"]\n",
            " ['Insider ripped for piece victimizing teachers during COVID']\n",
            " [\"Photo catches Queen in rare moment of emotion at Prince Philip's funeral\"]\n",
            " ['Portland church damaged in riot says cost of repairs will take away from feeding the homeless']\n",
            " ['Minneapolis drive-by shooting leaves 2 National Guard members injured']\n",
            " ['Deadly Texas crash involving Tesla worth $80,000 sparks four hour fire']\n",
            " ['Hundreds of migrant girls 13-17 abruptly moved out of Texas facility']\n",
            " ['Details emerge on how FedEx shooter obtained guns despite family concerns']]\n"
          ],
          "name": "stdout"
        }
      ]
    },
    {
      "cell_type": "code",
      "metadata": {
        "id": "ibagTAqOMLhA"
      },
      "source": [
        "# y_politifact_train = data_politifact.iloc[0:1000, [2]].values"
      ],
      "execution_count": null,
      "outputs": []
    },
    {
      "cell_type": "code",
      "metadata": {
        "colab": {
          "base_uri": "https://localhost:8080/"
        },
        "id": "u4srLyDYMLhA",
        "outputId": "d84bc811-7961-42e5-d92a-68c596157d31"
      },
      "source": [
        "X.shape"
      ],
      "execution_count": null,
      "outputs": [
        {
          "output_type": "execute_result",
          "data": {
            "text/plain": [
              "(59970, 1018)"
            ]
          },
          "metadata": {
            "tags": []
          },
          "execution_count": 267
        }
      ]
    },
    {
      "cell_type": "code",
      "metadata": {
        "colab": {
          "base_uri": "https://localhost:8080/"
        },
        "id": "l_Dtx2UhMLhB",
        "outputId": "8f166a6e-e017-40d7-969b-3a995db1ed6c"
      },
      "source": [
        "y.shape"
      ],
      "execution_count": null,
      "outputs": [
        {
          "output_type": "execute_result",
          "data": {
            "text/plain": [
              "(9, 1)"
            ]
          },
          "metadata": {
            "tags": []
          },
          "execution_count": 268
        }
      ]
    },
    {
      "cell_type": "code",
      "metadata": {
        "id": "guEWIsejMLhB"
      },
      "source": [
        "count_vect.vocabulary_.get(u'algorithm')"
      ],
      "execution_count": null,
      "outputs": []
    },
    {
      "cell_type": "code",
      "metadata": {
        "colab": {
          "base_uri": "https://localhost:8080/"
        },
        "id": "iavn0xZiMLhB",
        "outputId": "967c2691-2e65-4a4c-9fa0-92b69ef325e9"
      },
      "source": [
        "# count_vect.vocabulary_.get(u'algorithm')\n",
        "print(count_vect.vocabulary_)"
      ],
      "execution_count": null,
      "outputs": [
        {
          "output_type": "stream",
          "text": [
            "{'wisconsin': 996, 'police': 676, 'arrest': 64, 'suspect': 869, 'wanted': 967, 'for': 346, 'deadly': 244, 'shooting': 806, 'at': 74, 'kenosha': 496, 'lakeside': 508, 'bar': 87, 'watch': 971, 'county': 219, 'officials': 619, 'ignore': 448, 'mother': 594, 'pleading': 670, 'school': 783, 'reopening': 733, 'grocery': 390, 'chain': 170, 'closes': 193, 'two': 937, 'stores': 852, 'in': 455, 'city': 187, 'that': 894, 'required': 740, 'hero': 419, 'pay': 659, 'insider': 466, 'ripped': 754, 'piece': 665, 'victimizing': 955, 'teachers': 880, 'during': 285, 'covid': 223, 'photo': 664, 'catches': 164, 'queen': 701, 'rare': 710, 'moment': 586, 'of': 617, 'emotion': 300, 'prince': 689, 'philip': 662, 'funeral': 357, 'portland': 680, 'church': 185, 'damaged': 236, 'riot': 753, 'says': 780, 'cost': 217, 'repairs': 735, 'will': 989, 'take': 874, 'away': 79, 'from': 355, 'feeding': 332, 'the': 895, 'homeless': 431, 'minneapolis': 578, 'drive': 280, 'by': 148, 'leaves': 522, 'national': 601, 'guard': 393, 'members': 567, 'injured': 463, 'texas': 891, 'crash': 224, 'involving': 471, 'tesla': 888, 'worth': 1010, '80': 25, '000': 0, 'sparks': 838, 'four': 350, 'hour': 437, 'fire': 337, 'hundreds': 444, 'migrant': 574, 'girls': 373, '13': 7, '17': 10, 'abruptly': 27, 'moved': 596, 'out': 636, 'facility': 320, 'details': 255, 'emerge': 298, 'on': 624, 'how': 440, 'fedex': 331, 'shooter': 805, 'obtained': 616, 'guns': 395, 'despite': 253, 'family': 324, 'concerns': 208, 'man': 547, 'charged': 173, 'with': 997, 'attacking': 77, 'undercover': 940, 'nypd': 615, 'cop': 214, 'released': 731, 'without': 998, 'bail': 84, 'media': 564, 'question': 702, 'why': 986, 'elizabeth': 297, 'ii': 449, 'didn': 260, 'cry': 229, 'husband': 446, 'but': 146, 'she': 802, 'did': 259, 'william': 990, 'asked': 68, 'to': 910, 'not': 610, 'walk': 966, 'beside': 101, 'harry': 405, 'minnesota': 579, 'armed': 63, 'carjacker': 159, 'points': 674, 'gun': 394, 'vehicle': 954, 'pursuit': 698, 'chilling': 182, 'video': 956, 'shows': 817, 'kamala': 492, 'harris': 403, 'has': 406, 'gone': 382, '25': 15, 'days': 241, 'news': 606, 'conference': 209, 'since': 822, 'being': 98, 'tapped': 878, 'border': 127, 'crisis': 227, 'role': 759, 'babylon': 81, 'bee': 96, 'editor': 293, 'chief': 179, 'scolds': 785, 'samantha': 776, 'pulling': 695, 'punches': 696, 'biden': 109, 'blinded': 115, 'your': 1017, 'own': 641, 'worldview': 1007, 'see': 789, 'it': 476, 'harrowing': 404, 'shootout': 807, 'between': 106, 'steady': 847, 'aim': 44, 'alma': 47, 'wahlberg': 964, 'mom': 585, 'actors': 33, 'mark': 552, 'and': 54, 'donnie': 277, 'star': 845, 'wahlburgers': 965, 'dead': 243, '78': 24, 'mcdonald': 561, 'worker': 1005, 'puts': 699, 'up': 946, 'sign': 819, 'thru': 902, 'explain': 317, 'their': 896, 'slow': 827, 'service': 796, 'lebron': 523, 'james': 480, 'lakers': 507, 'won': 1003, 'visit': 961, 'president': 687, 'white': 985, 'house': 438, 'trip': 927, 'washington': 970, 'groom': 391, 'brother': 138, 'law': 515, 'locks': 534, 'children': 181, 'room': 760, 'wedding': 977, 'because': 94, 'he': 410, 'doesn': 274, 'like': 528, 'kids': 499, 'cnn': 195, 'chris': 184, 'cuomo': 232, 'need': 602, 'die': 261, 'reform': 726, 'south': 836, 'florida': 342, 'restaurant': 744, 'buys': 147, 'robots': 757, 'fight': 334, 'staffing': 844, 'issues': 475, 'sen': 792, 'tim': 904, 'scott': 786, 'predicts': 686, 'economy': 292, 'explode': 318, 'later': 511, 'this': 901, 'year': 1011, 'ben': 100, 'askren': 70, 'reaction': 715, 'post': 681, 'match': 557, 'goes': 381, 'viral': 959, 'after': 41, 'getting': 370, 'knocked': 501, 'jake': 479, 'paul': 657, 'hs': 442, 'basketball': 91, 'referee': 723, 'violently': 958, 'body': 123, 'slammed': 825, 'then': 898, 'gets': 369, 'worse': 1009, 'cassie': 162, 'randolph': 706, 'thanks': 893, 'fans': 326, 'support': 866, 'her': 416, 'ex': 313, 'colton': 201, 'underwood': 942, 'comes': 203, 'as': 66, 'gay': 364, 'eli': 296, 'steele': 848, 'georgia': 367, 'political': 679, 'confusion': 210, 'pain': 643, 'everyday': 312, 'people': 660, 'you': 1016, 'could': 218, 'win': 992, 'play': 667, '10': 1, 'fox': 351, 'bet': 104, 'super': 865, 'quiz': 704, 'show': 815, 'cartoon': 160, 'day': 240, 'state': 846, 'emergencies': 299, 'college': 199, 'students': 860, 'should': 814, 'open': 628, 'high': 422, 'yield': 1013, 'savings': 778, 'account': 29, '19': 12, 'vaccine': 952, 'was': 969, 'paused': 658, 'over': 639, 'blood': 118, 'clot': 194, 'treatment': 923, 'netflix': 603, 'johnson': 488, 'earnings': 286, 'top': 915, 'week': 978, 'ahead': 43, 'linkedin': 530, 'company': 205, 'wide': 987, 'off': 618, 'no': 609, 'strings': 856, 'attached': 76, 'refresher': 727, 'employers': 301, 'burnout': 143, 'oregon': 634, 'weigh': 979, 'mandating': 549, 'rules': 764, 'all': 45, 'businesses': 145, 'indefinitely': 458, 'bitcoin': 113, 'slumps': 828, '14': 8, 'pullback': 694, 'record': 720, 'gathers': 363, 'pace': 642, 'half': 398, 'us': 947, 'adults': 40, 'have': 408, 'received': 718, 'least': 521, 'one': 625, 'shot': 813, 'la': 506, 'board': 120, 'education': 295, 'eat': 290, 'check': 174, 'phones': 663, 'while': 984, 'pleads': 671, 'fauci': 328, 'pressed': 688, 'vaccinated': 951, 'still': 850, 'wear': 975, 'masks': 556, 'hints': 426, 'change': 171, 'is': 472, 'coming': 204, 'expects': 315, 'decision': 249, 'friday': 353, 'return': 749, 'warning': 968, 'or': 633, 'restriction': 745, 'customer': 234, 'showing': 816, 'asking': 69, 'patience': 656, 'amid': 52, 'issue': 474, 'created': 225, 'catastrophe': 163, 'southern': 837, 'dismantling': 267, 'trump': 929, 'policies': 677, 'gov': 385, 'desantis': 252, 'candace': 156, 'owen': 640, 'encourages': 302, 'parents': 650, 'sue': 862, 'schools': 784, 'ruining': 763, 'lives': 532, 'chicago': 178, 'mayor': 560, 'slams': 826, 'trash': 921, 'rumors': 765, 'indicates': 459, 'resign': 743, 'adam': 35, 'toledo': 912, 'stephen': 849, 'miller': 576, 'stresses': 854, 'importance': 453, 'immigration': 451, 'lawsuits': 518, 'innocent': 465, 'be': 93, 'killed': 500, 'rep': 734, 'devin': 257, 'nunes': 614, 'china': 183, 'laughing': 513, 'admin': 39, 'foreign': 348, 'policy': 678, 'houston': 439, 'say': 779, 'crystal': 230, 'meth': 570, 'found': 349, 'breakfast': 134, 'burrito': 144, 'reporter': 737, 'notebook': 611, 'passing': 653, 'ontario': 627, 'retracts': 748, 'new': 605, 'coronavirus': 216, 'restrictions': 746, 'banned': 86, 'playgrounds': 669, 'involved': 470, 'outcry': 637, 'accuses': 30, 'japan': 482, 'ganging': 360, 'them': 897, 'italian': 477, 'right': 752, 'wing': 993, 'leader': 519, 'salvini': 774, 'go': 379, 'trial': 926, 'allowing': 46, 'ship': 803, 'dock': 271, 'royal': 762, 'caribbean': 158, 'sends': 793, 'ships': 804, 'st': 843, 'vincent': 957, 'assist': 73, 'evacuations': 307, 'soufriere': 834, 'eruption': 305, 'old': 622, 'welcome': 980, 'back': 82, 'completing': 207, 'cancer': 155, 'pandemic': 644, 'weary': 976, 'chefs': 177, 'cooks': 213, 'enjoy': 303, 'serving': 797, 'home': 430, 'job': 486, 'stranger': 853, 'generosity': 365, 'god': 380, 'good': 383, 'jersey': 484, 'server': 795, 'receives': 719, 'almost': 48, '2g': 16, 'refuses': 728, 'tip': 907, 'woman': 1001, 'covers': 222, 'lyft': 541, 'uber': 938, 'rides': 751, 'help': 414, 'asian': 67, 'residents': 742, 'yorkers': 1015, 'get': 368, 'safely': 769, 'newt': 607, 'gingrich': 371, 'american': 51, 'civilization': 188, 'here': 417, 'what': 983, 'we': 974, 'must': 599, 'do': 270, 'oppose': 631, 'forces': 347, 'trying': 931, 'destroy': 254, 'jonathan': 489, 'turley': 933, 'vs': 963, 'waters': 972, 'incitement': 457, 'case': 161, 'may': 559, 'best': 102, 'witness': 999, 'defense': 250, 'janice': 481, 'dean': 245, 'anniversary': 58, 'my': 600, 'death': 246, 'so': 830, 'hard': 401, 'martha': 554, 'maccallum': 542, 'goodnight': 384, 'sweet': 873, 'salty': 773, 'dave': 238, 'ann': 57, 'wilson': 991, 'every': 311, 'parent': 649, 'fears': 329, 've': 953, 'messed': 569, 'happened': 400, 'york': 1014, 'keeping': 495, 'dojo': 275, 'shuttered': 818, 'cdc': 167, 'meet': 565, 'discuss': 266, 'safety': 770, 'russian': 766, 'bounty': 128, 'saga': 771, 'unravels': 944, 'cancel': 154, 'culture': 231, 'america': 50, 'classrooms': 190, 'retired': 747, 'adm': 38, 'mcraven': 562, 'shares': 801, 'military': 575, 'experience': 316, 'book': 125, 'code': 198, 'jayne': 483, 'mansfield': 550, '50s': 22, 'blonde': 117, 'bombshell': 124, 'cared': 157, 'much': 598, 'about': 26, 'enjoyed': 304, 'meeting': 566, 'they': 899, 'weren': 982, 'impressed': 454, 'him': 425, 'source': 835, 'loved': 538, 'katy': 494, 'perry': 661, 'orlando': 635, 'bloom': 119, 'wife': 988, 'miranda': 580, 'kerr': 497, 'close': 192, 'relationship': 729, 'tina': 906, 'turner': 934, 'documentary': 272, 'fails': 322, 'examine': 314, 'absence': 28, 'speak': 839, 'anybody': 59, 'sister': 823, 'wives': 1000, 'robyn': 758, 'brown': 139, 'tells': 884, 'kody': 502, 'sometimes': 833, 'baby': 80, 'hungry': 445, 'decide': 248, 'now': 613, 'black': 114, 'panther': 646, 'film': 335, 'ryan': 767, 'coogler': 212, 'opposition': 632, 'voting': 962, 'laws': 517, 'kate': 493, 'middleton': 573, 'honor': 434, 'devoted': 258, 'consort': 211, 'twitter': 936, 'shortly': 811, 'his': 427, 'cink': 186, 'cess': 169, '47': 20, 'wins': 994, '3rd': 19, 'rbc': 712, 'heritage': 418, 'title': 909, 'stroman': 857, 'innings': 464, 'backhand': 83, 'grab': 386, 'lift': 526, 'mets': 571, 'rox': 761, 'rangers': 708, 'finish': 336, 'game': 359, 'sweep': 871, 'devils': 256, 'moran': 588, 'hr': 441, 'rbi': 713, 'double': 278, '10th': 5, 'leads': 520, 'pirates': 666, 'brewers': 136, 'bam': 85, 'adebayo': 37, 'jumper': 491, 'lifts': 527, 'heat': 412, 'past': 654, 'nets': 604, '109': 4, '107': 3, 'garden': 361, 'gnome': 378, 'shortage': 810, 'strikes': 855, 'due': 283, 'suez': 863, 'canal': 153, 'blockage': 116, 'illinois': 450, 'homeowner': 432, 'discovers': 265, 'underground': 941, 'tunnel': 932, 'older': 623, 'than': 892, 'under': 939, 'property': 691, 'kraft': 503, 'giving': 377, 'cheese': 175, 'scented': 782, 'incense': 456, 'can': 152, 'breathe': 135, 'cheesy': 176, 'tiktok': 903, 'honeycomb': 433, 'pasta': 655, 'latest': 512, 'food': 344, 'trend': 925, 'social': 831, 'divided': 269, 'jail': 478, 'visible': 960, 'audible': 78, 'paranormal': 648, 'activity': 32, 'sale': 772, '100': 2, 'student': 859, 'debt': 247, 'ways': 973, 'today': 911, 'mortgage': 591, 'refinance': 724, 'rates': 711, '30': 17, 'plunge': 673, 'below': 99, 'first': 339, 'time': 905, '34': 18, 'april': 62, '16': 9, '2021': 14, 'plummet': 672, 'fall': 323, '60': 23, 'low': 539, 'refinancing': 725, 'pursuing': 697, 'rise': 755, 'paris': 651, 'hilton': 424, '2004': 13, 'sex': 799, 'tape': 877, 'betrayal': 105, 'trust': 930, 'were': 981, 'mean': 563, 'seen': 790, 'wiping': 995, 'tears': 882, 'soldiers': 832, 'square': 841, 'grueling': 392, 'ranger': 707, 'competition': 206, 'hiatus': 421, 'keys': 498, 'release': 730, 'genetically': 366, 'modified': 584, 'mosquitoes': 592, 'instagram': 468, 'fixes': 341, 'function': 356, 'promoted': 690, 'harmful': 402, 'diet': 262, 'terms': 886, 'users': 950, 'eating': 291, 'disorders': 268, 'amazon': 49, 'apple': 61, 'microsoft': 572, 'among': 53, 'brands': 132, 'used': 948, 'scammers': 781, 'useful': 949, 'tools': 914, 'quick': 703, 'easy': 289, 'digital': 263, 'spring': 840, 'cleaning': 191, 'greg': 389, 'laurie': 514, 'legendary': 524, 'billy': 112, 'graham': 387, 'things': 900, 'surprise': 868, 'world': 1006, 'famous': 325, 'evangelist': 308, 'mart': 553, 'green': 388, 'mission': 582, 'biblical': 108, 'proportions': 692, 're': 714, 'taking': 875, 'word': 1004, 'corner': 215, 'supreme': 867, 'court': 220, 'against': 42, 'california': 150, 'limits': 529, 'religious': 732, 'gatherings': 362, 'books': 126, 'women': 1002, 'bible': 107, 'sits': 824, 'atop': 75, 'bestseller': 103, 'list': 531, 'postcard': 682, 'titanic': 908, 'sells': 791, 'big': 110, 'bucks': 141, 'simona': 821, 'de': 242, 'silvestro': 820, 'returning': 750, 'indy': 460, '500': 21, 'female': 333, 'operated': 630, 'racing': 705, 'team': 881, 'deputy': 251, 'hit': 428, 'truck': 928, 'traffic': 919, 'stop': 851, 'caught': 166, 'camera': 151, 'test': 889, 'dodge': 273, 'durango': 284, 'srt': 842, 'hellcat': 413, 'most': 593, 'powerful': 684, 'suv': 870, 'ever': 310, 'maui': 558, 'require': 739, 'tests': 890, 'travelers': 922, 'bypass': 149, 'quarantine': 700, 'indycar': 461, 'season': 788, 'opens': 629, 'sunday': 864, 'jimmie': 485, 'barber': 88, 'motorsports': 595, 'park': 652, 'creature': 226, 'lurking': 540, 'tree': 924, 'terrorizing': 887, 'poland': 675, 'town': 917, 'turns': 935, 'croissant': 228, 'stuck': 858, 'ohio': 620, 'river': 756, 'boat': 121, 'barge': 89, 'collision': 200, 'louisville': 537, 'fireworks': 338, 'missing': 581, 'reports': 738, 'coast': 196, 'recovers': 721, 'more': 589, 'bodies': 122, 'louisiana': 536, 'following': 343, 'seacor': 787, 'power': 683, 'disaster': 264, 'tennessee': 885, 'angler': 56, 'reels': 722, 'sturgeon': 861, 'fishing': 340, 'catfish': 165, 'budweiser': 142, 'gives': 376, 'free': 352, 'beer': 97, 'sam': 775, 'adams': 36, 'krispy': 505, 'kreme': 504, 'giveaways': 375, 'bubble': 140, 'tea': 879, 'hits': 429, 'last': 510, 'several': 798, 'months': 587, 'report': 736, 'pants': 647, 'tall': 876, 'online': 626, 'shopping': 808, 'fail': 321, 'fashion': 327, 'brand': 131, 'asos': 72, 'praised': 685, 'featuring': 330, 'model': 583, 'cochlear': 197, 'implant': 452, 'earrings': 287, 'ad': 34, 'panera': 645, 'unveils': 945, 'bread': 133, 'bowl': 129, 'bike': 111, 'sweepstakes': 872, 'earth': 288, 'short': 809, 'shorts': 812, 'men': 568, 'applauded': 60, 'makes': 545, 'comeback': 202, 'hooters': 435, 'girl': 372, 'madison': 543, 'novo': 612, 'childhood': 180, 'health': 411, 'battle': 92, 'inspired': 467, 'give': 374, 'really': 717, 'changes': 172, 'bride': 137, 'asks': 71, 'facebook': 319, 'if': 447, 'ok': 621, 'make': 544, 'don': 276, 'shapewear': 800, 'snug': 829, 'dress': 279, 'makeup': 546, 'artist': 65, 'transforms': 920, 'herself': 420, 'into': 469, 'celebs': 168, 'claims': 189, 'even': 309, 'fooled': 345, 'boyfriend': 130, 'real': 716, 'life': 525, 'rapunzel': 709, 'teen': 883, 'longest': 535, 'cuts': 235, 'hair': 397, '12': 6, 'years': 1012, 'hayley': 409, 'hasselhoff': 407, 'david': 239, 'daughter': 237, 'becomes': 95, 'curve': 233, 'land': 509, 'european': 306, 'playboy': 668, 'cover': 221, 'israel': 473, 'drops': 282, 'outdoor': 638, 'mask': 555, 'mandate': 548, 'worldwide': 1008, 'toll': 913, 'tops': 916, 'million': 577, 'johns': 487, 'hopkins': 436, 'university': 943, 'hiker': 423, 'safe': 768, 'public': 693, 'helps': 415, 'rescuers': 741, 'trace': 918, 'location': 533, 'sent': 794, 'friend': 354, 'drives': 281, 'lawn': 516, 'mower': 597, 'across': 31, 'habitat': 396, 'humanity': 443, 'morning': 590, 'futures': 358, 'maria': 551, 'bartiromo': 90, '18': 11, 'journal': 490, 'editorial': 294, 'saturday': 777, 'ingraham': 462, 'angle': 55, 'hannity': 399, 'night': 608}\n"
          ],
          "name": "stdout"
        }
      ]
    },
    {
      "cell_type": "code",
      "metadata": {
        "id": "ikqbTSubMLhC"
      },
      "source": [
        "# encode the whole document\n",
        "vector_foxnews = count_vect.transform(X_test)"
      ],
      "execution_count": null,
      "outputs": []
    },
    {
      "cell_type": "code",
      "metadata": {
        "colab": {
          "base_uri": "https://localhost:8080/"
        },
        "id": "NhorgBVKMLhC",
        "outputId": "740f364e-da37-4b52-8237-ee12313e642a"
      },
      "source": [
        "# summarize encoded vector\n",
        "print(vector_foxnews.shape)\n",
        "print(type(vector_foxnews))\n",
        "print(vector_foxnews.toarray())"
      ],
      "execution_count": null,
      "outputs": [
        {
          "output_type": "stream",
          "text": [
            "(59970, 1018)\n",
            "<class 'scipy.sparse.csr.csr_matrix'>\n",
            "[[0 0 0 ... 0 0 0]\n",
            " [0 0 0 ... 0 0 0]\n",
            " [0 0 0 ... 0 0 0]\n",
            " ...\n",
            " [0 0 0 ... 0 0 1]\n",
            " [0 0 0 ... 0 0 0]\n",
            " [0 0 0 ... 0 0 0]]\n"
          ],
          "name": "stdout"
        }
      ]
    },
    {
      "cell_type": "markdown",
      "metadata": {
        "id": "RgzhvGarJAUz"
      },
      "source": [
        "### Tf-Idf"
      ]
    },
    {
      "cell_type": "markdown",
      "metadata": {
        "id": "t79Jfpf6Q1yF"
      },
      "source": [
        "Fox News"
      ]
    },
    {
      "cell_type": "code",
      "metadata": {
        "colab": {
          "base_uri": "https://localhost:8080/"
        },
        "id": "Yuhl11CWJAU5",
        "outputId": "e824b19e-04a3-4deb-95d5-b8cb22e09943"
      },
      "source": [
        "# Use the whole corpus of FoxNews for testing\n",
        "tfidf_transformer = TfidfTransformer()\n",
        "X_test_tf_idf = tfidf_transformer.fit_transform(vector_foxnews)\n",
        "X_test_tf_idf.shape"
      ],
      "execution_count": null,
      "outputs": [
        {
          "output_type": "execute_result",
          "data": {
            "text/plain": [
              "(59970, 1018)"
            ]
          },
          "metadata": {
            "tags": []
          },
          "execution_count": 275
        }
      ]
    },
    {
      "cell_type": "code",
      "metadata": {
        "colab": {
          "base_uri": "https://localhost:8080/"
        },
        "id": "7HmdO5knJAU7",
        "outputId": "cc096703-2568-4318-b02e-4ba62834dadc"
      },
      "source": [
        "print(X_test_tf_idf)"
      ],
      "execution_count": null,
      "outputs": [
        {
          "output_type": "stream",
          "text": [
            "  (0, 996)\t0.3329246052606471\n",
            "  (0, 967)\t0.3329246052606471\n",
            "  (0, 869)\t0.29521397677419775\n",
            "  (0, 806)\t0.24539942089505137\n",
            "  (0, 676)\t0.2197930312226876\n",
            "  (0, 508)\t0.3329246052606471\n",
            "  (0, 496)\t0.3329246052606471\n",
            "  (0, 346)\t0.14595952095346065\n",
            "  (0, 244)\t0.29521397677419775\n",
            "  (0, 87)\t0.3329246052606471\n",
            "  (0, 74)\t0.17558651713594983\n",
            "  (0, 64)\t0.3329246052606471\n",
            "  (1, 971)\t0.3413508665828275\n",
            "  (1, 783)\t0.2977903784847854\n",
            "  (1, 733)\t0.3413508665828275\n",
            "  (1, 670)\t0.3849550206066001\n",
            "  (1, 619)\t0.3413508665828275\n",
            "  (1, 594)\t0.29783395459500556\n",
            "  (1, 448)\t0.3849550206066001\n",
            "  (1, 346)\t0.168770494906435\n",
            "  (1, 219)\t0.3849550206066001\n",
            "  (2, 937)\t0.3009946180578686\n",
            "  (2, 894)\t0.24005088120870807\n",
            "  (2, 852)\t0.33935717184448894\n",
            "  (2, 740)\t0.33935717184448894\n",
            "  :\t:\n",
            "  (59968, 955)\t0.39468753906064274\n",
            "  (59968, 880)\t0.39468753906064274\n",
            "  (59968, 754)\t0.39468753906064274\n",
            "  (59968, 665)\t0.39468753906064274\n",
            "  (59968, 466)\t0.39468753906064274\n",
            "  (59968, 346)\t0.21091488712518747\n",
            "  (59968, 285)\t0.3082673852017949\n",
            "  (59968, 223)\t0.28564814398326765\n",
            "  (59969, 959)\t0.24327617613406377\n",
            "  (59969, 956)\t0.23180700043845287\n",
            "  (59969, 902)\t0.25805447415406074\n",
            "  (59969, 891)\t0.22240905925605337\n",
            "  (59969, 844)\t0.24327617613406377\n",
            "  (59969, 819)\t0.25805447415406074\n",
            "  (59969, 816)\t0.27893345461968566\n",
            "  (59969, 656)\t0.27893345461968566\n",
            "  (59969, 624)\t0.17526365613464623\n",
            "  (59969, 561)\t0.25805447415406074\n",
            "  (59969, 474)\t0.27893345461968566\n",
            "  (59969, 416)\t0.19615688702289236\n",
            "  (59969, 346)\t0.13787497384570035\n",
            "  (59969, 280)\t0.21448480101808423\n",
            "  (59969, 234)\t0.2581019121139457\n",
            "  (59969, 69)\t0.27893345461968566\n",
            "  (59969, 52)\t0.2581019121139457\n"
          ],
          "name": "stdout"
        }
      ]
    },
    {
      "cell_type": "markdown",
      "metadata": {
        "id": "Rh2-OuspFIDG"
      },
      "source": [
        "### Naive Bayes Classifier Fox News"
      ]
    },
    {
      "cell_type": "code",
      "metadata": {
        "id": "kRWwuuUTGlN-"
      },
      "source": [
        "from sklearn.naive_bayes import MultinomialNB\n",
        "clf = MultinomialNB().fit(X_test_tf_idf, X_test)"
      ],
      "execution_count": null,
      "outputs": []
    },
    {
      "cell_type": "code",
      "metadata": {
        "id": "36xB3j_dFIDI"
      },
      "source": [
        "statement_new = ['chain closes two stores in city that required hero pay']\n",
        "X_new_counts = count_vect.transform(statement_new)\n",
        "X_new_tfidf = tfidf_transformer.transform(X_new_counts)\n",
        "\n",
        "predicted = clf.predict(X_new_tfidf)"
      ],
      "execution_count": null,
      "outputs": []
    },
    {
      "cell_type": "code",
      "metadata": {
        "colab": {
          "base_uri": "https://localhost:8080/"
        },
        "id": "CrBXJCv2FIDJ",
        "outputId": "c918efca-d0cf-482b-d6b9-806c136637d0"
      },
      "source": [
        "for doc, category in zip(statement_new, predicted):\n",
        "  print('%r => %s' % (doc, predicted))"
      ],
      "execution_count": null,
      "outputs": [
        {
          "output_type": "stream",
          "text": [
            "'chain closes two stores in city that required hero pay' => [\"Grocery chain closes two stores in city that required 'hero pay'\"]\n"
          ],
          "name": "stdout"
        }
      ]
    },
    {
      "cell_type": "markdown",
      "metadata": {
        "id": "azWLYlNvY5Ub"
      },
      "source": [
        "### Training Pipeline Politifact with Test Prediction Fox News\n",
        "\n",
        "Data Narrative : \n",
        "\n",
        "Accuracy score = 3%.\n",
        "\n",
        "F1 score for each trained text samples range from 1% to 7% score."
      ]
    },
    {
      "cell_type": "code",
      "metadata": {
        "id": "8x_q-TkWY5Uc"
      },
      "source": [
        "from sklearn.pipeline import Pipeline\n",
        "from sklearn.naive_bayes import MultinomialNB\n",
        "from sklearn.feature_extraction.text import CountVectorizer\n",
        "from sklearn.feature_extraction.text import TfidfTransformer\n",
        "from sklearn.metrics import classification_report\n",
        "from sklearn.metrics import plot_confusion_matrix\n",
        "from sklearn.metrics import confusion_matrix\n",
        "import matplotlib.pyplot as plt  \n",
        "from sklearn.metrics import roc_auc_score\n",
        "from sklearn.metrics import plot_roc_curve\n",
        "text_clf = Pipeline([\n",
        "     ('vect', CountVectorizer()),\n",
        "     ('tfidf', TfidfTransformer()),\n",
        "     ('clf', MultinomialNB()),\n",
        "])"
      ],
      "execution_count": null,
      "outputs": []
    },
    {
      "cell_type": "code",
      "metadata": {
        "colab": {
          "base_uri": "https://localhost:8080/"
        },
        "id": "5GuvJOudY5Ur",
        "outputId": "21074c2f-3c70-4bba-e86f-c342131b2d7c"
      },
      "source": [
        "text_clf.fit(X_train, y_train )"
      ],
      "execution_count": null,
      "outputs": [
        {
          "output_type": "execute_result",
          "data": {
            "text/plain": [
              "Pipeline(memory=None,\n",
              "         steps=[('vect',\n",
              "                 CountVectorizer(analyzer='word', binary=False,\n",
              "                                 decode_error='strict',\n",
              "                                 dtype=<class 'numpy.int64'>, encoding='utf-8',\n",
              "                                 input='content', lowercase=True, max_df=1.0,\n",
              "                                 max_features=None, min_df=1,\n",
              "                                 ngram_range=(1, 1), preprocessor=None,\n",
              "                                 stop_words=None, strip_accents=None,\n",
              "                                 token_pattern='(?u)\\\\b\\\\w\\\\w+\\\\b',\n",
              "                                 tokenizer=None, vocabulary=None)),\n",
              "                ('tfidf',\n",
              "                 TfidfTransformer(norm='l2', smooth_idf=True,\n",
              "                                  sublinear_tf=False, use_idf=True)),\n",
              "                ('clf',\n",
              "                 MultinomialNB(alpha=1.0, class_prior=None, fit_prior=True))],\n",
              "         verbose=False)"
            ]
          },
          "metadata": {
            "tags": []
          },
          "execution_count": 172
        }
      ]
    },
    {
      "cell_type": "code",
      "metadata": {
        "colab": {
          "base_uri": "https://localhost:8080/"
        },
        "id": "_z_IapKPY5Us",
        "outputId": "64d1ebe0-5b4e-4f0e-bb1f-3ffd55f5fbd7"
      },
      "source": [
        "from sklearn import metrics\n",
        "text_clf.fit(list(X_train), list(y_train))"
      ],
      "execution_count": null,
      "outputs": [
        {
          "output_type": "execute_result",
          "data": {
            "text/plain": [
              "Pipeline(memory=None,\n",
              "         steps=[('vect',\n",
              "                 CountVectorizer(analyzer='word', binary=False,\n",
              "                                 decode_error='strict',\n",
              "                                 dtype=<class 'numpy.int64'>, encoding='utf-8',\n",
              "                                 input='content', lowercase=True, max_df=1.0,\n",
              "                                 max_features=None, min_df=1,\n",
              "                                 ngram_range=(1, 1), preprocessor=None,\n",
              "                                 stop_words=None, strip_accents=None,\n",
              "                                 token_pattern='(?u)\\\\b\\\\w\\\\w+\\\\b',\n",
              "                                 tokenizer=None, vocabulary=None)),\n",
              "                ('tfidf',\n",
              "                 TfidfTransformer(norm='l2', smooth_idf=True,\n",
              "                                  sublinear_tf=False, use_idf=True)),\n",
              "                ('clf',\n",
              "                 MultinomialNB(alpha=1.0, class_prior=None, fit_prior=True))],\n",
              "         verbose=False)"
            ]
          },
          "metadata": {
            "tags": []
          },
          "execution_count": 230
        }
      ]
    },
    {
      "cell_type": "code",
      "metadata": {
        "colab": {
          "base_uri": "https://localhost:8080/"
        },
        "id": "6jKCt_tgaG1L",
        "outputId": "bbe3d655-913f-4c78-ee36-9ea1994fc39e"
      },
      "source": [
        "predicted = text_clf.predict(list(y_test))\n",
        "predicted"
      ],
      "execution_count": null,
      "outputs": [
        {
          "output_type": "execute_result",
          "data": {
            "text/plain": [
              "array(['\"Suez Canal blocked by huge container ship named Evergreen. Evergreen shipping is most likely a cover for human and sex trafficking” by Hillary Clinton.',\n",
              "       '“There’s still (only) a handful of school districts\" doing no in-person instruction.',\n",
              "       'Passports aren’t required to enter the United States from Mexico and Canada.',\n",
              "       ...,\n",
              "       '\"Suez Canal blocked by huge container ship named Evergreen. Evergreen shipping is most likely a cover for human and sex trafficking” by Hillary Clinton.',\n",
              "       '“Sorry Dr Fauci and other fearmongers, new study shows vaccines and naturally acquired immunity DO effectively neutralize COVID variants.”',\n",
              "       '\"Since 2006 Texas has given $19B in taxpayer subsidies to wind energy companies. Over the past 2-3 years Texas has tripled our dependence on wind energy to 23-25 percent of our energy distribution system.\"'],\n",
              "      dtype='<U221')"
            ]
          },
          "metadata": {
            "tags": []
          },
          "execution_count": 231
        }
      ]
    },
    {
      "cell_type": "code",
      "metadata": {
        "colab": {
          "base_uri": "https://localhost:8080/"
        },
        "id": "gRo604W8aRif",
        "outputId": "fa9ac781-b624-42ed-eb34-cebb0c0fd693"
      },
      "source": [
        "print(metrics.classification_report(list(y_train), predicted))"
      ],
      "execution_count": null,
      "outputs": [
        {
          "output_type": "stream",
          "text": [
            "/usr/local/lib/python3.7/dist-packages/sklearn/metrics/_classification.py:1272: UndefinedMetricWarning: Precision and F-score are ill-defined and being set to 0.0 in labels with no predicted samples. Use `zero_division` parameter to control this behavior.\n",
            "  _warn_prf(average, modifier, msg_start, len(result))\n"
          ],
          "name": "stderr"
        },
        {
          "output_type": "stream",
          "text": [
            "                                                                                                                                                                                                                               precision    recall  f1-score   support\n",
            "\n",
            "\"In 2004, George W. Bush lifted the ban on those (AR-15 type) rifles, and since then, the number of massacres has increased 183%. During the ban, there were 12 incidents. Since he lifted the ban, there were 34 incidents.\"       0.03      0.04      0.03      1999\n",
            "                            \"Joe Biden forced the U.S. Attorney for the Eastern District of North Carolina to resign after 24 people were charged with election fraud and the Mainstream Media never even batted an eyelash.\"       0.03      0.13      0.05      1999\n",
            "                \"Since 2006 Texas has given $19B in taxpayer subsidies to wind energy companies. Over the past 2-3 years Texas has tripled our dependence on wind energy to 23-25 percent of our energy distribution system.\"       0.03      0.04      0.03      1999\n",
            "                                                                     \"Suez Canal blocked by huge container ship named Evergreen. Evergreen shipping is most likely a cover for human and sex trafficking” by Hillary Clinton.       0.02      0.02      0.02      1999\n",
            "                                                                                                \"Ted Cruz says owning a gun should be as hassle free as owning a car, which as I recall requires a license and registration.\"       0.01      0.01      0.01      1999\n",
            "                                                                                                                                                           \"There are 43 states that have now passed voter suppression laws.\"       0.03      0.01      0.02      1999\n",
            "                                                       \"We began seeing the increase in unaccompanied minors going back to last April 2020. This is not something that happened as a result of Joe Biden becoming president.”       0.04      0.10      0.06      1999\n",
            "                                                                                                                                             A CNN chyron said the Boulder “shooter was factually Arabic, but morally white.”       0.00      0.00      0.00      1999\n",
            "                                                                                                                 A Georgia law has not “criminalized giving people bottles of water.” It pertains to political organizations.       0.02      0.01      0.01      1999\n",
            "                                                                                                                                                                              Bull sharks were released in an Arkansas river.       0.00      0.00      0.00      1999\n",
            "                                                                                                                                                     Nike and Lil Nas X are launching “demonic shoes” containing human blood.       0.07      0.01      0.02      1999\n",
            "                                                                                                                                                 Passports aren’t required to enter the United States from Mexico and Canada.       0.00      0.00      0.00      1999\n",
            "                                                                                                                                                                 Says Google Earth blocked people from seeing the Suez Canal.       0.02      0.01      0.01      1999\n",
            "                                                                                                                                       Says Jimmy Kimmel, Jimmy Fallon and Stephen Colbert are “still not doing Biden jokes.\"       0.00      0.00      0.00      1999\n",
            "                                                                         Says the suspected Boulder mass shooter is a Muslim \"who entered illegally from Mexico and purchased the firearm from a guy that sells stolen guns.\"       0.07      0.02      0.04      1999\n",
            "                                           Says there was a “28% increase in children to the border in my administration” and “31% … in 2019.” The increase in migration in January, February and March “happens every year.”       0.06      0.08      0.07      1999\n",
            "                                                        The Democratic clean energy plan is pro-China, because \"90% of the solar panels, 80% of the wind machines, 90% of the rare earth minerals … are in Asia or in China.”       0.00      0.00      0.00      1999\n",
            "                                                                                                                   The latest stimulus package \"sends stimulus checks to imprisoned murderers, rapists, and child molesters.”       0.00      0.00      0.00      1999\n",
            "                                                                                                                                            West Virginia “is the only state to decline in population over the last 70 years”       0.04      0.04      0.04      1999\n",
            "                                                                                                       “In a majority of states, new voters are able to obtain a rifle quicker than they’re able to cast their first ballot.”       0.04      0.07      0.05      1999\n",
            "                                                                                                                                    “In a vegan world there would be no pandemics. 100% of pandemics are zoonotic in origin.”       0.03      0.04      0.03      1999\n",
            "                                                                                                                           “Less than 500 people a year killed by all rifles combined” and “4,000 a year killed by illegals.”       0.03      0.05      0.04      1999\n",
            "                                                                                                                                          “Republicans recently passed a bill to eliminate early voting on Sunday” in Georgia       0.04      0.05      0.04      1999\n",
            "                                                                                   “Sorry Dr Fauci and other fearmongers, new study shows vaccines and naturally acquired immunity DO effectively neutralize COVID variants.”       0.03      0.02      0.03      1999\n",
            "                                                                                                                                         “There’s still (only) a handful of school districts\" doing no in-person instruction.       0.03      0.01      0.02      1999\n",
            "                                                                                               “Toxicology report was made public by the MN prosecution revealing the cause of George Floyd’s death was a fentanyl overdose.”       0.02      0.01      0.01      1999\n",
            "                                                            “We had the highest number of (military) sexual assaults ever reported in the last year” and “we had the lowest conviction rate and the lowest prosecution rate.”       0.04      0.04      0.04      1999\n",
            "                                                                                                                                                      “We spent billions on a border wall and quit when it was 90% finished.”       0.00      0.00      0.00      1999\n",
            "                                                                                                                                                      “We’re sending back the vast majority of the families that are coming.”       0.07      0.01      0.02      1999\n",
            "                                                                                                        “You can’t tell me they can (develop a safe vaccine) in eight to 10 months. Or a year. It takes more time than that.”       0.03      0.07      0.05      1999\n",
            "\n",
            "                                                                                                                                                                                                                     accuracy                           0.03     59970\n",
            "                                                                                                                                                                                                                    macro avg       0.03      0.03      0.02     59970\n",
            "                                                                                                                                                                                                                 weighted avg       0.03      0.03      0.02     59970\n",
            "\n"
          ],
          "name": "stdout"
        }
      ]
    },
    {
      "cell_type": "code",
      "metadata": {
        "id": "LMW9nZmoY5Ut"
      },
      "source": [
        "cf_matrix = confusion_matrix(y_train, predicted)"
      ],
      "execution_count": null,
      "outputs": []
    },
    {
      "cell_type": "code",
      "metadata": {
        "colab": {
          "base_uri": "https://localhost:8080/",
          "height": 284
        },
        "id": "naomPAoaY5Ut",
        "outputId": "a86e806c-aab8-48a5-a0ea-ddeae54bee31"
      },
      "source": [
        "import seaborn as sns\n",
        "sns.heatmap(cf_matrix, annot=True)"
      ],
      "execution_count": null,
      "outputs": [
        {
          "output_type": "execute_result",
          "data": {
            "text/plain": [
              "<matplotlib.axes._subplots.AxesSubplot at 0x7f0480e58950>"
            ]
          },
          "metadata": {
            "tags": []
          },
          "execution_count": 234
        },
        {
          "output_type": "display_data",
          "data": {
            "image/png": "[encoded data removed]",
            "text/plain": [
              "<Figure size 432x288 with 2 Axes>"
            ]
          },
          "metadata": {
            "tags": [],
            "needs_background": "light"
          }
        }
      ]
    },
    {
      "cell_type": "code",
      "metadata": {
        "id": "TUvd2dGbY5Ut"
      },
      "source": [
        "# plot_confusion_matrix(text_clf, y_train, predicted)"
      ],
      "execution_count": null,
      "outputs": []
    },
    {
      "cell_type": "code",
      "metadata": {
        "colab": {
          "base_uri": "https://localhost:8080/"
        },
        "id": "Jq-6NPk_Y5Ut",
        "outputId": "6f7f3d1e-4708-4441-8a8e-177cc1ea8893"
      },
      "source": [
        "roc_auc_score(y_train, text_clf.predict_proba(X_train), multi_class='ovr')"
      ],
      "execution_count": null,
      "outputs": [
        {
          "output_type": "execute_result",
          "data": {
            "text/plain": [
              "1.0"
            ]
          },
          "metadata": {
            "tags": []
          },
          "execution_count": 235
        }
      ]
    },
    {
      "cell_type": "markdown",
      "metadata": {
        "id": "Qm5MSe8xlgUZ"
      },
      "source": [
        "## Amalgamated the Fox News to Political and perform Predictions\n",
        "\n",
        "Data Narrative :\n",
        "\n",
        "Accuracy Score = 100%, F1 score = 1."
      ]
    },
    {
      "cell_type": "code",
      "metadata": {
        "id": "JCwuqcmh6JCN"
      },
      "source": [
        "date_politifact = data_politifact['date']\n",
        "statement_politifact = data_politifact['statement']\n",
        "date_foxnews = data_foxnews['date']\n",
        "headline_foxnews = data_foxnews['headline']"
      ],
      "execution_count": null,
      "outputs": []
    },
    {
      "cell_type": "code",
      "metadata": {
        "id": "Dy18ciQm83Ul"
      },
      "source": [
        "date = [date_politifact, date_foxnews]"
      ],
      "execution_count": null,
      "outputs": []
    },
    {
      "cell_type": "code",
      "metadata": {
        "id": "S_R8dV849s4g"
      },
      "source": [
        "date = date_politifact.append(date_foxnews)"
      ],
      "execution_count": null,
      "outputs": []
    },
    {
      "cell_type": "code",
      "metadata": {
        "id": "MncOS71YAtFf"
      },
      "source": [
        "text = [statement_politifact, headline_foxnews]"
      ],
      "execution_count": null,
      "outputs": []
    },
    {
      "cell_type": "code",
      "metadata": {
        "id": "jBBOyYfSBjFQ"
      },
      "source": [
        "text = statement_politifact.append(headline_foxnews)"
      ],
      "execution_count": null,
      "outputs": []
    },
    {
      "cell_type": "code",
      "metadata": {
        "id": "aONotP1CA_Vf"
      },
      "source": [
        "combined_Data = pd.concat([date, text], axis=1)"
      ],
      "execution_count": null,
      "outputs": []
    },
    {
      "cell_type": "code",
      "metadata": {
        "colab": {
          "base_uri": "https://localhost:8080/",
          "height": 111
        },
        "id": "Tof5ayo-D0la",
        "outputId": "9f4e9258-3335-46bd-aeb5-04fd138950d2"
      },
      "source": [
        "combined_Data.head(2)"
      ],
      "execution_count": null,
      "outputs": [
        {
          "output_type": "execute_result",
          "data": {
            "text/html": [
              "<div>\n",
              "<style scoped>\n",
              "    .dataframe tbody tr th:only-of-type {\n",
              "        vertical-align: middle;\n",
              "    }\n",
              "\n",
              "    .dataframe tbody tr th {\n",
              "        vertical-align: top;\n",
              "    }\n",
              "\n",
              "    .dataframe thead th {\n",
              "        text-align: right;\n",
              "    }\n",
              "</style>\n",
              "<table border=\"1\" class=\"dataframe\">\n",
              "  <thead>\n",
              "    <tr style=\"text-align: right;\">\n",
              "      <th></th>\n",
              "      <th>date</th>\n",
              "      <th>0</th>\n",
              "    </tr>\n",
              "  </thead>\n",
              "  <tbody>\n",
              "    <tr>\n",
              "      <th>0</th>\n",
              "      <td>March 30, 2021</td>\n",
              "      <td>“Less than 500 people a year killed by all rif...</td>\n",
              "    </tr>\n",
              "    <tr>\n",
              "      <th>1</th>\n",
              "      <td>March 30, 2021</td>\n",
              "      <td>Says the suspected Boulder mass shooter is a M...</td>\n",
              "    </tr>\n",
              "  </tbody>\n",
              "</table>\n",
              "</div>"
            ],
            "text/plain": [
              "             date                                                  0\n",
              "0  March 30, 2021  “Less than 500 people a year killed by all rif...\n",
              "1  March 30, 2021  Says the suspected Boulder mass shooter is a M..."
            ]
          },
          "metadata": {
            "tags": []
          },
          "execution_count": 51
        }
      ]
    },
    {
      "cell_type": "code",
      "metadata": {
        "id": "klDPihYvD_SH"
      },
      "source": [
        "combined_Data.columns =['date', 'text']"
      ],
      "execution_count": null,
      "outputs": []
    },
    {
      "cell_type": "code",
      "metadata": {
        "colab": {
          "base_uri": "https://localhost:8080/",
          "height": 111
        },
        "id": "ENI3XpplEaSu",
        "outputId": "a679a087-774c-47cb-9e82-53e1148d3324"
      },
      "source": [
        "combined_Data.head(2)"
      ],
      "execution_count": null,
      "outputs": [
        {
          "output_type": "execute_result",
          "data": {
            "text/html": [
              "<div>\n",
              "<style scoped>\n",
              "    .dataframe tbody tr th:only-of-type {\n",
              "        vertical-align: middle;\n",
              "    }\n",
              "\n",
              "    .dataframe tbody tr th {\n",
              "        vertical-align: top;\n",
              "    }\n",
              "\n",
              "    .dataframe thead th {\n",
              "        text-align: right;\n",
              "    }\n",
              "</style>\n",
              "<table border=\"1\" class=\"dataframe\">\n",
              "  <thead>\n",
              "    <tr style=\"text-align: right;\">\n",
              "      <th></th>\n",
              "      <th>date</th>\n",
              "      <th>text</th>\n",
              "    </tr>\n",
              "  </thead>\n",
              "  <tbody>\n",
              "    <tr>\n",
              "      <th>0</th>\n",
              "      <td>March 30, 2021</td>\n",
              "      <td>“Less than 500 people a year killed by all rif...</td>\n",
              "    </tr>\n",
              "    <tr>\n",
              "      <th>1</th>\n",
              "      <td>March 30, 2021</td>\n",
              "      <td>Says the suspected Boulder mass shooter is a M...</td>\n",
              "    </tr>\n",
              "  </tbody>\n",
              "</table>\n",
              "</div>"
            ],
            "text/plain": [
              "             date                                               text\n",
              "0  March 30, 2021  “Less than 500 people a year killed by all rif...\n",
              "1  March 30, 2021  Says the suspected Boulder mass shooter is a M..."
            ]
          },
          "metadata": {
            "tags": []
          },
          "execution_count": 53
        }
      ]
    },
    {
      "cell_type": "code",
      "metadata": {
        "colab": {
          "base_uri": "https://localhost:8080/",
          "height": 173
        },
        "id": "PXZv0yk9D14K",
        "outputId": "8e586ea7-1495-45f4-8bab-2ddf689e38fd"
      },
      "source": [
        "combined_Data.describe()"
      ],
      "execution_count": null,
      "outputs": [
        {
          "output_type": "execute_result",
          "data": {
            "text/html": [
              "<div>\n",
              "<style scoped>\n",
              "    .dataframe tbody tr th:only-of-type {\n",
              "        vertical-align: middle;\n",
              "    }\n",
              "\n",
              "    .dataframe tbody tr th {\n",
              "        vertical-align: top;\n",
              "    }\n",
              "\n",
              "    .dataframe thead th {\n",
              "        text-align: right;\n",
              "    }\n",
              "</style>\n",
              "<table border=\"1\" class=\"dataframe\">\n",
              "  <thead>\n",
              "    <tr style=\"text-align: right;\">\n",
              "      <th></th>\n",
              "      <th>date</th>\n",
              "      <th>text</th>\n",
              "    </tr>\n",
              "  </thead>\n",
              "  <tbody>\n",
              "    <tr>\n",
              "      <th>count</th>\n",
              "      <td>391970</td>\n",
              "      <td>391970</td>\n",
              "    </tr>\n",
              "    <tr>\n",
              "      <th>unique</th>\n",
              "      <td>16</td>\n",
              "      <td>159</td>\n",
              "    </tr>\n",
              "    <tr>\n",
              "      <th>top</th>\n",
              "      <td>2021-04-18</td>\n",
              "      <td>Minnesota armed carjacker points gun at vehicl...</td>\n",
              "    </tr>\n",
              "    <tr>\n",
              "      <th>freq</th>\n",
              "      <td>190000</td>\n",
              "      <td>6000</td>\n",
              "    </tr>\n",
              "  </tbody>\n",
              "</table>\n",
              "</div>"
            ],
            "text/plain": [
              "              date                                               text\n",
              "count       391970                                             391970\n",
              "unique          16                                                159\n",
              "top     2021-04-18  Minnesota armed carjacker points gun at vehicl...\n",
              "freq        190000                                               6000"
            ]
          },
          "metadata": {
            "tags": []
          },
          "execution_count": 54
        }
      ]
    },
    {
      "cell_type": "code",
      "metadata": {
        "colab": {
          "base_uri": "https://localhost:8080/",
          "height": 419
        },
        "id": "6K3Y-1KD9jNx",
        "outputId": "e2d70e40-b113-4b49-9c7d-b3b86fd54e87"
      },
      "source": [
        "combined_Data"
      ],
      "execution_count": null,
      "outputs": [
        {
          "output_type": "execute_result",
          "data": {
            "text/html": [
              "<div>\n",
              "<style scoped>\n",
              "    .dataframe tbody tr th:only-of-type {\n",
              "        vertical-align: middle;\n",
              "    }\n",
              "\n",
              "    .dataframe tbody tr th {\n",
              "        vertical-align: top;\n",
              "    }\n",
              "\n",
              "    .dataframe thead th {\n",
              "        text-align: right;\n",
              "    }\n",
              "</style>\n",
              "<table border=\"1\" class=\"dataframe\">\n",
              "  <thead>\n",
              "    <tr style=\"text-align: right;\">\n",
              "      <th></th>\n",
              "      <th>date</th>\n",
              "      <th>text</th>\n",
              "    </tr>\n",
              "  </thead>\n",
              "  <tbody>\n",
              "    <tr>\n",
              "      <th>0</th>\n",
              "      <td>March 30, 2021</td>\n",
              "      <td>“Less than 500 people a year killed by all rif...</td>\n",
              "    </tr>\n",
              "    <tr>\n",
              "      <th>1</th>\n",
              "      <td>March 30, 2021</td>\n",
              "      <td>Says the suspected Boulder mass shooter is a M...</td>\n",
              "    </tr>\n",
              "    <tr>\n",
              "      <th>2</th>\n",
              "      <td>March 30, 2021</td>\n",
              "      <td>“Toxicology report was made public by the MN p...</td>\n",
              "    </tr>\n",
              "    <tr>\n",
              "      <th>3</th>\n",
              "      <td>March 30, 2021</td>\n",
              "      <td>Says Jimmy Kimmel, Jimmy Fallon and Stephen Co...</td>\n",
              "    </tr>\n",
              "    <tr>\n",
              "      <th>4</th>\n",
              "      <td>March 29, 2021</td>\n",
              "      <td>Says Google Earth blocked people from seeing t...</td>\n",
              "    </tr>\n",
              "    <tr>\n",
              "      <th>...</th>\n",
              "      <td>...</td>\n",
              "      <td>...</td>\n",
              "    </tr>\n",
              "    <tr>\n",
              "      <th>331995</th>\n",
              "      <td>2021-04-18</td>\n",
              "      <td>Minnesota armed carjacker points gun at vehicl...</td>\n",
              "    </tr>\n",
              "    <tr>\n",
              "      <th>331996</th>\n",
              "      <td>2021-04-18</td>\n",
              "      <td>Houston police say crystal meth found in break...</td>\n",
              "    </tr>\n",
              "    <tr>\n",
              "      <th>331997</th>\n",
              "      <td>2021-04-18</td>\n",
              "      <td>Minneapolis drive-by shooting leaves 2 Nationa...</td>\n",
              "    </tr>\n",
              "    <tr>\n",
              "      <th>331998</th>\n",
              "      <td>2021-04-18</td>\n",
              "      <td>Man charged with attacking undercover NYPD cop...</td>\n",
              "    </tr>\n",
              "    <tr>\n",
              "      <th>331999</th>\n",
              "      <td>2021-04-18</td>\n",
              "      <td>Portland church damaged in riot says cost of r...</td>\n",
              "    </tr>\n",
              "  </tbody>\n",
              "</table>\n",
              "<p>391970 rows × 2 columns</p>\n",
              "</div>"
            ],
            "text/plain": [
              "                  date                                               text\n",
              "0       March 30, 2021  “Less than 500 people a year killed by all rif...\n",
              "1       March 30, 2021  Says the suspected Boulder mass shooter is a M...\n",
              "2       March 30, 2021  “Toxicology report was made public by the MN p...\n",
              "3       March 30, 2021  Says Jimmy Kimmel, Jimmy Fallon and Stephen Co...\n",
              "4       March 29, 2021  Says Google Earth blocked people from seeing t...\n",
              "...                ...                                                ...\n",
              "331995      2021-04-18  Minnesota armed carjacker points gun at vehicl...\n",
              "331996      2021-04-18  Houston police say crystal meth found in break...\n",
              "331997      2021-04-18  Minneapolis drive-by shooting leaves 2 Nationa...\n",
              "331998      2021-04-18  Man charged with attacking undercover NYPD cop...\n",
              "331999      2021-04-18  Portland church damaged in riot says cost of r...\n",
              "\n",
              "[391970 rows x 2 columns]"
            ]
          },
          "metadata": {
            "tags": []
          },
          "execution_count": 55
        }
      ]
    },
    {
      "cell_type": "markdown",
      "metadata": {
        "id": "btCCHZu-u9Pd"
      },
      "source": [
        "### Amalgamated Training Pipeline Politifact with Test Prediction Fox News\n",
        "\n",
        "Data Narrative : \n",
        "\n",
        "Accuracy score = 3%.\n",
        "\n",
        "F1 score for each trained text samples range from 1% to 7% score."
      ]
    },
    {
      "cell_type": "code",
      "metadata": {
        "id": "jRq1lsgZu890"
      },
      "source": [
        "from sklearn.model_selection import train_test_split\n",
        "X = combined_Data['text']\n",
        "y = combined_Data['text']\n",
        "\n",
        "X_train, X_test, y_train, y_test = train_test_split(X, y, test_size = 0.20, random_state=0)"
      ],
      "execution_count": null,
      "outputs": []
    },
    {
      "cell_type": "code",
      "metadata": {
        "id": "jEyifb95u9Pd"
      },
      "source": [
        "from sklearn.pipeline import Pipeline\n",
        "from sklearn.naive_bayes import MultinomialNB\n",
        "from sklearn.feature_extraction.text import CountVectorizer\n",
        "from sklearn.feature_extraction.text import TfidfTransformer\n",
        "from sklearn.metrics import classification_report\n",
        "from sklearn.metrics import plot_confusion_matrix\n",
        "from sklearn.metrics import confusion_matrix\n",
        "import matplotlib.pyplot as plt  \n",
        "from sklearn.metrics import roc_auc_score\n",
        "from sklearn.metrics import plot_roc_curve\n",
        "text_clf = Pipeline([\n",
        "     ('vect', CountVectorizer()),\n",
        "     ('tfidf', TfidfTransformer()),\n",
        "     ('clf', MultinomialNB()),\n",
        "])"
      ],
      "execution_count": null,
      "outputs": []
    },
    {
      "cell_type": "code",
      "metadata": {
        "colab": {
          "base_uri": "https://localhost:8080/"
        },
        "id": "OXwOBwBtu9Pe",
        "outputId": "c01c7f95-5edc-4dc5-c335-ca5a5b2d2f0f"
      },
      "source": [
        "text_clf.fit(X_train, y_train )"
      ],
      "execution_count": null,
      "outputs": [
        {
          "output_type": "execute_result",
          "data": {
            "text/plain": [
              "Pipeline(memory=None,\n",
              "         steps=[('vect',\n",
              "                 CountVectorizer(analyzer='word', binary=False,\n",
              "                                 decode_error='strict',\n",
              "                                 dtype=<class 'numpy.int64'>, encoding='utf-8',\n",
              "                                 input='content', lowercase=True, max_df=1.0,\n",
              "                                 max_features=None, min_df=1,\n",
              "                                 ngram_range=(1, 1), preprocessor=None,\n",
              "                                 stop_words=None, strip_accents=None,\n",
              "                                 token_pattern='(?u)\\\\b\\\\w\\\\w+\\\\b',\n",
              "                                 tokenizer=None, vocabulary=None)),\n",
              "                ('tfidf',\n",
              "                 TfidfTransformer(norm='l2', smooth_idf=True,\n",
              "                                  sublinear_tf=False, use_idf=True)),\n",
              "                ('clf',\n",
              "                 MultinomialNB(alpha=1.0, class_prior=None, fit_prior=True))],\n",
              "         verbose=False)"
            ]
          },
          "metadata": {
            "tags": []
          },
          "execution_count": 285
        }
      ]
    },
    {
      "cell_type": "code",
      "metadata": {
        "colab": {
          "base_uri": "https://localhost:8080/"
        },
        "id": "0_MBTCjFu9Pf",
        "outputId": "9cc9b391-c863-4111-9bb1-5a2de13caecb"
      },
      "source": [
        "from sklearn import metrics\n",
        "text_clf.fit(list(X_train), list(y_train))"
      ],
      "execution_count": null,
      "outputs": [
        {
          "output_type": "execute_result",
          "data": {
            "text/plain": [
              "Pipeline(memory=None,\n",
              "         steps=[('vect',\n",
              "                 CountVectorizer(analyzer='word', binary=False,\n",
              "                                 decode_error='strict',\n",
              "                                 dtype=<class 'numpy.int64'>, encoding='utf-8',\n",
              "                                 input='content', lowercase=True, max_df=1.0,\n",
              "                                 max_features=None, min_df=1,\n",
              "                                 ngram_range=(1, 1), preprocessor=None,\n",
              "                                 stop_words=None, strip_accents=None,\n",
              "                                 token_pattern='(?u)\\\\b\\\\w\\\\w+\\\\b',\n",
              "                                 tokenizer=None, vocabulary=None)),\n",
              "                ('tfidf',\n",
              "                 TfidfTransformer(norm='l2', smooth_idf=True,\n",
              "                                  sublinear_tf=False, use_idf=True)),\n",
              "                ('clf',\n",
              "                 MultinomialNB(alpha=1.0, class_prior=None, fit_prior=True))],\n",
              "         verbose=False)"
            ]
          },
          "metadata": {
            "tags": []
          },
          "execution_count": 286
        }
      ]
    },
    {
      "cell_type": "code",
      "metadata": {
        "colab": {
          "base_uri": "https://localhost:8080/"
        },
        "id": "-34Mijg8u9Pf",
        "outputId": "db02e901-7a20-4bb7-e333-7ade65ed3171"
      },
      "source": [
        "predicted = text_clf.predict(list(y_test))\n",
        "predicted"
      ],
      "execution_count": null,
      "outputs": [
        {
          "output_type": "execute_result",
          "data": {
            "text/plain": [
              "array(['\"We began seeing the increase in unaccompanied minors going back to last April 2020. This is not something that happened as a result of Joe Biden becoming president.”',\n",
              "       'Garden gnome shortage strikes due to pandemic and Suez Canal blockage',\n",
              "       '“We spent billions on a border wall and quit when it was 90% finished.”',\n",
              "       ..., 'New York coronavirus restrictions keeping dojo shuttered',\n",
              "       'Kamala Harris has gone 25 days without a news conference since being tapped for border crisis role',\n",
              "       \"McDonald's worker puts up sign in drive-thru to explain their slow service\"],\n",
              "      dtype='<U221')"
            ]
          },
          "metadata": {
            "tags": []
          },
          "execution_count": 287
        }
      ]
    },
    {
      "cell_type": "code",
      "metadata": {
        "colab": {
          "base_uri": "https://localhost:8080/"
        },
        "id": "QD2RVDmbu9Pg",
        "outputId": "0bea39dc-562b-4f32-90c2-b5d240e3e65c"
      },
      "source": [
        "print(metrics.classification_report(list(y_test), predicted))"
      ],
      "execution_count": null,
      "outputs": [
        {
          "output_type": "stream",
          "text": [
            "                                                                                                                                                                                                                               precision    recall  f1-score   support\n",
            "\n",
            "\"In 2004, George W. Bush lifted the ban on those (AR-15 type) rifles, and since then, the number of massacres has increased 183%. During the ban, there were 12 incidents. Since he lifted the ban, there were 34 incidents.\"       1.00      1.00      1.00       378\n",
            "                            \"Joe Biden forced the U.S. Attorney for the Eastern District of North Carolina to resign after 24 people were charged with election fraud and the Mainstream Media never even batted an eyelash.\"       1.00      1.00      1.00       379\n",
            "                \"Since 2006 Texas has given $19B in taxpayer subsidies to wind energy companies. Over the past 2-3 years Texas has tripled our dependence on wind energy to 23-25 percent of our energy distribution system.\"       1.00      1.00      1.00       372\n",
            "                                                                     \"Suez Canal blocked by huge container ship named Evergreen. Evergreen shipping is most likely a cover for human and sex trafficking” by Hillary Clinton.       1.00      1.00      1.00       432\n",
            "                                                                                                \"Ted Cruz says owning a gun should be as hassle free as owning a car, which as I recall requires a license and registration.\"       1.00      1.00      1.00       396\n",
            "                                                                                                                                                           \"There are 43 states that have now passed voter suppression laws.\"       1.00      1.00      1.00       416\n",
            "                                                       \"We began seeing the increase in unaccompanied minors going back to last April 2020. This is not something that happened as a result of Joe Biden becoming president.”       1.00      1.00      1.00       399\n",
            "                                                                                                                   'Black Panther II' will still film in Georgia despite Ryan Coogler's opposition to the state's voting laws       1.00      1.00      1.00       769\n",
            "                                                                                                                               'Creature' lurking in tree terrorizing Poland town turns out to be a croissant stuck in a tree       1.00      1.00      1.00       810\n",
            "                                                                                                                                'Real life Rapunzel' teen with world’s longest locks cuts her hair for first time in 12 years       1.00      1.00      1.00       405\n",
            "                                                                                                                                          'Short shorts' for men gets applauded on social media as the trend makes a comeback       1.00      1.00      1.00       398\n",
            "                                                                                                                                              6-year-old gets hero's welcome back to school after completing cancer treatment       1.00      1.00      1.00       727\n",
            "                                                                                                                                                                  7 useful tools for a quick and easy digital spring cleaning       1.00      1.00      1.00       395\n",
            "                                                                                                                                             A CNN chyron said the Boulder “shooter was factually Arabic, but morally white.”       1.00      1.00      1.00       395\n",
            "                                                                                                                 A Georgia law has not “criminalized giving people bottles of water.” It pertains to political organizations.       1.00      1.00      1.00       375\n",
            "                                                                                                                                           Alma Wahlberg, mom of actors Mark and Donnie and star of 'Wahlburgers,' dead at 78       1.00      1.00      1.00      1230\n",
            "                                                                                                                                                                   Amazon, Apple, Microsoft among top brands used by scammers       1.00      1.00      1.00       382\n",
            "                                                                                                                Babylon Bee editor in chief scolds Samantha Bee for pulling punches on Biden: 'Blinded by your own worldview'       1.00      1.00      1.00       808\n",
            "                                                                                                                                                                          Bam! Adebayo's jumper lifts Heat past Nets, 109-107       1.00      1.00      1.00       397\n",
            "                                                                                                                                           Ben Askren's reaction post-match goes viral after getting knocked out by Jake Paul       1.00      1.00      1.00       411\n",
            "                                                                                                                      Biden created 'catastrophe' at southern border by 'dismantling' Trump’s policies: Florida Gov. DeSantis       1.00      1.00      1.00       782\n",
            "                                                                                                                                                                 Bitcoin slumps 14% as pullback from record high gathers pace       1.00      1.00      1.00       408\n",
            "                                                                                                                                        Bride asks Facebook if it's OK to make 9-year-old don shapewear with her 'snug' dress       1.00      1.00      1.00       395\n",
            "                                                                                                                                                           Bubble tea shortage hits US, could last for several months: report       1.00      1.00      1.00       410\n",
            "                                                                                                                                  Budweiser gives free beer for COVID-19 vaccine, following Sam Adams, Krispy Kreme giveaways       1.00      1.00      1.00       420\n",
            "                                                                                                                                                                              Bull sharks were released in an Arkansas river.       1.00      1.00      1.00       350\n",
            "                                                                                                                                                                                    CDC to meet to discuss J&J vaccine safety       1.00      1.00      1.00       394\n",
            "                                                                                                                                                              CNN'S Chris Cuomo says White kids need to die for police reform       1.00      1.00      1.00       398\n",
            "                                                                                                                                                                                       Cancel culture in America’s classrooms       1.00      1.00      1.00       419\n",
            "                                                                                                                                               Candace Owen encourages parents to sue schools for ‘ruining lives’ of children       1.00      1.00      1.00       827\n",
            "                                                                                                                                 Cassie Randolph thanks fans for their support after her ex Colton Underwood comes out as gay       1.00      1.00      1.00       787\n",
            "                                                                                                                                    Chicago mayor slams 'trash' rumors, indicates she won't resign after Adam Toledo shooting       1.00      1.00      1.00       413\n",
            "                                                                                                                                                                              China accuses US, Japan of 'ganging' up on them       1.00      1.00      1.00       396\n",
            "                                                                                                                                                                      Cink-cess! 47-year-old Cink wins 3rd RBC Heritage title       1.00      1.00      1.00       392\n",
            "                                                                                                                                       Coast Guard recovers 2 more bodies off Louisiana coast following Seacor Power disaster       1.00      1.00      1.00       379\n",
            "                                                                                                                       Dave and Ann Wilson: It's what every parent fears – I've messed up my kids. Here's what happened to us       1.00      1.00      1.00       398\n",
            "                                                                                                                                                       Deadly Texas crash involving Tesla worth $80,000 sparks four hour fire       1.00      1.00      1.00       396\n",
            "                                                                                                                                                    Details emerge on how FedEx shooter obtained guns despite family concerns       1.00      1.00      1.00       385\n",
            "                                                                                                                                                    Eli Steele: Georgia's political confusion sparks pain for everyday people       1.00      1.00      1.00       410\n",
            "                                                                                                                                          Fashion brand ASOS praised for featuring model with cochlear implant in earrings ad       1.00      1.00      1.00       396\n",
            "                                                                                                                              Fauci expects Johnson & Johnson vaccine decision Friday, return with 'warning' or 'restriction'       1.00      1.00      1.00       805\n",
            "                                                                                                                                     Fauci, pressed on why vaccinated people still need to wear masks, hints change is coming       1.00      1.00      1.00       782\n",
            "                                                                                                                                                         Florida Keys to see release of first genetically modified mosquitoes       1.00      1.00      1.00       388\n",
            "                                                                                                                                                     Florida deputy hit by passing truck during traffic stop caught on camera       1.00      1.00      1.00       403\n",
            "                                                                                                                                           Florida man drives lawn mower across state on mission to help Habitat for Humanity       1.00      1.00      1.00       378\n",
            "                                                                                                                                                                                          Fox News @ Night - Friday, April 16       1.00      1.00      1.00       425\n",
            "                                                                                                                                                     Fox News Books’ ‘The Women of the Bible Speak’ sits atop bestseller list       1.00      1.00      1.00       404\n",
            "                                                                                                                                                        Garden gnome shortage strikes due to pandemic and Suez Canal blockage       1.00      1.00      1.00       805\n",
            "                                                                                                                     Greg Laurie: Legendary Billy Graham – 10 things that will surprise you about the world-famous evangelist       1.00      1.00      1.00       401\n",
            "                                                                                                                                                             Grocery chain closes two stores in city that required 'hero pay'       1.00      1.00      1.00       387\n",
            "                                                                                                                                    Groom's brother-in-law locks children in room during wedding because he doesn't like kids       1.00      1.00      1.00       418\n",
            "                                                                                                                                                                   Half of US adults have received at least one COVID-19 shot       1.00      1.00      1.00       781\n",
            "                                                                                                                                                                                                   Hannity - Friday, April 16       1.00      1.00      1.00       395\n",
            "                                                                                                                                                                     Have $100,000 in student debt? 5 ways to help pay it off       1.00      1.00      1.00       849\n",
            "                                                                                                                   Hayley Hasselhoff, David Hasselhoff’s daughter, becomes first curve model to land a European Playboy cover       1.00      1.00      1.00       416\n",
            "                                                                                                                    Hooters girl Madison Novo says childhood health battle inspired her to give back: ‘It really changes you’       1.00      1.00      1.00       402\n",
            "                                                                                                                                                                   Houston police say crystal meth found in breakfast burrito       1.00      1.00      1.00       819\n",
            "                                                                                                                                                         Hundreds of migrant girls 13-17 abruptly moved out of Texas facility       1.00      1.00      1.00       423\n",
            "                                                                                                                                      Illinois homeowner discovers underground tunnel older than his house under his property       1.00      1.00      1.00       395\n",
            "                                                                                                                                                   IndyCar season opens Sunday with Jimmie Johnson at Barber Motorsports Park       1.00      1.00      1.00       400\n",
            "                                                                                                                                                                   Insider ripped for piece victimizing teachers during COVID       1.00      1.00      1.00      1219\n",
            "                                                                                                                                     Instagram fixes function that promoted harmful diet terms to users with eating disorders       1.00      1.00      1.00       787\n",
            "                                                                                                                                                                  Is mortgage refinancing still worth pursuing as rates rise?       1.00      1.00      1.00       849\n",
            "                                                                                                                                                              Israel drops outdoor mask mandate with 80% of adults vaccinated       1.00      1.00      1.00       411\n",
            "                                                                                                                                       Italian right-wing leader Salvini to go on trial for not allowing migrant ship to dock       1.00      1.00      1.00       412\n",
            "                                                                                                                                                           J&J COVID-19 vaccine was paused over blood-clot treatment concerns       1.00      1.00      1.00       437\n",
            "                                                                                                                        Janice Dean: Cuomo, COVID and the anniversary of my mother-in-law's death – why this week was so hard       1.00      1.00      1.00       417\n",
            "                                                                                                                               Jayne Mansfield’s children say ‘50s blonde bombshell ‘cared so much about being a good mother’       1.00      1.00      1.00       387\n",
            "                                                                                                                    Jonathan Turley: Trump vs. Waters – in incitement case, she may be best witness in ex-president's defense       1.00      1.00      1.00       397\n",
            "                                                                                                                                                                                Journal Editorial Report - Saturday, April 17       1.00      1.00      1.00       398\n",
            "                                                                                                                           Kamala Harris has gone 25 days without a news conference since being tapped for border crisis role       1.00      1.00      1.00       384\n",
            "                                                                                                                                       Katy Perry and Orlando Bloom's ex-wife Miranda Kerr discuss their 'close' relationship       1.00      1.00      1.00       398\n",
            "                                                                                                                                                     Kraft is giving away cheese-scented incense so fans can ‘breathe cheesy’       1.00      1.00      1.00       413\n",
            "                                                                                                                                        LA Board of Education members eat, check phones while mom pleads for school reopening       1.00      1.00      1.00       368\n",
            "                                                                                                                               LeBron James, Lakers won't visit President Biden at White House during trip to Washington D.C.       1.00      1.00      1.00       413\n",
            "                                                                                                                                LinkedIn's company-wide week off a no 'strings attached' refresher as employers fight burnout       1.00      1.00      1.00       385\n",
            "                                                                                                                                  Makeup artist transforms herself into A-list celebs, claims she's even fooled her boyfriend       1.00      1.00      1.00       364\n",
            "                                                                                                                                                         Man charged with attacking undercover NYPD cop released without bail       1.00      1.00      1.00      1233\n",
            "                                                                                                               Mart Green: Mission of biblical proportions – this is how we're taking God's Word to every corner of the world       1.00      1.00      1.00       374\n",
            "                                                                                                                                                                          Martha MacCallum: Goodnight, sweet and salty prince       1.00      1.00      1.00       382\n",
            "                                                                                                                                                 Maui to require two COVID-19 tests for travelers to bypass 10-day quarantine       1.00      1.00      1.00       366\n",
            "                                                                                                                                                   McDonald's worker puts up sign in drive-thru to explain their slow service       1.00      1.00      1.00       389\n",
            "                                                                                                                             Media question why Queen Elizabeth II didn't cry at husband Prince Philip's funeral, but she did       1.00      1.00      1.00       407\n",
            "                                                                                                                                                        Minneapolis drive-by shooting leaves 2 National Guard members injured       1.00      1.00      1.00      1190\n",
            "                                                                                                                                  Minnesota armed carjacker points gun at vehicle during police pursuit, chilling video shows       1.00      1.00      1.00      1155\n",
            "                                                                                                                       Missing California hiker found safe after public helps rescuers trace location of photo he sent friend       1.00      1.00      1.00       405\n",
            "                                                                                                                                                                  Moran HR, RBI double in 10th leads Pirates over Brewers 6-5       1.00      1.00      1.00       354\n",
            "                                                                                                                                                                           Netflix, Johnson & Johnson earnings top week ahead       1.00      1.00      1.00       382\n",
            "                                                                                                                                      New Jersey server receives almost $2G after customer refuses to tip over COVID-19 rules       1.00      1.00      1.00       405\n",
            "                                                                                                                                                                     New York coronavirus restrictions keeping dojo shuttered       1.00      1.00      1.00       407\n",
            "                                                                                                                Newt Gingrich: Crisis of American civilization – here's what we must do to oppose forces trying to destroy US       1.00      1.00      1.00       421\n",
            "                                                                                                                                                     Nike and Lil Nas X are launching “demonic shoes” containing human blood.       1.00      1.00      1.00       431\n",
            "                                                                                                                            Ohio River boat-barge collision after Louisville fireworks show leaves 1 dead, 2 missing: reports       1.00      1.00      1.00       362\n",
            "                                                                                                                                                     Old Florida jail with 'visible and audible paranormal activity' for sale       1.00      1.00      1.00       414\n",
            "                                                                                                                          Ontario retracts new coronavirus restrictions that banned playgrounds, involved police after outcry       1.00      1.00      1.00       410\n",
            "                                                                                                                                               Oregon officials weigh mandating COVID-19 rules in all businesses indefinitely       1.00      1.00      1.00       381\n",
            "                                                                                                                                                                          Pandemic-weary chefs, cooks enjoy serving from home       1.00      1.00      1.00       427\n",
            "                                                                                                                                                            Panera unveils a 'Bread Bowl Bike' sweepstakes ahead of Earth Day       1.00      1.00      1.00       394\n",
            "                                                                                                                                       Paris Hilton says the 2004 sex tape was a betrayal of her trust: 'People were so mean'       1.00      1.00      1.00       408\n",
            "                                                                                                                                                 Passports aren’t required to enter the United States from Mexico and Canada.       1.00      1.00      1.00       422\n",
            "                                                                                                                                                     Photo catches Queen in rare moment of emotion at Prince Philip's funeral       1.00      1.00      1.00       419\n",
            "                                                                                                                                                                           Political cartoon of the day: State of emergencies       1.00      1.00      1.00       396\n",
            "                                                                                                                                Portland church damaged in riot says cost of repairs will take away from feeding the homeless       1.00      1.00      1.00      1193\n",
            "                                                                                                                                                                     Postcard from Titanic hero to sister sells for big bucks       1.00      1.00      1.00       405\n",
            "                                                                                                                 Prince Philip enjoyed meeting children because ‘they weren’t impressed by him,’ source says: ‘He loved that’       1.00      1.00      1.00       427\n",
            "                                                                                                                                                            Prince William asked to not walk beside Harry at Philip’s funeral       1.00      1.00      1.00       799\n",
            "                                                                                                                    Prince William, Kate Middleton honor 'devoted consort' Prince Philip on Twitter shortly after his funeral       1.00      1.00      1.00       857\n",
            "                                                                                                                                                           Queen Elizabeth seen wiping tears away after Prince Philip funeral       1.00      1.00      1.00       395\n",
            "                                                                                                                                                                      Rangers finish off four-game sweep of New Jersey Devils       1.00      1.00      1.00       422\n",
            "                                                                                                                                                      Rep. Devin Nunes: China's 'laughing' at Biden admin over foreign policy       1.00      1.00      1.00       412\n",
            "                                                                                                                                                                                 Reporter's Notebook: The passing of a prince       1.00      1.00      1.00       421\n",
            "                                                                                                                                              Retired Adm. William McRaven shares military experience in book ‘The Hero Code’       1.00      1.00      1.00       377\n",
            "                                                                                                                             Royal Caribbean sends ships to St. Vincent to assist with evacuations amid La Soufriere eruption       1.00      1.00      1.00       370\n",
            "                                                                                                                                                        SEE IT: Harrowing shootout between armed suspect, cop with steady aim       1.00      1.00      1.00       410\n",
            "                                                                                                                                                                 Says Google Earth blocked people from seeing the Suez Canal.       1.00      1.00      1.00       406\n",
            "                                                                                                                                       Says Jimmy Kimmel, Jimmy Fallon and Stephen Colbert are “still not doing Biden jokes.\"       1.00      1.00      1.00       384\n",
            "                                                                         Says the suspected Boulder mass shooter is a Muslim \"who entered illegally from Mexico and purchased the firearm from a guy that sells stolen guns.\"       1.00      1.00      1.00       405\n",
            "                                           Says there was a “28% increase in children to the border in my administration” and “31% … in 2019.” The increase in migration in January, February and March “happens every year.”       1.00      1.00      1.00       407\n",
            "                                                                                                                                                           Sen. Tim Scott predicts the economy will 'explode' later this year       1.00      1.00      1.00       404\n",
            "                                                                                                                                                   Simona de Silvestro returning to Indy 500 with female-operated racing team       1.00      1.00      1.00       414\n",
            "                                                                                                                                Soldiers from all over square off in grueling 'Best Ranger' competition after pandemic hiatus       1.00      1.00      1.00       374\n",
            "                                                                                                                                                                South Florida restaurant buys robots to fight staffing issues       1.00      1.00      1.00       773\n",
            "                                                                                                                          Stephen Miller stresses importance of immigration reform lawsuits: 'Innocent people' will be killed       1.00      1.00      1.00       386\n",
            "                                                                                                                                                                    Stroman's 8 innings, backhand grab lift Mets over Rox 2-1       1.00      1.00      1.00       391\n",
            "                                                                                                                                                                 Sunday Morning Futures w/ Maria Bartiromo - Sunday, April 18       1.00      1.00      1.00       385\n",
            "                                                                                                                                              Supreme Court rules against California's limits on in-home religious gatherings       1.00      1.00      1.00       413\n",
            "                                                                                                                                                     Tennessee angler reels in 30-year-old sturgeon while fishing for catfish       1.00      1.00      1.00       383\n",
            "                                                                                                                                                 Test drive: The 2021 Dodge Durango SRT Hellcat is the most powerful SUV ever       1.00      1.00      1.00       407\n",
            "                                                                                                                 Texas McDonald's drive-thru customer on her viral video showing sign asking for patience amid staffing issue       1.00      1.00      1.00       751\n",
            "                                                                                                                                              Texas homeless man gets job, support after stranger's generosity: 'God is good'       1.00      1.00      1.00       816\n",
            "                                                        The Democratic clean energy plan is pro-China, because \"90% of the solar panels, 80% of the wind machines, 90% of the rare earth minerals … are in Asia or in China.”       1.00      1.00      1.00       435\n",
            "                                                                                                                                                                                        The Ingraham Angle - Friday, April 16       1.00      1.00      1.00       398\n",
            "                                                                                                                   The latest stimulus package \"sends stimulus checks to imprisoned murderers, rapists, and child molesters.”       1.00      1.00      1.00       406\n",
            "                                                                                                                                           TikTok's 'honeycomb pasta' is the latest viral food trend, social media is divided       1.00      1.00      1.00       437\n",
            "                                                                                                                Tina Turner documentary fails to examine her absence as a mother, source says: 'She doesn't speak to anybody'       1.00      1.00      1.00       399\n",
            "                                                                                                                                               Today's mortgage rates plummet below 3%, fall to a 60-day low | April 16, 2021       1.00      1.00      1.00       796\n",
            "                                                                                                               Today's mortgage refinance rates: 30-year rates plunge below 3% for the first time in 34 days | April 16, 2021       1.00      1.00      1.00       787\n",
            "                                                                                                                                                          WATCH: County officials ignore mother pleading for school reopening       1.00      1.00      1.00       381\n",
            "                                                                                                                                                     WATCH: HS basketball referee violently body slammed — then it gets worse       1.00      1.00      1.00       378\n",
            "                                                                                                                                            West Virginia “is the only state to decline in population over the last 70 years”       1.00      1.00      1.00       436\n",
            "                                                                                                                                                                Why college students should open a high-yield savings account       1.00      1.00      1.00      1275\n",
            "                                                                                                                                           Wisconsin police arrest suspect wanted for deadly shooting at Kenosha lakeside bar       1.00      1.00      1.00       384\n",
            "                                                                                                                                         Woman covers Lyft, Uber rides to help Asian residents in New Yorkers get home safely       1.00      1.00      1.00       784\n",
            "                                                                                                                                                       Woman shows off pants almost as tall as she is in online shopping fail       1.00      1.00      1.00       389\n",
            "                                                                                                                                                          Worldwide COVID death toll tops 3 million: Johns Hopkins University       1.00      1.00      1.00       401\n",
            "                                                                                                                                                                     You could win! Play in $10,000 FOX Bet Super 6 Quiz Show       1.00      1.00      1.00       385\n",
            "                                                                                                                                                                                               ‘Russian bounty’ saga unravels       1.00      1.00      1.00       387\n",
            "                                                                                                               ‘Sister Wives’ star Robyn Brown tells husband Kody she’s sometimes ‘baby hungry’: ‘We need to decide this now’       1.00      1.00      1.00       397\n",
            "                                                                                                       “In a majority of states, new voters are able to obtain a rifle quicker than they’re able to cast their first ballot.”       1.00      1.00      1.00       413\n",
            "                                                                                                                                    “In a vegan world there would be no pandemics. 100% of pandemics are zoonotic in origin.”       1.00      1.00      1.00       426\n",
            "                                                                                                                           “Less than 500 people a year killed by all rifles combined” and “4,000 a year killed by illegals.”       1.00      1.00      1.00       394\n",
            "                                                                                                                                          “Republicans recently passed a bill to eliminate early voting on Sunday” in Georgia       1.00      1.00      1.00       391\n",
            "                                                                                   “Sorry Dr Fauci and other fearmongers, new study shows vaccines and naturally acquired immunity DO effectively neutralize COVID variants.”       1.00      1.00      1.00       389\n",
            "                                                                                                                                         “There’s still (only) a handful of school districts\" doing no in-person instruction.       1.00      1.00      1.00       417\n",
            "                                                                                               “Toxicology report was made public by the MN prosecution revealing the cause of George Floyd’s death was a fentanyl overdose.”       1.00      1.00      1.00       389\n",
            "                                                            “We had the highest number of (military) sexual assaults ever reported in the last year” and “we had the lowest conviction rate and the lowest prosecution rate.”       1.00      1.00      1.00       393\n",
            "                                                                                                                                                      “We spent billions on a border wall and quit when it was 90% finished.”       1.00      1.00      1.00       431\n",
            "                                                                                                                                                      “We’re sending back the vast majority of the families that are coming.”       1.00      1.00      1.00       426\n",
            "                                                                                                        “You can’t tell me they can (develop a safe vaccine) in eight to 10 months. Or a year. It takes more time than that.”       1.00      1.00      1.00       405\n",
            "\n",
            "                                                                                                                                                                                                                     accuracy                           1.00     78394\n",
            "                                                                                                                                                                                                                    macro avg       1.00      1.00      1.00     78394\n",
            "                                                                                                                                                                                                                 weighted avg       1.00      1.00      1.00     78394\n",
            "\n"
          ],
          "name": "stdout"
        }
      ]
    },
    {
      "cell_type": "code",
      "metadata": {
        "id": "08B85eHqu9Pg"
      },
      "source": [
        "cf_matrix = confusion_matrix(y_test, predicted)"
      ],
      "execution_count": null,
      "outputs": []
    },
    {
      "cell_type": "code",
      "metadata": {
        "colab": {
          "base_uri": "https://localhost:8080/",
          "height": 296
        },
        "id": "0R4H4Kbru9Pg",
        "outputId": "f72b09b0-f0e4-4525-f99b-b9337eae57fa"
      },
      "source": [
        "import seaborn as sns\n",
        "sns.heatmap(cf_matrix, annot=True)"
      ],
      "execution_count": null,
      "outputs": [
        {
          "output_type": "execute_result",
          "data": {
            "text/plain": [
              "<matplotlib.axes._subplots.AxesSubplot at 0x7f0480d62210>"
            ]
          },
          "metadata": {
            "tags": []
          },
          "execution_count": 292
        },
        {
          "output_type": "display_data",
          "data": {
            "image/png": "[encoded data removed]",
            "text/plain": [
              "<Figure size 432x288 with 2 Axes>"
            ]
          },
          "metadata": {
            "tags": [],
            "needs_background": "light"
          }
        }
      ]
    },
    {
      "cell_type": "code",
      "metadata": {
        "id": "8plMbakju9Ph"
      },
      "source": [
        "# plot_confusion_matrix(text_clf, y_train, predicted)"
      ],
      "execution_count": null,
      "outputs": []
    },
    {
      "cell_type": "code",
      "metadata": {
        "colab": {
          "base_uri": "https://localhost:8080/"
        },
        "id": "dg6aryVtu9Ph",
        "outputId": "1cf471c2-8f8d-4832-9107-1fb92b7db540"
      },
      "source": [
        "roc_auc_score(y_train, text_clf.predict_proba(X_train), multi_class='ovr')"
      ],
      "execution_count": null,
      "outputs": [
        {
          "output_type": "execute_result",
          "data": {
            "text/plain": [
              "1.0"
            ]
          },
          "metadata": {
            "tags": []
          },
          "execution_count": 293
        }
      ]
    }
  ]
}