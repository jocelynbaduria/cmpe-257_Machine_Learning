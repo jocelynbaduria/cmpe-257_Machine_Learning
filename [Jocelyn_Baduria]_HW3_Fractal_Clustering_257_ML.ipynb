{
  "nbformat": 4,
  "nbformat_minor": 0,
  "metadata": {
    "colab": {
      "name": "[Jocelyn_Baduria]_HW3_Fractal Clustering_257_ML.ipynb",
      "provenance": [],
      "collapsed_sections": [
        "wMu65bhx7wI1",
        "gCjz4Jkj9M8D",
        "0YVV6NhCr1t6",
        "FJn5O-LxBBQP",
        "uvukHjjCMFW-",
        "ACjd3s9T5cGD",
        "Kn_IXn6Sv_hO",
        "aOIuD2S4pp7w",
        "RNoZ7MghpMig",
        "6gz0yoUu4nsj",
        "5mA_5FgI49QH",
        "SGRUe_rhA9UQ"
      ],
      "include_colab_link": true
    },
    "kernelspec": {
      "display_name": "Python 3",
      "name": "python3"
    },
    "accelerator": "GPU"
  },
  "cells": [
    {
      "cell_type": "markdown",
      "metadata": {
        "id": "view-in-github",
        "colab_type": "text"
      },
      "source": [
        "<a href=\"https://colab.research.google.com/github/jocelynbaduria/cmpe-257_Machine_Learning/blob/main/%5BJocelyn_Baduria%5D_HW3_Fractal_Clustering_257_ML.ipynb\" target=\"_parent\"><img src=\"https://colab.research.google.com/assets/colab-badge.svg\" alt=\"Open In Colab\"/></a>"
      ]
    },
    {
      "cell_type": "markdown",
      "metadata": {
        "id": "wMu65bhx7wI1"
      },
      "source": [
        "# 1. Data Wrangling"
      ]
    },
    {
      "cell_type": "code",
      "metadata": {
        "colab": {
          "base_uri": "https://localhost:8080/"
        },
        "id": "Z7jNuEmj7W4g",
        "outputId": "3071b8aa-ed5b-4572-9feb-ed32fd72e5ec"
      },
      "source": [
        "from google.colab import drive\n",
        "drive.mount('/content/drive')"
      ],
      "execution_count": 94,
      "outputs": [
        {
          "output_type": "stream",
          "text": [
            "Drive already mounted at /content/drive; to attempt to forcibly remount, call drive.mount(\"/content/drive\", force_remount=True).\n"
          ],
          "name": "stdout"
        }
      ]
    },
    {
      "cell_type": "code",
      "metadata": {
        "colab": {
          "base_uri": "https://localhost:8080/"
        },
        "id": "4EG_wFfIU4IS",
        "outputId": "9830a1a1-711a-4249-ede1-b1dfac742b94"
      },
      "source": [
        "%tensorflow_version 2.x\n",
        "import tensorflow as tf\n",
        "device_name = tf.test.gpu_device_name()\n",
        "if device_name != '/device:GPU:0':\n",
        "  raise SystemError('GPU device not found')\n",
        "print('Found GPU at: {}'.format(device_name))"
      ],
      "execution_count": 95,
      "outputs": [
        {
          "output_type": "stream",
          "text": [
            "Found GPU at: /device:GPU:0\n"
          ],
          "name": "stdout"
        }
      ]
    },
    {
      "cell_type": "markdown",
      "metadata": {
        "id": "gCjz4Jkj9M8D"
      },
      "source": [
        "# 1.1 Import Libraries and Read the Data from CSV"
      ]
    },
    {
      "cell_type": "code",
      "metadata": {
        "id": "8k7OC14z9SFr"
      },
      "source": [
        "import numpy as np\n",
        "import pandas as pd\n",
        "import seaborn as sns\n",
        "import matplotlib.pyplot as plt\n",
        "import itertools\n",
        "import matplotlib as mpl"
      ],
      "execution_count": 96,
      "outputs": []
    },
    {
      "cell_type": "code",
      "metadata": {
        "colab": {
          "base_uri": "https://localhost:8080/"
        },
        "id": "pyGoejdPAJxg",
        "outputId": "bae77e60-0451-46d6-a604-faf3f1e9336d"
      },
      "source": [
        "path = '/content/drive/My Drive/Underdog/data/Asteroid_Updated.csv'\n",
        "\n",
        "data = pd.read_csv(path)"
      ],
      "execution_count": 97,
      "outputs": [
        {
          "output_type": "stream",
          "text": [
            "/usr/local/lib/python3.6/dist-packages/IPython/core/interactiveshell.py:2718: DtypeWarning: Columns (0,10,15,16,23,24) have mixed types.Specify dtype option on import or set low_memory=False.\n",
            "  interactivity=interactivity, compiler=compiler, result=result)\n"
          ],
          "name": "stderr"
        }
      ]
    },
    {
      "cell_type": "code",
      "metadata": {
        "colab": {
          "base_uri": "https://localhost:8080/",
          "height": 0
        },
        "id": "b-eNhMne9e4K",
        "outputId": "22d396c6-c13a-4116-83b7-3c59e10b14ac"
      },
      "source": [
        "data.head()"
      ],
      "execution_count": 98,
      "outputs": [
        {
          "output_type": "execute_result",
          "data": {
            "text/html": [
              "<div>\n",
              "<style scoped>\n",
              "    .dataframe tbody tr th:only-of-type {\n",
              "        vertical-align: middle;\n",
              "    }\n",
              "\n",
              "    .dataframe tbody tr th {\n",
              "        vertical-align: top;\n",
              "    }\n",
              "\n",
              "    .dataframe thead th {\n",
              "        text-align: right;\n",
              "    }\n",
              "</style>\n",
              "<table border=\"1\" class=\"dataframe\">\n",
              "  <thead>\n",
              "    <tr style=\"text-align: right;\">\n",
              "      <th></th>\n",
              "      <th>name</th>\n",
              "      <th>a</th>\n",
              "      <th>e</th>\n",
              "      <th>i</th>\n",
              "      <th>om</th>\n",
              "      <th>w</th>\n",
              "      <th>q</th>\n",
              "      <th>ad</th>\n",
              "      <th>per_y</th>\n",
              "      <th>data_arc</th>\n",
              "      <th>condition_code</th>\n",
              "      <th>n_obs_used</th>\n",
              "      <th>H</th>\n",
              "      <th>neo</th>\n",
              "      <th>pha</th>\n",
              "      <th>diameter</th>\n",
              "      <th>extent</th>\n",
              "      <th>albedo</th>\n",
              "      <th>rot_per</th>\n",
              "      <th>GM</th>\n",
              "      <th>BV</th>\n",
              "      <th>UB</th>\n",
              "      <th>IR</th>\n",
              "      <th>spec_B</th>\n",
              "      <th>spec_T</th>\n",
              "      <th>G</th>\n",
              "      <th>moid</th>\n",
              "      <th>class</th>\n",
              "      <th>n</th>\n",
              "      <th>per</th>\n",
              "      <th>ma</th>\n",
              "    </tr>\n",
              "  </thead>\n",
              "  <tbody>\n",
              "    <tr>\n",
              "      <th>0</th>\n",
              "      <td>Ceres</td>\n",
              "      <td>2.769165</td>\n",
              "      <td>0.076009</td>\n",
              "      <td>10.594067</td>\n",
              "      <td>80.305532</td>\n",
              "      <td>73.597694</td>\n",
              "      <td>2.558684</td>\n",
              "      <td>2.979647</td>\n",
              "      <td>4.608202</td>\n",
              "      <td>8822.0</td>\n",
              "      <td>0</td>\n",
              "      <td>1002</td>\n",
              "      <td>3.34</td>\n",
              "      <td>N</td>\n",
              "      <td>N</td>\n",
              "      <td>939.4</td>\n",
              "      <td>964.4 x 964.2 x 891.8</td>\n",
              "      <td>0.0900</td>\n",
              "      <td>9.074170</td>\n",
              "      <td>62.6284</td>\n",
              "      <td>0.713</td>\n",
              "      <td>0.426</td>\n",
              "      <td>NaN</td>\n",
              "      <td>C</td>\n",
              "      <td>G</td>\n",
              "      <td>0.12</td>\n",
              "      <td>1.59478</td>\n",
              "      <td>MBA</td>\n",
              "      <td>0.213885</td>\n",
              "      <td>1683.145708</td>\n",
              "      <td>77.372096</td>\n",
              "    </tr>\n",
              "    <tr>\n",
              "      <th>1</th>\n",
              "      <td>Pallas</td>\n",
              "      <td>2.772466</td>\n",
              "      <td>0.230337</td>\n",
              "      <td>34.836234</td>\n",
              "      <td>173.080063</td>\n",
              "      <td>310.048857</td>\n",
              "      <td>2.133865</td>\n",
              "      <td>3.411067</td>\n",
              "      <td>4.616444</td>\n",
              "      <td>72318.0</td>\n",
              "      <td>0</td>\n",
              "      <td>8490</td>\n",
              "      <td>4.13</td>\n",
              "      <td>N</td>\n",
              "      <td>N</td>\n",
              "      <td>545</td>\n",
              "      <td>582x556x500</td>\n",
              "      <td>0.1010</td>\n",
              "      <td>7.813200</td>\n",
              "      <td>14.3000</td>\n",
              "      <td>0.635</td>\n",
              "      <td>0.284</td>\n",
              "      <td>NaN</td>\n",
              "      <td>B</td>\n",
              "      <td>B</td>\n",
              "      <td>0.11</td>\n",
              "      <td>1.23324</td>\n",
              "      <td>MBA</td>\n",
              "      <td>0.213503</td>\n",
              "      <td>1686.155999</td>\n",
              "      <td>59.699133</td>\n",
              "    </tr>\n",
              "    <tr>\n",
              "      <th>2</th>\n",
              "      <td>Juno</td>\n",
              "      <td>2.669150</td>\n",
              "      <td>0.256942</td>\n",
              "      <td>12.988919</td>\n",
              "      <td>169.852760</td>\n",
              "      <td>248.138626</td>\n",
              "      <td>1.983332</td>\n",
              "      <td>3.354967</td>\n",
              "      <td>4.360814</td>\n",
              "      <td>72684.0</td>\n",
              "      <td>0</td>\n",
              "      <td>7104</td>\n",
              "      <td>5.33</td>\n",
              "      <td>N</td>\n",
              "      <td>N</td>\n",
              "      <td>246.596</td>\n",
              "      <td>NaN</td>\n",
              "      <td>0.2140</td>\n",
              "      <td>7.210000</td>\n",
              "      <td>NaN</td>\n",
              "      <td>0.824</td>\n",
              "      <td>0.433</td>\n",
              "      <td>NaN</td>\n",
              "      <td>Sk</td>\n",
              "      <td>S</td>\n",
              "      <td>0.32</td>\n",
              "      <td>1.03454</td>\n",
              "      <td>MBA</td>\n",
              "      <td>0.226019</td>\n",
              "      <td>1592.787285</td>\n",
              "      <td>34.925016</td>\n",
              "    </tr>\n",
              "    <tr>\n",
              "      <th>3</th>\n",
              "      <td>Vesta</td>\n",
              "      <td>2.361418</td>\n",
              "      <td>0.088721</td>\n",
              "      <td>7.141771</td>\n",
              "      <td>103.810804</td>\n",
              "      <td>150.728541</td>\n",
              "      <td>2.151909</td>\n",
              "      <td>2.570926</td>\n",
              "      <td>3.628837</td>\n",
              "      <td>24288.0</td>\n",
              "      <td>0</td>\n",
              "      <td>9325</td>\n",
              "      <td>3.20</td>\n",
              "      <td>N</td>\n",
              "      <td>N</td>\n",
              "      <td>525.4</td>\n",
              "      <td>572.6 x 557.2 x 446.4</td>\n",
              "      <td>0.4228</td>\n",
              "      <td>5.342128</td>\n",
              "      <td>17.8000</td>\n",
              "      <td>0.782</td>\n",
              "      <td>0.492</td>\n",
              "      <td>NaN</td>\n",
              "      <td>V</td>\n",
              "      <td>V</td>\n",
              "      <td>0.32</td>\n",
              "      <td>1.13948</td>\n",
              "      <td>MBA</td>\n",
              "      <td>0.271609</td>\n",
              "      <td>1325.432765</td>\n",
              "      <td>95.861936</td>\n",
              "    </tr>\n",
              "    <tr>\n",
              "      <th>4</th>\n",
              "      <td>Astraea</td>\n",
              "      <td>2.574249</td>\n",
              "      <td>0.191095</td>\n",
              "      <td>5.366988</td>\n",
              "      <td>141.576605</td>\n",
              "      <td>358.687607</td>\n",
              "      <td>2.082324</td>\n",
              "      <td>3.066174</td>\n",
              "      <td>4.130323</td>\n",
              "      <td>63507.0</td>\n",
              "      <td>0</td>\n",
              "      <td>2916</td>\n",
              "      <td>6.85</td>\n",
              "      <td>N</td>\n",
              "      <td>N</td>\n",
              "      <td>106.699</td>\n",
              "      <td>NaN</td>\n",
              "      <td>0.2740</td>\n",
              "      <td>16.806000</td>\n",
              "      <td>NaN</td>\n",
              "      <td>0.826</td>\n",
              "      <td>0.411</td>\n",
              "      <td>NaN</td>\n",
              "      <td>S</td>\n",
              "      <td>S</td>\n",
              "      <td>NaN</td>\n",
              "      <td>1.09589</td>\n",
              "      <td>MBA</td>\n",
              "      <td>0.238632</td>\n",
              "      <td>1508.600458</td>\n",
              "      <td>282.366289</td>\n",
              "    </tr>\n",
              "  </tbody>\n",
              "</table>\n",
              "</div>"
            ],
            "text/plain": [
              "      name         a         e  ...         n          per          ma\n",
              "0    Ceres  2.769165  0.076009  ...  0.213885  1683.145708   77.372096\n",
              "1   Pallas  2.772466  0.230337  ...  0.213503  1686.155999   59.699133\n",
              "2     Juno  2.669150  0.256942  ...  0.226019  1592.787285   34.925016\n",
              "3    Vesta  2.361418  0.088721  ...  0.271609  1325.432765   95.861936\n",
              "4  Astraea  2.574249  0.191095  ...  0.238632  1508.600458  282.366289\n",
              "\n",
              "[5 rows x 31 columns]"
            ]
          },
          "metadata": {
            "tags": []
          },
          "execution_count": 98
        }
      ]
    },
    {
      "cell_type": "markdown",
      "metadata": {
        "id": "0YVV6NhCr1t6"
      },
      "source": [
        "# 1.2 Data Cleaning and Preparation"
      ]
    },
    {
      "cell_type": "markdown",
      "metadata": {
        "id": "FJn5O-LxBBQP"
      },
      "source": [
        "## Check Missing and Drop Rows With No Data For Diameter and Rotation Period Data Feature . There are 83% Missing Diameter Data and 97% Missing Rotation Period Data"
      ]
    },
    {
      "cell_type": "code",
      "metadata": {
        "colab": {
          "base_uri": "https://localhost:8080/"
        },
        "id": "Ep7pzV_oBMJM",
        "outputId": "e89b6a0a-03c7-48e5-c5ef-0afa635f2230"
      },
      "source": [
        "data.isnull().sum()/data.shape[0] * 100"
      ],
      "execution_count": 99,
      "outputs": [
        {
          "output_type": "execute_result",
          "data": {
            "text/plain": [
              "name              97.383990\n",
              "a                  0.000238\n",
              "e                  0.000000\n",
              "i                  0.000000\n",
              "om                 0.000000\n",
              "w                  0.000000\n",
              "q                  0.000000\n",
              "ad                 0.000715\n",
              "per_y              0.000119\n",
              "data_arc           1.842770\n",
              "condition_code     0.103249\n",
              "n_obs_used         0.000000\n",
              "H                  0.320228\n",
              "neo                0.000715\n",
              "pha                1.958048\n",
              "diameter          83.609181\n",
              "extent            99.997856\n",
              "albedo            83.755302\n",
              "rot_per           97.761619\n",
              "GM                99.998333\n",
              "BV                99.878411\n",
              "UB                99.883413\n",
              "IR                99.999881\n",
              "spec_B            99.801599\n",
              "spec_T            99.883294\n",
              "G                 99.985829\n",
              "moid               1.958048\n",
              "class              0.000000\n",
              "n                  0.000238\n",
              "per                0.000715\n",
              "ma                 0.000953\n",
              "dtype: float64"
            ]
          },
          "metadata": {
            "tags": []
          },
          "execution_count": 99
        }
      ]
    },
    {
      "cell_type": "code",
      "metadata": {
        "colab": {
          "base_uri": "https://localhost:8080/"
        },
        "id": "AyISgH3JDVQ_",
        "outputId": "234eb69b-a564-4864-ae6c-1999f0f00d82"
      },
      "source": [
        "data.shape"
      ],
      "execution_count": 100,
      "outputs": [
        {
          "output_type": "execute_result",
          "data": {
            "text/plain": [
              "(839714, 31)"
            ]
          },
          "metadata": {
            "tags": []
          },
          "execution_count": 100
        }
      ]
    },
    {
      "cell_type": "code",
      "metadata": {
        "colab": {
          "base_uri": "https://localhost:8080/"
        },
        "id": "5SQi0Gr9BlmA",
        "outputId": "c1e0036a-775d-437c-f147-6771f5be09d5"
      },
      "source": [
        "data.columns"
      ],
      "execution_count": 101,
      "outputs": [
        {
          "output_type": "execute_result",
          "data": {
            "text/plain": [
              "Index(['name', 'a', 'e', 'i', 'om', 'w', 'q', 'ad', 'per_y', 'data_arc',\n",
              "       'condition_code', 'n_obs_used', 'H', 'neo', 'pha', 'diameter', 'extent',\n",
              "       'albedo', 'rot_per', 'GM', 'BV', 'UB', 'IR', 'spec_B', 'spec_T', 'G',\n",
              "       'moid', 'class', 'n', 'per', 'ma'],\n",
              "      dtype='object')"
            ]
          },
          "metadata": {
            "tags": []
          },
          "execution_count": 101
        }
      ]
    },
    {
      "cell_type": "markdown",
      "metadata": {
        "id": "uvukHjjCMFW-"
      },
      "source": [
        "## Drop Missing Rows Data for Diameter, Rotation Period, Albedo"
      ]
    },
    {
      "cell_type": "code",
      "metadata": {
        "colab": {
          "base_uri": "https://localhost:8080/"
        },
        "id": "fdDFwtqQE2I0",
        "outputId": "dc36fec2-2f18-4568-cbe9-4eafd73a5f8c"
      },
      "source": [
        "data = data.dropna(subset=['diameter','rot_per','albedo'])\n",
        "data.shape"
      ],
      "execution_count": 102,
      "outputs": [
        {
          "output_type": "execute_result",
          "data": {
            "text/plain": [
              "(11154, 31)"
            ]
          },
          "metadata": {
            "tags": []
          },
          "execution_count": 102
        }
      ]
    },
    {
      "cell_type": "code",
      "metadata": {
        "colab": {
          "base_uri": "https://localhost:8080/"
        },
        "id": "ZvlETLCYF2-O",
        "outputId": "bb3c8f29-cd72-4b80-8507-858246d71d60"
      },
      "source": [
        "data.isnull().sum()"
      ],
      "execution_count": 103,
      "outputs": [
        {
          "output_type": "execute_result",
          "data": {
            "text/plain": [
              "name               5744\n",
              "a                     0\n",
              "e                     0\n",
              "i                     0\n",
              "om                    0\n",
              "w                     0\n",
              "q                     0\n",
              "ad                    0\n",
              "per_y                 0\n",
              "data_arc              0\n",
              "condition_code        0\n",
              "n_obs_used            0\n",
              "H                     0\n",
              "neo                   0\n",
              "pha                   0\n",
              "diameter              0\n",
              "extent            11142\n",
              "albedo                0\n",
              "rot_per               0\n",
              "GM                11142\n",
              "BV                10176\n",
              "UB                10216\n",
              "IR                11153\n",
              "spec_B            10044\n",
              "spec_T            10217\n",
              "G                 11037\n",
              "moid                  0\n",
              "class                 0\n",
              "n                     0\n",
              "per                   0\n",
              "ma                    0\n",
              "dtype: int64"
            ]
          },
          "metadata": {
            "tags": []
          },
          "execution_count": 103
        }
      ]
    },
    {
      "cell_type": "markdown",
      "metadata": {
        "id": "ZnnFbR6O6DIQ"
      },
      "source": [
        "## Drop Columns with missing data "
      ]
    },
    {
      "cell_type": "code",
      "metadata": {
        "colab": {
          "base_uri": "https://localhost:8080/"
        },
        "id": "1Yp_KJsXK82P",
        "outputId": "ee6689e0-cde0-47c9-ea6c-7f150da4de8d"
      },
      "source": [
        "data.drop(['name', 'extent','IR','spec_B','spec_T'], axis=1, inplace=True)\n",
        "data.isnull().sum()"
      ],
      "execution_count": 104,
      "outputs": [
        {
          "output_type": "execute_result",
          "data": {
            "text/plain": [
              "a                     0\n",
              "e                     0\n",
              "i                     0\n",
              "om                    0\n",
              "w                     0\n",
              "q                     0\n",
              "ad                    0\n",
              "per_y                 0\n",
              "data_arc              0\n",
              "condition_code        0\n",
              "n_obs_used            0\n",
              "H                     0\n",
              "neo                   0\n",
              "pha                   0\n",
              "diameter              0\n",
              "albedo                0\n",
              "rot_per               0\n",
              "GM                11142\n",
              "BV                10176\n",
              "UB                10216\n",
              "G                 11037\n",
              "moid                  0\n",
              "class                 0\n",
              "n                     0\n",
              "per                   0\n",
              "ma                    0\n",
              "dtype: int64"
            ]
          },
          "metadata": {
            "tags": []
          },
          "execution_count": 104
        }
      ]
    },
    {
      "cell_type": "markdown",
      "metadata": {
        "id": "xwk9-WaIMygz"
      },
      "source": [
        "## Check the diameter and rotation period data if all Numeric. Diameter data is Object "
      ]
    },
    {
      "cell_type": "code",
      "metadata": {
        "colab": {
          "base_uri": "https://localhost:8080/"
        },
        "id": "b4ZaO-R4mza6",
        "outputId": "e71cba97-8ca1-4dba-a22b-d57c6f2f5ad4"
      },
      "source": [
        "data.dtypes"
      ],
      "execution_count": 105,
      "outputs": [
        {
          "output_type": "execute_result",
          "data": {
            "text/plain": [
              "a                 float64\n",
              "e                 float64\n",
              "i                 float64\n",
              "om                float64\n",
              "w                 float64\n",
              "q                 float64\n",
              "ad                float64\n",
              "per_y             float64\n",
              "data_arc          float64\n",
              "condition_code     object\n",
              "n_obs_used          int64\n",
              "H                 float64\n",
              "neo                object\n",
              "pha                object\n",
              "diameter           object\n",
              "albedo            float64\n",
              "rot_per           float64\n",
              "GM                float64\n",
              "BV                float64\n",
              "UB                float64\n",
              "G                 float64\n",
              "moid              float64\n",
              "class              object\n",
              "n                 float64\n",
              "per               float64\n",
              "ma                float64\n",
              "dtype: object"
            ]
          },
          "metadata": {
            "tags": []
          },
          "execution_count": 105
        }
      ]
    },
    {
      "cell_type": "code",
      "metadata": {
        "colab": {
          "base_uri": "https://localhost:8080/",
          "height": 0
        },
        "id": "HepCym4jj4vd",
        "outputId": "3c8b47d7-2cf6-4b58-d10a-4452ff86d45b"
      },
      "source": [
        "data.head()"
      ],
      "execution_count": 106,
      "outputs": [
        {
          "output_type": "execute_result",
          "data": {
            "text/html": [
              "<div>\n",
              "<style scoped>\n",
              "    .dataframe tbody tr th:only-of-type {\n",
              "        vertical-align: middle;\n",
              "    }\n",
              "\n",
              "    .dataframe tbody tr th {\n",
              "        vertical-align: top;\n",
              "    }\n",
              "\n",
              "    .dataframe thead th {\n",
              "        text-align: right;\n",
              "    }\n",
              "</style>\n",
              "<table border=\"1\" class=\"dataframe\">\n",
              "  <thead>\n",
              "    <tr style=\"text-align: right;\">\n",
              "      <th></th>\n",
              "      <th>a</th>\n",
              "      <th>e</th>\n",
              "      <th>i</th>\n",
              "      <th>om</th>\n",
              "      <th>w</th>\n",
              "      <th>q</th>\n",
              "      <th>ad</th>\n",
              "      <th>per_y</th>\n",
              "      <th>data_arc</th>\n",
              "      <th>condition_code</th>\n",
              "      <th>n_obs_used</th>\n",
              "      <th>H</th>\n",
              "      <th>neo</th>\n",
              "      <th>pha</th>\n",
              "      <th>diameter</th>\n",
              "      <th>albedo</th>\n",
              "      <th>rot_per</th>\n",
              "      <th>GM</th>\n",
              "      <th>BV</th>\n",
              "      <th>UB</th>\n",
              "      <th>G</th>\n",
              "      <th>moid</th>\n",
              "      <th>class</th>\n",
              "      <th>n</th>\n",
              "      <th>per</th>\n",
              "      <th>ma</th>\n",
              "    </tr>\n",
              "  </thead>\n",
              "  <tbody>\n",
              "    <tr>\n",
              "      <th>0</th>\n",
              "      <td>2.769165</td>\n",
              "      <td>0.076009</td>\n",
              "      <td>10.594067</td>\n",
              "      <td>80.305532</td>\n",
              "      <td>73.597694</td>\n",
              "      <td>2.558684</td>\n",
              "      <td>2.979647</td>\n",
              "      <td>4.608202</td>\n",
              "      <td>8822.0</td>\n",
              "      <td>0</td>\n",
              "      <td>1002</td>\n",
              "      <td>3.34</td>\n",
              "      <td>N</td>\n",
              "      <td>N</td>\n",
              "      <td>939.4</td>\n",
              "      <td>0.0900</td>\n",
              "      <td>9.074170</td>\n",
              "      <td>62.6284</td>\n",
              "      <td>0.713</td>\n",
              "      <td>0.426</td>\n",
              "      <td>0.12</td>\n",
              "      <td>1.59478</td>\n",
              "      <td>MBA</td>\n",
              "      <td>0.213885</td>\n",
              "      <td>1683.145708</td>\n",
              "      <td>77.372096</td>\n",
              "    </tr>\n",
              "    <tr>\n",
              "      <th>1</th>\n",
              "      <td>2.772466</td>\n",
              "      <td>0.230337</td>\n",
              "      <td>34.836234</td>\n",
              "      <td>173.080063</td>\n",
              "      <td>310.048857</td>\n",
              "      <td>2.133865</td>\n",
              "      <td>3.411067</td>\n",
              "      <td>4.616444</td>\n",
              "      <td>72318.0</td>\n",
              "      <td>0</td>\n",
              "      <td>8490</td>\n",
              "      <td>4.13</td>\n",
              "      <td>N</td>\n",
              "      <td>N</td>\n",
              "      <td>545</td>\n",
              "      <td>0.1010</td>\n",
              "      <td>7.813200</td>\n",
              "      <td>14.3000</td>\n",
              "      <td>0.635</td>\n",
              "      <td>0.284</td>\n",
              "      <td>0.11</td>\n",
              "      <td>1.23324</td>\n",
              "      <td>MBA</td>\n",
              "      <td>0.213503</td>\n",
              "      <td>1686.155999</td>\n",
              "      <td>59.699133</td>\n",
              "    </tr>\n",
              "    <tr>\n",
              "      <th>2</th>\n",
              "      <td>2.669150</td>\n",
              "      <td>0.256942</td>\n",
              "      <td>12.988919</td>\n",
              "      <td>169.852760</td>\n",
              "      <td>248.138626</td>\n",
              "      <td>1.983332</td>\n",
              "      <td>3.354967</td>\n",
              "      <td>4.360814</td>\n",
              "      <td>72684.0</td>\n",
              "      <td>0</td>\n",
              "      <td>7104</td>\n",
              "      <td>5.33</td>\n",
              "      <td>N</td>\n",
              "      <td>N</td>\n",
              "      <td>246.596</td>\n",
              "      <td>0.2140</td>\n",
              "      <td>7.210000</td>\n",
              "      <td>NaN</td>\n",
              "      <td>0.824</td>\n",
              "      <td>0.433</td>\n",
              "      <td>0.32</td>\n",
              "      <td>1.03454</td>\n",
              "      <td>MBA</td>\n",
              "      <td>0.226019</td>\n",
              "      <td>1592.787285</td>\n",
              "      <td>34.925016</td>\n",
              "    </tr>\n",
              "    <tr>\n",
              "      <th>3</th>\n",
              "      <td>2.361418</td>\n",
              "      <td>0.088721</td>\n",
              "      <td>7.141771</td>\n",
              "      <td>103.810804</td>\n",
              "      <td>150.728541</td>\n",
              "      <td>2.151909</td>\n",
              "      <td>2.570926</td>\n",
              "      <td>3.628837</td>\n",
              "      <td>24288.0</td>\n",
              "      <td>0</td>\n",
              "      <td>9325</td>\n",
              "      <td>3.20</td>\n",
              "      <td>N</td>\n",
              "      <td>N</td>\n",
              "      <td>525.4</td>\n",
              "      <td>0.4228</td>\n",
              "      <td>5.342128</td>\n",
              "      <td>17.8000</td>\n",
              "      <td>0.782</td>\n",
              "      <td>0.492</td>\n",
              "      <td>0.32</td>\n",
              "      <td>1.13948</td>\n",
              "      <td>MBA</td>\n",
              "      <td>0.271609</td>\n",
              "      <td>1325.432765</td>\n",
              "      <td>95.861936</td>\n",
              "    </tr>\n",
              "    <tr>\n",
              "      <th>4</th>\n",
              "      <td>2.574249</td>\n",
              "      <td>0.191095</td>\n",
              "      <td>5.366988</td>\n",
              "      <td>141.576605</td>\n",
              "      <td>358.687607</td>\n",
              "      <td>2.082324</td>\n",
              "      <td>3.066174</td>\n",
              "      <td>4.130323</td>\n",
              "      <td>63507.0</td>\n",
              "      <td>0</td>\n",
              "      <td>2916</td>\n",
              "      <td>6.85</td>\n",
              "      <td>N</td>\n",
              "      <td>N</td>\n",
              "      <td>106.699</td>\n",
              "      <td>0.2740</td>\n",
              "      <td>16.806000</td>\n",
              "      <td>NaN</td>\n",
              "      <td>0.826</td>\n",
              "      <td>0.411</td>\n",
              "      <td>NaN</td>\n",
              "      <td>1.09589</td>\n",
              "      <td>MBA</td>\n",
              "      <td>0.238632</td>\n",
              "      <td>1508.600458</td>\n",
              "      <td>282.366289</td>\n",
              "    </tr>\n",
              "  </tbody>\n",
              "</table>\n",
              "</div>"
            ],
            "text/plain": [
              "          a         e          i  ...         n          per          ma\n",
              "0  2.769165  0.076009  10.594067  ...  0.213885  1683.145708   77.372096\n",
              "1  2.772466  0.230337  34.836234  ...  0.213503  1686.155999   59.699133\n",
              "2  2.669150  0.256942  12.988919  ...  0.226019  1592.787285   34.925016\n",
              "3  2.361418  0.088721   7.141771  ...  0.271609  1325.432765   95.861936\n",
              "4  2.574249  0.191095   5.366988  ...  0.238632  1508.600458  282.366289\n",
              "\n",
              "[5 rows x 26 columns]"
            ]
          },
          "metadata": {
            "tags": []
          },
          "execution_count": 106
        }
      ]
    },
    {
      "cell_type": "markdown",
      "metadata": {
        "id": "hkZuvTMLNsRx"
      },
      "source": [
        "## Convert Some Data to Float"
      ]
    },
    {
      "cell_type": "code",
      "metadata": {
        "colab": {
          "base_uri": "https://localhost:8080/"
        },
        "id": "lmU79AFiokf0",
        "outputId": "88d61f63-1802-4d43-b5a7-30daec34d4c3"
      },
      "source": [
        "data['diameter'] = data['diameter'].astype(float) \n",
        "data['condition_code'] = data['condition_code'].astype(float) \n",
        "#this will label as one hot vectors (neo and pha string values to int)\n",
        "# data['neo'] = data['neo'].map({1: 'Y', 2: 'N'}).astype(float)\n",
        "data['neo'] = data['neo'].astype('category').cat.codes\n",
        "data['pha'] = data['pha'].astype('category').cat.codes\n",
        "data['class'] = data['class'].astype('category').cat.codes\n",
        "# data['pha'] = data['pha'].map({1: 'Y', 2: 'N'}).astype(float)\n",
        "data.dtypes"
      ],
      "execution_count": 107,
      "outputs": [
        {
          "output_type": "execute_result",
          "data": {
            "text/plain": [
              "a                 float64\n",
              "e                 float64\n",
              "i                 float64\n",
              "om                float64\n",
              "w                 float64\n",
              "q                 float64\n",
              "ad                float64\n",
              "per_y             float64\n",
              "data_arc          float64\n",
              "condition_code    float64\n",
              "n_obs_used          int64\n",
              "H                 float64\n",
              "neo                  int8\n",
              "pha                  int8\n",
              "diameter          float64\n",
              "albedo            float64\n",
              "rot_per           float64\n",
              "GM                float64\n",
              "BV                float64\n",
              "UB                float64\n",
              "G                 float64\n",
              "moid              float64\n",
              "class                int8\n",
              "n                 float64\n",
              "per               float64\n",
              "ma                float64\n",
              "dtype: object"
            ]
          },
          "metadata": {
            "tags": []
          },
          "execution_count": 107
        }
      ]
    },
    {
      "cell_type": "code",
      "metadata": {
        "colab": {
          "base_uri": "https://localhost:8080/",
          "height": 0
        },
        "id": "81iVgDXf-2Ma",
        "outputId": "08a1602d-db9b-4944-8093-2d398d81d510"
      },
      "source": [
        "data.head()"
      ],
      "execution_count": 108,
      "outputs": [
        {
          "output_type": "execute_result",
          "data": {
            "text/html": [
              "<div>\n",
              "<style scoped>\n",
              "    .dataframe tbody tr th:only-of-type {\n",
              "        vertical-align: middle;\n",
              "    }\n",
              "\n",
              "    .dataframe tbody tr th {\n",
              "        vertical-align: top;\n",
              "    }\n",
              "\n",
              "    .dataframe thead th {\n",
              "        text-align: right;\n",
              "    }\n",
              "</style>\n",
              "<table border=\"1\" class=\"dataframe\">\n",
              "  <thead>\n",
              "    <tr style=\"text-align: right;\">\n",
              "      <th></th>\n",
              "      <th>a</th>\n",
              "      <th>e</th>\n",
              "      <th>i</th>\n",
              "      <th>om</th>\n",
              "      <th>w</th>\n",
              "      <th>q</th>\n",
              "      <th>ad</th>\n",
              "      <th>per_y</th>\n",
              "      <th>data_arc</th>\n",
              "      <th>condition_code</th>\n",
              "      <th>n_obs_used</th>\n",
              "      <th>H</th>\n",
              "      <th>neo</th>\n",
              "      <th>pha</th>\n",
              "      <th>diameter</th>\n",
              "      <th>albedo</th>\n",
              "      <th>rot_per</th>\n",
              "      <th>GM</th>\n",
              "      <th>BV</th>\n",
              "      <th>UB</th>\n",
              "      <th>G</th>\n",
              "      <th>moid</th>\n",
              "      <th>class</th>\n",
              "      <th>n</th>\n",
              "      <th>per</th>\n",
              "      <th>ma</th>\n",
              "    </tr>\n",
              "  </thead>\n",
              "  <tbody>\n",
              "    <tr>\n",
              "      <th>0</th>\n",
              "      <td>2.769165</td>\n",
              "      <td>0.076009</td>\n",
              "      <td>10.594067</td>\n",
              "      <td>80.305532</td>\n",
              "      <td>73.597694</td>\n",
              "      <td>2.558684</td>\n",
              "      <td>2.979647</td>\n",
              "      <td>4.608202</td>\n",
              "      <td>8822.0</td>\n",
              "      <td>0.0</td>\n",
              "      <td>1002</td>\n",
              "      <td>3.34</td>\n",
              "      <td>0</td>\n",
              "      <td>0</td>\n",
              "      <td>939.400</td>\n",
              "      <td>0.0900</td>\n",
              "      <td>9.074170</td>\n",
              "      <td>62.6284</td>\n",
              "      <td>0.713</td>\n",
              "      <td>0.426</td>\n",
              "      <td>0.12</td>\n",
              "      <td>1.59478</td>\n",
              "      <td>6</td>\n",
              "      <td>0.213885</td>\n",
              "      <td>1683.145708</td>\n",
              "      <td>77.372096</td>\n",
              "    </tr>\n",
              "    <tr>\n",
              "      <th>1</th>\n",
              "      <td>2.772466</td>\n",
              "      <td>0.230337</td>\n",
              "      <td>34.836234</td>\n",
              "      <td>173.080063</td>\n",
              "      <td>310.048857</td>\n",
              "      <td>2.133865</td>\n",
              "      <td>3.411067</td>\n",
              "      <td>4.616444</td>\n",
              "      <td>72318.0</td>\n",
              "      <td>0.0</td>\n",
              "      <td>8490</td>\n",
              "      <td>4.13</td>\n",
              "      <td>0</td>\n",
              "      <td>0</td>\n",
              "      <td>545.000</td>\n",
              "      <td>0.1010</td>\n",
              "      <td>7.813200</td>\n",
              "      <td>14.3000</td>\n",
              "      <td>0.635</td>\n",
              "      <td>0.284</td>\n",
              "      <td>0.11</td>\n",
              "      <td>1.23324</td>\n",
              "      <td>6</td>\n",
              "      <td>0.213503</td>\n",
              "      <td>1686.155999</td>\n",
              "      <td>59.699133</td>\n",
              "    </tr>\n",
              "    <tr>\n",
              "      <th>2</th>\n",
              "      <td>2.669150</td>\n",
              "      <td>0.256942</td>\n",
              "      <td>12.988919</td>\n",
              "      <td>169.852760</td>\n",
              "      <td>248.138626</td>\n",
              "      <td>1.983332</td>\n",
              "      <td>3.354967</td>\n",
              "      <td>4.360814</td>\n",
              "      <td>72684.0</td>\n",
              "      <td>0.0</td>\n",
              "      <td>7104</td>\n",
              "      <td>5.33</td>\n",
              "      <td>0</td>\n",
              "      <td>0</td>\n",
              "      <td>246.596</td>\n",
              "      <td>0.2140</td>\n",
              "      <td>7.210000</td>\n",
              "      <td>NaN</td>\n",
              "      <td>0.824</td>\n",
              "      <td>0.433</td>\n",
              "      <td>0.32</td>\n",
              "      <td>1.03454</td>\n",
              "      <td>6</td>\n",
              "      <td>0.226019</td>\n",
              "      <td>1592.787285</td>\n",
              "      <td>34.925016</td>\n",
              "    </tr>\n",
              "    <tr>\n",
              "      <th>3</th>\n",
              "      <td>2.361418</td>\n",
              "      <td>0.088721</td>\n",
              "      <td>7.141771</td>\n",
              "      <td>103.810804</td>\n",
              "      <td>150.728541</td>\n",
              "      <td>2.151909</td>\n",
              "      <td>2.570926</td>\n",
              "      <td>3.628837</td>\n",
              "      <td>24288.0</td>\n",
              "      <td>0.0</td>\n",
              "      <td>9325</td>\n",
              "      <td>3.20</td>\n",
              "      <td>0</td>\n",
              "      <td>0</td>\n",
              "      <td>525.400</td>\n",
              "      <td>0.4228</td>\n",
              "      <td>5.342128</td>\n",
              "      <td>17.8000</td>\n",
              "      <td>0.782</td>\n",
              "      <td>0.492</td>\n",
              "      <td>0.32</td>\n",
              "      <td>1.13948</td>\n",
              "      <td>6</td>\n",
              "      <td>0.271609</td>\n",
              "      <td>1325.432765</td>\n",
              "      <td>95.861936</td>\n",
              "    </tr>\n",
              "    <tr>\n",
              "      <th>4</th>\n",
              "      <td>2.574249</td>\n",
              "      <td>0.191095</td>\n",
              "      <td>5.366988</td>\n",
              "      <td>141.576605</td>\n",
              "      <td>358.687607</td>\n",
              "      <td>2.082324</td>\n",
              "      <td>3.066174</td>\n",
              "      <td>4.130323</td>\n",
              "      <td>63507.0</td>\n",
              "      <td>0.0</td>\n",
              "      <td>2916</td>\n",
              "      <td>6.85</td>\n",
              "      <td>0</td>\n",
              "      <td>0</td>\n",
              "      <td>106.699</td>\n",
              "      <td>0.2740</td>\n",
              "      <td>16.806000</td>\n",
              "      <td>NaN</td>\n",
              "      <td>0.826</td>\n",
              "      <td>0.411</td>\n",
              "      <td>NaN</td>\n",
              "      <td>1.09589</td>\n",
              "      <td>6</td>\n",
              "      <td>0.238632</td>\n",
              "      <td>1508.600458</td>\n",
              "      <td>282.366289</td>\n",
              "    </tr>\n",
              "  </tbody>\n",
              "</table>\n",
              "</div>"
            ],
            "text/plain": [
              "          a         e          i  ...         n          per          ma\n",
              "0  2.769165  0.076009  10.594067  ...  0.213885  1683.145708   77.372096\n",
              "1  2.772466  0.230337  34.836234  ...  0.213503  1686.155999   59.699133\n",
              "2  2.669150  0.256942  12.988919  ...  0.226019  1592.787285   34.925016\n",
              "3  2.361418  0.088721   7.141771  ...  0.271609  1325.432765   95.861936\n",
              "4  2.574249  0.191095   5.366988  ...  0.238632  1508.600458  282.366289\n",
              "\n",
              "[5 rows x 26 columns]"
            ]
          },
          "metadata": {
            "tags": []
          },
          "execution_count": 108
        }
      ]
    },
    {
      "cell_type": "code",
      "metadata": {
        "colab": {
          "base_uri": "https://localhost:8080/",
          "height": 0
        },
        "id": "1DkbkbPiUeOz",
        "outputId": "0c86354a-a426-416a-a60a-33b3ec27afdd"
      },
      "source": [
        "data.round(1)"
      ],
      "execution_count": 109,
      "outputs": [
        {
          "output_type": "execute_result",
          "data": {
            "text/html": [
              "<div>\n",
              "<style scoped>\n",
              "    .dataframe tbody tr th:only-of-type {\n",
              "        vertical-align: middle;\n",
              "    }\n",
              "\n",
              "    .dataframe tbody tr th {\n",
              "        vertical-align: top;\n",
              "    }\n",
              "\n",
              "    .dataframe thead th {\n",
              "        text-align: right;\n",
              "    }\n",
              "</style>\n",
              "<table border=\"1\" class=\"dataframe\">\n",
              "  <thead>\n",
              "    <tr style=\"text-align: right;\">\n",
              "      <th></th>\n",
              "      <th>a</th>\n",
              "      <th>e</th>\n",
              "      <th>i</th>\n",
              "      <th>om</th>\n",
              "      <th>w</th>\n",
              "      <th>q</th>\n",
              "      <th>ad</th>\n",
              "      <th>per_y</th>\n",
              "      <th>data_arc</th>\n",
              "      <th>condition_code</th>\n",
              "      <th>n_obs_used</th>\n",
              "      <th>H</th>\n",
              "      <th>neo</th>\n",
              "      <th>pha</th>\n",
              "      <th>diameter</th>\n",
              "      <th>albedo</th>\n",
              "      <th>rot_per</th>\n",
              "      <th>GM</th>\n",
              "      <th>BV</th>\n",
              "      <th>UB</th>\n",
              "      <th>G</th>\n",
              "      <th>moid</th>\n",
              "      <th>class</th>\n",
              "      <th>n</th>\n",
              "      <th>per</th>\n",
              "      <th>ma</th>\n",
              "    </tr>\n",
              "  </thead>\n",
              "  <tbody>\n",
              "    <tr>\n",
              "      <th>0</th>\n",
              "      <td>2.8</td>\n",
              "      <td>0.1</td>\n",
              "      <td>10.6</td>\n",
              "      <td>80.3</td>\n",
              "      <td>73.6</td>\n",
              "      <td>2.6</td>\n",
              "      <td>3.0</td>\n",
              "      <td>4.6</td>\n",
              "      <td>8822.0</td>\n",
              "      <td>0.0</td>\n",
              "      <td>1002</td>\n",
              "      <td>3.3</td>\n",
              "      <td>0</td>\n",
              "      <td>0</td>\n",
              "      <td>939.4</td>\n",
              "      <td>0.1</td>\n",
              "      <td>9.1</td>\n",
              "      <td>62.6</td>\n",
              "      <td>0.7</td>\n",
              "      <td>0.4</td>\n",
              "      <td>0.1</td>\n",
              "      <td>1.6</td>\n",
              "      <td>6</td>\n",
              "      <td>0.2</td>\n",
              "      <td>1683.1</td>\n",
              "      <td>77.4</td>\n",
              "    </tr>\n",
              "    <tr>\n",
              "      <th>1</th>\n",
              "      <td>2.8</td>\n",
              "      <td>0.2</td>\n",
              "      <td>34.8</td>\n",
              "      <td>173.1</td>\n",
              "      <td>310.0</td>\n",
              "      <td>2.1</td>\n",
              "      <td>3.4</td>\n",
              "      <td>4.6</td>\n",
              "      <td>72318.0</td>\n",
              "      <td>0.0</td>\n",
              "      <td>8490</td>\n",
              "      <td>4.1</td>\n",
              "      <td>0</td>\n",
              "      <td>0</td>\n",
              "      <td>545.0</td>\n",
              "      <td>0.1</td>\n",
              "      <td>7.8</td>\n",
              "      <td>14.3</td>\n",
              "      <td>0.6</td>\n",
              "      <td>0.3</td>\n",
              "      <td>0.1</td>\n",
              "      <td>1.2</td>\n",
              "      <td>6</td>\n",
              "      <td>0.2</td>\n",
              "      <td>1686.2</td>\n",
              "      <td>59.7</td>\n",
              "    </tr>\n",
              "    <tr>\n",
              "      <th>2</th>\n",
              "      <td>2.7</td>\n",
              "      <td>0.3</td>\n",
              "      <td>13.0</td>\n",
              "      <td>169.9</td>\n",
              "      <td>248.1</td>\n",
              "      <td>2.0</td>\n",
              "      <td>3.4</td>\n",
              "      <td>4.4</td>\n",
              "      <td>72684.0</td>\n",
              "      <td>0.0</td>\n",
              "      <td>7104</td>\n",
              "      <td>5.3</td>\n",
              "      <td>0</td>\n",
              "      <td>0</td>\n",
              "      <td>246.6</td>\n",
              "      <td>0.2</td>\n",
              "      <td>7.2</td>\n",
              "      <td>NaN</td>\n",
              "      <td>0.8</td>\n",
              "      <td>0.4</td>\n",
              "      <td>0.3</td>\n",
              "      <td>1.0</td>\n",
              "      <td>6</td>\n",
              "      <td>0.2</td>\n",
              "      <td>1592.8</td>\n",
              "      <td>34.9</td>\n",
              "    </tr>\n",
              "    <tr>\n",
              "      <th>3</th>\n",
              "      <td>2.4</td>\n",
              "      <td>0.1</td>\n",
              "      <td>7.1</td>\n",
              "      <td>103.8</td>\n",
              "      <td>150.7</td>\n",
              "      <td>2.2</td>\n",
              "      <td>2.6</td>\n",
              "      <td>3.6</td>\n",
              "      <td>24288.0</td>\n",
              "      <td>0.0</td>\n",
              "      <td>9325</td>\n",
              "      <td>3.2</td>\n",
              "      <td>0</td>\n",
              "      <td>0</td>\n",
              "      <td>525.4</td>\n",
              "      <td>0.4</td>\n",
              "      <td>5.3</td>\n",
              "      <td>17.8</td>\n",
              "      <td>0.8</td>\n",
              "      <td>0.5</td>\n",
              "      <td>0.3</td>\n",
              "      <td>1.1</td>\n",
              "      <td>6</td>\n",
              "      <td>0.3</td>\n",
              "      <td>1325.4</td>\n",
              "      <td>95.9</td>\n",
              "    </tr>\n",
              "    <tr>\n",
              "      <th>4</th>\n",
              "      <td>2.6</td>\n",
              "      <td>0.2</td>\n",
              "      <td>5.4</td>\n",
              "      <td>141.6</td>\n",
              "      <td>358.7</td>\n",
              "      <td>2.1</td>\n",
              "      <td>3.1</td>\n",
              "      <td>4.1</td>\n",
              "      <td>63507.0</td>\n",
              "      <td>0.0</td>\n",
              "      <td>2916</td>\n",
              "      <td>6.8</td>\n",
              "      <td>0</td>\n",
              "      <td>0</td>\n",
              "      <td>106.7</td>\n",
              "      <td>0.3</td>\n",
              "      <td>16.8</td>\n",
              "      <td>NaN</td>\n",
              "      <td>0.8</td>\n",
              "      <td>0.4</td>\n",
              "      <td>NaN</td>\n",
              "      <td>1.1</td>\n",
              "      <td>6</td>\n",
              "      <td>0.2</td>\n",
              "      <td>1508.6</td>\n",
              "      <td>282.4</td>\n",
              "    </tr>\n",
              "    <tr>\n",
              "      <th>...</th>\n",
              "      <td>...</td>\n",
              "      <td>...</td>\n",
              "      <td>...</td>\n",
              "      <td>...</td>\n",
              "      <td>...</td>\n",
              "      <td>...</td>\n",
              "      <td>...</td>\n",
              "      <td>...</td>\n",
              "      <td>...</td>\n",
              "      <td>...</td>\n",
              "      <td>...</td>\n",
              "      <td>...</td>\n",
              "      <td>...</td>\n",
              "      <td>...</td>\n",
              "      <td>...</td>\n",
              "      <td>...</td>\n",
              "      <td>...</td>\n",
              "      <td>...</td>\n",
              "      <td>...</td>\n",
              "      <td>...</td>\n",
              "      <td>...</td>\n",
              "      <td>...</td>\n",
              "      <td>...</td>\n",
              "      <td>...</td>\n",
              "      <td>...</td>\n",
              "      <td>...</td>\n",
              "    </tr>\n",
              "    <tr>\n",
              "      <th>694201</th>\n",
              "      <td>2.3</td>\n",
              "      <td>0.6</td>\n",
              "      <td>12.2</td>\n",
              "      <td>182.7</td>\n",
              "      <td>325.8</td>\n",
              "      <td>1.0</td>\n",
              "      <td>3.5</td>\n",
              "      <td>3.4</td>\n",
              "      <td>1038.0</td>\n",
              "      <td>1.0</td>\n",
              "      <td>529</td>\n",
              "      <td>19.3</td>\n",
              "      <td>1</td>\n",
              "      <td>1</td>\n",
              "      <td>0.7</td>\n",
              "      <td>0.1</td>\n",
              "      <td>2.9</td>\n",
              "      <td>NaN</td>\n",
              "      <td>NaN</td>\n",
              "      <td>NaN</td>\n",
              "      <td>NaN</td>\n",
              "      <td>0.0</td>\n",
              "      <td>1</td>\n",
              "      <td>0.3</td>\n",
              "      <td>1240.3</td>\n",
              "      <td>188.0</td>\n",
              "    </tr>\n",
              "    <tr>\n",
              "      <th>699814</th>\n",
              "      <td>2.3</td>\n",
              "      <td>0.6</td>\n",
              "      <td>25.5</td>\n",
              "      <td>178.8</td>\n",
              "      <td>82.0</td>\n",
              "      <td>1.0</td>\n",
              "      <td>3.5</td>\n",
              "      <td>3.4</td>\n",
              "      <td>227.0</td>\n",
              "      <td>3.0</td>\n",
              "      <td>563</td>\n",
              "      <td>18.8</td>\n",
              "      <td>1</td>\n",
              "      <td>0</td>\n",
              "      <td>0.5</td>\n",
              "      <td>0.3</td>\n",
              "      <td>6.0</td>\n",
              "      <td>NaN</td>\n",
              "      <td>NaN</td>\n",
              "      <td>NaN</td>\n",
              "      <td>NaN</td>\n",
              "      <td>0.3</td>\n",
              "      <td>1</td>\n",
              "      <td>0.3</td>\n",
              "      <td>1237.1</td>\n",
              "      <td>158.0</td>\n",
              "    </tr>\n",
              "    <tr>\n",
              "      <th>704641</th>\n",
              "      <td>0.9</td>\n",
              "      <td>0.3</td>\n",
              "      <td>26.4</td>\n",
              "      <td>257.6</td>\n",
              "      <td>144.5</td>\n",
              "      <td>0.6</td>\n",
              "      <td>1.1</td>\n",
              "      <td>0.8</td>\n",
              "      <td>1495.0</td>\n",
              "      <td>1.0</td>\n",
              "      <td>299</td>\n",
              "      <td>18.9</td>\n",
              "      <td>1</td>\n",
              "      <td>1</td>\n",
              "      <td>0.3</td>\n",
              "      <td>0.3</td>\n",
              "      <td>16.0</td>\n",
              "      <td>NaN</td>\n",
              "      <td>NaN</td>\n",
              "      <td>NaN</td>\n",
              "      <td>NaN</td>\n",
              "      <td>0.0</td>\n",
              "      <td>3</td>\n",
              "      <td>1.3</td>\n",
              "      <td>286.6</td>\n",
              "      <td>315.5</td>\n",
              "    </tr>\n",
              "    <tr>\n",
              "      <th>721964</th>\n",
              "      <td>2.8</td>\n",
              "      <td>0.7</td>\n",
              "      <td>23.8</td>\n",
              "      <td>277.5</td>\n",
              "      <td>115.4</td>\n",
              "      <td>0.9</td>\n",
              "      <td>4.6</td>\n",
              "      <td>4.6</td>\n",
              "      <td>8438.0</td>\n",
              "      <td>0.0</td>\n",
              "      <td>317</td>\n",
              "      <td>17.9</td>\n",
              "      <td>1</td>\n",
              "      <td>0</td>\n",
              "      <td>0.7</td>\n",
              "      <td>0.3</td>\n",
              "      <td>5.2</td>\n",
              "      <td>NaN</td>\n",
              "      <td>NaN</td>\n",
              "      <td>NaN</td>\n",
              "      <td>NaN</td>\n",
              "      <td>0.1</td>\n",
              "      <td>1</td>\n",
              "      <td>0.2</td>\n",
              "      <td>1678.0</td>\n",
              "      <td>350.9</td>\n",
              "    </tr>\n",
              "    <tr>\n",
              "      <th>729174</th>\n",
              "      <td>2.4</td>\n",
              "      <td>0.5</td>\n",
              "      <td>48.0</td>\n",
              "      <td>114.6</td>\n",
              "      <td>12.8</td>\n",
              "      <td>1.1</td>\n",
              "      <td>3.7</td>\n",
              "      <td>3.8</td>\n",
              "      <td>1458.0</td>\n",
              "      <td>1.0</td>\n",
              "      <td>266</td>\n",
              "      <td>18.8</td>\n",
              "      <td>1</td>\n",
              "      <td>0</td>\n",
              "      <td>1.6</td>\n",
              "      <td>0.0</td>\n",
              "      <td>6.8</td>\n",
              "      <td>NaN</td>\n",
              "      <td>NaN</td>\n",
              "      <td>NaN</td>\n",
              "      <td>NaN</td>\n",
              "      <td>0.1</td>\n",
              "      <td>0</td>\n",
              "      <td>0.3</td>\n",
              "      <td>1380.8</td>\n",
              "      <td>44.7</td>\n",
              "    </tr>\n",
              "  </tbody>\n",
              "</table>\n",
              "<p>11154 rows × 26 columns</p>\n",
              "</div>"
            ],
            "text/plain": [
              "          a    e     i     om      w    q  ...    G  moid  class    n     per     ma\n",
              "0       2.8  0.1  10.6   80.3   73.6  2.6  ...  0.1   1.6      6  0.2  1683.1   77.4\n",
              "1       2.8  0.2  34.8  173.1  310.0  2.1  ...  0.1   1.2      6  0.2  1686.2   59.7\n",
              "2       2.7  0.3  13.0  169.9  248.1  2.0  ...  0.3   1.0      6  0.2  1592.8   34.9\n",
              "3       2.4  0.1   7.1  103.8  150.7  2.2  ...  0.3   1.1      6  0.3  1325.4   95.9\n",
              "4       2.6  0.2   5.4  141.6  358.7  2.1  ...  NaN   1.1      6  0.2  1508.6  282.4\n",
              "...     ...  ...   ...    ...    ...  ...  ...  ...   ...    ...  ...     ...    ...\n",
              "694201  2.3  0.6  12.2  182.7  325.8  1.0  ...  NaN   0.0      1  0.3  1240.3  188.0\n",
              "699814  2.3  0.6  25.5  178.8   82.0  1.0  ...  NaN   0.3      1  0.3  1237.1  158.0\n",
              "704641  0.9  0.3  26.4  257.6  144.5  0.6  ...  NaN   0.0      3  1.3   286.6  315.5\n",
              "721964  2.8  0.7  23.8  277.5  115.4  0.9  ...  NaN   0.1      1  0.2  1678.0  350.9\n",
              "729174  2.4  0.5  48.0  114.6   12.8  1.1  ...  NaN   0.1      0  0.3  1380.8   44.7\n",
              "\n",
              "[11154 rows x 26 columns]"
            ]
          },
          "metadata": {
            "tags": []
          },
          "execution_count": 109
        }
      ]
    },
    {
      "cell_type": "code",
      "metadata": {
        "colab": {
          "base_uri": "https://localhost:8080/"
        },
        "id": "Ic98bw18L1TW",
        "outputId": "26a8c666-bf5a-4f77-a195-33dd8fa9ebae"
      },
      "source": [
        "data.isnull().sum()/data.shape[0] * 100"
      ],
      "execution_count": 110,
      "outputs": [
        {
          "output_type": "execute_result",
          "data": {
            "text/plain": [
              "a                  0.000000\n",
              "e                  0.000000\n",
              "i                  0.000000\n",
              "om                 0.000000\n",
              "w                  0.000000\n",
              "q                  0.000000\n",
              "ad                 0.000000\n",
              "per_y              0.000000\n",
              "data_arc           0.000000\n",
              "condition_code     0.000000\n",
              "n_obs_used         0.000000\n",
              "H                  0.000000\n",
              "neo                0.000000\n",
              "pha                0.000000\n",
              "diameter           0.000000\n",
              "albedo             0.000000\n",
              "rot_per            0.000000\n",
              "GM                99.892415\n",
              "BV                91.231845\n",
              "UB                91.590461\n",
              "G                 98.951049\n",
              "moid               0.000000\n",
              "class              0.000000\n",
              "n                  0.000000\n",
              "per                0.000000\n",
              "ma                 0.000000\n",
              "dtype: float64"
            ]
          },
          "metadata": {
            "tags": []
          },
          "execution_count": 110
        }
      ]
    },
    {
      "cell_type": "code",
      "metadata": {
        "colab": {
          "base_uri": "https://localhost:8080/",
          "height": 0
        },
        "id": "VHMF-WQKMDKv",
        "outputId": "d7e73293-bb97-4395-dc71-6852b6d86074"
      },
      "source": [
        "# Drop columns with NaN\n",
        "data.drop(['GM','BV','UB','G'], axis=1, inplace=True)\n",
        "data.head()"
      ],
      "execution_count": 111,
      "outputs": [
        {
          "output_type": "execute_result",
          "data": {
            "text/html": [
              "<div>\n",
              "<style scoped>\n",
              "    .dataframe tbody tr th:only-of-type {\n",
              "        vertical-align: middle;\n",
              "    }\n",
              "\n",
              "    .dataframe tbody tr th {\n",
              "        vertical-align: top;\n",
              "    }\n",
              "\n",
              "    .dataframe thead th {\n",
              "        text-align: right;\n",
              "    }\n",
              "</style>\n",
              "<table border=\"1\" class=\"dataframe\">\n",
              "  <thead>\n",
              "    <tr style=\"text-align: right;\">\n",
              "      <th></th>\n",
              "      <th>a</th>\n",
              "      <th>e</th>\n",
              "      <th>i</th>\n",
              "      <th>om</th>\n",
              "      <th>w</th>\n",
              "      <th>q</th>\n",
              "      <th>ad</th>\n",
              "      <th>per_y</th>\n",
              "      <th>data_arc</th>\n",
              "      <th>condition_code</th>\n",
              "      <th>n_obs_used</th>\n",
              "      <th>H</th>\n",
              "      <th>neo</th>\n",
              "      <th>pha</th>\n",
              "      <th>diameter</th>\n",
              "      <th>albedo</th>\n",
              "      <th>rot_per</th>\n",
              "      <th>moid</th>\n",
              "      <th>class</th>\n",
              "      <th>n</th>\n",
              "      <th>per</th>\n",
              "      <th>ma</th>\n",
              "    </tr>\n",
              "  </thead>\n",
              "  <tbody>\n",
              "    <tr>\n",
              "      <th>0</th>\n",
              "      <td>2.769165</td>\n",
              "      <td>0.076009</td>\n",
              "      <td>10.594067</td>\n",
              "      <td>80.305532</td>\n",
              "      <td>73.597694</td>\n",
              "      <td>2.558684</td>\n",
              "      <td>2.979647</td>\n",
              "      <td>4.608202</td>\n",
              "      <td>8822.0</td>\n",
              "      <td>0.0</td>\n",
              "      <td>1002</td>\n",
              "      <td>3.34</td>\n",
              "      <td>0</td>\n",
              "      <td>0</td>\n",
              "      <td>939.400</td>\n",
              "      <td>0.0900</td>\n",
              "      <td>9.074170</td>\n",
              "      <td>1.59478</td>\n",
              "      <td>6</td>\n",
              "      <td>0.213885</td>\n",
              "      <td>1683.145708</td>\n",
              "      <td>77.372096</td>\n",
              "    </tr>\n",
              "    <tr>\n",
              "      <th>1</th>\n",
              "      <td>2.772466</td>\n",
              "      <td>0.230337</td>\n",
              "      <td>34.836234</td>\n",
              "      <td>173.080063</td>\n",
              "      <td>310.048857</td>\n",
              "      <td>2.133865</td>\n",
              "      <td>3.411067</td>\n",
              "      <td>4.616444</td>\n",
              "      <td>72318.0</td>\n",
              "      <td>0.0</td>\n",
              "      <td>8490</td>\n",
              "      <td>4.13</td>\n",
              "      <td>0</td>\n",
              "      <td>0</td>\n",
              "      <td>545.000</td>\n",
              "      <td>0.1010</td>\n",
              "      <td>7.813200</td>\n",
              "      <td>1.23324</td>\n",
              "      <td>6</td>\n",
              "      <td>0.213503</td>\n",
              "      <td>1686.155999</td>\n",
              "      <td>59.699133</td>\n",
              "    </tr>\n",
              "    <tr>\n",
              "      <th>2</th>\n",
              "      <td>2.669150</td>\n",
              "      <td>0.256942</td>\n",
              "      <td>12.988919</td>\n",
              "      <td>169.852760</td>\n",
              "      <td>248.138626</td>\n",
              "      <td>1.983332</td>\n",
              "      <td>3.354967</td>\n",
              "      <td>4.360814</td>\n",
              "      <td>72684.0</td>\n",
              "      <td>0.0</td>\n",
              "      <td>7104</td>\n",
              "      <td>5.33</td>\n",
              "      <td>0</td>\n",
              "      <td>0</td>\n",
              "      <td>246.596</td>\n",
              "      <td>0.2140</td>\n",
              "      <td>7.210000</td>\n",
              "      <td>1.03454</td>\n",
              "      <td>6</td>\n",
              "      <td>0.226019</td>\n",
              "      <td>1592.787285</td>\n",
              "      <td>34.925016</td>\n",
              "    </tr>\n",
              "    <tr>\n",
              "      <th>3</th>\n",
              "      <td>2.361418</td>\n",
              "      <td>0.088721</td>\n",
              "      <td>7.141771</td>\n",
              "      <td>103.810804</td>\n",
              "      <td>150.728541</td>\n",
              "      <td>2.151909</td>\n",
              "      <td>2.570926</td>\n",
              "      <td>3.628837</td>\n",
              "      <td>24288.0</td>\n",
              "      <td>0.0</td>\n",
              "      <td>9325</td>\n",
              "      <td>3.20</td>\n",
              "      <td>0</td>\n",
              "      <td>0</td>\n",
              "      <td>525.400</td>\n",
              "      <td>0.4228</td>\n",
              "      <td>5.342128</td>\n",
              "      <td>1.13948</td>\n",
              "      <td>6</td>\n",
              "      <td>0.271609</td>\n",
              "      <td>1325.432765</td>\n",
              "      <td>95.861936</td>\n",
              "    </tr>\n",
              "    <tr>\n",
              "      <th>4</th>\n",
              "      <td>2.574249</td>\n",
              "      <td>0.191095</td>\n",
              "      <td>5.366988</td>\n",
              "      <td>141.576605</td>\n",
              "      <td>358.687607</td>\n",
              "      <td>2.082324</td>\n",
              "      <td>3.066174</td>\n",
              "      <td>4.130323</td>\n",
              "      <td>63507.0</td>\n",
              "      <td>0.0</td>\n",
              "      <td>2916</td>\n",
              "      <td>6.85</td>\n",
              "      <td>0</td>\n",
              "      <td>0</td>\n",
              "      <td>106.699</td>\n",
              "      <td>0.2740</td>\n",
              "      <td>16.806000</td>\n",
              "      <td>1.09589</td>\n",
              "      <td>6</td>\n",
              "      <td>0.238632</td>\n",
              "      <td>1508.600458</td>\n",
              "      <td>282.366289</td>\n",
              "    </tr>\n",
              "  </tbody>\n",
              "</table>\n",
              "</div>"
            ],
            "text/plain": [
              "          a         e          i  ...         n          per          ma\n",
              "0  2.769165  0.076009  10.594067  ...  0.213885  1683.145708   77.372096\n",
              "1  2.772466  0.230337  34.836234  ...  0.213503  1686.155999   59.699133\n",
              "2  2.669150  0.256942  12.988919  ...  0.226019  1592.787285   34.925016\n",
              "3  2.361418  0.088721   7.141771  ...  0.271609  1325.432765   95.861936\n",
              "4  2.574249  0.191095   5.366988  ...  0.238632  1508.600458  282.366289\n",
              "\n",
              "[5 rows x 22 columns]"
            ]
          },
          "metadata": {
            "tags": []
          },
          "execution_count": 111
        }
      ]
    },
    {
      "cell_type": "markdown",
      "metadata": {
        "id": "ACjd3s9T5cGD"
      },
      "source": [
        "# 1.3 Performing Feature Importance Using Random Forest Gini Index and Permutation Feature Importance\n"
      ]
    },
    {
      "cell_type": "code",
      "metadata": {
        "colab": {
          "base_uri": "https://localhost:8080/"
        },
        "id": "WhYVlHaY70fd",
        "outputId": "32e17639-972a-4cdb-f289-6421879f3717"
      },
      "source": [
        "!pip install shap"
      ],
      "execution_count": 20,
      "outputs": [
        {
          "output_type": "stream",
          "text": [
            "Requirement already satisfied: shap in /usr/local/lib/python3.6/dist-packages (0.38.1)\n",
            "Requirement already satisfied: scipy in /usr/local/lib/python3.6/dist-packages (from shap) (1.4.1)\n",
            "Requirement already satisfied: pandas in /usr/local/lib/python3.6/dist-packages (from shap) (1.1.5)\n",
            "Requirement already satisfied: cloudpickle in /usr/local/lib/python3.6/dist-packages (from shap) (1.3.0)\n",
            "Requirement already satisfied: numba in /usr/local/lib/python3.6/dist-packages (from shap) (0.51.2)\n",
            "Requirement already satisfied: scikit-learn in /usr/local/lib/python3.6/dist-packages (from shap) (0.22.2.post1)\n",
            "Requirement already satisfied: numpy in /usr/local/lib/python3.6/dist-packages (from shap) (1.19.5)\n",
            "Requirement already satisfied: tqdm>4.25.0 in /usr/local/lib/python3.6/dist-packages (from shap) (4.41.1)\n",
            "Requirement already satisfied: slicer==0.0.7 in /usr/local/lib/python3.6/dist-packages (from shap) (0.0.7)\n",
            "Requirement already satisfied: python-dateutil>=2.7.3 in /usr/local/lib/python3.6/dist-packages (from pandas->shap) (2.8.1)\n",
            "Requirement already satisfied: pytz>=2017.2 in /usr/local/lib/python3.6/dist-packages (from pandas->shap) (2018.9)\n",
            "Requirement already satisfied: llvmlite<0.35,>=0.34.0.dev0 in /usr/local/lib/python3.6/dist-packages (from numba->shap) (0.34.0)\n",
            "Requirement already satisfied: setuptools in /usr/local/lib/python3.6/dist-packages (from numba->shap) (53.0.0)\n",
            "Requirement already satisfied: joblib>=0.11 in /usr/local/lib/python3.6/dist-packages (from scikit-learn->shap) (1.0.0)\n",
            "Requirement already satisfied: six>=1.5 in /usr/local/lib/python3.6/dist-packages (from python-dateutil>=2.7.3->pandas->shap) (1.15.0)\n"
          ],
          "name": "stdout"
        }
      ]
    },
    {
      "cell_type": "code",
      "metadata": {
        "id": "TT6Tt5Y35bSk"
      },
      "source": [
        "# Let's load the packages\n",
        "import numpy as np\n",
        "import pandas as pd\n",
        "from sklearn.datasets import load_boston\n",
        "from sklearn.model_selection import train_test_split\n",
        "from sklearn.ensemble import RandomForestRegressor\n",
        "from sklearn.inspection import permutation_importance\n",
        "import shap\n",
        "from matplotlib import pyplot as plt\n",
        "\n",
        "plt.rcParams.update({'figure.figsize': (12.0, 8.0)})\n",
        "plt.rcParams.update({'font.size': 14})"
      ],
      "execution_count": 21,
      "outputs": []
    },
    {
      "cell_type": "code",
      "metadata": {
        "id": "BAJ52GiV5oB4"
      },
      "source": [
        "# Load the data set and split for training and testing.\n",
        "column_name=['a','e','i','om','w','q','ad','per_y','data_arc','condition_code','n_obs_used','H','neo','pha','diameter','albedo','rot_per',\n",
        "                                'moid','class','n','per','ma']\n",
        "X = pd.DataFrame(data, columns=column_name) \n",
        "y = pd.DataFrame(data, columns=column_name)\n",
        "X_train, X_test, y_train, y_test = train_test_split(X, y, test_size=0.25, random_state=12)"
      ],
      "execution_count": 22,
      "outputs": []
    },
    {
      "cell_type": "code",
      "metadata": {
        "id": "TNGd6K_nx55o"
      },
      "source": [
        "# print(X)"
      ],
      "execution_count": null,
      "outputs": []
    },
    {
      "cell_type": "code",
      "metadata": {
        "id": "FIvOk7Prx6Ep"
      },
      "source": [
        "# print(y)"
      ],
      "execution_count": null,
      "outputs": []
    },
    {
      "cell_type": "code",
      "metadata": {
        "colab": {
          "base_uri": "https://localhost:8080/"
        },
        "id": "ELPfz1dnSdIx",
        "outputId": "9c08ebbc-daed-4b2a-a41e-c80d1d772af1"
      },
      "source": [
        "# Fit the Random Forest Regressor with 100 Decision Trees:\n",
        "rf = RandomForestRegressor(n_estimators=100)\n",
        "rf.fit(X_train, y_train)"
      ],
      "execution_count": 22,
      "outputs": [
        {
          "output_type": "execute_result",
          "data": {
            "text/plain": [
              "RandomForestRegressor(bootstrap=True, ccp_alpha=0.0, criterion='mse',\n",
              "                      max_depth=None, max_features='auto', max_leaf_nodes=None,\n",
              "                      max_samples=None, min_impurity_decrease=0.0,\n",
              "                      min_impurity_split=None, min_samples_leaf=1,\n",
              "                      min_samples_split=2, min_weight_fraction_leaf=0.0,\n",
              "                      n_estimators=100, n_jobs=None, oob_score=False,\n",
              "                      random_state=None, verbose=0, warm_start=False)"
            ]
          },
          "metadata": {
            "tags": []
          },
          "execution_count": 22
        }
      ]
    },
    {
      "cell_type": "code",
      "metadata": {
        "colab": {
          "base_uri": "https://localhost:8080/"
        },
        "id": "SEAmejCoS4xN",
        "outputId": "4211150c-81d1-4fa3-92b5-88757f2ad198"
      },
      "source": [
        "# To get the feature importances from the Random Forest model use the feature_importances_ argument:\n",
        "rf.feature_importances_"
      ],
      "execution_count": 23,
      "outputs": [
        {
          "output_type": "execute_result",
          "data": {
            "text/plain": [
              "array([5.08328073e-03, 3.98818602e-04, 1.34715508e-03, 1.83969464e-04,\n",
              "       1.15778507e-04, 9.55284899e-04, 8.11487803e-03, 4.00978207e-03,\n",
              "       9.41472065e-01, 5.38279103e-04, 2.15789600e-03, 7.37119460e-04,\n",
              "       1.28910963e-05, 2.18123761e-06, 2.27331717e-03, 4.24803353e-05,\n",
              "       1.80922891e-04, 1.79923002e-03, 7.99519630e-03, 1.51278698e-02,\n",
              "       7.15978298e-03, 2.91821055e-04])"
            ]
          },
          "metadata": {
            "tags": []
          },
          "execution_count": 23
        }
      ]
    },
    {
      "cell_type": "code",
      "metadata": {
        "colab": {
          "base_uri": "https://localhost:8080/",
          "height": 504
        },
        "id": "R518rOym45_0",
        "outputId": "209c8c2a-1148-40f4-9296-9fefbe98599d"
      },
      "source": [
        "# Let’s plot the importances (chart will be easier to interpret than values).\n",
        "plt.barh(data.columns, rf.feature_importances_)"
      ],
      "execution_count": 24,
      "outputs": [
        {
          "output_type": "execute_result",
          "data": {
            "text/plain": [
              "<BarContainer object of 22 artists>"
            ]
          },
          "metadata": {
            "tags": []
          },
          "execution_count": 24
        },
        {
          "output_type": "display_data",
          "data": {
            "image/png": "[encoded data removed]",
            "text/plain": [
              "<Figure size 864x576 with 1 Axes>"
            ]
          },
          "metadata": {
            "tags": [],
            "needs_background": "light"
          }
        }
      ]
    },
    {
      "cell_type": "code",
      "metadata": {
        "colab": {
          "base_uri": "https://localhost:8080/",
          "height": 522
        },
        "id": "0Sz_3P_UTBDe",
        "outputId": "6c0cc94e-f063-44b3-ea9e-fb3076f20d07"
      },
      "source": [
        "# To have an even better chart, let’s sort the features, and plot again:\n",
        "sorted_idx = rf.feature_importances_.argsort()\n",
        "plt.barh(data.columns[sorted_idx], rf.feature_importances_[sorted_idx])\n",
        "plt.xlabel(\"Random Forest Feature Importance\")"
      ],
      "execution_count": 25,
      "outputs": [
        {
          "output_type": "execute_result",
          "data": {
            "text/plain": [
              "Text(0.5, 0, 'Random Forest Feature Importance')"
            ]
          },
          "metadata": {
            "tags": []
          },
          "execution_count": 25
        },
        {
          "output_type": "display_data",
          "data": {
            "image/png": "[encoded data removed]",
            "text/plain": [
              "<Figure size 864x576 with 1 Axes>"
            ]
          },
          "metadata": {
            "tags": [],
            "needs_background": "light"
          }
        }
      ]
    },
    {
      "cell_type": "code",
      "metadata": {
        "colab": {
          "base_uri": "https://localhost:8080/"
        },
        "id": "NwQiDLC7wR_C",
        "outputId": "87f11059-323b-4b77-e049-09f81c7edd0e"
      },
      "source": [
        "# Permutation-based Importance\n",
        "# The permutation-based importance can be used to overcome drawbacks of default feature importance computed with mean impurity decrease. \n",
        "# It is implemented in scikit-learn as permutation_importance method.\n",
        "perm_importance = permutation_importance(rf, X_test, y_test)"
      ],
      "execution_count": 26,
      "outputs": [
        {
          "output_type": "stream",
          "text": [
            "The default value of multioutput (not exposed in score method) will change from 'variance_weighted' to 'uniform_average' in 0.23 to keep consistent with 'metrics.r2_score'. To specify the default value manually and avoid the warning, please either call 'metrics.r2_score' directly or make a custom scorer with 'metrics.make_scorer' (the built-in scorer 'r2' uses multioutput='uniform_average').\n",
            "The default value of multioutput (not exposed in score method) will change from 'variance_weighted' to 'uniform_average' in 0.23 to keep consistent with 'metrics.r2_score'. To specify the default value manually and avoid the warning, please either call 'metrics.r2_score' directly or make a custom scorer with 'metrics.make_scorer' (the built-in scorer 'r2' uses multioutput='uniform_average').\n",
            "The default value of multioutput (not exposed in score method) will change from 'variance_weighted' to 'uniform_average' in 0.23 to keep consistent with 'metrics.r2_score'. To specify the default value manually and avoid the warning, please either call 'metrics.r2_score' directly or make a custom scorer with 'metrics.make_scorer' (the built-in scorer 'r2' uses multioutput='uniform_average').\n",
            "The default value of multioutput (not exposed in score method) will change from 'variance_weighted' to 'uniform_average' in 0.23 to keep consistent with 'metrics.r2_score'. To specify the default value manually and avoid the warning, please either call 'metrics.r2_score' directly or make a custom scorer with 'metrics.make_scorer' (the built-in scorer 'r2' uses multioutput='uniform_average').\n",
            "The default value of multioutput (not exposed in score method) will change from 'variance_weighted' to 'uniform_average' in 0.23 to keep consistent with 'metrics.r2_score'. To specify the default value manually and avoid the warning, please either call 'metrics.r2_score' directly or make a custom scorer with 'metrics.make_scorer' (the built-in scorer 'r2' uses multioutput='uniform_average').\n",
            "The default value of multioutput (not exposed in score method) will change from 'variance_weighted' to 'uniform_average' in 0.23 to keep consistent with 'metrics.r2_score'. To specify the default value manually and avoid the warning, please either call 'metrics.r2_score' directly or make a custom scorer with 'metrics.make_scorer' (the built-in scorer 'r2' uses multioutput='uniform_average').\n",
            "The default value of multioutput (not exposed in score method) will change from 'variance_weighted' to 'uniform_average' in 0.23 to keep consistent with 'metrics.r2_score'. To specify the default value manually and avoid the warning, please either call 'metrics.r2_score' directly or make a custom scorer with 'metrics.make_scorer' (the built-in scorer 'r2' uses multioutput='uniform_average').\n",
            "The default value of multioutput (not exposed in score method) will change from 'variance_weighted' to 'uniform_average' in 0.23 to keep consistent with 'metrics.r2_score'. To specify the default value manually and avoid the warning, please either call 'metrics.r2_score' directly or make a custom scorer with 'metrics.make_scorer' (the built-in scorer 'r2' uses multioutput='uniform_average').\n",
            "The default value of multioutput (not exposed in score method) will change from 'variance_weighted' to 'uniform_average' in 0.23 to keep consistent with 'metrics.r2_score'. To specify the default value manually and avoid the warning, please either call 'metrics.r2_score' directly or make a custom scorer with 'metrics.make_scorer' (the built-in scorer 'r2' uses multioutput='uniform_average').\n",
            "The default value of multioutput (not exposed in score method) will change from 'variance_weighted' to 'uniform_average' in 0.23 to keep consistent with 'metrics.r2_score'. To specify the default value manually and avoid the warning, please either call 'metrics.r2_score' directly or make a custom scorer with 'metrics.make_scorer' (the built-in scorer 'r2' uses multioutput='uniform_average').\n",
            "The default value of multioutput (not exposed in score method) will change from 'variance_weighted' to 'uniform_average' in 0.23 to keep consistent with 'metrics.r2_score'. To specify the default value manually and avoid the warning, please either call 'metrics.r2_score' directly or make a custom scorer with 'metrics.make_scorer' (the built-in scorer 'r2' uses multioutput='uniform_average').\n",
            "The default value of multioutput (not exposed in score method) will change from 'variance_weighted' to 'uniform_average' in 0.23 to keep consistent with 'metrics.r2_score'. To specify the default value manually and avoid the warning, please either call 'metrics.r2_score' directly or make a custom scorer with 'metrics.make_scorer' (the built-in scorer 'r2' uses multioutput='uniform_average').\n",
            "The default value of multioutput (not exposed in score method) will change from 'variance_weighted' to 'uniform_average' in 0.23 to keep consistent with 'metrics.r2_score'. To specify the default value manually and avoid the warning, please either call 'metrics.r2_score' directly or make a custom scorer with 'metrics.make_scorer' (the built-in scorer 'r2' uses multioutput='uniform_average').\n",
            "The default value of multioutput (not exposed in score method) will change from 'variance_weighted' to 'uniform_average' in 0.23 to keep consistent with 'metrics.r2_score'. To specify the default value manually and avoid the warning, please either call 'metrics.r2_score' directly or make a custom scorer with 'metrics.make_scorer' (the built-in scorer 'r2' uses multioutput='uniform_average').\n",
            "The default value of multioutput (not exposed in score method) will change from 'variance_weighted' to 'uniform_average' in 0.23 to keep consistent with 'metrics.r2_score'. To specify the default value manually and avoid the warning, please either call 'metrics.r2_score' directly or make a custom scorer with 'metrics.make_scorer' (the built-in scorer 'r2' uses multioutput='uniform_average').\n",
            "The default value of multioutput (not exposed in score method) will change from 'variance_weighted' to 'uniform_average' in 0.23 to keep consistent with 'metrics.r2_score'. To specify the default value manually and avoid the warning, please either call 'metrics.r2_score' directly or make a custom scorer with 'metrics.make_scorer' (the built-in scorer 'r2' uses multioutput='uniform_average').\n",
            "The default value of multioutput (not exposed in score method) will change from 'variance_weighted' to 'uniform_average' in 0.23 to keep consistent with 'metrics.r2_score'. To specify the default value manually and avoid the warning, please either call 'metrics.r2_score' directly or make a custom scorer with 'metrics.make_scorer' (the built-in scorer 'r2' uses multioutput='uniform_average').\n",
            "The default value of multioutput (not exposed in score method) will change from 'variance_weighted' to 'uniform_average' in 0.23 to keep consistent with 'metrics.r2_score'. To specify the default value manually and avoid the warning, please either call 'metrics.r2_score' directly or make a custom scorer with 'metrics.make_scorer' (the built-in scorer 'r2' uses multioutput='uniform_average').\n",
            "The default value of multioutput (not exposed in score method) will change from 'variance_weighted' to 'uniform_average' in 0.23 to keep consistent with 'metrics.r2_score'. To specify the default value manually and avoid the warning, please either call 'metrics.r2_score' directly or make a custom scorer with 'metrics.make_scorer' (the built-in scorer 'r2' uses multioutput='uniform_average').\n",
            "The default value of multioutput (not exposed in score method) will change from 'variance_weighted' to 'uniform_average' in 0.23 to keep consistent with 'metrics.r2_score'. To specify the default value manually and avoid the warning, please either call 'metrics.r2_score' directly or make a custom scorer with 'metrics.make_scorer' (the built-in scorer 'r2' uses multioutput='uniform_average').\n",
            "The default value of multioutput (not exposed in score method) will change from 'variance_weighted' to 'uniform_average' in 0.23 to keep consistent with 'metrics.r2_score'. To specify the default value manually and avoid the warning, please either call 'metrics.r2_score' directly or make a custom scorer with 'metrics.make_scorer' (the built-in scorer 'r2' uses multioutput='uniform_average').\n",
            "The default value of multioutput (not exposed in score method) will change from 'variance_weighted' to 'uniform_average' in 0.23 to keep consistent with 'metrics.r2_score'. To specify the default value manually and avoid the warning, please either call 'metrics.r2_score' directly or make a custom scorer with 'metrics.make_scorer' (the built-in scorer 'r2' uses multioutput='uniform_average').\n",
            "The default value of multioutput (not exposed in score method) will change from 'variance_weighted' to 'uniform_average' in 0.23 to keep consistent with 'metrics.r2_score'. To specify the default value manually and avoid the warning, please either call 'metrics.r2_score' directly or make a custom scorer with 'metrics.make_scorer' (the built-in scorer 'r2' uses multioutput='uniform_average').\n",
            "The default value of multioutput (not exposed in score method) will change from 'variance_weighted' to 'uniform_average' in 0.23 to keep consistent with 'metrics.r2_score'. To specify the default value manually and avoid the warning, please either call 'metrics.r2_score' directly or make a custom scorer with 'metrics.make_scorer' (the built-in scorer 'r2' uses multioutput='uniform_average').\n",
            "The default value of multioutput (not exposed in score method) will change from 'variance_weighted' to 'uniform_average' in 0.23 to keep consistent with 'metrics.r2_score'. To specify the default value manually and avoid the warning, please either call 'metrics.r2_score' directly or make a custom scorer with 'metrics.make_scorer' (the built-in scorer 'r2' uses multioutput='uniform_average').\n",
            "The default value of multioutput (not exposed in score method) will change from 'variance_weighted' to 'uniform_average' in 0.23 to keep consistent with 'metrics.r2_score'. To specify the default value manually and avoid the warning, please either call 'metrics.r2_score' directly or make a custom scorer with 'metrics.make_scorer' (the built-in scorer 'r2' uses multioutput='uniform_average').\n",
            "The default value of multioutput (not exposed in score method) will change from 'variance_weighted' to 'uniform_average' in 0.23 to keep consistent with 'metrics.r2_score'. To specify the default value manually and avoid the warning, please either call 'metrics.r2_score' directly or make a custom scorer with 'metrics.make_scorer' (the built-in scorer 'r2' uses multioutput='uniform_average').\n",
            "The default value of multioutput (not exposed in score method) will change from 'variance_weighted' to 'uniform_average' in 0.23 to keep consistent with 'metrics.r2_score'. To specify the default value manually and avoid the warning, please either call 'metrics.r2_score' directly or make a custom scorer with 'metrics.make_scorer' (the built-in scorer 'r2' uses multioutput='uniform_average').\n",
            "The default value of multioutput (not exposed in score method) will change from 'variance_weighted' to 'uniform_average' in 0.23 to keep consistent with 'metrics.r2_score'. To specify the default value manually and avoid the warning, please either call 'metrics.r2_score' directly or make a custom scorer with 'metrics.make_scorer' (the built-in scorer 'r2' uses multioutput='uniform_average').\n",
            "The default value of multioutput (not exposed in score method) will change from 'variance_weighted' to 'uniform_average' in 0.23 to keep consistent with 'metrics.r2_score'. To specify the default value manually and avoid the warning, please either call 'metrics.r2_score' directly or make a custom scorer with 'metrics.make_scorer' (the built-in scorer 'r2' uses multioutput='uniform_average').\n",
            "The default value of multioutput (not exposed in score method) will change from 'variance_weighted' to 'uniform_average' in 0.23 to keep consistent with 'metrics.r2_score'. To specify the default value manually and avoid the warning, please either call 'metrics.r2_score' directly or make a custom scorer with 'metrics.make_scorer' (the built-in scorer 'r2' uses multioutput='uniform_average').\n",
            "The default value of multioutput (not exposed in score method) will change from 'variance_weighted' to 'uniform_average' in 0.23 to keep consistent with 'metrics.r2_score'. To specify the default value manually and avoid the warning, please either call 'metrics.r2_score' directly or make a custom scorer with 'metrics.make_scorer' (the built-in scorer 'r2' uses multioutput='uniform_average').\n",
            "The default value of multioutput (not exposed in score method) will change from 'variance_weighted' to 'uniform_average' in 0.23 to keep consistent with 'metrics.r2_score'. To specify the default value manually and avoid the warning, please either call 'metrics.r2_score' directly or make a custom scorer with 'metrics.make_scorer' (the built-in scorer 'r2' uses multioutput='uniform_average').\n",
            "The default value of multioutput (not exposed in score method) will change from 'variance_weighted' to 'uniform_average' in 0.23 to keep consistent with 'metrics.r2_score'. To specify the default value manually and avoid the warning, please either call 'metrics.r2_score' directly or make a custom scorer with 'metrics.make_scorer' (the built-in scorer 'r2' uses multioutput='uniform_average').\n",
            "The default value of multioutput (not exposed in score method) will change from 'variance_weighted' to 'uniform_average' in 0.23 to keep consistent with 'metrics.r2_score'. To specify the default value manually and avoid the warning, please either call 'metrics.r2_score' directly or make a custom scorer with 'metrics.make_scorer' (the built-in scorer 'r2' uses multioutput='uniform_average').\n",
            "The default value of multioutput (not exposed in score method) will change from 'variance_weighted' to 'uniform_average' in 0.23 to keep consistent with 'metrics.r2_score'. To specify the default value manually and avoid the warning, please either call 'metrics.r2_score' directly or make a custom scorer with 'metrics.make_scorer' (the built-in scorer 'r2' uses multioutput='uniform_average').\n",
            "The default value of multioutput (not exposed in score method) will change from 'variance_weighted' to 'uniform_average' in 0.23 to keep consistent with 'metrics.r2_score'. To specify the default value manually and avoid the warning, please either call 'metrics.r2_score' directly or make a custom scorer with 'metrics.make_scorer' (the built-in scorer 'r2' uses multioutput='uniform_average').\n",
            "The default value of multioutput (not exposed in score method) will change from 'variance_weighted' to 'uniform_average' in 0.23 to keep consistent with 'metrics.r2_score'. To specify the default value manually and avoid the warning, please either call 'metrics.r2_score' directly or make a custom scorer with 'metrics.make_scorer' (the built-in scorer 'r2' uses multioutput='uniform_average').\n",
            "The default value of multioutput (not exposed in score method) will change from 'variance_weighted' to 'uniform_average' in 0.23 to keep consistent with 'metrics.r2_score'. To specify the default value manually and avoid the warning, please either call 'metrics.r2_score' directly or make a custom scorer with 'metrics.make_scorer' (the built-in scorer 'r2' uses multioutput='uniform_average').\n",
            "The default value of multioutput (not exposed in score method) will change from 'variance_weighted' to 'uniform_average' in 0.23 to keep consistent with 'metrics.r2_score'. To specify the default value manually and avoid the warning, please either call 'metrics.r2_score' directly or make a custom scorer with 'metrics.make_scorer' (the built-in scorer 'r2' uses multioutput='uniform_average').\n",
            "The default value of multioutput (not exposed in score method) will change from 'variance_weighted' to 'uniform_average' in 0.23 to keep consistent with 'metrics.r2_score'. To specify the default value manually and avoid the warning, please either call 'metrics.r2_score' directly or make a custom scorer with 'metrics.make_scorer' (the built-in scorer 'r2' uses multioutput='uniform_average').\n",
            "The default value of multioutput (not exposed in score method) will change from 'variance_weighted' to 'uniform_average' in 0.23 to keep consistent with 'metrics.r2_score'. To specify the default value manually and avoid the warning, please either call 'metrics.r2_score' directly or make a custom scorer with 'metrics.make_scorer' (the built-in scorer 'r2' uses multioutput='uniform_average').\n",
            "The default value of multioutput (not exposed in score method) will change from 'variance_weighted' to 'uniform_average' in 0.23 to keep consistent with 'metrics.r2_score'. To specify the default value manually and avoid the warning, please either call 'metrics.r2_score' directly or make a custom scorer with 'metrics.make_scorer' (the built-in scorer 'r2' uses multioutput='uniform_average').\n",
            "The default value of multioutput (not exposed in score method) will change from 'variance_weighted' to 'uniform_average' in 0.23 to keep consistent with 'metrics.r2_score'. To specify the default value manually and avoid the warning, please either call 'metrics.r2_score' directly or make a custom scorer with 'metrics.make_scorer' (the built-in scorer 'r2' uses multioutput='uniform_average').\n",
            "The default value of multioutput (not exposed in score method) will change from 'variance_weighted' to 'uniform_average' in 0.23 to keep consistent with 'metrics.r2_score'. To specify the default value manually and avoid the warning, please either call 'metrics.r2_score' directly or make a custom scorer with 'metrics.make_scorer' (the built-in scorer 'r2' uses multioutput='uniform_average').\n",
            "The default value of multioutput (not exposed in score method) will change from 'variance_weighted' to 'uniform_average' in 0.23 to keep consistent with 'metrics.r2_score'. To specify the default value manually and avoid the warning, please either call 'metrics.r2_score' directly or make a custom scorer with 'metrics.make_scorer' (the built-in scorer 'r2' uses multioutput='uniform_average').\n",
            "The default value of multioutput (not exposed in score method) will change from 'variance_weighted' to 'uniform_average' in 0.23 to keep consistent with 'metrics.r2_score'. To specify the default value manually and avoid the warning, please either call 'metrics.r2_score' directly or make a custom scorer with 'metrics.make_scorer' (the built-in scorer 'r2' uses multioutput='uniform_average').\n",
            "The default value of multioutput (not exposed in score method) will change from 'variance_weighted' to 'uniform_average' in 0.23 to keep consistent with 'metrics.r2_score'. To specify the default value manually and avoid the warning, please either call 'metrics.r2_score' directly or make a custom scorer with 'metrics.make_scorer' (the built-in scorer 'r2' uses multioutput='uniform_average').\n",
            "The default value of multioutput (not exposed in score method) will change from 'variance_weighted' to 'uniform_average' in 0.23 to keep consistent with 'metrics.r2_score'. To specify the default value manually and avoid the warning, please either call 'metrics.r2_score' directly or make a custom scorer with 'metrics.make_scorer' (the built-in scorer 'r2' uses multioutput='uniform_average').\n",
            "The default value of multioutput (not exposed in score method) will change from 'variance_weighted' to 'uniform_average' in 0.23 to keep consistent with 'metrics.r2_score'. To specify the default value manually and avoid the warning, please either call 'metrics.r2_score' directly or make a custom scorer with 'metrics.make_scorer' (the built-in scorer 'r2' uses multioutput='uniform_average').\n",
            "The default value of multioutput (not exposed in score method) will change from 'variance_weighted' to 'uniform_average' in 0.23 to keep consistent with 'metrics.r2_score'. To specify the default value manually and avoid the warning, please either call 'metrics.r2_score' directly or make a custom scorer with 'metrics.make_scorer' (the built-in scorer 'r2' uses multioutput='uniform_average').\n",
            "The default value of multioutput (not exposed in score method) will change from 'variance_weighted' to 'uniform_average' in 0.23 to keep consistent with 'metrics.r2_score'. To specify the default value manually and avoid the warning, please either call 'metrics.r2_score' directly or make a custom scorer with 'metrics.make_scorer' (the built-in scorer 'r2' uses multioutput='uniform_average').\n",
            "The default value of multioutput (not exposed in score method) will change from 'variance_weighted' to 'uniform_average' in 0.23 to keep consistent with 'metrics.r2_score'. To specify the default value manually and avoid the warning, please either call 'metrics.r2_score' directly or make a custom scorer with 'metrics.make_scorer' (the built-in scorer 'r2' uses multioutput='uniform_average').\n",
            "The default value of multioutput (not exposed in score method) will change from 'variance_weighted' to 'uniform_average' in 0.23 to keep consistent with 'metrics.r2_score'. To specify the default value manually and avoid the warning, please either call 'metrics.r2_score' directly or make a custom scorer with 'metrics.make_scorer' (the built-in scorer 'r2' uses multioutput='uniform_average').\n",
            "The default value of multioutput (not exposed in score method) will change from 'variance_weighted' to 'uniform_average' in 0.23 to keep consistent with 'metrics.r2_score'. To specify the default value manually and avoid the warning, please either call 'metrics.r2_score' directly or make a custom scorer with 'metrics.make_scorer' (the built-in scorer 'r2' uses multioutput='uniform_average').\n",
            "The default value of multioutput (not exposed in score method) will change from 'variance_weighted' to 'uniform_average' in 0.23 to keep consistent with 'metrics.r2_score'. To specify the default value manually and avoid the warning, please either call 'metrics.r2_score' directly or make a custom scorer with 'metrics.make_scorer' (the built-in scorer 'r2' uses multioutput='uniform_average').\n",
            "The default value of multioutput (not exposed in score method) will change from 'variance_weighted' to 'uniform_average' in 0.23 to keep consistent with 'metrics.r2_score'. To specify the default value manually and avoid the warning, please either call 'metrics.r2_score' directly or make a custom scorer with 'metrics.make_scorer' (the built-in scorer 'r2' uses multioutput='uniform_average').\n",
            "The default value of multioutput (not exposed in score method) will change from 'variance_weighted' to 'uniform_average' in 0.23 to keep consistent with 'metrics.r2_score'. To specify the default value manually and avoid the warning, please either call 'metrics.r2_score' directly or make a custom scorer with 'metrics.make_scorer' (the built-in scorer 'r2' uses multioutput='uniform_average').\n",
            "The default value of multioutput (not exposed in score method) will change from 'variance_weighted' to 'uniform_average' in 0.23 to keep consistent with 'metrics.r2_score'. To specify the default value manually and avoid the warning, please either call 'metrics.r2_score' directly or make a custom scorer with 'metrics.make_scorer' (the built-in scorer 'r2' uses multioutput='uniform_average').\n",
            "The default value of multioutput (not exposed in score method) will change from 'variance_weighted' to 'uniform_average' in 0.23 to keep consistent with 'metrics.r2_score'. To specify the default value manually and avoid the warning, please either call 'metrics.r2_score' directly or make a custom scorer with 'metrics.make_scorer' (the built-in scorer 'r2' uses multioutput='uniform_average').\n",
            "The default value of multioutput (not exposed in score method) will change from 'variance_weighted' to 'uniform_average' in 0.23 to keep consistent with 'metrics.r2_score'. To specify the default value manually and avoid the warning, please either call 'metrics.r2_score' directly or make a custom scorer with 'metrics.make_scorer' (the built-in scorer 'r2' uses multioutput='uniform_average').\n",
            "The default value of multioutput (not exposed in score method) will change from 'variance_weighted' to 'uniform_average' in 0.23 to keep consistent with 'metrics.r2_score'. To specify the default value manually and avoid the warning, please either call 'metrics.r2_score' directly or make a custom scorer with 'metrics.make_scorer' (the built-in scorer 'r2' uses multioutput='uniform_average').\n",
            "The default value of multioutput (not exposed in score method) will change from 'variance_weighted' to 'uniform_average' in 0.23 to keep consistent with 'metrics.r2_score'. To specify the default value manually and avoid the warning, please either call 'metrics.r2_score' directly or make a custom scorer with 'metrics.make_scorer' (the built-in scorer 'r2' uses multioutput='uniform_average').\n",
            "The default value of multioutput (not exposed in score method) will change from 'variance_weighted' to 'uniform_average' in 0.23 to keep consistent with 'metrics.r2_score'. To specify the default value manually and avoid the warning, please either call 'metrics.r2_score' directly or make a custom scorer with 'metrics.make_scorer' (the built-in scorer 'r2' uses multioutput='uniform_average').\n",
            "The default value of multioutput (not exposed in score method) will change from 'variance_weighted' to 'uniform_average' in 0.23 to keep consistent with 'metrics.r2_score'. To specify the default value manually and avoid the warning, please either call 'metrics.r2_score' directly or make a custom scorer with 'metrics.make_scorer' (the built-in scorer 'r2' uses multioutput='uniform_average').\n",
            "The default value of multioutput (not exposed in score method) will change from 'variance_weighted' to 'uniform_average' in 0.23 to keep consistent with 'metrics.r2_score'. To specify the default value manually and avoid the warning, please either call 'metrics.r2_score' directly or make a custom scorer with 'metrics.make_scorer' (the built-in scorer 'r2' uses multioutput='uniform_average').\n",
            "The default value of multioutput (not exposed in score method) will change from 'variance_weighted' to 'uniform_average' in 0.23 to keep consistent with 'metrics.r2_score'. To specify the default value manually and avoid the warning, please either call 'metrics.r2_score' directly or make a custom scorer with 'metrics.make_scorer' (the built-in scorer 'r2' uses multioutput='uniform_average').\n",
            "The default value of multioutput (not exposed in score method) will change from 'variance_weighted' to 'uniform_average' in 0.23 to keep consistent with 'metrics.r2_score'. To specify the default value manually and avoid the warning, please either call 'metrics.r2_score' directly or make a custom scorer with 'metrics.make_scorer' (the built-in scorer 'r2' uses multioutput='uniform_average').\n",
            "The default value of multioutput (not exposed in score method) will change from 'variance_weighted' to 'uniform_average' in 0.23 to keep consistent with 'metrics.r2_score'. To specify the default value manually and avoid the warning, please either call 'metrics.r2_score' directly or make a custom scorer with 'metrics.make_scorer' (the built-in scorer 'r2' uses multioutput='uniform_average').\n",
            "The default value of multioutput (not exposed in score method) will change from 'variance_weighted' to 'uniform_average' in 0.23 to keep consistent with 'metrics.r2_score'. To specify the default value manually and avoid the warning, please either call 'metrics.r2_score' directly or make a custom scorer with 'metrics.make_scorer' (the built-in scorer 'r2' uses multioutput='uniform_average').\n",
            "The default value of multioutput (not exposed in score method) will change from 'variance_weighted' to 'uniform_average' in 0.23 to keep consistent with 'metrics.r2_score'. To specify the default value manually and avoid the warning, please either call 'metrics.r2_score' directly or make a custom scorer with 'metrics.make_scorer' (the built-in scorer 'r2' uses multioutput='uniform_average').\n",
            "The default value of multioutput (not exposed in score method) will change from 'variance_weighted' to 'uniform_average' in 0.23 to keep consistent with 'metrics.r2_score'. To specify the default value manually and avoid the warning, please either call 'metrics.r2_score' directly or make a custom scorer with 'metrics.make_scorer' (the built-in scorer 'r2' uses multioutput='uniform_average').\n",
            "The default value of multioutput (not exposed in score method) will change from 'variance_weighted' to 'uniform_average' in 0.23 to keep consistent with 'metrics.r2_score'. To specify the default value manually and avoid the warning, please either call 'metrics.r2_score' directly or make a custom scorer with 'metrics.make_scorer' (the built-in scorer 'r2' uses multioutput='uniform_average').\n",
            "The default value of multioutput (not exposed in score method) will change from 'variance_weighted' to 'uniform_average' in 0.23 to keep consistent with 'metrics.r2_score'. To specify the default value manually and avoid the warning, please either call 'metrics.r2_score' directly or make a custom scorer with 'metrics.make_scorer' (the built-in scorer 'r2' uses multioutput='uniform_average').\n",
            "The default value of multioutput (not exposed in score method) will change from 'variance_weighted' to 'uniform_average' in 0.23 to keep consistent with 'metrics.r2_score'. To specify the default value manually and avoid the warning, please either call 'metrics.r2_score' directly or make a custom scorer with 'metrics.make_scorer' (the built-in scorer 'r2' uses multioutput='uniform_average').\n",
            "The default value of multioutput (not exposed in score method) will change from 'variance_weighted' to 'uniform_average' in 0.23 to keep consistent with 'metrics.r2_score'. To specify the default value manually and avoid the warning, please either call 'metrics.r2_score' directly or make a custom scorer with 'metrics.make_scorer' (the built-in scorer 'r2' uses multioutput='uniform_average').\n",
            "The default value of multioutput (not exposed in score method) will change from 'variance_weighted' to 'uniform_average' in 0.23 to keep consistent with 'metrics.r2_score'. To specify the default value manually and avoid the warning, please either call 'metrics.r2_score' directly or make a custom scorer with 'metrics.make_scorer' (the built-in scorer 'r2' uses multioutput='uniform_average').\n",
            "The default value of multioutput (not exposed in score method) will change from 'variance_weighted' to 'uniform_average' in 0.23 to keep consistent with 'metrics.r2_score'. To specify the default value manually and avoid the warning, please either call 'metrics.r2_score' directly or make a custom scorer with 'metrics.make_scorer' (the built-in scorer 'r2' uses multioutput='uniform_average').\n",
            "The default value of multioutput (not exposed in score method) will change from 'variance_weighted' to 'uniform_average' in 0.23 to keep consistent with 'metrics.r2_score'. To specify the default value manually and avoid the warning, please either call 'metrics.r2_score' directly or make a custom scorer with 'metrics.make_scorer' (the built-in scorer 'r2' uses multioutput='uniform_average').\n",
            "The default value of multioutput (not exposed in score method) will change from 'variance_weighted' to 'uniform_average' in 0.23 to keep consistent with 'metrics.r2_score'. To specify the default value manually and avoid the warning, please either call 'metrics.r2_score' directly or make a custom scorer with 'metrics.make_scorer' (the built-in scorer 'r2' uses multioutput='uniform_average').\n",
            "The default value of multioutput (not exposed in score method) will change from 'variance_weighted' to 'uniform_average' in 0.23 to keep consistent with 'metrics.r2_score'. To specify the default value manually and avoid the warning, please either call 'metrics.r2_score' directly or make a custom scorer with 'metrics.make_scorer' (the built-in scorer 'r2' uses multioutput='uniform_average').\n",
            "The default value of multioutput (not exposed in score method) will change from 'variance_weighted' to 'uniform_average' in 0.23 to keep consistent with 'metrics.r2_score'. To specify the default value manually and avoid the warning, please either call 'metrics.r2_score' directly or make a custom scorer with 'metrics.make_scorer' (the built-in scorer 'r2' uses multioutput='uniform_average').\n",
            "The default value of multioutput (not exposed in score method) will change from 'variance_weighted' to 'uniform_average' in 0.23 to keep consistent with 'metrics.r2_score'. To specify the default value manually and avoid the warning, please either call 'metrics.r2_score' directly or make a custom scorer with 'metrics.make_scorer' (the built-in scorer 'r2' uses multioutput='uniform_average').\n",
            "The default value of multioutput (not exposed in score method) will change from 'variance_weighted' to 'uniform_average' in 0.23 to keep consistent with 'metrics.r2_score'. To specify the default value manually and avoid the warning, please either call 'metrics.r2_score' directly or make a custom scorer with 'metrics.make_scorer' (the built-in scorer 'r2' uses multioutput='uniform_average').\n",
            "The default value of multioutput (not exposed in score method) will change from 'variance_weighted' to 'uniform_average' in 0.23 to keep consistent with 'metrics.r2_score'. To specify the default value manually and avoid the warning, please either call 'metrics.r2_score' directly or make a custom scorer with 'metrics.make_scorer' (the built-in scorer 'r2' uses multioutput='uniform_average').\n",
            "The default value of multioutput (not exposed in score method) will change from 'variance_weighted' to 'uniform_average' in 0.23 to keep consistent with 'metrics.r2_score'. To specify the default value manually and avoid the warning, please either call 'metrics.r2_score' directly or make a custom scorer with 'metrics.make_scorer' (the built-in scorer 'r2' uses multioutput='uniform_average').\n",
            "The default value of multioutput (not exposed in score method) will change from 'variance_weighted' to 'uniform_average' in 0.23 to keep consistent with 'metrics.r2_score'. To specify the default value manually and avoid the warning, please either call 'metrics.r2_score' directly or make a custom scorer with 'metrics.make_scorer' (the built-in scorer 'r2' uses multioutput='uniform_average').\n",
            "The default value of multioutput (not exposed in score method) will change from 'variance_weighted' to 'uniform_average' in 0.23 to keep consistent with 'metrics.r2_score'. To specify the default value manually and avoid the warning, please either call 'metrics.r2_score' directly or make a custom scorer with 'metrics.make_scorer' (the built-in scorer 'r2' uses multioutput='uniform_average').\n",
            "The default value of multioutput (not exposed in score method) will change from 'variance_weighted' to 'uniform_average' in 0.23 to keep consistent with 'metrics.r2_score'. To specify the default value manually and avoid the warning, please either call 'metrics.r2_score' directly or make a custom scorer with 'metrics.make_scorer' (the built-in scorer 'r2' uses multioutput='uniform_average').\n",
            "The default value of multioutput (not exposed in score method) will change from 'variance_weighted' to 'uniform_average' in 0.23 to keep consistent with 'metrics.r2_score'. To specify the default value manually and avoid the warning, please either call 'metrics.r2_score' directly or make a custom scorer with 'metrics.make_scorer' (the built-in scorer 'r2' uses multioutput='uniform_average').\n",
            "The default value of multioutput (not exposed in score method) will change from 'variance_weighted' to 'uniform_average' in 0.23 to keep consistent with 'metrics.r2_score'. To specify the default value manually and avoid the warning, please either call 'metrics.r2_score' directly or make a custom scorer with 'metrics.make_scorer' (the built-in scorer 'r2' uses multioutput='uniform_average').\n",
            "The default value of multioutput (not exposed in score method) will change from 'variance_weighted' to 'uniform_average' in 0.23 to keep consistent with 'metrics.r2_score'. To specify the default value manually and avoid the warning, please either call 'metrics.r2_score' directly or make a custom scorer with 'metrics.make_scorer' (the built-in scorer 'r2' uses multioutput='uniform_average').\n",
            "The default value of multioutput (not exposed in score method) will change from 'variance_weighted' to 'uniform_average' in 0.23 to keep consistent with 'metrics.r2_score'. To specify the default value manually and avoid the warning, please either call 'metrics.r2_score' directly or make a custom scorer with 'metrics.make_scorer' (the built-in scorer 'r2' uses multioutput='uniform_average').\n",
            "The default value of multioutput (not exposed in score method) will change from 'variance_weighted' to 'uniform_average' in 0.23 to keep consistent with 'metrics.r2_score'. To specify the default value manually and avoid the warning, please either call 'metrics.r2_score' directly or make a custom scorer with 'metrics.make_scorer' (the built-in scorer 'r2' uses multioutput='uniform_average').\n",
            "The default value of multioutput (not exposed in score method) will change from 'variance_weighted' to 'uniform_average' in 0.23 to keep consistent with 'metrics.r2_score'. To specify the default value manually and avoid the warning, please either call 'metrics.r2_score' directly or make a custom scorer with 'metrics.make_scorer' (the built-in scorer 'r2' uses multioutput='uniform_average').\n",
            "The default value of multioutput (not exposed in score method) will change from 'variance_weighted' to 'uniform_average' in 0.23 to keep consistent with 'metrics.r2_score'. To specify the default value manually and avoid the warning, please either call 'metrics.r2_score' directly or make a custom scorer with 'metrics.make_scorer' (the built-in scorer 'r2' uses multioutput='uniform_average').\n",
            "The default value of multioutput (not exposed in score method) will change from 'variance_weighted' to 'uniform_average' in 0.23 to keep consistent with 'metrics.r2_score'. To specify the default value manually and avoid the warning, please either call 'metrics.r2_score' directly or make a custom scorer with 'metrics.make_scorer' (the built-in scorer 'r2' uses multioutput='uniform_average').\n",
            "The default value of multioutput (not exposed in score method) will change from 'variance_weighted' to 'uniform_average' in 0.23 to keep consistent with 'metrics.r2_score'. To specify the default value manually and avoid the warning, please either call 'metrics.r2_score' directly or make a custom scorer with 'metrics.make_scorer' (the built-in scorer 'r2' uses multioutput='uniform_average').\n",
            "The default value of multioutput (not exposed in score method) will change from 'variance_weighted' to 'uniform_average' in 0.23 to keep consistent with 'metrics.r2_score'. To specify the default value manually and avoid the warning, please either call 'metrics.r2_score' directly or make a custom scorer with 'metrics.make_scorer' (the built-in scorer 'r2' uses multioutput='uniform_average').\n",
            "The default value of multioutput (not exposed in score method) will change from 'variance_weighted' to 'uniform_average' in 0.23 to keep consistent with 'metrics.r2_score'. To specify the default value manually and avoid the warning, please either call 'metrics.r2_score' directly or make a custom scorer with 'metrics.make_scorer' (the built-in scorer 'r2' uses multioutput='uniform_average').\n",
            "The default value of multioutput (not exposed in score method) will change from 'variance_weighted' to 'uniform_average' in 0.23 to keep consistent with 'metrics.r2_score'. To specify the default value manually and avoid the warning, please either call 'metrics.r2_score' directly or make a custom scorer with 'metrics.make_scorer' (the built-in scorer 'r2' uses multioutput='uniform_average').\n",
            "The default value of multioutput (not exposed in score method) will change from 'variance_weighted' to 'uniform_average' in 0.23 to keep consistent with 'metrics.r2_score'. To specify the default value manually and avoid the warning, please either call 'metrics.r2_score' directly or make a custom scorer with 'metrics.make_scorer' (the built-in scorer 'r2' uses multioutput='uniform_average').\n",
            "The default value of multioutput (not exposed in score method) will change from 'variance_weighted' to 'uniform_average' in 0.23 to keep consistent with 'metrics.r2_score'. To specify the default value manually and avoid the warning, please either call 'metrics.r2_score' directly or make a custom scorer with 'metrics.make_scorer' (the built-in scorer 'r2' uses multioutput='uniform_average').\n",
            "The default value of multioutput (not exposed in score method) will change from 'variance_weighted' to 'uniform_average' in 0.23 to keep consistent with 'metrics.r2_score'. To specify the default value manually and avoid the warning, please either call 'metrics.r2_score' directly or make a custom scorer with 'metrics.make_scorer' (the built-in scorer 'r2' uses multioutput='uniform_average').\n",
            "The default value of multioutput (not exposed in score method) will change from 'variance_weighted' to 'uniform_average' in 0.23 to keep consistent with 'metrics.r2_score'. To specify the default value manually and avoid the warning, please either call 'metrics.r2_score' directly or make a custom scorer with 'metrics.make_scorer' (the built-in scorer 'r2' uses multioutput='uniform_average').\n",
            "The default value of multioutput (not exposed in score method) will change from 'variance_weighted' to 'uniform_average' in 0.23 to keep consistent with 'metrics.r2_score'. To specify the default value manually and avoid the warning, please either call 'metrics.r2_score' directly or make a custom scorer with 'metrics.make_scorer' (the built-in scorer 'r2' uses multioutput='uniform_average').\n",
            "The default value of multioutput (not exposed in score method) will change from 'variance_weighted' to 'uniform_average' in 0.23 to keep consistent with 'metrics.r2_score'. To specify the default value manually and avoid the warning, please either call 'metrics.r2_score' directly or make a custom scorer with 'metrics.make_scorer' (the built-in scorer 'r2' uses multioutput='uniform_average').\n",
            "The default value of multioutput (not exposed in score method) will change from 'variance_weighted' to 'uniform_average' in 0.23 to keep consistent with 'metrics.r2_score'. To specify the default value manually and avoid the warning, please either call 'metrics.r2_score' directly or make a custom scorer with 'metrics.make_scorer' (the built-in scorer 'r2' uses multioutput='uniform_average').\n",
            "The default value of multioutput (not exposed in score method) will change from 'variance_weighted' to 'uniform_average' in 0.23 to keep consistent with 'metrics.r2_score'. To specify the default value manually and avoid the warning, please either call 'metrics.r2_score' directly or make a custom scorer with 'metrics.make_scorer' (the built-in scorer 'r2' uses multioutput='uniform_average').\n",
            "The default value of multioutput (not exposed in score method) will change from 'variance_weighted' to 'uniform_average' in 0.23 to keep consistent with 'metrics.r2_score'. To specify the default value manually and avoid the warning, please either call 'metrics.r2_score' directly or make a custom scorer with 'metrics.make_scorer' (the built-in scorer 'r2' uses multioutput='uniform_average').\n",
            "The default value of multioutput (not exposed in score method) will change from 'variance_weighted' to 'uniform_average' in 0.23 to keep consistent with 'metrics.r2_score'. To specify the default value manually and avoid the warning, please either call 'metrics.r2_score' directly or make a custom scorer with 'metrics.make_scorer' (the built-in scorer 'r2' uses multioutput='uniform_average').\n"
          ],
          "name": "stderr"
        }
      ]
    },
    {
      "cell_type": "code",
      "metadata": {
        "colab": {
          "base_uri": "https://localhost:8080/",
          "height": 522
        },
        "id": "eymc9K1g8pcy",
        "outputId": "ae19cb03-ced7-47af-ed1b-f9c3cd1da305"
      },
      "source": [
        "# Plot the importance:\n",
        "sorted_idx = perm_importance.importances_mean.argsort()\n",
        "plt.barh(data.columns[sorted_idx], perm_importance.importances_mean[sorted_idx])\n",
        "plt.xlabel(\"Permutation Importance\")"
      ],
      "execution_count": 27,
      "outputs": [
        {
          "output_type": "execute_result",
          "data": {
            "text/plain": [
              "Text(0.5, 0, 'Permutation Importance')"
            ]
          },
          "metadata": {
            "tags": []
          },
          "execution_count": 27
        },
        {
          "output_type": "display_data",
          "data": {
            "image/png": "[encoded data removed]",
            "text/plain": [
              "<Figure size 864x576 with 1 Axes>"
            ]
          },
          "metadata": {
            "tags": [],
            "needs_background": "light"
          }
        }
      ]
    },
    {
      "cell_type": "markdown",
      "metadata": {
        "id": "bkr5y7OhzZ5K"
      },
      "source": [
        "# 2. Perform Fractal Kmeans Clustering on Diameter and Rotation Period data"
      ]
    },
    {
      "cell_type": "code",
      "metadata": {
        "id": "RAwSCC-nNm3e"
      },
      "source": [
        "from sklearn.cluster import KMeans\n",
        "from sklearn import metrics\n",
        "import numpy as np\n",
        "import matplotlib.pyplot as plt\n",
        "from matplotlib import style\n",
        "from sklearn.preprocessing import StandardScaler"
      ],
      "execution_count": 112,
      "outputs": []
    },
    {
      "cell_type": "markdown",
      "metadata": {
        "id": "HCvI4oZ4AIzn"
      },
      "source": [
        "# 2.1 First Clustering Iteration"
      ]
    },
    {
      "cell_type": "markdown",
      "metadata": {
        "id": "Kn_IXn6Sv_hO"
      },
      "source": [
        "### Perform Elbow Method (SSE Within Clusters) and Silhouette Score\n",
        "### silhouette score: 0.81\n",
        "### sse withing cluster: 8968.0\n",
        "\n",
        "\n"
      ]
    },
    {
      "cell_type": "code",
      "metadata": {
        "colab": {
          "base_uri": "https://localhost:8080/",
          "height": 350
        },
        "id": "lmseQDeIN3L0",
        "outputId": "756f3255-7b45-4048-a87a-69550abe21ae"
      },
      "source": [
        "# Use diameter and rotation period for KMeans\n",
        "X = data.iloc[:, [14, 16]].values\n",
        "plt.figure(figsize=(8,5))\n",
        "# Within-Cluster-Sum-of-Squares \n",
        "wcss = []\n",
        "for i in range(1, 11):\n",
        "    kmeans = KMeans(n_clusters = i, init = 'k-means++', random_state = 42)\n",
        "    kmeans.fit(X)\n",
        "    wcss.append(kmeans.inertia_)\n",
        "    \n",
        "plt.plot(range(1, 11), wcss)\n",
        "plt.title('The Elbow Method')\n",
        "plt.xlabel('Number of clusters')\n",
        "plt.ylabel('SSE Within Clusters')\n",
        "plt.show()"
      ],
      "execution_count": 113,
      "outputs": [
        {
          "output_type": "display_data",
          "data": {
            "image/png": "[encoded data removed]",
            "text/plain": [
              "<Figure size 576x360 with 1 Axes>"
            ]
          },
          "metadata": {
            "tags": [],
            "needs_background": "light"
          }
        }
      ]
    },
    {
      "cell_type": "code",
      "metadata": {
        "id": "euEW0cCazZ_6"
      },
      "source": [
        "def plot_cluster(n, max_loop=50):\n",
        "    \"\"\"\n",
        "    Looking at the performance of various number of clusters using K-Means.\n",
        "    Performance is evaluated by within cluster SSE and silhouette score.\n",
        "    \"\"\"\n",
        "    # try:\n",
        "    #     df.drop('cluster', axis=1, inplace=True)\n",
        "    # except:\n",
        "    #     next\n",
        "    X = data.iloc[:, [14, 16]].values\n",
        "    # Using Standard Scaler\n",
        "    sc = StandardScaler()\n",
        "    S_c = sc.fit_transform(X)\n",
        "    sse_within_cluster = {}\n",
        "    silhouette_score = {}\n",
        "    \n",
        "    for k in range(2, max_loop):\n",
        "        kmeans = KMeans(n_clusters=k,  random_state=10, n_init=10, n_jobs=-1)\n",
        "        kmeans.fit(S_c)\n",
        "        sse_within_cluster[k] = kmeans.inertia_\n",
        "        silhouette_score[k] = metrics.silhouette_score(S_c, kmeans.labels_, random_state=10)\n",
        "\n",
        "    _ = plt.figure(figsize=(10,6))\n",
        "    ax1 = plt.subplot(211)\n",
        "    _ = plt.plot(list(sse_within_cluster.keys()), list(sse_within_cluster.values()))\n",
        "    _ = plt.xlabel(\"Number of Clusters\")\n",
        "    _ = plt.ylabel(\"SSE Within Cluster\")\n",
        "    _ = plt.title(\"Within Cluster SSE K-Means Clustering\")\n",
        "    _ = plt.xticks([i for i in range(2, max_loop)], rotation=75)\n",
        "    \n",
        "    ax2 = plt.subplot(212)\n",
        "    _ = plt.plot(list(silhouette_score.keys()), list(silhouette_score.values()))\n",
        "    _ = plt.xlabel(\"Number of Clusters\")\n",
        "    _ = plt.ylabel(\"Silhouette Score\")\n",
        "    _ = plt.title(\"Silhouette Score K-Means Clustering\")\n",
        "    _ = plt.xticks([i for i in range(2, max_loop)], rotation=75)\n",
        "    \n",
        "    plt.subplots_adjust(top=0.92, bottom=0.08, left=0.10, right=0.95, hspace=0.5, wspace=0.35)"
      ],
      "execution_count": 114,
      "outputs": []
    },
    {
      "cell_type": "code",
      "metadata": {
        "colab": {
          "base_uri": "https://localhost:8080/",
          "height": 0
        },
        "id": "l0eW6cx1zr9R",
        "outputId": "d557314d-2bc2-48d2-f96c-5e24b8af2d98"
      },
      "source": [
        "plot_cluster(X, max_loop=25)"
      ],
      "execution_count": 115,
      "outputs": [
        {
          "output_type": "display_data",
          "data": {
            "image/png": "[encoded data removed]",
            "text/plain": [
              "<Figure size 720x432 with 2 Axes>"
            ]
          },
          "metadata": {
            "tags": [],
            "needs_background": "light"
          }
        }
      ]
    },
    {
      "cell_type": "code",
      "metadata": {
        "id": "lLDqPIGM1C35"
      },
      "source": [
        "def apply_cluster(n, clusters=2):\n",
        "    \"\"\"\n",
        "    Applying K-Means with the optimal number of clusters identified\n",
        "    \"\"\"\n",
        "    # try:\n",
        "    #     df.drop('cluster', axis=1, inplace=True)\n",
        "    # except:\n",
        "    #     next\n",
        "    X = data.iloc[:, [14, 16]].values\n",
        "    # Standard Scaler\n",
        "    sc = StandardScaler()\n",
        "    S_c = sc.fit_transform(X)\n",
        "\n",
        "    kmeans = KMeans(n_clusters = clusters, init = 'k-means++', random_state = 42) \n",
        "    y_kmeans = kmeans.fit_predict(S_c)\n",
        "    score = metrics.silhouette_score(S_c, kmeans.labels_, random_state=10)\n",
        "    # df['cluster'] = kmeans.labels_\n",
        "    sse_within_cluster = kmeans.inertia_\n",
        "    \n",
        "    print(\"clustering performance\")\n",
        "    print(\"-----------------------------------\")\n",
        "    print(\"silhouette score: \" + str(score.round(2)))\n",
        "    print(\"sse withing cluster: \" + str(sse_within_cluster.round()))\n",
        "    \n",
        "    return n"
      ],
      "execution_count": 116,
      "outputs": []
    },
    {
      "cell_type": "code",
      "metadata": {
        "colab": {
          "base_uri": "https://localhost:8080/"
        },
        "id": "h5WghE-Xxih0",
        "outputId": "9912b885-bf19-411e-e628-0d4cc15f507e"
      },
      "source": [
        "# Using clusters = 3\n",
        "first_trial = apply_cluster(X, clusters=3)"
      ],
      "execution_count": 117,
      "outputs": [
        {
          "output_type": "stream",
          "text": [
            "clustering performance\n",
            "-----------------------------------\n",
            "silhouette score: 0.81\n",
            "sse withing cluster: 8968.0\n"
          ],
          "name": "stdout"
        }
      ]
    },
    {
      "cell_type": "markdown",
      "metadata": {
        "id": "aOIuD2S4pp7w"
      },
      "source": [
        "### First Kmeans Clustering Using Three Clusters"
      ]
    },
    {
      "cell_type": "code",
      "metadata": {
        "id": "JwhhUYJCN7PH"
      },
      "source": [
        "# Performing Kmeans using Clusters = 3\n",
        "from sklearn.preprocessing import StandardScaler\n",
        "X = data.iloc[:, [14, 16]].values\n",
        "# Standard Scaler\n",
        "sc = StandardScaler()\n",
        "S_c = sc.fit_transform(X)\n",
        "\n",
        "kmeans = KMeans(n_clusters = 3, init = 'k-means++', random_state = 42)\n",
        "y_kmeans = kmeans.fit_predict(S_c)"
      ],
      "execution_count": 118,
      "outputs": []
    },
    {
      "cell_type": "code",
      "metadata": {
        "colab": {
          "base_uri": "https://localhost:8080/",
          "height": 621
        },
        "id": "YmrEEDFynxhC",
        "outputId": "0fc2ef2a-46c9-457f-bade-1845b3395768"
      },
      "source": [
        "plt.figure(figsize=(15,10))\n",
        "plt.scatter(S_c[y_kmeans == 0, 0], S_c[y_kmeans == 0, 1], s = 100, c = 'red', label = 'Cluster 1')\n",
        "plt.scatter(S_c[y_kmeans == 1, 0], S_c[y_kmeans == 1, 1], s = 100, c = 'blue', label = 'Cluster 2')\n",
        "plt.scatter(S_c[y_kmeans == 2, 0], S_c[y_kmeans == 2, 1], s = 100, c = 'green', label = 'Cluster 3')\n",
        "# plt.scatter(X[y_kmeans == 3, 0], X[y_kmeans == 3, 1], s = 100, c = 'cyan', label = 'Cluster 4')\n",
        "# plt.scatter(X[y_kmeans == 4, 0], X[y_kmeans == 4, 1], s = 100, c = 'magenta', label = 'Cluster 5')\n",
        "# plt.scatter(X[y_kmeans == 5, 0], X[y_kmeans == 5, 1], s = 100, c = 'brown', label = 'Cluster 6')\n",
        "plt.scatter(kmeans.cluster_centers_[:, 0], kmeans.cluster_centers_[:, 1], s = 100, c = 'yellow', label = 'Centroids')\n",
        "plt.title('KMeans Clusters -  Diameter vs Rotation Period of Asteroids')\n",
        "plt.xlabel('Diameter')\n",
        "plt.ylabel('Rotation Period of Asteroids')\n",
        "# plt.xticks([i for i in range(0, 10)], rotation=360)\n",
        "# plt.yticks([i for i in range(0, 10)], rotation=360)\n",
        "plt.legend()\n",
        "plt.show()"
      ],
      "execution_count": 119,
      "outputs": [
        {
          "output_type": "display_data",
          "data": {
            "image/png": "[encoded data removed]",
            "text/plain": [
              "<Figure size 1080x720 with 1 Axes>"
            ]
          },
          "metadata": {
            "tags": [],
            "needs_background": "light"
          }
        }
      ]
    },
    {
      "cell_type": "markdown",
      "metadata": {
        "id": "RNoZ7MghpMig"
      },
      "source": [
        "### First Fractal Clustering of Three Clusters\n",
        "### Cluster 0 have biggest number of cluster 10433 for diameter and rotation period data\n",
        "\n"
      ]
    },
    {
      "cell_type": "code",
      "metadata": {
        "id": "VB_fjdZ22xCH"
      },
      "source": [
        "Cl3 = data[['diameter', 'rot_per']] "
      ],
      "execution_count": 120,
      "outputs": []
    },
    {
      "cell_type": "code",
      "metadata": {
        "colab": {
          "base_uri": "https://localhost:8080/"
        },
        "id": "368bZVeA2-DP",
        "outputId": "f8a463ec-15c1-4ae9-9d53-e3444eb91465"
      },
      "source": [
        "new = data._get_numeric_data().dropna(axis=1)\n",
        "Cl3['Clustered3'] = pd.Series(y_kmeans, index=data.index)"
      ],
      "execution_count": 121,
      "outputs": [
        {
          "output_type": "stream",
          "text": [
            "/usr/local/lib/python3.6/dist-packages/ipykernel_launcher.py:2: SettingWithCopyWarning: \n",
            "A value is trying to be set on a copy of a slice from a DataFrame.\n",
            "Try using .loc[row_indexer,col_indexer] = value instead\n",
            "\n",
            "See the caveats in the documentation: https://pandas.pydata.org/pandas-docs/stable/user_guide/indexing.html#returning-a-view-versus-a-copy\n",
            "  \n"
          ],
          "name": "stderr"
        }
      ]
    },
    {
      "cell_type": "code",
      "metadata": {
        "colab": {
          "base_uri": "https://localhost:8080/",
          "height": 142
        },
        "id": "5K1zQ_0c3Jon",
        "outputId": "26287c4f-df1c-4592-91f4-ddc41354fd5b"
      },
      "source": [
        "cluster3_perf = (\n",
        "     Cl3\n",
        "    .groupby('Clustered3')\n",
        "    .agg({\"diameter\":\"count\", \"rot_per\":\"count\"})\n",
        "    .sort_values('diameter')\n",
        "    .reset_index()\n",
        ")\n",
        "\n",
        "cluster3_perf"
      ],
      "execution_count": 122,
      "outputs": [
        {
          "output_type": "execute_result",
          "data": {
            "text/html": [
              "<div>\n",
              "<style scoped>\n",
              "    .dataframe tbody tr th:only-of-type {\n",
              "        vertical-align: middle;\n",
              "    }\n",
              "\n",
              "    .dataframe tbody tr th {\n",
              "        vertical-align: top;\n",
              "    }\n",
              "\n",
              "    .dataframe thead th {\n",
              "        text-align: right;\n",
              "    }\n",
              "</style>\n",
              "<table border=\"1\" class=\"dataframe\">\n",
              "  <thead>\n",
              "    <tr style=\"text-align: right;\">\n",
              "      <th></th>\n",
              "      <th>Clustered3</th>\n",
              "      <th>diameter</th>\n",
              "      <th>rot_per</th>\n",
              "    </tr>\n",
              "  </thead>\n",
              "  <tbody>\n",
              "    <tr>\n",
              "      <th>0</th>\n",
              "      <td>2</td>\n",
              "      <td>123</td>\n",
              "      <td>123</td>\n",
              "    </tr>\n",
              "    <tr>\n",
              "      <th>1</th>\n",
              "      <td>1</td>\n",
              "      <td>598</td>\n",
              "      <td>598</td>\n",
              "    </tr>\n",
              "    <tr>\n",
              "      <th>2</th>\n",
              "      <td>0</td>\n",
              "      <td>10433</td>\n",
              "      <td>10433</td>\n",
              "    </tr>\n",
              "  </tbody>\n",
              "</table>\n",
              "</div>"
            ],
            "text/plain": [
              "   Clustered3  diameter  rot_per\n",
              "0           2       123      123\n",
              "1           1       598      598\n",
              "2           0     10433    10433"
            ]
          },
          "metadata": {
            "tags": []
          },
          "execution_count": 122
        }
      ]
    },
    {
      "cell_type": "code",
      "metadata": {
        "colab": {
          "base_uri": "https://localhost:8080/",
          "height": 419
        },
        "id": "G5eSebZT3im8",
        "outputId": "d0f5460b-b152-4803-d41d-65bde9b27f28"
      },
      "source": [
        "# creating a dataframe that only consists of cluster `0` with highest count cluster\n",
        "clusterF3_sub = Cl3.query(\"Clustered3 == 0\").reset_index(drop=True)\n",
        "clusterF3_sub = clusterF3_sub.drop('Clustered3',axis = 1)\n",
        "clusterF3_sub\n"
      ],
      "execution_count": 123,
      "outputs": [
        {
          "output_type": "execute_result",
          "data": {
            "text/html": [
              "<div>\n",
              "<style scoped>\n",
              "    .dataframe tbody tr th:only-of-type {\n",
              "        vertical-align: middle;\n",
              "    }\n",
              "\n",
              "    .dataframe tbody tr th {\n",
              "        vertical-align: top;\n",
              "    }\n",
              "\n",
              "    .dataframe thead th {\n",
              "        text-align: right;\n",
              "    }\n",
              "</style>\n",
              "<table border=\"1\" class=\"dataframe\">\n",
              "  <thead>\n",
              "    <tr style=\"text-align: right;\">\n",
              "      <th></th>\n",
              "      <th>diameter</th>\n",
              "      <th>rot_per</th>\n",
              "    </tr>\n",
              "  </thead>\n",
              "  <tbody>\n",
              "    <tr>\n",
              "      <th>0</th>\n",
              "      <td>52.929</td>\n",
              "      <td>18.6080</td>\n",
              "    </tr>\n",
              "    <tr>\n",
              "      <th>1</th>\n",
              "      <td>43.218</td>\n",
              "      <td>25.2080</td>\n",
              "    </tr>\n",
              "    <tr>\n",
              "      <th>2</th>\n",
              "      <td>58.292</td>\n",
              "      <td>8.7520</td>\n",
              "    </tr>\n",
              "    <tr>\n",
              "      <th>3</th>\n",
              "      <td>56.309</td>\n",
              "      <td>15.8530</td>\n",
              "    </tr>\n",
              "    <tr>\n",
              "      <th>4</th>\n",
              "      <td>44.590</td>\n",
              "      <td>8.2970</td>\n",
              "    </tr>\n",
              "    <tr>\n",
              "      <th>...</th>\n",
              "      <td>...</td>\n",
              "      <td>...</td>\n",
              "    </tr>\n",
              "    <tr>\n",
              "      <th>10428</th>\n",
              "      <td>0.653</td>\n",
              "      <td>2.8849</td>\n",
              "    </tr>\n",
              "    <tr>\n",
              "      <th>10429</th>\n",
              "      <td>0.453</td>\n",
              "      <td>5.9600</td>\n",
              "    </tr>\n",
              "    <tr>\n",
              "      <th>10430</th>\n",
              "      <td>0.325</td>\n",
              "      <td>16.0000</td>\n",
              "    </tr>\n",
              "    <tr>\n",
              "      <th>10431</th>\n",
              "      <td>0.694</td>\n",
              "      <td>5.2060</td>\n",
              "    </tr>\n",
              "    <tr>\n",
              "      <th>10432</th>\n",
              "      <td>1.626</td>\n",
              "      <td>6.8300</td>\n",
              "    </tr>\n",
              "  </tbody>\n",
              "</table>\n",
              "<p>10433 rows × 2 columns</p>\n",
              "</div>"
            ],
            "text/plain": [
              "       diameter  rot_per\n",
              "0        52.929  18.6080\n",
              "1        43.218  25.2080\n",
              "2        58.292   8.7520\n",
              "3        56.309  15.8530\n",
              "4        44.590   8.2970\n",
              "...         ...      ...\n",
              "10428     0.653   2.8849\n",
              "10429     0.453   5.9600\n",
              "10430     0.325  16.0000\n",
              "10431     0.694   5.2060\n",
              "10432     1.626   6.8300\n",
              "\n",
              "[10433 rows x 2 columns]"
            ]
          },
          "metadata": {
            "tags": []
          },
          "execution_count": 123
        }
      ]
    },
    {
      "cell_type": "code",
      "metadata": {
        "colab": {
          "base_uri": "https://localhost:8080/",
          "height": 318
        },
        "id": "uFgOJ8Ko2ZUX",
        "outputId": "849b1880-5738-459f-baf8-4b4539936e84"
      },
      "source": [
        "clusterF3_sub[[\"diameter\", \"rot_per\"]].plot(bins=10, kind=\"hist\", subplots=True)"
      ],
      "execution_count": 124,
      "outputs": [
        {
          "output_type": "execute_result",
          "data": {
            "text/plain": [
              "array([<matplotlib.axes._subplots.AxesSubplot object at 0x7f7e61e2bcf8>,\n",
              "       <matplotlib.axes._subplots.AxesSubplot object at 0x7f7e61d3fa58>],\n",
              "      dtype=object)"
            ]
          },
          "metadata": {
            "tags": []
          },
          "execution_count": 124
        },
        {
          "output_type": "display_data",
          "data": {
            "image/png": "[encoded data removed]",
            "text/plain": [
              "<Figure size 432x288 with 2 Axes>"
            ]
          },
          "metadata": {
            "tags": [],
            "needs_background": "light"
          }
        }
      ]
    },
    {
      "cell_type": "markdown",
      "metadata": {
        "id": "MED3S8FGAC_l"
      },
      "source": [
        "# 2.2 Second Clustering Iteration"
      ]
    },
    {
      "cell_type": "markdown",
      "metadata": {
        "id": "6gz0yoUu4nsj"
      },
      "source": [
        "### Perform Elbow Method (SSE Within Clusters) and Silhouette Score\n",
        "### silhouette score: 0.8\n",
        "### sse withing cluster: 4829.0"
      ]
    },
    {
      "cell_type": "code",
      "metadata": {
        "colab": {
          "base_uri": "https://localhost:8080/",
          "height": 0
        },
        "id": "B3PpEnit4ctl",
        "outputId": "de494275-263f-4c1d-e52e-ba643eb1cc7e"
      },
      "source": [
        "## Performed SSE and Silhouette Score on Three Clusters\n",
        "plot_cluster(clusterF3_sub, max_loop=25)"
      ],
      "execution_count": 125,
      "outputs": [
        {
          "output_type": "display_data",
          "data": {
            "image/png": "[encoded data removed]",
            "text/plain": [
              "<Figure size 720x432 with 2 Axes>"
            ]
          },
          "metadata": {
            "tags": [],
            "needs_background": "light"
          }
        }
      ]
    },
    {
      "cell_type": "code",
      "metadata": {
        "colab": {
          "base_uri": "https://localhost:8080/"
        },
        "id": "5Sla8ApQ45VO",
        "outputId": "e2828538-3d46-43e6-9bd3-ca15bf2d57a6"
      },
      "source": [
        "second_trial = apply_cluster(clusterF3_sub, clusters=5)"
      ],
      "execution_count": 126,
      "outputs": [
        {
          "output_type": "stream",
          "text": [
            "clustering performance\n",
            "-----------------------------------\n",
            "silhouette score: 0.8\n",
            "sse withing cluster: 4829.0\n"
          ],
          "name": "stdout"
        }
      ]
    },
    {
      "cell_type": "markdown",
      "metadata": {
        "id": "5mA_5FgI49QH"
      },
      "source": [
        "### Second Kmeans Clustering Of Cluster 0 with highest cluster 10433"
      ]
    },
    {
      "cell_type": "code",
      "metadata": {
        "id": "8AOliBJ85iz1"
      },
      "source": [
        "# Performing Kmeans using Clusters = 5\n",
        "from sklearn.preprocessing import StandardScaler\n",
        "# X = data.iloc[:, [14, 16]].values\n",
        "# Standard Scaler\n",
        "sc = StandardScaler()\n",
        "S_c = sc.fit_transform(clusterF3_sub)\n",
        "\n",
        "kmeans = KMeans(n_clusters = 5, init = 'k-means++', random_state = 42)\n",
        "y_kmeans_5 = kmeans.fit_predict(S_c)"
      ],
      "execution_count": 127,
      "outputs": []
    },
    {
      "cell_type": "code",
      "metadata": {
        "colab": {
          "base_uri": "https://localhost:8080/",
          "height": 0
        },
        "id": "gUmiJGKo8JHK",
        "outputId": "980faeaa-569c-464e-82c2-2b4575b66eab"
      },
      "source": [
        "plt.figure(figsize=(15,10))\n",
        "plt.scatter(S_c[y_kmeans_5 == 0, 0], S_c[y_kmeans_5 == 0, 1], s = 100, c = 'red', label = 'Cluster 1')\n",
        "plt.scatter(S_c[y_kmeans_5 == 1, 0], S_c[y_kmeans_5 == 1, 1], s = 100, c = 'blue', label = 'Cluster 2')\n",
        "plt.scatter(S_c[y_kmeans_5 == 2, 0], S_c[y_kmeans_5 == 2, 1], s = 100, c = 'green', label = 'Cluster 3')\n",
        "plt.scatter(S_c[y_kmeans_5 == 3, 0], S_c[y_kmeans_5 == 3, 1], s = 100, c = 'cyan', label = 'Cluster 4')\n",
        "plt.scatter(S_c[y_kmeans_5 == 4, 0], S_c[y_kmeans_5 == 4, 1], s = 100, c = 'magenta', label = 'Cluster 5')\n",
        "# plt.scatter(X[y_kmeans == 5, 0], X[y_kmeans == 5, 1], s = 100, c = 'brown', label = 'Cluster 6')\n",
        "plt.scatter(kmeans.cluster_centers_[:, 0], kmeans.cluster_centers_[:, 1], s = 100, c = 'yellow', label = 'Centroids')\n",
        "plt.title('KMeans Clusters Second Fractal Clustering -  Diameter vs Rotation Period of Asteroids')\n",
        "plt.xlabel('Diameter')\n",
        "plt.ylabel('Rotation Period of Asteroids')\n",
        "plt.xticks([i for i in range(0, 6)], rotation=360)\n",
        "plt.yticks([i for i in range(0, 10)], rotation=360)\n",
        "plt.legend()\n",
        "plt.show()"
      ],
      "execution_count": 128,
      "outputs": [
        {
          "output_type": "display_data",
          "data": {
            "image/png": "[encoded data removed]",
            "text/plain": [
              "<Figure size 1080x720 with 1 Axes>"
            ]
          },
          "metadata": {
            "tags": [],
            "needs_background": "light"
          }
        }
      ]
    },
    {
      "cell_type": "markdown",
      "metadata": {
        "id": "SGRUe_rhA9UQ"
      },
      "source": [
        "### Second Fractal Clustering Of Five Clusters from previous Three Clusters\n",
        "### Cluster 4 have biggest number of clustered data 7538 for diameter and rotation period\n"
      ]
    },
    {
      "cell_type": "code",
      "metadata": {
        "id": "UpcNR9mYA216"
      },
      "source": [
        "Cl5 = clusterF3_sub[['diameter', 'rot_per']] "
      ],
      "execution_count": 134,
      "outputs": []
    },
    {
      "cell_type": "code",
      "metadata": {
        "id": "jfOqzFuGBUkP"
      },
      "source": [
        "new = clusterF3_sub._get_numeric_data().dropna(axis=1)\n",
        "Cl5['Clustered5'] = pd.Series(y_kmeans_5, index=clusterF3_sub.index)"
      ],
      "execution_count": 135,
      "outputs": []
    },
    {
      "cell_type": "code",
      "metadata": {
        "colab": {
          "base_uri": "https://localhost:8080/",
          "height": 0
        },
        "id": "P4vrdAhYBjHu",
        "outputId": "c4ebb276-b4a9-451d-f9c9-803a0df43855"
      },
      "source": [
        "cluster5_perf = (\n",
        "     Cl5\n",
        "    .groupby('Clustered5')\n",
        "    .agg({\"diameter\":\"count\", \"rot_per\":\"count\"})\n",
        "    .sort_values('diameter')\n",
        "    .reset_index()\n",
        ")\n",
        "\n",
        "cluster5_perf"
      ],
      "execution_count": 136,
      "outputs": [
        {
          "output_type": "execute_result",
          "data": {
            "text/html": [
              "<div>\n",
              "<style scoped>\n",
              "    .dataframe tbody tr th:only-of-type {\n",
              "        vertical-align: middle;\n",
              "    }\n",
              "\n",
              "    .dataframe tbody tr th {\n",
              "        vertical-align: top;\n",
              "    }\n",
              "\n",
              "    .dataframe thead th {\n",
              "        text-align: right;\n",
              "    }\n",
              "</style>\n",
              "<table border=\"1\" class=\"dataframe\">\n",
              "  <thead>\n",
              "    <tr style=\"text-align: right;\">\n",
              "      <th></th>\n",
              "      <th>Clustered5</th>\n",
              "      <th>diameter</th>\n",
              "      <th>rot_per</th>\n",
              "    </tr>\n",
              "  </thead>\n",
              "  <tbody>\n",
              "    <tr>\n",
              "      <th>0</th>\n",
              "      <td>2</td>\n",
              "      <td>181</td>\n",
              "      <td>181</td>\n",
              "    </tr>\n",
              "    <tr>\n",
              "      <th>1</th>\n",
              "      <td>1</td>\n",
              "      <td>509</td>\n",
              "      <td>509</td>\n",
              "    </tr>\n",
              "    <tr>\n",
              "      <th>2</th>\n",
              "      <td>0</td>\n",
              "      <td>664</td>\n",
              "      <td>664</td>\n",
              "    </tr>\n",
              "    <tr>\n",
              "      <th>3</th>\n",
              "      <td>3</td>\n",
              "      <td>1541</td>\n",
              "      <td>1541</td>\n",
              "    </tr>\n",
              "    <tr>\n",
              "      <th>4</th>\n",
              "      <td>4</td>\n",
              "      <td>7538</td>\n",
              "      <td>7538</td>\n",
              "    </tr>\n",
              "  </tbody>\n",
              "</table>\n",
              "</div>"
            ],
            "text/plain": [
              "   Clustered5  diameter  rot_per\n",
              "0           2       181      181\n",
              "1           1       509      509\n",
              "2           0       664      664\n",
              "3           3      1541     1541\n",
              "4           4      7538     7538"
            ]
          },
          "metadata": {
            "tags": []
          },
          "execution_count": 136
        }
      ]
    },
    {
      "cell_type": "code",
      "metadata": {
        "colab": {
          "base_uri": "https://localhost:8080/",
          "height": 0
        },
        "id": "uInwoCBqYVnm",
        "outputId": "4b38559d-c334-4a96-b25f-fa41e5ca3c2a"
      },
      "source": [
        "# creating a dataframe that only consists of cluster `4` with highest count cluster\n",
        "cluster4_sub = Cl5.query(\"Clustered5 == 4\").reset_index(drop=True)\n",
        "cluster4_sub = cluster4_sub.drop('Clustered5',axis = 1)\n",
        "cluster4_sub"
      ],
      "execution_count": 137,
      "outputs": [
        {
          "output_type": "execute_result",
          "data": {
            "text/html": [
              "<div>\n",
              "<style scoped>\n",
              "    .dataframe tbody tr th:only-of-type {\n",
              "        vertical-align: middle;\n",
              "    }\n",
              "\n",
              "    .dataframe tbody tr th {\n",
              "        vertical-align: top;\n",
              "    }\n",
              "\n",
              "    .dataframe thead th {\n",
              "        text-align: right;\n",
              "    }\n",
              "</style>\n",
              "<table border=\"1\" class=\"dataframe\">\n",
              "  <thead>\n",
              "    <tr style=\"text-align: right;\">\n",
              "      <th></th>\n",
              "      <th>diameter</th>\n",
              "      <th>rot_per</th>\n",
              "    </tr>\n",
              "  </thead>\n",
              "  <tbody>\n",
              "    <tr>\n",
              "      <th>0</th>\n",
              "      <td>9.300</td>\n",
              "      <td>6.4840</td>\n",
              "    </tr>\n",
              "    <tr>\n",
              "      <th>1</th>\n",
              "      <td>12.467</td>\n",
              "      <td>5.8949</td>\n",
              "    </tr>\n",
              "    <tr>\n",
              "      <th>2</th>\n",
              "      <td>11.036</td>\n",
              "      <td>4.3480</td>\n",
              "    </tr>\n",
              "    <tr>\n",
              "      <th>3</th>\n",
              "      <td>9.822</td>\n",
              "      <td>13.8070</td>\n",
              "    </tr>\n",
              "    <tr>\n",
              "      <th>4</th>\n",
              "      <td>10.456</td>\n",
              "      <td>4.3130</td>\n",
              "    </tr>\n",
              "    <tr>\n",
              "      <th>...</th>\n",
              "      <td>...</td>\n",
              "      <td>...</td>\n",
              "    </tr>\n",
              "    <tr>\n",
              "      <th>7533</th>\n",
              "      <td>0.653</td>\n",
              "      <td>2.8849</td>\n",
              "    </tr>\n",
              "    <tr>\n",
              "      <th>7534</th>\n",
              "      <td>0.453</td>\n",
              "      <td>5.9600</td>\n",
              "    </tr>\n",
              "    <tr>\n",
              "      <th>7535</th>\n",
              "      <td>0.325</td>\n",
              "      <td>16.0000</td>\n",
              "    </tr>\n",
              "    <tr>\n",
              "      <th>7536</th>\n",
              "      <td>0.694</td>\n",
              "      <td>5.2060</td>\n",
              "    </tr>\n",
              "    <tr>\n",
              "      <th>7537</th>\n",
              "      <td>1.626</td>\n",
              "      <td>6.8300</td>\n",
              "    </tr>\n",
              "  </tbody>\n",
              "</table>\n",
              "<p>7538 rows × 2 columns</p>\n",
              "</div>"
            ],
            "text/plain": [
              "      diameter  rot_per\n",
              "0        9.300   6.4840\n",
              "1       12.467   5.8949\n",
              "2       11.036   4.3480\n",
              "3        9.822  13.8070\n",
              "4       10.456   4.3130\n",
              "...        ...      ...\n",
              "7533     0.653   2.8849\n",
              "7534     0.453   5.9600\n",
              "7535     0.325  16.0000\n",
              "7536     0.694   5.2060\n",
              "7537     1.626   6.8300\n",
              "\n",
              "[7538 rows x 2 columns]"
            ]
          },
          "metadata": {
            "tags": []
          },
          "execution_count": 137
        }
      ]
    },
    {
      "cell_type": "code",
      "metadata": {
        "colab": {
          "base_uri": "https://localhost:8080/",
          "height": 0
        },
        "id": "FjG_1Nmu63rW",
        "outputId": "a0833d49-19a9-4d6e-d00f-610342edb7aa"
      },
      "source": [
        "cluster4_sub[[\"diameter\", \"rot_per\"]].plot(bins=15, kind=\"hist\", subplots=True)"
      ],
      "execution_count": 138,
      "outputs": [
        {
          "output_type": "execute_result",
          "data": {
            "text/plain": [
              "array([<matplotlib.axes._subplots.AxesSubplot object at 0x7f7e61c255c0>,\n",
              "       <matplotlib.axes._subplots.AxesSubplot object at 0x7f7e61deaa58>],\n",
              "      dtype=object)"
            ]
          },
          "metadata": {
            "tags": []
          },
          "execution_count": 138
        },
        {
          "output_type": "display_data",
          "data": {
            "image/png": "[encoded data removed]",
            "text/plain": [
              "<Figure size 432x288 with 2 Axes>"
            ]
          },
          "metadata": {
            "tags": [],
            "needs_background": "light"
          }
        }
      ]
    },
    {
      "cell_type": "markdown",
      "metadata": {
        "id": "Vlww6CBwZtDI"
      },
      "source": [
        "## 2.3 Third Cluster Iteration"
      ]
    },
    {
      "cell_type": "markdown",
      "metadata": {
        "id": "QGfW44lX7Pye"
      },
      "source": [
        "### Perform Elbow Method (SSE Within Clusters) and Silhouette Score\n",
        "### silhouette score: 0.8\n",
        "### sse withing cluster: 4829.0\n"
      ]
    },
    {
      "cell_type": "code",
      "metadata": {
        "colab": {
          "base_uri": "https://localhost:8080/",
          "height": 446
        },
        "id": "hWG0BWxQY8yA",
        "outputId": "8f52d0b8-2491-4aab-a0e2-1d384212e387"
      },
      "source": [
        "plot_cluster(cluster4_sub, max_loop=25)"
      ],
      "execution_count": 139,
      "outputs": [
        {
          "output_type": "display_data",
          "data": {
            "image/png": "[encoded data removed]",
            "text/plain": [
              "<Figure size 720x432 with 2 Axes>"
            ]
          },
          "metadata": {
            "tags": [],
            "needs_background": "light"
          }
        }
      ]
    },
    {
      "cell_type": "code",
      "metadata": {
        "colab": {
          "base_uri": "https://localhost:8080/"
        },
        "id": "rXTtQihYZx6t",
        "outputId": "2f4d5b27-57f3-46e1-a0e2-df433d76b796"
      },
      "source": [
        "third_trial = apply_cluster(cluster4_sub, clusters=5)"
      ],
      "execution_count": 140,
      "outputs": [
        {
          "output_type": "stream",
          "text": [
            "clustering performance\n",
            "-----------------------------------\n",
            "silhouette score: 0.8\n",
            "sse withing cluster: 4829.0\n"
          ],
          "name": "stdout"
        }
      ]
    },
    {
      "cell_type": "markdown",
      "metadata": {
        "id": "vTfD0az48LXA"
      },
      "source": [
        "### Third Kmeans Clustering Of Cluster 4 with highest cluster 7538\n",
        " "
      ]
    },
    {
      "cell_type": "code",
      "metadata": {
        "id": "8j-e7kKhaHME"
      },
      "source": [
        "# Performing Kmeans using Clusters = 5\n",
        "from sklearn.preprocessing import StandardScaler\n",
        "# X = data.iloc[:, [14, 16]].values\n",
        "# Standard Scaler\n",
        "sc = StandardScaler()\n",
        "S_c = sc.fit_transform(cluster4_sub)\n",
        "\n",
        "kmeans = KMeans(n_clusters = 5, init = 'k-means++', random_state = 42)\n",
        "y_kmeans_5 = kmeans.fit_predict(S_c)"
      ],
      "execution_count": 141,
      "outputs": []
    },
    {
      "cell_type": "code",
      "metadata": {
        "colab": {
          "base_uri": "https://localhost:8080/",
          "height": 621
        },
        "id": "WsOZ6i-HaNgy",
        "outputId": "03cbb67a-ba8b-4dcc-ed34-38b70a6789a1"
      },
      "source": [
        "plt.figure(figsize=(15,10))\n",
        "plt.scatter(S_c[y_kmeans_5 == 0, 0], S_c[y_kmeans_5 == 0, 1], s = 100, c = 'red', label = 'Cluster 1')\n",
        "plt.scatter(S_c[y_kmeans_5 == 1, 0], S_c[y_kmeans_5 == 1, 1], s = 100, c = 'blue', label = 'Cluster 2')\n",
        "plt.scatter(S_c[y_kmeans_5 == 2, 0], S_c[y_kmeans_5 == 2, 1], s = 100, c = 'green', label = 'Cluster 3')\n",
        "plt.scatter(S_c[y_kmeans_5 == 3, 0], S_c[y_kmeans_5 == 3, 1], s = 100, c = 'cyan', label = 'Cluster 4')\n",
        "plt.scatter(S_c[y_kmeans_5 == 4, 0], S_c[y_kmeans_5 == 4, 1], s = 100, c = 'magenta', label = 'Cluster 5')\n",
        "# plt.scatter(X[y_kmeans == 5, 0], X[y_kmeans == 5, 1], s = 100, c = 'brown', label = 'Cluster 6')\n",
        "plt.scatter(kmeans.cluster_centers_[:, 0], kmeans.cluster_centers_[:, 1], s = 100, c = 'yellow', label = 'Centroids')\n",
        "plt.title('KMeans Clusters Second Fractal Clustering -  Diameter vs Rotation Period of Asteroids')\n",
        "plt.xlabel('Diameter')\n",
        "plt.ylabel('Rotation Period of Asteroids')\n",
        "plt.xticks([i for i in range(0, 4)], rotation=360)\n",
        "plt.yticks([i for i in range(0, 6)], rotation=360)\n",
        "plt.legend()\n",
        "plt.show()"
      ],
      "execution_count": 142,
      "outputs": [
        {
          "output_type": "display_data",
          "data": {
            "image/png": "[encoded data removed]",
            "text/plain": [
              "<Figure size 1080x720 with 1 Axes>"
            ]
          },
          "metadata": {
            "tags": [],
            "needs_background": "light"
          }
        }
      ]
    },
    {
      "cell_type": "markdown",
      "metadata": {
        "id": "GnDTBT6Sappt"
      },
      "source": [
        "### Third Fractal Clustering of Five Clusters from previous Five Clusters\n",
        "### Found Three Golden Clusters after third Kmeans cluster iteration\n",
        "### Cluster 1-(1318), Cluster 4-(2291), Cluster 0-(2650) diameter and rotation data"
      ]
    },
    {
      "cell_type": "code",
      "metadata": {
        "id": "nvRh-WGDLUpQ"
      },
      "source": [
        "Cl3 = cluster4_sub[['diameter', 'rot_per']] "
      ],
      "execution_count": 156,
      "outputs": []
    },
    {
      "cell_type": "code",
      "metadata": {
        "id": "dCvz5twwa2Vd"
      },
      "source": [
        "new = cluster4_sub._get_numeric_data().dropna(axis=1)\n",
        "Cl3['Clustered5_2'] = pd.Series(y_kmeans_5, index=cluster4_sub.index)"
      ],
      "execution_count": 157,
      "outputs": []
    },
    {
      "cell_type": "code",
      "metadata": {
        "colab": {
          "base_uri": "https://localhost:8080/",
          "height": 204
        },
        "id": "5oUeelxDbIXG",
        "outputId": "da174023-77a0-40ea-add4-52f39789ed63"
      },
      "source": [
        "cluster5_2_perf = (\n",
        "     Cl3\n",
        "    .groupby('Clustered5_2')\n",
        "    .agg({\"diameter\":\"count\", \"rot_per\":\"count\"})\n",
        "    .sort_values('diameter')\n",
        "    .reset_index()\n",
        ")\n",
        "\n",
        "cluster5_2_perf"
      ],
      "execution_count": 158,
      "outputs": [
        {
          "output_type": "execute_result",
          "data": {
            "text/html": [
              "<div>\n",
              "<style scoped>\n",
              "    .dataframe tbody tr th:only-of-type {\n",
              "        vertical-align: middle;\n",
              "    }\n",
              "\n",
              "    .dataframe tbody tr th {\n",
              "        vertical-align: top;\n",
              "    }\n",
              "\n",
              "    .dataframe thead th {\n",
              "        text-align: right;\n",
              "    }\n",
              "</style>\n",
              "<table border=\"1\" class=\"dataframe\">\n",
              "  <thead>\n",
              "    <tr style=\"text-align: right;\">\n",
              "      <th></th>\n",
              "      <th>Clustered5_2</th>\n",
              "      <th>diameter</th>\n",
              "      <th>rot_per</th>\n",
              "    </tr>\n",
              "  </thead>\n",
              "  <tbody>\n",
              "    <tr>\n",
              "      <th>0</th>\n",
              "      <td>2</td>\n",
              "      <td>400</td>\n",
              "      <td>400</td>\n",
              "    </tr>\n",
              "    <tr>\n",
              "      <th>1</th>\n",
              "      <td>3</td>\n",
              "      <td>879</td>\n",
              "      <td>879</td>\n",
              "    </tr>\n",
              "    <tr>\n",
              "      <th>2</th>\n",
              "      <td>1</td>\n",
              "      <td>1318</td>\n",
              "      <td>1318</td>\n",
              "    </tr>\n",
              "    <tr>\n",
              "      <th>3</th>\n",
              "      <td>4</td>\n",
              "      <td>2291</td>\n",
              "      <td>2291</td>\n",
              "    </tr>\n",
              "    <tr>\n",
              "      <th>4</th>\n",
              "      <td>0</td>\n",
              "      <td>2650</td>\n",
              "      <td>2650</td>\n",
              "    </tr>\n",
              "  </tbody>\n",
              "</table>\n",
              "</div>"
            ],
            "text/plain": [
              "   Clustered5_2  diameter  rot_per\n",
              "0             2       400      400\n",
              "1             3       879      879\n",
              "2             1      1318     1318\n",
              "3             4      2291     2291\n",
              "4             0      2650     2650"
            ]
          },
          "metadata": {
            "tags": []
          },
          "execution_count": 158
        }
      ]
    },
    {
      "cell_type": "code",
      "metadata": {
        "colab": {
          "base_uri": "https://localhost:8080/",
          "height": 282
        },
        "id": "oMTgaZbZBCbI",
        "outputId": "02d6e3a4-efbe-4f1b-8a52-2a0c3254b842"
      },
      "source": [
        "Cl3[[\"diameter\", \"rot_per\"]].plot(bins=30, kind=\"hist\")"
      ],
      "execution_count": 159,
      "outputs": [
        {
          "output_type": "execute_result",
          "data": {
            "text/plain": [
              "<matplotlib.axes._subplots.AxesSubplot at 0x7f7e5a9d4160>"
            ]
          },
          "metadata": {
            "tags": []
          },
          "execution_count": 159
        },
        {
          "output_type": "display_data",
          "data": {
            "image/png": "[encoded data removed]",
            "text/plain": [
              "<Figure size 432x288 with 1 Axes>"
            ]
          },
          "metadata": {
            "tags": [],
            "needs_background": "light"
          }
        }
      ]
    },
    {
      "cell_type": "code",
      "metadata": {
        "colab": {
          "base_uri": "https://localhost:8080/",
          "height": 419
        },
        "id": "Kp_9uUvH_K_M",
        "outputId": "789c062f-6c22-4641-8a75-c1b6d9f4e548"
      },
      "source": [
        "# creating a dataframe that only consists of cluster `1` with highest count cluster\n",
        "cluster4_1_sub = Cl3.query(\"Clustered5_2 == 1\").reset_index(drop=True)\n",
        "cluster4_1_sub = cluster4_1_sub.drop('Clustered5_2',axis = 1)\n",
        "cluster4_1_sub"
      ],
      "execution_count": 160,
      "outputs": [
        {
          "output_type": "execute_result",
          "data": {
            "text/html": [
              "<div>\n",
              "<style scoped>\n",
              "    .dataframe tbody tr th:only-of-type {\n",
              "        vertical-align: middle;\n",
              "    }\n",
              "\n",
              "    .dataframe tbody tr th {\n",
              "        vertical-align: top;\n",
              "    }\n",
              "\n",
              "    .dataframe thead th {\n",
              "        text-align: right;\n",
              "    }\n",
              "</style>\n",
              "<table border=\"1\" class=\"dataframe\">\n",
              "  <thead>\n",
              "    <tr style=\"text-align: right;\">\n",
              "      <th></th>\n",
              "      <th>diameter</th>\n",
              "      <th>rot_per</th>\n",
              "    </tr>\n",
              "  </thead>\n",
              "  <tbody>\n",
              "    <tr>\n",
              "      <th>0</th>\n",
              "      <td>9.300</td>\n",
              "      <td>6.4840</td>\n",
              "    </tr>\n",
              "    <tr>\n",
              "      <th>1</th>\n",
              "      <td>12.467</td>\n",
              "      <td>5.8949</td>\n",
              "    </tr>\n",
              "    <tr>\n",
              "      <th>2</th>\n",
              "      <td>11.036</td>\n",
              "      <td>4.3480</td>\n",
              "    </tr>\n",
              "    <tr>\n",
              "      <th>3</th>\n",
              "      <td>9.822</td>\n",
              "      <td>13.8070</td>\n",
              "    </tr>\n",
              "    <tr>\n",
              "      <th>4</th>\n",
              "      <td>10.456</td>\n",
              "      <td>4.3130</td>\n",
              "    </tr>\n",
              "    <tr>\n",
              "      <th>...</th>\n",
              "      <td>...</td>\n",
              "      <td>...</td>\n",
              "    </tr>\n",
              "    <tr>\n",
              "      <th>1313</th>\n",
              "      <td>9.012</td>\n",
              "      <td>7.7040</td>\n",
              "    </tr>\n",
              "    <tr>\n",
              "      <th>1314</th>\n",
              "      <td>12.541</td>\n",
              "      <td>7.8960</td>\n",
              "    </tr>\n",
              "    <tr>\n",
              "      <th>1315</th>\n",
              "      <td>11.676</td>\n",
              "      <td>18.0000</td>\n",
              "    </tr>\n",
              "    <tr>\n",
              "      <th>1316</th>\n",
              "      <td>8.329</td>\n",
              "      <td>8.4450</td>\n",
              "    </tr>\n",
              "    <tr>\n",
              "      <th>1317</th>\n",
              "      <td>11.702</td>\n",
              "      <td>5.8200</td>\n",
              "    </tr>\n",
              "  </tbody>\n",
              "</table>\n",
              "<p>1318 rows × 2 columns</p>\n",
              "</div>"
            ],
            "text/plain": [
              "      diameter  rot_per\n",
              "0        9.300   6.4840\n",
              "1       12.467   5.8949\n",
              "2       11.036   4.3480\n",
              "3        9.822  13.8070\n",
              "4       10.456   4.3130\n",
              "...        ...      ...\n",
              "1313     9.012   7.7040\n",
              "1314    12.541   7.8960\n",
              "1315    11.676  18.0000\n",
              "1316     8.329   8.4450\n",
              "1317    11.702   5.8200\n",
              "\n",
              "[1318 rows x 2 columns]"
            ]
          },
          "metadata": {
            "tags": []
          },
          "execution_count": 160
        }
      ]
    },
    {
      "cell_type": "code",
      "metadata": {
        "colab": {
          "base_uri": "https://localhost:8080/",
          "height": 316
        },
        "id": "y6JSQmMi_zrf",
        "outputId": "9f135a6e-707c-4a12-940a-3221a8109c71"
      },
      "source": [
        "cluster4_1_sub[[\"diameter\", \"rot_per\"]].plot(bins=15, kind=\"hist\", subplots=True)"
      ],
      "execution_count": 162,
      "outputs": [
        {
          "output_type": "execute_result",
          "data": {
            "text/plain": [
              "array([<matplotlib.axes._subplots.AxesSubplot object at 0x7f7e5a77a0f0>,\n",
              "       <matplotlib.axes._subplots.AxesSubplot object at 0x7f7e5a7a5cc0>],\n",
              "      dtype=object)"
            ]
          },
          "metadata": {
            "tags": []
          },
          "execution_count": 162
        },
        {
          "output_type": "display_data",
          "data": {
            "image/png": "[encoded data removed]",
            "text/plain": [
              "<Figure size 432x288 with 2 Axes>"
            ]
          },
          "metadata": {
            "tags": [],
            "needs_background": "light"
          }
        }
      ]
    },
    {
      "cell_type": "code",
      "metadata": {
        "colab": {
          "base_uri": "https://localhost:8080/",
          "height": 419
        },
        "id": "o_kFSKTtAA4L",
        "outputId": "bff79e77-1f48-423b-f924-9071e075ffbb"
      },
      "source": [
        "# creating a dataframe that only consists of cluster `4` with highest count cluster\n",
        "cluster4_4_sub = Cl3.query(\"Clustered5_2 == 4\").reset_index(drop=True)\n",
        "cluster4_4_sub = cluster4_4_sub.drop('Clustered5_2',axis = 1)\n",
        "cluster4_4_sub"
      ],
      "execution_count": 163,
      "outputs": [
        {
          "output_type": "execute_result",
          "data": {
            "text/html": [
              "<div>\n",
              "<style scoped>\n",
              "    .dataframe tbody tr th:only-of-type {\n",
              "        vertical-align: middle;\n",
              "    }\n",
              "\n",
              "    .dataframe tbody tr th {\n",
              "        vertical-align: top;\n",
              "    }\n",
              "\n",
              "    .dataframe thead th {\n",
              "        text-align: right;\n",
              "    }\n",
              "</style>\n",
              "<table border=\"1\" class=\"dataframe\">\n",
              "  <thead>\n",
              "    <tr style=\"text-align: right;\">\n",
              "      <th></th>\n",
              "      <th>diameter</th>\n",
              "      <th>rot_per</th>\n",
              "    </tr>\n",
              "  </thead>\n",
              "  <tbody>\n",
              "    <tr>\n",
              "      <th>0</th>\n",
              "      <td>8.196</td>\n",
              "      <td>4.5385</td>\n",
              "    </tr>\n",
              "    <tr>\n",
              "      <th>1</th>\n",
              "      <td>6.534</td>\n",
              "      <td>5.3450</td>\n",
              "    </tr>\n",
              "    <tr>\n",
              "      <th>2</th>\n",
              "      <td>8.153</td>\n",
              "      <td>3.1259</td>\n",
              "    </tr>\n",
              "    <tr>\n",
              "      <th>3</th>\n",
              "      <td>7.726</td>\n",
              "      <td>10.4810</td>\n",
              "    </tr>\n",
              "    <tr>\n",
              "      <th>4</th>\n",
              "      <td>5.887</td>\n",
              "      <td>5.5783</td>\n",
              "    </tr>\n",
              "    <tr>\n",
              "      <th>...</th>\n",
              "      <td>...</td>\n",
              "      <td>...</td>\n",
              "    </tr>\n",
              "    <tr>\n",
              "      <th>2286</th>\n",
              "      <td>5.092</td>\n",
              "      <td>5.9660</td>\n",
              "    </tr>\n",
              "    <tr>\n",
              "      <th>2287</th>\n",
              "      <td>7.199</td>\n",
              "      <td>10.4810</td>\n",
              "    </tr>\n",
              "    <tr>\n",
              "      <th>2288</th>\n",
              "      <td>5.600</td>\n",
              "      <td>4.8005</td>\n",
              "    </tr>\n",
              "    <tr>\n",
              "      <th>2289</th>\n",
              "      <td>6.082</td>\n",
              "      <td>4.2100</td>\n",
              "    </tr>\n",
              "    <tr>\n",
              "      <th>2290</th>\n",
              "      <td>5.454</td>\n",
              "      <td>2.0000</td>\n",
              "    </tr>\n",
              "  </tbody>\n",
              "</table>\n",
              "<p>2291 rows × 2 columns</p>\n",
              "</div>"
            ],
            "text/plain": [
              "      diameter  rot_per\n",
              "0        8.196   4.5385\n",
              "1        6.534   5.3450\n",
              "2        8.153   3.1259\n",
              "3        7.726  10.4810\n",
              "4        5.887   5.5783\n",
              "...        ...      ...\n",
              "2286     5.092   5.9660\n",
              "2287     7.199  10.4810\n",
              "2288     5.600   4.8005\n",
              "2289     6.082   4.2100\n",
              "2290     5.454   2.0000\n",
              "\n",
              "[2291 rows x 2 columns]"
            ]
          },
          "metadata": {
            "tags": []
          },
          "execution_count": 163
        }
      ]
    },
    {
      "cell_type": "code",
      "metadata": {
        "colab": {
          "base_uri": "https://localhost:8080/",
          "height": 317
        },
        "id": "a8vWA58MAiKQ",
        "outputId": "5e143508-af04-42e9-a77e-805aaa567d44"
      },
      "source": [
        "cluster4_4_sub[[\"diameter\", \"rot_per\"]].plot(bins=15, kind=\"hist\", subplots=True)"
      ],
      "execution_count": 164,
      "outputs": [
        {
          "output_type": "execute_result",
          "data": {
            "text/plain": [
              "array([<matplotlib.axes._subplots.AxesSubplot object at 0x7f7e5a671f60>,\n",
              "       <matplotlib.axes._subplots.AxesSubplot object at 0x7f7e5a6a3d30>],\n",
              "      dtype=object)"
            ]
          },
          "metadata": {
            "tags": []
          },
          "execution_count": 164
        },
        {
          "output_type": "display_data",
          "data": {
            "image/png": "[encoded data removed]",
            "text/plain": [
              "<Figure size 432x288 with 2 Axes>"
            ]
          },
          "metadata": {
            "tags": [],
            "needs_background": "light"
          }
        }
      ]
    },
    {
      "cell_type": "code",
      "metadata": {
        "colab": {
          "base_uri": "https://localhost:8080/",
          "height": 419
        },
        "id": "C-zvAXX_ArmR",
        "outputId": "0fb20184-6a6b-407a-e7b5-abf211c5dcbb"
      },
      "source": [
        "# creating a dataframe that only consists of cluster `0` with highest count cluster\n",
        "cluster4_0_sub = Cl3.query(\"Clustered5_2 == 0\").reset_index(drop=True)\n",
        "cluster4_0_sub = cluster4_0_sub.drop('Clustered5_2',axis = 1)\n",
        "cluster4_0_sub"
      ],
      "execution_count": 165,
      "outputs": [
        {
          "output_type": "execute_result",
          "data": {
            "text/html": [
              "<div>\n",
              "<style scoped>\n",
              "    .dataframe tbody tr th:only-of-type {\n",
              "        vertical-align: middle;\n",
              "    }\n",
              "\n",
              "    .dataframe tbody tr th {\n",
              "        vertical-align: top;\n",
              "    }\n",
              "\n",
              "    .dataframe thead th {\n",
              "        text-align: right;\n",
              "    }\n",
              "</style>\n",
              "<table border=\"1\" class=\"dataframe\">\n",
              "  <thead>\n",
              "    <tr style=\"text-align: right;\">\n",
              "      <th></th>\n",
              "      <th>diameter</th>\n",
              "      <th>rot_per</th>\n",
              "    </tr>\n",
              "  </thead>\n",
              "  <tbody>\n",
              "    <tr>\n",
              "      <th>0</th>\n",
              "      <td>2.529</td>\n",
              "      <td>2.660000</td>\n",
              "    </tr>\n",
              "    <tr>\n",
              "      <th>1</th>\n",
              "      <td>4.605</td>\n",
              "      <td>3.588000</td>\n",
              "    </tr>\n",
              "    <tr>\n",
              "      <th>2</th>\n",
              "      <td>4.276</td>\n",
              "      <td>2.971200</td>\n",
              "    </tr>\n",
              "    <tr>\n",
              "      <th>3</th>\n",
              "      <td>1.000</td>\n",
              "      <td>2.272600</td>\n",
              "    </tr>\n",
              "    <tr>\n",
              "      <th>4</th>\n",
              "      <td>2.560</td>\n",
              "      <td>5.222040</td>\n",
              "    </tr>\n",
              "    <tr>\n",
              "      <th>...</th>\n",
              "      <td>...</td>\n",
              "      <td>...</td>\n",
              "    </tr>\n",
              "    <tr>\n",
              "      <th>2645</th>\n",
              "      <td>0.055</td>\n",
              "      <td>0.029952</td>\n",
              "    </tr>\n",
              "    <tr>\n",
              "      <th>2646</th>\n",
              "      <td>0.653</td>\n",
              "      <td>2.884900</td>\n",
              "    </tr>\n",
              "    <tr>\n",
              "      <th>2647</th>\n",
              "      <td>0.453</td>\n",
              "      <td>5.960000</td>\n",
              "    </tr>\n",
              "    <tr>\n",
              "      <th>2648</th>\n",
              "      <td>0.694</td>\n",
              "      <td>5.206000</td>\n",
              "    </tr>\n",
              "    <tr>\n",
              "      <th>2649</th>\n",
              "      <td>1.626</td>\n",
              "      <td>6.830000</td>\n",
              "    </tr>\n",
              "  </tbody>\n",
              "</table>\n",
              "<p>2650 rows × 2 columns</p>\n",
              "</div>"
            ],
            "text/plain": [
              "      diameter   rot_per\n",
              "0        2.529  2.660000\n",
              "1        4.605  3.588000\n",
              "2        4.276  2.971200\n",
              "3        1.000  2.272600\n",
              "4        2.560  5.222040\n",
              "...        ...       ...\n",
              "2645     0.055  0.029952\n",
              "2646     0.653  2.884900\n",
              "2647     0.453  5.960000\n",
              "2648     0.694  5.206000\n",
              "2649     1.626  6.830000\n",
              "\n",
              "[2650 rows x 2 columns]"
            ]
          },
          "metadata": {
            "tags": []
          },
          "execution_count": 165
        }
      ]
    },
    {
      "cell_type": "code",
      "metadata": {
        "colab": {
          "base_uri": "https://localhost:8080/",
          "height": 316
        },
        "id": "aIZAi2PFA0gM",
        "outputId": "a1f131d9-069d-4034-d7a3-33649c884a56"
      },
      "source": [
        "cluster4_0_sub[[\"diameter\", \"rot_per\"]].plot(bins=15, kind=\"hist\", subplots=True)"
      ],
      "execution_count": 166,
      "outputs": [
        {
          "output_type": "execute_result",
          "data": {
            "text/plain": [
              "array([<matplotlib.axes._subplots.AxesSubplot object at 0x7f7e5a582f28>,\n",
              "       <matplotlib.axes._subplots.AxesSubplot object at 0x7f7e5a52df98>],\n",
              "      dtype=object)"
            ]
          },
          "metadata": {
            "tags": []
          },
          "execution_count": 166
        },
        {
          "output_type": "display_data",
          "data": {
            "image/png": "[encoded data removed]",
            "text/plain": [
              "<Figure size 432x288 with 2 Axes>"
            ]
          },
          "metadata": {
            "tags": [],
            "needs_background": "light"
          }
        }
      ]
    },
    {
      "cell_type": "code",
      "metadata": {
        "colab": {
          "base_uri": "https://localhost:8080/",
          "height": 276
        },
        "id": "pS5rW0zIRfiZ",
        "outputId": "efb7ba98-21b9-40c5-81cd-555170b5984a"
      },
      "source": [
        "Cl3.set_index('Clustered5_2').plot(kind='bar', stacked=True, figsize=(30,5))\n",
        "plt.legend(['diameter', 'rot_per'], prop={\"size\":10})"
      ],
      "execution_count": 167,
      "outputs": [
        {
          "output_type": "execute_result",
          "data": {
            "text/plain": [
              "<matplotlib.legend.Legend at 0x7f7e5a4b2550>"
            ]
          },
          "metadata": {
            "tags": []
          },
          "execution_count": 167
        },
        {
          "output_type": "display_data",
          "data": {
            "image/png": "[encoded data removed]",
            "text/plain": [
              "<Figure size 2160x360 with 1 Axes>"
            ]
          },
          "metadata": {
            "tags": [],
            "needs_background": "light"
          }
        }
      ]
    },
    {
      "cell_type": "code",
      "metadata": {
        "colab": {
          "base_uri": "https://localhost:8080/",
          "height": 485
        },
        "id": "Msb-dF2oQPYA",
        "outputId": "995dc59d-b5ef-4cd2-bcab-dc5889c108a8"
      },
      "source": [
        "Cl3.set_index('Clustered5_2').plot(kind='bar', stacked=True, figsize=(30,10))\n",
        "plt.legend([\"cluster4_0_sub\", \"cluster4_4_sub\", \"cluster4_1_sub\"], prop={\"size\":5})"
      ],
      "execution_count": 172,
      "outputs": [
        {
          "output_type": "execute_result",
          "data": {
            "text/plain": [
              "<matplotlib.legend.Legend at 0x7f7e20f29fd0>"
            ]
          },
          "metadata": {
            "tags": []
          },
          "execution_count": 172
        },
        {
          "output_type": "display_data",
          "data": {
            "image/png": "[encoded data removed]",
            "text/plain": [
              "<Figure size 2160x720 with 1 Axes>"
            ]
          },
          "metadata": {
            "tags": [],
            "needs_background": "light"
          }
        }
      ]
    }
  ]
}