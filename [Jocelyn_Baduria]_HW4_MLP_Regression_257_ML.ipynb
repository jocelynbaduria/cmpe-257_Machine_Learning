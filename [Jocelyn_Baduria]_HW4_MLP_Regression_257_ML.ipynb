{
  "nbformat": 4,
  "nbformat_minor": 0,
  "metadata": {
    "colab": {
      "name": "[Jocelyn_Baduria]_HW4_MLP_Regression_257_ML.ipynb",
      "provenance": [],
      "collapsed_sections": [],
      "include_colab_link": true
    },
    "kernelspec": {
      "display_name": "Python 3",
      "name": "python3"
    }
  },
  "cells": [
    {
      "cell_type": "markdown",
      "metadata": {
        "id": "view-in-github",
        "colab_type": "text"
      },
      "source": [
        "<a href=\"https://colab.research.google.com/github/jocelynbaduria/cmpe-257_Machine_Learning/blob/main/%5BJocelyn_Baduria%5D_HW4_MLP_Regression_257_ML.ipynb\" target=\"_parent\"><img src=\"https://colab.research.google.com/assets/colab-badge.svg\" alt=\"Open In Colab\"/></a>"
      ]
    },
    {
      "cell_type": "markdown",
      "metadata": {
        "id": "wMu65bhx7wI1"
      },
      "source": [
        "# 1. Data Wrangling"
      ]
    },
    {
      "cell_type": "code",
      "metadata": {
        "colab": {
          "base_uri": "https://localhost:8080/"
        },
        "id": "Z7jNuEmj7W4g",
        "outputId": "b8a641c0-955a-453e-bfae-a678c729b341"
      },
      "source": [
        "from google.colab import drive\n",
        "drive.mount('/content/drive')"
      ],
      "execution_count": 245,
      "outputs": [
        {
          "output_type": "stream",
          "text": [
            "Drive already mounted at /content/drive; to attempt to forcibly remount, call drive.mount(\"/content/drive\", force_remount=True).\n"
          ],
          "name": "stdout"
        }
      ]
    },
    {
      "cell_type": "markdown",
      "metadata": {
        "id": "gCjz4Jkj9M8D"
      },
      "source": [
        "# 1.1 Import Libraries and Read the Data from CSV"
      ]
    },
    {
      "cell_type": "code",
      "metadata": {
        "id": "8k7OC14z9SFr"
      },
      "source": [
        "import numpy as np\n",
        "import pandas as pd\n",
        "import seaborn as sns\n",
        "import matplotlib.pyplot as plt\n",
        "import itertools\n",
        "import matplotlib as mpl\n",
        "import tensorflow as tf"
      ],
      "execution_count": 246,
      "outputs": []
    },
    {
      "cell_type": "code",
      "metadata": {
        "id": "pyGoejdPAJxg"
      },
      "source": [
        "path = '/content/drive/My Drive/Underdog/data/Diameter_Asteroid_data.csv'\n",
        "\n",
        "data = pd.read_csv(path, delimiter=',')\n",
        "# data1 = pd.read_csv(io.StringIO(data.to_csv(index=False)))"
      ],
      "execution_count": 247,
      "outputs": []
    },
    {
      "cell_type": "code",
      "metadata": {
        "colab": {
          "base_uri": "https://localhost:8080/",
          "height": 204
        },
        "id": "b-eNhMne9e4K",
        "outputId": "76ef51a1-716d-4ba0-8804-6a20e541f6e6"
      },
      "source": [
        "data.head()"
      ],
      "execution_count": 249,
      "outputs": [
        {
          "output_type": "execute_result",
          "data": {
            "text/html": [
              "<div>\n",
              "<style scoped>\n",
              "    .dataframe tbody tr th:only-of-type {\n",
              "        vertical-align: middle;\n",
              "    }\n",
              "\n",
              "    .dataframe tbody tr th {\n",
              "        vertical-align: top;\n",
              "    }\n",
              "\n",
              "    .dataframe thead th {\n",
              "        text-align: right;\n",
              "    }\n",
              "</style>\n",
              "<table border=\"1\" class=\"dataframe\">\n",
              "  <thead>\n",
              "    <tr style=\"text-align: right;\">\n",
              "      <th></th>\n",
              "      <th>name</th>\n",
              "      <th>diameter</th>\n",
              "      <th>rot_per</th>\n",
              "      <th>Clustered3</th>\n",
              "    </tr>\n",
              "  </thead>\n",
              "  <tbody>\n",
              "    <tr>\n",
              "      <th>0</th>\n",
              "      <td>Agathe</td>\n",
              "      <td>9.300</td>\n",
              "      <td>6.4840</td>\n",
              "      <td>4</td>\n",
              "    </tr>\n",
              "    <tr>\n",
              "      <th>1</th>\n",
              "      <td>Augusta</td>\n",
              "      <td>12.467</td>\n",
              "      <td>5.8949</td>\n",
              "      <td>1</td>\n",
              "    </tr>\n",
              "    <tr>\n",
              "      <th>2</th>\n",
              "      <td>Valda</td>\n",
              "      <td>14.645</td>\n",
              "      <td>17.3860</td>\n",
              "      <td>1</td>\n",
              "    </tr>\n",
              "    <tr>\n",
              "      <th>3</th>\n",
              "      <td>Lucretia</td>\n",
              "      <td>11.036</td>\n",
              "      <td>4.3480</td>\n",
              "      <td>1</td>\n",
              "    </tr>\n",
              "    <tr>\n",
              "      <th>4</th>\n",
              "      <td>Bruna</td>\n",
              "      <td>9.822</td>\n",
              "      <td>13.8070</td>\n",
              "      <td>3</td>\n",
              "    </tr>\n",
              "  </tbody>\n",
              "</table>\n",
              "</div>"
            ],
            "text/plain": [
              "       name  diameter  rot_per  Clustered3\n",
              "0    Agathe     9.300   6.4840           4\n",
              "1   Augusta    12.467   5.8949           1\n",
              "2     Valda    14.645  17.3860           1\n",
              "3  Lucretia    11.036   4.3480           1\n",
              "4     Bruna     9.822  13.8070           3"
            ]
          },
          "metadata": {
            "tags": []
          },
          "execution_count": 249
        }
      ]
    },
    {
      "cell_type": "markdown",
      "metadata": {
        "id": "0YVV6NhCr1t6"
      },
      "source": [
        "# 1.2 Data Cleaning and Preparation"
      ]
    },
    {
      "cell_type": "code",
      "metadata": {
        "id": "Cbi8SdT43Uij"
      },
      "source": [
        "data.drop(['Clustered3'], axis=1, inplace=True)"
      ],
      "execution_count": 250,
      "outputs": []
    },
    {
      "cell_type": "code",
      "metadata": {
        "colab": {
          "base_uri": "https://localhost:8080/"
        },
        "id": "AyISgH3JDVQ_",
        "outputId": "d642ba56-b2da-4edc-aea4-746cb138360a"
      },
      "source": [
        "data.shape"
      ],
      "execution_count": 251,
      "outputs": [
        {
          "output_type": "execute_result",
          "data": {
            "text/plain": [
              "(3051, 3)"
            ]
          },
          "metadata": {
            "tags": []
          },
          "execution_count": 251
        }
      ]
    },
    {
      "cell_type": "code",
      "metadata": {
        "colab": {
          "base_uri": "https://localhost:8080/"
        },
        "id": "5SQi0Gr9BlmA",
        "outputId": "1b6500f6-44f0-4914-aba8-72cfe4c19f8f"
      },
      "source": [
        "data.columns"
      ],
      "execution_count": 252,
      "outputs": [
        {
          "output_type": "execute_result",
          "data": {
            "text/plain": [
              "Index(['name', 'diameter', 'rot_per'], dtype='object')"
            ]
          },
          "metadata": {
            "tags": []
          },
          "execution_count": 252
        }
      ]
    },
    {
      "cell_type": "code",
      "metadata": {
        "colab": {
          "base_uri": "https://localhost:8080/",
          "height": 204
        },
        "id": "ZvlETLCYF2-O",
        "outputId": "5b0befaf-0efc-4a87-c57e-bde03d398f8e"
      },
      "source": [
        "data.head()"
      ],
      "execution_count": 253,
      "outputs": [
        {
          "output_type": "execute_result",
          "data": {
            "text/html": [
              "<div>\n",
              "<style scoped>\n",
              "    .dataframe tbody tr th:only-of-type {\n",
              "        vertical-align: middle;\n",
              "    }\n",
              "\n",
              "    .dataframe tbody tr th {\n",
              "        vertical-align: top;\n",
              "    }\n",
              "\n",
              "    .dataframe thead th {\n",
              "        text-align: right;\n",
              "    }\n",
              "</style>\n",
              "<table border=\"1\" class=\"dataframe\">\n",
              "  <thead>\n",
              "    <tr style=\"text-align: right;\">\n",
              "      <th></th>\n",
              "      <th>name</th>\n",
              "      <th>diameter</th>\n",
              "      <th>rot_per</th>\n",
              "    </tr>\n",
              "  </thead>\n",
              "  <tbody>\n",
              "    <tr>\n",
              "      <th>0</th>\n",
              "      <td>Agathe</td>\n",
              "      <td>9.300</td>\n",
              "      <td>6.4840</td>\n",
              "    </tr>\n",
              "    <tr>\n",
              "      <th>1</th>\n",
              "      <td>Augusta</td>\n",
              "      <td>12.467</td>\n",
              "      <td>5.8949</td>\n",
              "    </tr>\n",
              "    <tr>\n",
              "      <th>2</th>\n",
              "      <td>Valda</td>\n",
              "      <td>14.645</td>\n",
              "      <td>17.3860</td>\n",
              "    </tr>\n",
              "    <tr>\n",
              "      <th>3</th>\n",
              "      <td>Lucretia</td>\n",
              "      <td>11.036</td>\n",
              "      <td>4.3480</td>\n",
              "    </tr>\n",
              "    <tr>\n",
              "      <th>4</th>\n",
              "      <td>Bruna</td>\n",
              "      <td>9.822</td>\n",
              "      <td>13.8070</td>\n",
              "    </tr>\n",
              "  </tbody>\n",
              "</table>\n",
              "</div>"
            ],
            "text/plain": [
              "       name  diameter  rot_per\n",
              "0    Agathe     9.300   6.4840\n",
              "1   Augusta    12.467   5.8949\n",
              "2     Valda    14.645  17.3860\n",
              "3  Lucretia    11.036   4.3480\n",
              "4     Bruna     9.822  13.8070"
            ]
          },
          "metadata": {
            "tags": []
          },
          "execution_count": 253
        }
      ]
    },
    {
      "cell_type": "code",
      "metadata": {
        "id": "KtTKxq4SLBvT"
      },
      "source": [
        "# data.round(1)"
      ],
      "execution_count": null,
      "outputs": []
    },
    {
      "cell_type": "markdown",
      "metadata": {
        "id": "xwk9-WaIMygz"
      },
      "source": [
        "## Convert the diameter and rotation period data to Int"
      ]
    },
    {
      "cell_type": "code",
      "metadata": {
        "id": "LUwZ82KzA2XF"
      },
      "source": [
        "data['diameter'] = data['diameter'].astype(int) \n",
        "data['rot_per'] = data['rot_per'].astype(int) "
      ],
      "execution_count": 254,
      "outputs": []
    },
    {
      "cell_type": "code",
      "metadata": {
        "colab": {
          "base_uri": "https://localhost:8080/"
        },
        "id": "b4ZaO-R4mza6",
        "outputId": "9caa4150-c2b6-444f-c12d-d33ca0df0762"
      },
      "source": [
        "data.dtypes"
      ],
      "execution_count": 255,
      "outputs": [
        {
          "output_type": "execute_result",
          "data": {
            "text/plain": [
              "name        object\n",
              "diameter     int64\n",
              "rot_per      int64\n",
              "dtype: object"
            ]
          },
          "metadata": {
            "tags": []
          },
          "execution_count": 255
        }
      ]
    },
    {
      "cell_type": "code",
      "metadata": {
        "id": "RcbcZ-kiE_Qa"
      },
      "source": [
        "# data.to_numpy()\n",
        "# data = tf.data.Dataset.from_tensor_slices((data.values))"
      ],
      "execution_count": 256,
      "outputs": []
    },
    {
      "cell_type": "code",
      "metadata": {
        "id": "9Ok6AAYFMpx-"
      },
      "source": [
        "# X = data.iloc[:,0:8].values\n",
        "# y = data.iloc[:,:8].values"
      ],
      "execution_count": 257,
      "outputs": []
    },
    {
      "cell_type": "code",
      "metadata": {
        "colab": {
          "base_uri": "https://localhost:8080/",
          "height": 518
        },
        "id": "Vh4sJQe411nj",
        "outputId": "19982f93-543a-4941-a911-198155a21d95"
      },
      "source": [
        "corr = data.corr()\n",
        "g = sns.heatmap(corr,  vmax=.3, center=0,square=True, linewidths=1, cbar_kws={\"shrink\": 0.5}, annot=True, fmt='.2f', cmap='coolwarm')\n",
        "sns.despine()\n",
        "g.figure.set_size_inches(10,15)\n",
        "plt.title('Correlation Clustered Asteroid Dataset')\n",
        "plt.show()"
      ],
      "execution_count": 258,
      "outputs": [
        {
          "output_type": "display_data",
          "data": {
            "image/png": "[encoded data removed]",
            "text/plain": [
              "<Figure size 720x1080 with 2 Axes>"
            ]
          },
          "metadata": {
            "tags": [],
            "needs_background": "light"
          }
        }
      ]
    },
    {
      "cell_type": "code",
      "metadata": {
        "colab": {
          "base_uri": "https://localhost:8080/",
          "height": 669
        },
        "id": "PWmgNV8XNf-B",
        "outputId": "4574ffbd-5a94-44e0-92cb-add275145808"
      },
      "source": [
        "g = sns.pairplot(data, diag_kind=\"hist\")\n",
        "g.fig.set_size_inches(10,10)"
      ],
      "execution_count": 259,
      "outputs": [
        {
          "output_type": "display_data",
          "data": {
            "image/png": "[encoded data removed]",
            "text/plain": [
              "<Figure size 720x720 with 6 Axes>"
            ]
          },
          "metadata": {
            "tags": [],
            "needs_background": "light"
          }
        }
      ]
    },
    {
      "cell_type": "markdown",
      "metadata": {
        "id": "uTHQT8Kq3-c9"
      },
      "source": [
        "# MLP Using Keras with No Clustered3 Label"
      ]
    },
    {
      "cell_type": "code",
      "metadata": {
        "id": "iHy-SL7h4HGv"
      },
      "source": [
        "X = data[['diameter', 'rot_per']]\n",
        "y = data['name']"
      ],
      "execution_count": 260,
      "outputs": []
    },
    {
      "cell_type": "code",
      "metadata": {
        "id": "ukAo2dpoPHjV"
      },
      "source": [
        "X"
      ],
      "execution_count": null,
      "outputs": []
    },
    {
      "cell_type": "code",
      "metadata": {
        "id": "59LVyE724M9v"
      },
      "source": [
        "from sklearn.preprocessing import StandardScaler\n",
        "scaler = StandardScaler()\n",
        "X = scaler.fit_transform(X)"
      ],
      "execution_count": 261,
      "outputs": []
    },
    {
      "cell_type": "code",
      "metadata": {
        "id": "-UBQlP0w4QYM"
      },
      "source": [
        "from sklearn.preprocessing import LabelEncoder\n",
        "le = LabelEncoder()\n",
        "\n",
        "y = le.fit_transform(data['name'])"
      ],
      "execution_count": 262,
      "outputs": []
    },
    {
      "cell_type": "code",
      "metadata": {
        "id": "B9qQzorP4UZI"
      },
      "source": [
        "# Let's load the packages\n",
        "import numpy as np\n",
        "import pandas as pd\n",
        "from sklearn.datasets import load_boston\n",
        "from sklearn.model_selection import train_test_split\n",
        "from sklearn.ensemble import RandomForestRegressor\n",
        "from sklearn.inspection import permutation_importance\n",
        "from matplotlib import pyplot as plt\n",
        "from numpy import loadtxt\n",
        "from keras.models import Sequential\n",
        "from keras.layers import Dense\n",
        "from sklearn.model_selection import train_test_split\n",
        "plt.rcParams.update({'figure.figsize': (12.0, 8.0)})\n",
        "plt.rcParams.update({'font.size': 14})"
      ],
      "execution_count": 263,
      "outputs": []
    },
    {
      "cell_type": "code",
      "metadata": {
        "colab": {
          "base_uri": "https://localhost:8080/"
        },
        "id": "VfqcOB-n4V00",
        "outputId": "a1ad7e9c-6ad3-475b-eb84-1eda502c9d65"
      },
      "source": [
        "# Load the data set and split for training and testing.\n",
        "\n",
        "X_train, X_test, y_train, y_test = train_test_split(X, y, test_size=0.30)\n",
        "\n",
        "# define the keras model\n",
        "model = Sequential()\n",
        "model.add(Dense(12, input_dim=2, activation='relu'))\n",
        "model.add(Dense(2, activation='relu'))\n",
        "model.add(Dense(1, activation='sigmoid'))\n",
        "# compile the keras model\n",
        "model.compile(loss='binary_crossentropy', optimizer='adam', metrics=['accuracy'])\n",
        "# fit the keras model on the dataset\n",
        "model.fit(X, y, epochs=100, batch_size=10)\n",
        "# evaluate the keras model\n",
        "_, accuracy = model.evaluate(X, y)\n",
        "print('Accuracy: %.2f' % (accuracy*100))\n",
        "# make class predictions with the model\n",
        "predictions = model.predict_classes(X)\n",
        "# summarize the first 5 cases\n",
        "for i in range(5):\n",
        "\tprint('%s => %d (expected %d)' % (X[i].tolist(), predictions[i], y[i]))"
      ],
      "execution_count": 264,
      "outputs": [
        {
          "output_type": "stream",
          "text": [
            "Epoch 1/100\n",
            "306/306 [==============================] - 1s 1ms/step - loss: -582.2133 - accuracy: 0.0025\n",
            "Epoch 2/100\n",
            "306/306 [==============================] - 0s 1ms/step - loss: -7233.3245 - accuracy: 1.0540e-04\n",
            "Epoch 3/100\n",
            "306/306 [==============================] - 0s 1ms/step - loss: -29785.2196 - accuracy: 1.6300e-05\n",
            "Epoch 4/100\n",
            "306/306 [==============================] - 0s 1ms/step - loss: -92398.0600 - accuracy: 1.9020e-04\n",
            "Epoch 5/100\n",
            "306/306 [==============================] - 0s 1ms/step - loss: -202339.9486 - accuracy: 4.1693e-04\n",
            "Epoch 6/100\n",
            "306/306 [==============================] - 0s 1ms/step - loss: -369439.4049 - accuracy: 8.1100e-04\n",
            "Epoch 7/100\n",
            "306/306 [==============================] - 0s 1ms/step - loss: -593843.4376 - accuracy: 6.5492e-05\n",
            "Epoch 8/100\n",
            "306/306 [==============================] - 0s 1ms/step - loss: -879436.8106 - accuracy: 8.6904e-05\n",
            "Epoch 9/100\n",
            "306/306 [==============================] - 0s 1ms/step - loss: -1253286.4691 - accuracy: 2.9980e-04\n",
            "Epoch 10/100\n",
            "306/306 [==============================] - 0s 1ms/step - loss: -1710938.9190 - accuracy: 8.5176e-04\n",
            "Epoch 11/100\n",
            "306/306 [==============================] - 0s 1ms/step - loss: -2212381.2252 - accuracy: 2.6695e-04\n",
            "Epoch 12/100\n",
            "306/306 [==============================] - 0s 1ms/step - loss: -2797970.8241 - accuracy: 1.3931e-04\n",
            "Epoch 13/100\n",
            "306/306 [==============================] - 0s 1ms/step - loss: -3409711.2581 - accuracy: 5.5187e-04\n",
            "Epoch 14/100\n",
            "306/306 [==============================] - 0s 1ms/step - loss: -4188770.9715 - accuracy: 1.7415e-05\n",
            "Epoch 15/100\n",
            "306/306 [==============================] - 0s 1ms/step - loss: -4913129.1230 - accuracy: 1.8535e-05\n",
            "Epoch 16/100\n",
            "306/306 [==============================] - 0s 1ms/step - loss: -6011073.9446 - accuracy: 7.1254e-04\n",
            "Epoch 17/100\n",
            "306/306 [==============================] - 0s 1ms/step - loss: -6936158.6678 - accuracy: 2.9192e-04\n",
            "Epoch 18/100\n",
            "306/306 [==============================] - 0s 1ms/step - loss: -8182815.0163 - accuracy: 8.8208e-04\n",
            "Epoch 19/100\n",
            "306/306 [==============================] - 0s 1ms/step - loss: -9193325.5635 - accuracy: 3.3634e-04\n",
            "Epoch 20/100\n",
            "306/306 [==============================] - 0s 1ms/step - loss: -10641128.0358 - accuracy: 2.8170e-04\n",
            "Epoch 21/100\n",
            "306/306 [==============================] - 0s 1ms/step - loss: -12075976.3453 - accuracy: 5.0874e-04\n",
            "Epoch 22/100\n",
            "306/306 [==============================] - 0s 1ms/step - loss: -13193729.7264 - accuracy: 1.6300e-05\n",
            "Epoch 23/100\n",
            "306/306 [==============================] - 0s 1ms/step - loss: -14859122.8958 - accuracy: 4.6179e-04\n",
            "Epoch 24/100\n",
            "306/306 [==============================] - 0s 1ms/step - loss: -16681075.4267 - accuracy: 1.8084e-04\n",
            "Epoch 25/100\n",
            "306/306 [==============================] - 0s 1ms/step - loss: -18265256.3941 - accuracy: 1.1875e-05\n",
            "Epoch 26/100\n",
            "306/306 [==============================] - 0s 1ms/step - loss: -20647025.2117 - accuracy: 4.0204e-04\n",
            "Epoch 27/100\n",
            "306/306 [==============================] - 0s 1ms/step - loss: -22314449.7329 - accuracy: 4.8442e-04\n",
            "Epoch 28/100\n",
            "306/306 [==============================] - 0s 1ms/step - loss: -24633942.4300 - accuracy: 1.3288e-04\n",
            "Epoch 29/100\n",
            "306/306 [==============================] - 0s 1ms/step - loss: -27122661.2638 - accuracy: 4.2857e-04\n",
            "Epoch 30/100\n",
            "306/306 [==============================] - 0s 1ms/step - loss: -29731560.0521 - accuracy: 1.5258e-04\n",
            "Epoch 31/100\n",
            "306/306 [==============================] - 0s 1ms/step - loss: -32826280.1824 - accuracy: 4.4187e-05\n",
            "Epoch 32/100\n",
            "306/306 [==============================] - 0s 1ms/step - loss: -34456669.9349 - accuracy: 2.0180e-04\n",
            "Epoch 33/100\n",
            "306/306 [==============================] - 0s 1ms/step - loss: -37689184.8208 - accuracy: 2.9980e-04\n",
            "Epoch 34/100\n",
            "306/306 [==============================] - 0s 1ms/step - loss: -39863541.3029 - accuracy: 1.8269e-04\n",
            "Epoch 35/100\n",
            "306/306 [==============================] - 0s 1ms/step - loss: -43004914.4886 - accuracy: 5.4054e-04\n",
            "Epoch 36/100\n",
            "306/306 [==============================] - 0s 1ms/step - loss: -45959796.6775 - accuracy: 1.7354e-04\n",
            "Epoch 37/100\n",
            "306/306 [==============================] - 0s 1ms/step - loss: -49580336.7166 - accuracy: 1.9402e-04\n",
            "Epoch 38/100\n",
            "306/306 [==============================] - 0s 1ms/step - loss: -53476704.3257 - accuracy: 5.8844e-04\n",
            "Epoch 39/100\n",
            "306/306 [==============================] - 0s 1ms/step - loss: -56697588.0782 - accuracy: 2.6480e-05\n",
            "Epoch 40/100\n",
            "306/306 [==============================] - 0s 1ms/step - loss: -59626525.1466 - accuracy: 0.0015\n",
            "Epoch 41/100\n",
            "306/306 [==============================] - 0s 1ms/step - loss: -63759872.5603 - accuracy: 1.3288e-04\n",
            "Epoch 42/100\n",
            "306/306 [==============================] - 0s 1ms/step - loss: -66977450.5798 - accuracy: 8.1417e-05\n",
            "Epoch 43/100\n",
            "306/306 [==============================] - 0s 1ms/step - loss: -72629183.7524 - accuracy: 0.0011\n",
            "Epoch 44/100\n",
            "306/306 [==============================] - 0s 1ms/step - loss: -75173413.8502 - accuracy: 1.2501e-04\n",
            "Epoch 45/100\n",
            "306/306 [==============================] - 0s 1ms/step - loss: -81244906.4495 - accuracy: 6.9401e-05\n",
            "Epoch 46/100\n",
            "306/306 [==============================] - 0s 1ms/step - loss: -87880744.4169 - accuracy: 2.2632e-04\n",
            "Epoch 47/100\n",
            "306/306 [==============================] - 0s 1ms/step - loss: -91120538.2410 - accuracy: 2.9715e-04\n",
            "Epoch 48/100\n",
            "306/306 [==============================] - 0s 1ms/step - loss: -95881641.8502 - accuracy: 2.4826e-04\n",
            "Epoch 49/100\n",
            "306/306 [==============================] - 0s 1ms/step - loss: -101104525.1857 - accuracy: 3.4623e-05\n",
            "Epoch 50/100\n",
            "306/306 [==============================] - 0s 1ms/step - loss: -107294566.7231 - accuracy: 2.0977e-04\n",
            "Epoch 51/100\n",
            "306/306 [==============================] - 0s 1ms/step - loss: -111893648.1303 - accuracy: 5.1548e-05\n",
            "Epoch 52/100\n",
            "306/306 [==============================] - 0s 1ms/step - loss: -119620423.3746 - accuracy: 5.5769e-04\n",
            "Epoch 53/100\n",
            "306/306 [==============================] - 0s 1ms/step - loss: -125012422.0195 - accuracy: 5.8844e-04\n",
            "Epoch 54/100\n",
            "306/306 [==============================] - 0s 1ms/step - loss: -135440370.1107 - accuracy: 1.1885e-04\n",
            "Epoch 55/100\n",
            "306/306 [==============================] - 0s 1ms/step - loss: -139622161.0945 - accuracy: 7.5105e-06\n",
            "Epoch 56/100\n",
            "306/306 [==============================] - 0s 1ms/step - loss: -140622745.5114 - accuracy: 1.6817e-04\n",
            "Epoch 57/100\n",
            "306/306 [==============================] - 0s 1ms/step - loss: -151104896.0261 - accuracy: 2.9980e-04\n",
            "Epoch 58/100\n",
            "306/306 [==============================] - 0s 1ms/step - loss: -156589380.5081 - accuracy: 9.5277e-04\n",
            "Epoch 59/100\n",
            "306/306 [==============================] - 0s 1ms/step - loss: -162399321.6938 - accuracy: 7.2212e-04\n",
            "Epoch 60/100\n",
            "306/306 [==============================] - 0s 1ms/step - loss: -175324498.2932 - accuracy: 9.6857e-06\n",
            "Epoch 61/100\n",
            "306/306 [==============================] - 0s 1ms/step - loss: -180254830.7492 - accuracy: 6.9401e-05\n",
            "Epoch 62/100\n",
            "306/306 [==============================] - 0s 1ms/step - loss: -188221907.3355 - accuracy: 2.5054e-04\n",
            "Epoch 63/100\n",
            "306/306 [==============================] - 0s 1ms/step - loss: -194069482.0065 - accuracy: 3.3933e-04\n",
            "Epoch 64/100\n",
            "306/306 [==============================] - 0s 1ms/step - loss: -197813754.3713 - accuracy: 9.3894e-05\n",
            "Epoch 65/100\n",
            "306/306 [==============================] - 0s 1ms/step - loss: -209847580.8730 - accuracy: 7.0324e-04\n",
            "Epoch 66/100\n",
            "306/306 [==============================] - 0s 1ms/step - loss: -215656037.1075 - accuracy: 5.6964e-04\n",
            "Epoch 67/100\n",
            "306/306 [==============================] - 0s 1ms/step - loss: -228814323.8567 - accuracy: 1.3129e-04\n",
            "Epoch 68/100\n",
            "306/306 [==============================] - 0s 1ms/step - loss: -238724549.8371 - accuracy: 2.2210e-04\n",
            "Epoch 69/100\n",
            "306/306 [==============================] - 0s 1ms/step - loss: -244525934.6450 - accuracy: 3.3634e-04\n",
            "Epoch 70/100\n",
            "306/306 [==============================] - 0s 1ms/step - loss: -255284769.1987 - accuracy: 4.1315e-04\n",
            "Epoch 71/100\n",
            "306/306 [==============================] - 0s 1ms/step - loss: -264911490.9707 - accuracy: 8.8208e-04\n",
            "Epoch 72/100\n",
            "306/306 [==============================] - 0s 1ms/step - loss: -274304842.3192 - accuracy: 8.8208e-04\n",
            "Epoch 73/100\n",
            "306/306 [==============================] - 0s 1ms/step - loss: -290208578.9186 - accuracy: 1.7535e-04\n",
            "Epoch 74/100\n",
            "306/306 [==============================] - 0s 1ms/step - loss: -299537875.3876 - accuracy: 2.3051e-05\n",
            "Epoch 75/100\n",
            "306/306 [==============================] - 0s 1ms/step - loss: -304730726.3062 - accuracy: 1.1430e-04\n",
            "Epoch 76/100\n",
            "306/306 [==============================] - 0s 1ms/step - loss: -318093679.0098 - accuracy: 2.1588e-04\n",
            "Epoch 77/100\n",
            "306/306 [==============================] - 0s 1ms/step - loss: -324765838.4886 - accuracy: 1.0982e-04\n",
            "Epoch 78/100\n",
            "306/306 [==============================] - 0s 1ms/step - loss: -335998420.1173 - accuracy: 3.4539e-04\n",
            "Epoch 79/100\n",
            "306/306 [==============================] - 0s 1ms/step - loss: -352948181.7850 - accuracy: 8.1100e-04\n",
            "Epoch 80/100\n",
            "306/306 [==============================] - 0s 1ms/step - loss: -365672469.4723 - accuracy: 7.4687e-05\n",
            "Epoch 81/100\n",
            "306/306 [==============================] - 0s 1ms/step - loss: -376301161.5375 - accuracy: 1.1885e-04\n",
            "Epoch 82/100\n",
            "306/306 [==============================] - 0s 1ms/step - loss: -377958285.2378 - accuracy: 1.8455e-04\n",
            "Epoch 83/100\n",
            "306/306 [==============================] - 0s 1ms/step - loss: -397965831.1922 - accuracy: 2.4600e-04\n",
            "Epoch 84/100\n",
            "306/306 [==============================] - 0s 1ms/step - loss: -420384657.0945 - accuracy: 5.0373e-04\n",
            "Epoch 85/100\n",
            "306/306 [==============================] - 0s 1ms/step - loss: -438095221.0554 - accuracy: 1.7900e-04\n",
            "Epoch 86/100\n",
            "306/306 [==============================] - 0s 1ms/step - loss: -432119537.8241 - accuracy: 9.9484e-04\n",
            "Epoch 87/100\n",
            "306/306 [==============================] - 0s 1ms/step - loss: -454160615.1922 - accuracy: 1.6640e-04\n",
            "Epoch 88/100\n",
            "306/306 [==============================] - 0s 1ms/step - loss: -465439182.0717 - accuracy: 8.8208e-04\n",
            "Epoch 89/100\n",
            "306/306 [==============================] - 0s 1ms/step - loss: -483000138.9446 - accuracy: 7.1254e-04\n",
            "Epoch 90/100\n",
            "306/306 [==============================] - 0s 1ms/step - loss: -492997418.9446 - accuracy: 0.0011\n",
            "Epoch 91/100\n",
            "306/306 [==============================] - 0s 1ms/step - loss: -508567090.2410 - accuracy: 0.0012\n",
            "Epoch 92/100\n",
            "306/306 [==============================] - 0s 1ms/step - loss: -539304562.2410 - accuracy: 8.5963e-06\n",
            "Epoch 93/100\n",
            "306/306 [==============================] - 0s 1ms/step - loss: -536785759.0619 - accuracy: 8.5176e-04\n",
            "Epoch 94/100\n",
            "306/306 [==============================] - 0s 1ms/step - loss: -555107317.1596 - accuracy: 5.4054e-04\n",
            "Epoch 95/100\n",
            "306/306 [==============================] - 0s 1ms/step - loss: -572499984.1564 - accuracy: 4.2076e-04\n",
            "Epoch 96/100\n",
            "306/306 [==============================] - 0s 1ms/step - loss: -598902091.4658 - accuracy: 2.1916e-05\n",
            "Epoch 97/100\n",
            "306/306 [==============================] - 0s 1ms/step - loss: -602930672.4691 - accuracy: 4.4476e-04\n",
            "Epoch 98/100\n",
            "306/306 [==============================] - 0s 1ms/step - loss: -616000019.3876 - accuracy: 6.4462e-04\n",
            "Epoch 99/100\n",
            "306/306 [==============================] - 0s 1ms/step - loss: -642403863.1401 - accuracy: 2.4190e-05\n",
            "Epoch 100/100\n",
            "306/306 [==============================] - 0s 1ms/step - loss: -654711294.9577 - accuracy: 1.9984e-04\n",
            "96/96 [==============================] - 0s 1ms/step - loss: -669426048.0000 - accuracy: 3.2776e-04\n",
            "Accuracy: 0.03\n",
            "[0.5453530317995515, -0.2763808487729765] => 1 (expected 31)\n",
            "[1.3785388605528972, -0.38787601862704907] => 1 (expected 183)\n",
            "[1.9339960797217943, 0.950066019621822] => 1 (expected 2787)\n",
            "[1.1008102509684485, -0.49937118848112166] => 1 (expected 1601)\n",
            "[0.5453530317995515, 0.5040853402055316] => 1 (expected 382)\n"
          ],
          "name": "stdout"
        },
        {
          "output_type": "stream",
          "text": [
            "/usr/local/lib/python3.7/dist-packages/tensorflow/python/keras/engine/sequential.py:450: UserWarning: `model.predict_classes()` is deprecated and will be removed after 2021-01-01. Please use instead:* `np.argmax(model.predict(x), axis=-1)`,   if your model does multi-class classification   (e.g. if it uses a `softmax` last-layer activation).* `(model.predict(x) > 0.5).astype(\"int32\")`,   if your model does binary classification   (e.g. if it uses a `sigmoid` last-layer activation).\n",
            "  warnings.warn('`model.predict_classes()` is deprecated and '\n"
          ],
          "name": "stderr"
        }
      ]
    },
    {
      "cell_type": "code",
      "metadata": {
        "colab": {
          "base_uri": "https://localhost:8080/"
        },
        "id": "YRlAcuULPeE4",
        "outputId": "4246d99e-3185-47c2-94fb-2a0a2d6eccaa"
      },
      "source": [
        "# y"
      ],
      "execution_count": 219,
      "outputs": [
        {
          "output_type": "execute_result",
          "data": {
            "text/plain": [
              "array([  31,  183, 2787, ..., 2196,   34, 1561])"
            ]
          },
          "metadata": {
            "tags": []
          },
          "execution_count": 219
        }
      ]
    },
    {
      "cell_type": "markdown",
      "metadata": {
        "id": "CACmgIA55EUl"
      },
      "source": [
        "# Muller Loop Regression"
      ]
    },
    {
      "cell_type": "code",
      "metadata": {
        "id": "CDw5PeX95LLu"
      },
      "source": [
        "from sklearn import metrics\n",
        "import numpy as np\n",
        "import time\n",
        "import matplotlib.pyplot as plt\n",
        "from matplotlib.colors import ListedColormap\n",
        "from sklearn.model_selection import train_test_split\n",
        "# from sklearn.pipeline import make_pipeline\n",
        "from sklearn.preprocessing import StandardScaler\n",
        "from sklearn.datasets import make_moons, make_circles, make_classification\n",
        "from sklearn.neural_network import MLPRegressor\n",
        "from sklearn.neighbors import KNeighborsRegressor\n",
        "from sklearn.svm import SVR\n",
        "from sklearn.gaussian_process import GaussianProcessRegressor\n",
        "from sklearn.gaussian_process.kernels import RBF\n",
        "from sklearn.tree import DecisionTreeRegressor\n",
        "from sklearn.ensemble import RandomForestRegressor, AdaBoostRegressor\n",
        "# from sklearn.naive_bayes import GaussianNB\n",
        "# from sklearn.discriminant_analysis import QuadraticDiscriminantAnalysis\n",
        "X_train, X_test, y_train, y_test = train_test_split(X, y, test_size=0.30)\n",
        "\n",
        "names = [\"Nearest Neighbors\", \"Linear SVR\", \"Gaussian Process\",\n",
        "         \"Decision Tree\", \"Random Forest\", \"MLP\", \"AdaBoost\"\n",
        "         ]\n",
        "\n",
        "regression = [\n",
        "    KNeighborsRegressor(2),\n",
        "    SVR(kernel='rbf', degree=3, gamma='scale', coef0=0.0, tol=0.001, C=1.0, epsilon=0.1, shrinking=True, cache_size=200, verbose=False, max_iter=- 1),\n",
        "    GaussianProcessRegressor(kernel=None, alpha=1e-10, optimizer='fmin_l_bfgs_b', n_restarts_optimizer=0, normalize_y=False, copy_X_train=True, random_state=None),\n",
        "    DecisionTreeRegressor(criterion='mse', splitter='best', max_depth=None, min_samples_split=2, min_samples_leaf=1, min_weight_fraction_leaf=0.0, max_features=None, random_state=None, max_leaf_nodes=None, min_impurity_decrease=0.0, min_impurity_split=None, ccp_alpha=0.0),\n",
        "    RandomForestRegressor(max_depth=5, n_estimators=10, max_features=1),\n",
        "    MLPRegressor(alpha=1, max_iter=1500),\n",
        "    AdaBoostRegressor(base_estimator=None, n_estimators=50, learning_rate=1.0, loss='linear', random_state=None)\n",
        "    # GaussianNB()]\n",
        "    # QuadraticDiscriminantAnalysis()\n",
        "    ]\n",
        "output = pd.DataFrame(columns=['regressor', 'mae', 'mse', 'Rsquared', 'accuracy'])"
      ],
      "execution_count": 293,
      "outputs": []
    },
    {
      "cell_type": "code",
      "metadata": {
        "colab": {
          "base_uri": "https://localhost:8080/"
        },
        "id": "oxq3V2ZA50j5",
        "outputId": "074284b3-f540-4ca9-e090-fd0884d0ac8a"
      },
      "source": [
        "import time\n",
        "\n",
        "max_score = 0.0\n",
        "max_class = ''\n",
        "# iterate over regressor\n",
        "for name, clf in zip(names, regression):\n",
        "    start_time = time.process_time()\n",
        "    clf.fit(X_train, y_train)\n",
        "  \n",
        "    score = 100.0 * clf.score(X_test, y_test)\n",
        "    y_predict = clf.predict(X_test)\n",
        "\n",
        "    \n",
        "    mae = np.round(metrics.mean_absolute_error(y_test, y_predict), 2)\n",
        "    mse = np.round(metrics.mean_squared_error(y_test, y_predict), 2)\n",
        "    rsquared = np.round(metrics.r2_score(y_test, y_predict), 2)\n",
        "    output = output.append({'regressor': name, 'mae':mae, 'mse':mse,'Rsquared':rsquared, 'accuracy':score}, ignore_index=True)\n",
        "\n",
        "    # print(\"MSE : \" , np.round(metrics.mean_squared_error(y_test, y_pred), 2))\n",
        "    # print(\"MAE : \" , np.round(metrics.mean_absolute_error(y_test, y_pred), 2))\n",
        "    # print(\"RSquared : \" , np.round(metrics.r2_score(y_test, y_pred), 2))\n",
        "    # print('Regression = %s, Score (accuracy) = %.2f,' %(name, score), 'Training time = %.2f seconds,'%(time.process_time() - start_time))\n",
        "    if score > max_score:\n",
        "        clf_best = clf\n",
        "        max_score = score\n",
        "        max_class = name\n",
        "print(output)\n",
        "print(80*'-' )\n",
        "print('Best --> Regression = %s, Score (accuracy) = %.2f' %(max_class, max_score))"
      ],
      "execution_count": 294,
      "outputs": [
        {
          "output_type": "stream",
          "text": [
            "           regressor      mae           mse  Rsquared      accuracy\n",
            "0  Nearest Neighbors   886.46  1.157088e+06     -0.51    -51.458834\n",
            "1         Linear SVR   757.00  7.647219e+05     -0.00     -0.099421\n",
            "2   Gaussian Process  1458.80  1.253452e+08   -163.07 -16307.247225\n",
            "3      Decision Tree   803.28  9.202144e+05     -0.20    -20.452850\n",
            "4      Random Forest   758.89  7.697120e+05     -0.01     -0.752612\n",
            "5                MLP   756.02  7.634977e+05      0.00      0.060816\n",
            "6           AdaBoost   760.53  7.701939e+05     -0.01     -0.815689\n",
            "--------------------------------------------------------------------------------\n",
            "Best --> Regression = MLP, Score (accuracy) = 0.06\n"
          ],
          "name": "stdout"
        }
      ]
    },
    {
      "cell_type": "code",
      "metadata": {
        "colab": {
          "base_uri": "https://localhost:8080/",
          "height": 518
        },
        "id": "hRBSO8BDDmuX",
        "outputId": "eeaa9927-530b-4bfb-a6c7-9790e1bf38f8"
      },
      "source": [
        "#plot the output of the various algorithms\n",
        "output.boxplot()"
      ],
      "execution_count": 295,
      "outputs": [
        {
          "output_type": "execute_result",
          "data": {
            "text/plain": [
              "<matplotlib.axes._subplots.AxesSubplot at 0x7f1f8841d850>"
            ]
          },
          "metadata": {
            "tags": []
          },
          "execution_count": 295
        },
        {
          "output_type": "display_data",
          "data": {
            "image/png": "[encoded data removed]",
            "text/plain": [
              "<Figure size 864x576 with 1 Axes>"
            ]
          },
          "metadata": {
            "tags": [],
            "needs_background": "light"
          }
        }
      ]
    },
    {
      "cell_type": "code",
      "metadata": {
        "colab": {
          "base_uri": "https://localhost:8080/",
          "height": 592
        },
        "id": "vM9emeM0HMTv",
        "outputId": "e0758eff-1179-424c-c1f4-84c0b83ec9ef"
      },
      "source": [
        "output.hist()"
      ],
      "execution_count": 296,
      "outputs": [
        {
          "output_type": "execute_result",
          "data": {
            "text/plain": [
              "array([[<matplotlib.axes._subplots.AxesSubplot object at 0x7f1f887befd0>,\n",
              "        <matplotlib.axes._subplots.AxesSubplot object at 0x7f1f885116d0>],\n",
              "       [<matplotlib.axes._subplots.AxesSubplot object at 0x7f1f88386c10>,\n",
              "        <matplotlib.axes._subplots.AxesSubplot object at 0x7f1f883491d0>]],\n",
              "      dtype=object)"
            ]
          },
          "metadata": {
            "tags": []
          },
          "execution_count": 296
        },
        {
          "output_type": "display_data",
          "data": {
            "image/png": "[encoded data removed]",
            "text/plain": [
              "<Figure size 864x576 with 4 Axes>"
            ]
          },
          "metadata": {
            "tags": [],
            "needs_background": "light"
          }
        }
      ]
    },
    {
      "cell_type": "markdown",
      "metadata": {
        "id": "UAmDB9V4522F"
      },
      "source": [
        "# MLP Using Keras With Clustered3 Label "
      ]
    },
    {
      "cell_type": "code",
      "metadata": {
        "id": "tIGS3vonsR53"
      },
      "source": [
        "X = data[['diameter', 'rot_per', 'Clustered3']]\n",
        "y = data['name']"
      ],
      "execution_count": null,
      "outputs": []
    },
    {
      "cell_type": "code",
      "metadata": {
        "id": "e_ksMo40u_Lj"
      },
      "source": [
        "from sklearn.preprocessing import StandardScaler\n",
        "scaler = StandardScaler()\n",
        "X = scaler.fit_transform(X)"
      ],
      "execution_count": null,
      "outputs": []
    },
    {
      "cell_type": "code",
      "metadata": {
        "id": "1rSmd2ttYpFT"
      },
      "source": [
        "from sklearn.preprocessing import LabelEncoder\n",
        "le = LabelEncoder()\n",
        "\n",
        "y = le.fit_transform(data['name'])"
      ],
      "execution_count": null,
      "outputs": []
    },
    {
      "cell_type": "code",
      "metadata": {
        "colab": {
          "base_uri": "https://localhost:8080/"
        },
        "id": "5MndHi99ulvv",
        "outputId": "7cb53ea7-732f-45f8-adeb-83e7c83a04df"
      },
      "source": [
        "X"
      ],
      "execution_count": null,
      "outputs": [
        {
          "output_type": "execute_result",
          "data": {
            "text/plain": [
              "array([[ 0.54535303, -0.27638085,  1.27241419],\n",
              "       [ 1.37853886, -0.38787602, -0.49863311],\n",
              "       [ 1.93399608,  0.95006602, -0.49863311],\n",
              "       ...,\n",
              "       [-1.67647584, -0.16488568, -1.08898221],\n",
              "       [-1.95420445,  1.3960467 ,  0.68206509],\n",
              "       [-1.67647584,  0.72707568, -1.08898221]])"
            ]
          },
          "metadata": {
            "tags": []
          },
          "execution_count": 186
        }
      ]
    },
    {
      "cell_type": "code",
      "metadata": {
        "colab": {
          "base_uri": "https://localhost:8080/"
        },
        "id": "bjo1U5ZqwUKm",
        "outputId": "a9afdddd-37f6-4a06-d52a-629783472cb4"
      },
      "source": [
        "y"
      ],
      "execution_count": null,
      "outputs": [
        {
          "output_type": "execute_result",
          "data": {
            "text/plain": [
              "array([  31,  183, 2787, ..., 2196,   34, 1561])"
            ]
          },
          "metadata": {
            "tags": []
          },
          "execution_count": 187
        }
      ]
    },
    {
      "cell_type": "code",
      "metadata": {
        "id": "wgEUQGiU53QU"
      },
      "source": [
        "# Let's load the packages\n",
        "import numpy as np\n",
        "import pandas as pd\n",
        "from sklearn.datasets import load_boston\n",
        "from sklearn.model_selection import train_test_split\n",
        "from sklearn.ensemble import RandomForestRegressor\n",
        "from sklearn.inspection import permutation_importance\n",
        "from matplotlib import pyplot as plt\n",
        "from numpy import loadtxt\n",
        "from keras.models import Sequential\n",
        "from keras.layers import Dense\n",
        "from sklearn.model_selection import train_test_split\n",
        "plt.rcParams.update({'figure.figsize': (12.0, 8.0)})\n",
        "plt.rcParams.update({'font.size': 14})"
      ],
      "execution_count": null,
      "outputs": []
    },
    {
      "cell_type": "code",
      "metadata": {
        "colab": {
          "base_uri": "https://localhost:8080/"
        },
        "id": "Gm-nOw7g6KLm",
        "outputId": "0dd174c8-2960-4e04-e13f-b897eceb4ce7"
      },
      "source": [
        "# Load the data set and split for training and testing.\n",
        "\n",
        "X_train, X_test, y_train, y_test = train_test_split(X, y, test_size=0.30)\n",
        "\n",
        "# define the keras model\n",
        "model = Sequential()\n",
        "model.add(Dense(12, input_dim=3, activation='relu'))\n",
        "model.add(Dense(3, activation='relu'))\n",
        "model.add(Dense(1, activation='sigmoid'))\n",
        "# compile the keras model\n",
        "model.compile(loss='binary_crossentropy', optimizer='adam', metrics=['accuracy'])\n",
        "# fit the keras model on the dataset\n",
        "model.fit(X, y, epochs=100, batch_size=10)\n",
        "# evaluate the keras model\n",
        "_, accuracy = model.evaluate(X, y)\n",
        "print('Accuracy: %.2f' % (accuracy*100))\n",
        "# make class predictions with the model\n",
        "predictions = model.predict_classes(X)\n",
        "# summarize the first 5 cases\n",
        "for i in range(5):\n",
        "\tprint('%s => %d (expected %d)' % (X[i].tolist(), predictions[i], y[i]))"
      ],
      "execution_count": null,
      "outputs": [
        {
          "output_type": "stream",
          "text": [
            "Epoch 1/100\n",
            "306/306 [==============================] - 1s 1ms/step - loss: -2862.8346 - accuracy: 6.6032e-04\n",
            "Epoch 2/100\n",
            "306/306 [==============================] - 0s 1ms/step - loss: -26376.6725 - accuracy: 5.0874e-04\n",
            "Epoch 3/100\n",
            "306/306 [==============================] - 0s 1ms/step - loss: -117684.6880 - accuracy: 1.7717e-04\n",
            "Epoch 4/100\n",
            "306/306 [==============================] - 0s 1ms/step - loss: -313865.6213 - accuracy: 1.2971e-04\n",
            "Epoch 5/100\n",
            "306/306 [==============================] - 0s 1ms/step - loss: -634617.8903 - accuracy: 1.6640e-04\n",
            "Epoch 6/100\n",
            "306/306 [==============================] - 0s 1ms/step - loss: -1113665.7345 - accuracy: 1.1875e-05\n",
            "Epoch 7/100\n",
            "306/306 [==============================] - 0s 1ms/step - loss: -1751464.3388 - accuracy: 2.0776e-04\n",
            "Epoch 8/100\n",
            "306/306 [==============================] - 0s 1ms/step - loss: -2538858.5684 - accuracy: 7.2212e-04\n",
            "Epoch 9/100\n",
            "306/306 [==============================] - 0s 1ms/step - loss: -3578299.0480 - accuracy: 3.1897e-04\n",
            "Epoch 10/100\n",
            "306/306 [==============================] - 0s 1ms/step - loss: -4749231.2093 - accuracy: 1.2971e-04\n",
            "Epoch 11/100\n",
            "306/306 [==============================] - 0s 1ms/step - loss: -6072919.1417 - accuracy: 1.7717e-04\n",
            "Epoch 12/100\n",
            "306/306 [==============================] - 0s 1ms/step - loss: -7692000.9479 - accuracy: 1.5089e-04\n",
            "Epoch 13/100\n",
            "306/306 [==============================] - 0s 1ms/step - loss: -9533069.9349 - accuracy: 2.3051e-05\n",
            "Epoch 14/100\n",
            "306/306 [==============================] - 0s 1ms/step - loss: -11391035.1726 - accuracy: 6.0160e-04\n",
            "Epoch 15/100\n",
            "306/306 [==============================] - 0s 1ms/step - loss: -13630288.5081 - accuracy: 5.6964e-04\n",
            "Epoch 16/100\n",
            "306/306 [==============================] - 0s 1ms/step - loss: -16362438.2508 - accuracy: 2.7424e-04\n",
            "Epoch 17/100\n",
            "306/306 [==============================] - 0s 1ms/step - loss: -19147058.5342 - accuracy: 2.2845e-04\n",
            "Epoch 18/100\n",
            "306/306 [==============================] - 0s 1ms/step - loss: -21870545.3355 - accuracy: 2.0180e-04\n",
            "Epoch 19/100\n",
            "306/306 [==============================] - 0s 1ms/step - loss: -24829076.5993 - accuracy: 3.6106e-04\n",
            "Epoch 20/100\n",
            "306/306 [==============================] - 0s 1ms/step - loss: -28337501.3811 - accuracy: 1.1885e-04\n",
            "Epoch 21/100\n",
            "306/306 [==============================] - 0s 1ms/step - loss: -31725758.2541 - accuracy: 2.3492e-04\n",
            "Epoch 22/100\n",
            "306/306 [==============================] - 0s 1ms/step - loss: -35534333.9088 - accuracy: 1.4588e-04\n",
            "Epoch 23/100\n",
            "306/306 [==============================] - 0s 1ms/step - loss: -40578222.6840 - accuracy: 5.0373e-04\n",
            "Epoch 24/100\n",
            "306/306 [==============================] - 0s 1ms/step - loss: -44880242.3192 - accuracy: 9.1080e-05\n",
            "Epoch 25/100\n",
            "306/306 [==============================] - 0s 1ms/step - loss: -49871544.7818 - accuracy: 3.4235e-04\n",
            "Epoch 26/100\n",
            "306/306 [==============================] - 0s 1ms/step - loss: -54837218.1759 - accuracy: 2.7179e-04\n",
            "Epoch 27/100\n",
            "306/306 [==============================] - 0s 1ms/step - loss: -60378413.5635 - accuracy: 1.6995e-04\n",
            "Epoch 28/100\n",
            "306/306 [==============================] - 0s 1ms/step - loss: -64698649.4463 - accuracy: 3.0516e-04\n",
            "Epoch 29/100\n",
            "306/306 [==============================] - 0s 1ms/step - loss: -70807077.0814 - accuracy: 8.6904e-05\n",
            "Epoch 30/100\n",
            "306/306 [==============================] - 0s 1ms/step - loss: -79179756.4039 - accuracy: 3.3933e-04\n",
            "Epoch 31/100\n",
            "306/306 [==============================] - 0s 1ms/step - loss: -86162438.4365 - accuracy: 1.2971e-04\n",
            "Epoch 32/100\n",
            "306/306 [==============================] - 0s 1ms/step - loss: -92492720.4169 - accuracy: 3.0516e-04\n",
            "Epoch 33/100\n",
            "306/306 [==============================] - 0s 1ms/step - loss: -97924688.3648 - accuracy: 2.2210e-04\n",
            "Epoch 34/100\n",
            "306/306 [==============================] - 0s 1ms/step - loss: -104421147.5700 - accuracy: 1.2038e-04\n",
            "Epoch 35/100\n",
            "306/306 [==============================] - 0s 1ms/step - loss: -113035497.7720 - accuracy: 4.3656e-04\n",
            "Epoch 36/100\n",
            "306/306 [==============================] - 0s 1ms/step - loss: -124502210.0847 - accuracy: 4.7977e-04\n",
            "Epoch 37/100\n",
            "306/306 [==============================] - 0s 1ms/step - loss: -130971605.7068 - accuracy: 6.2964e-04\n",
            "Epoch 38/100\n",
            "306/306 [==============================] - 0s 1ms/step - loss: -143755159.2443 - accuracy: 0.0017\n",
            "Epoch 39/100\n",
            "306/306 [==============================] - 0s 1ms/step - loss: -151261999.3485 - accuracy: 3.5157e-04\n",
            "Epoch 40/100\n",
            "306/306 [==============================] - 0s 1ms/step - loss: -165196331.9870 - accuracy: 1.2976e-05\n",
            "Epoch 41/100\n",
            "306/306 [==============================] - 0s 1ms/step - loss: -173425231.6352 - accuracy: 2.8677e-04\n",
            "Epoch 42/100\n",
            "306/306 [==============================] - 0s 1ms/step - loss: -181727247.6873 - accuracy: 1.0779e-05\n",
            "Epoch 43/100\n",
            "306/306 [==============================] - 0s 1ms/step - loss: -193068248.8078 - accuracy: 1.3129e-04\n",
            "Epoch 44/100\n",
            "306/306 [==============================] - 0s 1ms/step - loss: -208980370.1368 - accuracy: 1.2501e-04\n",
            "Epoch 45/100\n",
            "306/306 [==============================] - 0s 1ms/step - loss: -216258912.5733 - accuracy: 2.8423e-04\n",
            "Epoch 46/100\n",
            "306/306 [==============================] - 0s 1ms/step - loss: -230445543.0358 - accuracy: 9.9484e-04\n",
            "Epoch 47/100\n",
            "306/306 [==============================] - 0s 1ms/step - loss: -246063723.5700 - accuracy: 1.1581e-04\n",
            "Epoch 48/100\n",
            "306/306 [==============================] - 0s 1ms/step - loss: -254531303.8697 - accuracy: 7.3358e-05\n",
            "Epoch 49/100\n",
            "306/306 [==============================] - 1s 2ms/step - loss: -270470579.5440 - accuracy: 1.8084e-04\n",
            "Epoch 50/100\n",
            "306/306 [==============================] - 0s 1ms/step - loss: -289511755.1010 - accuracy: 6.9419e-04\n",
            "Epoch 51/100\n",
            "306/306 [==============================] - 0s 1ms/step - loss: -298489286.0456 - accuracy: 1.2657e-04\n",
            "Epoch 52/100\n",
            "306/306 [==============================] - 0s 1ms/step - loss: -310561577.6938 - accuracy: 5.8205e-04\n",
            "Epoch 53/100\n",
            "306/306 [==============================] - 0s 1ms/step - loss: -332724654.1759 - accuracy: 9.3361e-04\n",
            "Epoch 54/100\n",
            "306/306 [==============================] - 0s 1ms/step - loss: -354213746.2410 - accuracy: 2.6455e-04\n",
            "Epoch 55/100\n",
            "306/306 [==============================] - 0s 1ms/step - loss: -368932770.2932 - accuracy: 1.0394e-04\n",
            "Epoch 56/100\n",
            "306/306 [==============================] - 0s 1ms/step - loss: -378790453.6808 - accuracy: 4.8914e-04\n",
            "Epoch 57/100\n",
            "306/306 [==============================] - 0s 1ms/step - loss: -393717990.9837 - accuracy: 1.5427e-04\n",
            "Epoch 58/100\n",
            "306/306 [==============================] - 0s 1ms/step - loss: -420099840.6254 - accuracy: 9.1080e-05\n",
            "Epoch 59/100\n",
            "306/306 [==============================] - 0s 1ms/step - loss: -434901355.5700 - accuracy: 4.1315e-04\n",
            "Epoch 60/100\n",
            "306/306 [==============================] - 0s 1ms/step - loss: -450971882.4235 - accuracy: 2.1179e-04\n",
            "Epoch 61/100\n",
            "306/306 [==============================] - 0s 1ms/step - loss: -475835694.6971 - accuracy: 4.0570e-04\n",
            "Epoch 62/100\n",
            "306/306 [==============================] - 0s 1ms/step - loss: -493630343.5049 - accuracy: 6.2912e-05\n",
            "Epoch 63/100\n",
            "306/306 [==============================] - 0s 1ms/step - loss: -514507957.6808 - accuracy: 5.5187e-04\n",
            "Epoch 64/100\n",
            "306/306 [==============================] - 0s 1ms/step - loss: -539150902.2020 - accuracy: 3.8090e-04\n",
            "Epoch 65/100\n",
            "306/306 [==============================] - 0s 1ms/step - loss: -541237997.9674 - accuracy: 7.3358e-05\n",
            "Epoch 66/100\n",
            "306/306 [==============================] - 0s 1ms/step - loss: -576347739.5179 - accuracy: 0.0014\n",
            "Epoch 67/100\n",
            "306/306 [==============================] - 0s 1ms/step - loss: -609702628.0651 - accuracy: 7.8641e-04\n",
            "Epoch 68/100\n",
            "306/306 [==============================] - 0s 1ms/step - loss: -632321436.9772 - accuracy: 1.5427e-04\n",
            "Epoch 69/100\n",
            "306/306 [==============================] - 0s 1ms/step - loss: -654611360.7296 - accuracy: 5.1548e-05\n",
            "Epoch 70/100\n",
            "306/306 [==============================] - 0s 1ms/step - loss: -664012333.4463 - accuracy: 1.6300e-05\n",
            "Epoch 71/100\n",
            "306/306 [==============================] - 0s 1ms/step - loss: -712382052.6906 - accuracy: 4.9076e-05\n",
            "Epoch 72/100\n",
            "306/306 [==============================] - 0s 1ms/step - loss: -730576593.7199 - accuracy: 8.8208e-04\n",
            "Epoch 73/100\n",
            "306/306 [==============================] - 0s 1ms/step - loss: -758851496.8599 - accuracy: 5.8844e-04\n",
            "Epoch 74/100\n",
            "306/306 [==============================] - 0s 1ms/step - loss: -775750375.8176 - accuracy: 5.6550e-05\n",
            "Epoch 75/100\n",
            "306/306 [==============================] - 0s 1ms/step - loss: -810894061.4463 - accuracy: 1.2346e-04\n",
            "Epoch 76/100\n",
            "306/306 [==============================] - 0s 1ms/step - loss: -827284538.5798 - accuracy: 1.3769e-04\n",
            "Epoch 77/100\n",
            "306/306 [==============================] - 0s 1ms/step - loss: -876873574.3583 - accuracy: 6.5492e-05\n",
            "Epoch 78/100\n",
            "306/306 [==============================] - 0s 1ms/step - loss: -895667380.1173 - accuracy: 3.4847e-04\n",
            "Epoch 79/100\n",
            "306/306 [==============================] - 0s 1ms/step - loss: -923781246.5407 - accuracy: 9.2484e-05\n",
            "Epoch 80/100\n",
            "306/306 [==============================] - 0s 1ms/step - loss: -971745910.8274 - accuracy: 2.5747e-04\n",
            "Epoch 81/100\n",
            "306/306 [==============================] - 0s 1ms/step - loss: -1000129734.4625 - accuracy: 1.9020e-04\n",
            "Epoch 82/100\n",
            "306/306 [==============================] - 0s 1ms/step - loss: -1014633341.9153 - accuracy: 3.1108e-05\n",
            "Epoch 83/100\n",
            "306/306 [==============================] - 0s 1ms/step - loss: -1061945546.2150 - accuracy: 1.3448e-04\n",
            "Epoch 84/100\n",
            "306/306 [==============================] - 0s 1ms/step - loss: -1087112072.7557 - accuracy: 2.1916e-05\n",
            "Epoch 85/100\n",
            "306/306 [==============================] - 0s 1ms/step - loss: -1124099153.9283 - accuracy: 3.3448e-05\n",
            "Epoch 86/100\n",
            "306/306 [==============================] - 0s 1ms/step - loss: -1153698136.5993 - accuracy: 1.7535e-04\n",
            "Epoch 87/100\n",
            "306/306 [==============================] - 0s 1ms/step - loss: -1186957978.6840 - accuracy: 0.0011\n",
            "Epoch 88/100\n",
            "306/306 [==============================] - 0s 1ms/step - loss: -1226294384.3648 - accuracy: 1.0248e-04\n",
            "Epoch 89/100\n",
            "306/306 [==============================] - 0s 1ms/step - loss: -1271524789.3681 - accuracy: 1.3931e-04\n",
            "Epoch 90/100\n",
            "306/306 [==============================] - 0s 1ms/step - loss: -1324901540.2736 - accuracy: 1.1875e-05\n",
            "Epoch 91/100\n",
            "306/306 [==============================] - 0s 1ms/step - loss: -1389274309.2117 - accuracy: 2.3711e-04\n",
            "Epoch 92/100\n",
            "306/306 [==============================] - 0s 1ms/step - loss: -1401525278.8534 - accuracy: 2.1383e-04\n",
            "Epoch 93/100\n",
            "306/306 [==============================] - 0s 1ms/step - loss: -1431707096.3909 - accuracy: 8.3760e-04\n",
            "Epoch 94/100\n",
            "306/306 [==============================] - 0s 1ms/step - loss: -1486516081.8241 - accuracy: 0.0017\n",
            "Epoch 95/100\n",
            "306/306 [==============================] - 0s 1ms/step - loss: -1520202601.4853 - accuracy: 5.2792e-05\n",
            "Epoch 96/100\n",
            "306/306 [==============================] - 0s 1ms/step - loss: -1523455809.8762 - accuracy: 2.0977e-04\n",
            "Epoch 97/100\n",
            "306/306 [==============================] - 0s 1ms/step - loss: -1608639795.2834 - accuracy: 1.0540e-04\n",
            "Epoch 98/100\n",
            "306/306 [==============================] - 0s 1ms/step - loss: -1658345267.2834 - accuracy: 0.0011\n",
            "Epoch 99/100\n",
            "306/306 [==============================] - 0s 1ms/step - loss: -1645429109.1596 - accuracy: 1.4588e-04\n",
            "Epoch 100/100\n",
            "306/306 [==============================] - 0s 1ms/step - loss: -1738967553.6678 - accuracy: 2.9192e-04\n",
            "96/96 [==============================] - 0s 927us/step - loss: -1767197312.0000 - accuracy: 3.2776e-04\n",
            "Accuracy: 0.03\n",
            "[0.5453530317995515, -0.2763808487729765, 1.2724141870115357] => 1 (expected 31)\n",
            "[1.3785388605528972, -0.38787601862704907, -0.498633114344393] => 1 (expected 183)\n",
            "[1.9339960797217943, 0.950066019621822, -0.498633114344393] => 1 (expected 2787)\n",
            "[1.1008102509684485, -0.49937118848112166, -0.498633114344393] => 1 (expected 1601)\n",
            "[0.5453530317995515, 0.5040853402055316, 0.6820650865595596] => 1 (expected 382)\n"
          ],
          "name": "stdout"
        },
        {
          "output_type": "stream",
          "text": [
            "/usr/local/lib/python3.7/dist-packages/tensorflow/python/keras/engine/sequential.py:450: UserWarning: `model.predict_classes()` is deprecated and will be removed after 2021-01-01. Please use instead:* `np.argmax(model.predict(x), axis=-1)`,   if your model does multi-class classification   (e.g. if it uses a `softmax` last-layer activation).* `(model.predict(x) > 0.5).astype(\"int32\")`,   if your model does binary classification   (e.g. if it uses a `sigmoid` last-layer activation).\n",
            "  warnings.warn('`model.predict_classes()` is deprecated and '\n"
          ],
          "name": "stderr"
        }
      ]
    },
    {
      "cell_type": "markdown",
      "metadata": {
        "id": "QoTz6mCS1SN3"
      },
      "source": [
        "# Muller Loop Classification\n"
      ]
    },
    {
      "cell_type": "code",
      "metadata": {
        "id": "BAJ52GiV5oB4"
      },
      "source": [
        "# Modified from ...\n",
        "# Code source: Gaël Varoquaux\n",
        "#              Andreas Müller\n",
        "# Modified for documentation by Jaques Grobler\n",
        "# License: BSD 3 clause\n",
        "\n",
        "import numpy as np\n",
        "import matplotlib.pyplot as plt\n",
        "from matplotlib.colors import ListedColormap\n",
        "from sklearn.model_selection import train_test_split\n",
        "from sklearn.preprocessing import StandardScaler\n",
        "from sklearn.datasets import make_moons, make_circles, make_classification\n",
        "from sklearn.neural_network import MLPClassifier\n",
        "from sklearn.neighbors import KNeighborsClassifier\n",
        "from sklearn.svm import SVC\n",
        "from sklearn.gaussian_process import GaussianProcessClassifier\n",
        "from sklearn.gaussian_process.kernels import RBF\n",
        "from sklearn.tree import DecisionTreeClassifier\n",
        "from sklearn.ensemble import RandomForestClassifier, AdaBoostClassifier\n",
        "from sklearn.naive_bayes import GaussianNB\n",
        "from sklearn.discriminant_analysis import QuadraticDiscriminantAnalysis\n",
        "\n",
        "names = [\"Nearest Neighbors\", \"Linear SVM\", \"RBF SVM\", #\"Gaussian Process\",\n",
        "         \"Decision Tree\", \"Random Forest\", \"Neural Net\", \"AdaBoost\", \n",
        "         \"Naive Bayes\"# \"QDA\"\n",
        "         ]\n",
        "\n",
        "classifiers = [\n",
        "    KNeighborsClassifier(2),\n",
        "    SVC(kernel=\"linear\", C=0.025),\n",
        "    SVC(gamma=2, C=1),\n",
        "#     GaussianProcessClassifier(1.0 * RBF(1.0)),\n",
        "    DecisionTreeClassifier(max_depth=5),\n",
        "    RandomForestClassifier(max_depth=5, n_estimators=10, max_features=1),\n",
        "    MLPClassifier(alpha=1, max_iter=1000),\n",
        "    AdaBoostClassifier(),\n",
        "    GaussianNB()]\n",
        "    # QuadraticDiscriminantAnalysis()]"
      ],
      "execution_count": 297,
      "outputs": []
    },
    {
      "cell_type": "code",
      "metadata": {
        "colab": {
          "base_uri": "https://localhost:8080/"
        },
        "id": "ScnJRM2N1_NZ",
        "outputId": "50332c7e-bed4-49cd-cffd-b9a6a4d3a407"
      },
      "source": [
        "max_score = 0.0\n",
        "max_class = ''\n",
        "# iterate over classifiers\n",
        "for name, clf in zip(names, classifiers):\n",
        "    # start_time = time()\n",
        "    clf.fit(X_train, y_train)\n",
        "    score = 100.0 * clf.score(X_test, y_test)\n",
        "    # print('Classifier = %s, Score (test, accuracy) = %.2f,' %(name, score), 'Training time = %.2f seconds' % (time() - start_time))\n",
        "    print('Classifier = %s, Score (test, accuracy) = %.2f,' %(name, score))\n",
        "    if score > max_score:\n",
        "        clf_best = clf\n",
        "        max_score = score\n",
        "        max_class = name\n",
        "\n",
        "print(80*'-' )\n",
        "print('Best --> Classifier = %s, Score (test, accuracy) = %.2f' %(max_class, max_score))\n",
        "#plot the output of the various algorithms"
      ],
      "execution_count": 298,
      "outputs": [
        {
          "output_type": "stream",
          "text": [
            "Classifier = Nearest Neighbors, Score (test, accuracy) = 0.00,\n",
            "Classifier = Linear SVM, Score (test, accuracy) = 0.00,\n",
            "Classifier = RBF SVM, Score (test, accuracy) = 0.00,\n",
            "Classifier = Decision Tree, Score (test, accuracy) = 0.00,\n",
            "Classifier = Random Forest, Score (test, accuracy) = 0.00,\n",
            "Classifier = Neural Net, Score (test, accuracy) = 0.00,\n",
            "Classifier = AdaBoost, Score (test, accuracy) = 0.00,\n",
            "Classifier = Naive Bayes, Score (test, accuracy) = 0.00,\n",
            "--------------------------------------------------------------------------------\n",
            "Best --> Classifier = , Score (test, accuracy) = 0.00\n"
          ],
          "name": "stdout"
        }
      ]
    },
    {
      "cell_type": "markdown",
      "metadata": {
        "id": "OyweDvSBNyHX"
      },
      "source": [
        "# Applying the Decision tree Regressor"
      ]
    },
    {
      "cell_type": "code",
      "metadata": {
        "id": "I1Z--bXB6ArI"
      },
      "source": [
        "X_train, X_test, y_train, y_test = train_test_split(X, y, test_size=0.30)"
      ],
      "execution_count": 166,
      "outputs": []
    },
    {
      "cell_type": "code",
      "metadata": {
        "id": "xygZXmmZ7fox"
      },
      "source": [
        "# y"
      ],
      "execution_count": null,
      "outputs": []
    },
    {
      "cell_type": "code",
      "metadata": {
        "id": "_RDGPLqfNyHX"
      },
      "source": [
        "from sklearn.tree import DecisionTreeRegressor\n",
        "\n",
        "dtr = DecisionTreeRegressor()\n",
        "\n",
        "dtr.fit(X_train,y_train)\n",
        "\n",
        "y_pred = dtr.predict(X_test)"
      ],
      "execution_count": 173,
      "outputs": []
    },
    {
      "cell_type": "markdown",
      "metadata": {
        "id": "vOQQ7D2fNyHX"
      },
      "source": [
        "**Evaluating the model performance**"
      ]
    },
    {
      "cell_type": "code",
      "metadata": {
        "id": "MRuCC9c7NyHX",
        "colab": {
          "base_uri": "https://localhost:8080/"
        },
        "outputId": "edd779b6-851b-4154-d82a-55e62efd3df9"
      },
      "source": [
        "from sklearn import metrics\n",
        "import numpy as np\n",
        "\n",
        "print(\"MSE : \" , np.round(metrics.mean_squared_error(y_test, y_pred), 2))\n",
        "print(\"MAE : \" , np.round(metrics.mean_absolute_error(y_test, y_pred), 2))\n",
        "print(\"RSquared : \" , np.round(metrics.r2_score(y_test, y_pred), 2))"
      ],
      "execution_count": 174,
      "outputs": [
        {
          "output_type": "stream",
          "text": [
            "MSE :  942369.19\n",
            "MAE :  823.13\n",
            "RSquared :  -0.2\n"
          ],
          "name": "stdout"
        }
      ]
    },
    {
      "cell_type": "markdown",
      "metadata": {
        "id": "WuPmf64dNyHY"
      },
      "source": [
        "# Applying the SVR"
      ]
    },
    {
      "cell_type": "code",
      "metadata": {
        "id": "V0ySYhejNyHY"
      },
      "source": [
        "from sklearn.svm import SVR\n",
        "\n",
        "svr = SVR()\n",
        "\n",
        "svr.fit(X_train,y_train)\n",
        "\n",
        "y_pred = svr.predict(X_test)"
      ],
      "execution_count": null,
      "outputs": []
    },
    {
      "cell_type": "markdown",
      "metadata": {
        "id": "tTkdN2awNyHY"
      },
      "source": [
        "**Evaluation of the SVR Performance**"
      ]
    },
    {
      "cell_type": "code",
      "metadata": {
        "id": "y0a7bwQzNyHZ",
        "colab": {
          "base_uri": "https://localhost:8080/"
        },
        "outputId": "5858441a-c93b-411f-8d76-537bb2fc10b0"
      },
      "source": [
        "from sklearn import metrics\n",
        "import numpy as np\n",
        "\n",
        "print(\"MSE : \" , np.round(metrics.mean_squared_error(y_test, y_pred), 2))\n",
        "print(\"MAE : \" , np.round(metrics.mean_absolute_error(y_test, y_pred), 2))\n",
        "print(\"RSquared : \" , np.round(metrics.r2_score(y_test, y_pred), 2))"
      ],
      "execution_count": null,
      "outputs": [
        {
          "output_type": "stream",
          "text": [
            "MSE :  789044.93\n",
            "MAE :  771.29\n",
            "RSquared :  -0.0\n"
          ],
          "name": "stdout"
        }
      ]
    },
    {
      "cell_type": "markdown",
      "metadata": {
        "id": "BBIfL3MMNyHZ"
      },
      "source": [
        "# Applying the KNN Regressor"
      ]
    },
    {
      "cell_type": "code",
      "metadata": {
        "id": "tpkMN3doNyHZ"
      },
      "source": [
        "from sklearn.neighbors import KNeighborsRegressor\n",
        "\n",
        "knr = KNeighborsRegressor()\n",
        "\n",
        "knr.fit(X_train,y_train)\n",
        "\n",
        "y_pred = knr.predict(X_test)"
      ],
      "execution_count": null,
      "outputs": []
    },
    {
      "cell_type": "markdown",
      "metadata": {
        "id": "uxGNJpc1NyHZ"
      },
      "source": [
        "**Evaluation of the K-NN Regressor Performance**"
      ]
    },
    {
      "cell_type": "code",
      "metadata": {
        "id": "yQ5G_Jf-NyHa",
        "colab": {
          "base_uri": "https://localhost:8080/"
        },
        "outputId": "74fd0223-35c0-46f5-953a-97622ed5be08"
      },
      "source": [
        "from sklearn import metrics\n",
        "import numpy as np\n",
        "\n",
        "print(\"MSE : \" , np.round(metrics.mean_squared_error(y_test, y_pred), 2))\n",
        "print(\"MAE : \" , np.round(metrics.mean_absolute_error(y_test, y_pred), 2))\n",
        "print(\"RSquared : \" , np.round(metrics.r2_score(y_test, y_pred), 2))"
      ],
      "execution_count": null,
      "outputs": [
        {
          "output_type": "stream",
          "text": [
            "MSE :  963360.44\n",
            "MAE :  818.46\n",
            "RSquared :  -0.22\n"
          ],
          "name": "stdout"
        }
      ]
    },
    {
      "cell_type": "markdown",
      "metadata": {
        "id": "7HSH1QrRNyHa"
      },
      "source": [
        "# Applying the Linear Regressor"
      ]
    },
    {
      "cell_type": "code",
      "metadata": {
        "id": "w73pXfr6NyHa"
      },
      "source": [
        "from sklearn.linear_model import LinearRegression\n",
        "\n",
        "lr = LinearRegression()\n",
        "\n",
        "lr.fit(X_train,y_train)\n",
        "\n",
        "y_pred = lr.predict(X_test)"
      ],
      "execution_count": null,
      "outputs": []
    },
    {
      "cell_type": "markdown",
      "metadata": {
        "id": "qZ_tISu_NyHa"
      },
      "source": [
        "**Evaluation of the Linear Regressor Performance**"
      ]
    },
    {
      "cell_type": "code",
      "metadata": {
        "id": "B-HnXhZsNyHa",
        "colab": {
          "base_uri": "https://localhost:8080/"
        },
        "outputId": "4ef715ae-6862-4e78-9380-fefd83eca61d"
      },
      "source": [
        "from sklearn import metrics\n",
        "import numpy as np\n",
        "\n",
        "print(\"MSE : \" , np.round(metrics.mean_squared_error(y_test, y_pred), 2))\n",
        "print(\"MAE : \" , np.round(metrics.mean_absolute_error(y_test, y_pred), 2))\n",
        "print(\"RSquared : \" , np.round(metrics.r2_score(y_test, y_pred), 2))"
      ],
      "execution_count": null,
      "outputs": [
        {
          "output_type": "stream",
          "text": [
            "MSE :  797103.8\n",
            "MAE :  773.85\n",
            "RSquared :  -0.01\n"
          ],
          "name": "stdout"
        }
      ]
    },
    {
      "cell_type": "markdown",
      "metadata": {
        "id": "sxSa_VjkNyHb"
      },
      "source": [
        "# Applying the Logistics Regression"
      ]
    },
    {
      "cell_type": "code",
      "metadata": {
        "id": "KpXxeiMBNyHb"
      },
      "source": [
        "from sklearn.linear_model import LogisticRegression\n",
        "from sklearn.preprocessing import LabelEncoder\n",
        "\n",
        "lor = LogisticRegression(max_iter=1000)\n",
        "\n",
        "lor.fit(X_train,y_train)\n",
        "\n",
        "y_pred = lor.predict(X_test)"
      ],
      "execution_count": null,
      "outputs": []
    },
    {
      "cell_type": "code",
      "metadata": {
        "id": "YhQi8ko4NyHc",
        "colab": {
          "base_uri": "https://localhost:8080/"
        },
        "outputId": "e67bf1ca-aa35-4ca7-bcdb-6ed91ddd7193"
      },
      "source": [
        "from sklearn import metrics\n",
        "import numpy as np\n",
        "\n",
        "print(\"MSE : \" , np.round(metrics.mean_squared_error(y_test, y_pred), 2))\n",
        "print(\"MAE : \" , np.round(metrics.mean_absolute_error(y_test, y_pred), 2))\n",
        "print(\"RSquared : \" , np.round(metrics.r2_score(y_test, y_pred), 2))"
      ],
      "execution_count": null,
      "outputs": [
        {
          "output_type": "stream",
          "text": [
            "MSE :  1539645.08\n",
            "MAE :  1009.16\n",
            "RSquared :  -0.96\n"
          ],
          "name": "stdout"
        }
      ]
    },
    {
      "cell_type": "markdown",
      "metadata": {
        "id": "hvySvq0hNyHb"
      },
      "source": [
        "**Evaluation of the Logistics Regressor Performance**"
      ]
    },
    {
      "cell_type": "markdown",
      "metadata": {
        "id": "NyH87OZtNyHc"
      },
      "source": [
        "# Applying the MLP Regressor"
      ]
    },
    {
      "cell_type": "code",
      "metadata": {
        "id": "wvddL2KdNyHc",
        "colab": {
          "base_uri": "https://localhost:8080/"
        },
        "outputId": "21b75c60-c297-4b55-85f4-fc830906cada"
      },
      "source": [
        "from warnings import simplefilter\n",
        "\n",
        "simplefilter(action='ignore', category=FutureWarning)\n",
        "\n",
        "from sklearn.neural_network import MLPRegressor\n",
        "\n",
        "mlp = MLPRegressor()\n",
        "\n",
        "mlp.fit(X_train,y_train)\n",
        "\n",
        "y_pred = mlp.predict(X_test)"
      ],
      "execution_count": null,
      "outputs": [
        {
          "output_type": "stream",
          "text": [
            "/usr/local/lib/python3.7/dist-packages/sklearn/neural_network/_multilayer_perceptron.py:571: ConvergenceWarning: Stochastic Optimizer: Maximum iterations (200) reached and the optimization hasn't converged yet.\n",
            "  % self.max_iter, ConvergenceWarning)\n"
          ],
          "name": "stderr"
        }
      ]
    },
    {
      "cell_type": "code",
      "metadata": {
        "id": "rXvtbf6zNyHb",
        "colab": {
          "base_uri": "https://localhost:8080/"
        },
        "outputId": "e1e8bf97-4795-4c9c-9169-906703c7b177"
      },
      "source": [
        "from sklearn import metrics\n",
        "import numpy as np\n",
        "\n",
        "print(\"MSE : \" , np.round(metrics.mean_squared_error(y_test, y_pred), 2))\n",
        "print(\"MAE : \" , np.round(metrics.mean_absolute_error(y_test, y_pred), 2))\n",
        "print(\"RSquared : \" , np.round(metrics.r2_score(y_test, y_pred), 2))"
      ],
      "execution_count": null,
      "outputs": [
        {
          "output_type": "stream",
          "text": [
            "MSE :  1539645.08\n",
            "MAE :  1009.16\n",
            "RSquared :  -0.96\n"
          ],
          "name": "stdout"
        }
      ]
    },
    {
      "cell_type": "markdown",
      "metadata": {
        "id": "E2ar20nEwXYg"
      },
      "source": [
        "# Applying the Random Forest Regressor"
      ]
    },
    {
      "cell_type": "code",
      "metadata": {
        "id": "oOtzH0vRv0DX"
      },
      "source": [
        "rf = RandomForestRegressor(n_estimators=100)\n",
        "rf.fit(X_train, y_train)\n",
        "y_pred = rf.predict(X_test)"
      ],
      "execution_count": null,
      "outputs": []
    },
    {
      "cell_type": "code",
      "metadata": {
        "colab": {
          "base_uri": "https://localhost:8080/"
        },
        "id": "eNtXQv3gwEj3",
        "outputId": "696e47e0-47cb-435a-8cf7-f65e322fe1ed"
      },
      "source": [
        "print(\"MSE : \" , np.round(metrics.mean_squared_error(y_test, y_pred), 2))\n",
        "print(\"MAE : \" , np.round(metrics.mean_absolute_error(y_test, y_pred), 2))\n",
        "print(\"RSquared : \" , np.round(metrics.r2_score(y_test, y_pred), 2))"
      ],
      "execution_count": null,
      "outputs": [
        {
          "output_type": "stream",
          "text": [
            "MSE :  924078.45\n",
            "MAE :  811.37\n",
            "RSquared :  -0.17\n"
          ],
          "name": "stdout"
        }
      ]
    }
  ]
}