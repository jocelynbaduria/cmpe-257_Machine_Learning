{
  "nbformat": 4,
  "nbformat_minor": 0,
  "metadata": {
    "colab": {
      "name": " [Jocelyn_Baduria]_HW5_HPO_257_ML.ipynb",
      "provenance": [],
      "collapsed_sections": [
        "wMu65bhx7wI1",
        "0YVV6NhCr1t6"
      ],
      "include_colab_link": true
    },
    "kernelspec": {
      "display_name": "Python 3",
      "name": "python3"
    }
  },
  "cells": [
    {
      "cell_type": "markdown",
      "metadata": {
        "id": "view-in-github",
        "colab_type": "text"
      },
      "source": [
        "<a href=\"https://colab.research.google.com/github/jocelynbaduria/cmpe-257_Machine_Learning/blob/main/%5BJocelyn_Baduria%5D_HW5_HPO_257_ML.ipynb\" target=\"_parent\"><img src=\"https://colab.research.google.com/assets/colab-badge.svg\" alt=\"Open In Colab\"/></a>"
      ]
    },
    {
      "cell_type": "markdown",
      "metadata": {
        "id": "wMu65bhx7wI1"
      },
      "source": [
        "# 1. Data Wrangling"
      ]
    },
    {
      "cell_type": "code",
      "metadata": {
        "colab": {
          "base_uri": "https://localhost:8080/"
        },
        "id": "Z7jNuEmj7W4g",
        "outputId": "56c5417e-b228-4b44-8def-dfc6159d6832"
      },
      "source": [
        "from google.colab import drive\n",
        "drive.mount('/content/drive')"
      ],
      "execution_count": 252,
      "outputs": [
        {
          "output_type": "stream",
          "text": [
            "Drive already mounted at /content/drive; to attempt to forcibly remount, call drive.mount(\"/content/drive\", force_remount=True).\n"
          ],
          "name": "stdout"
        }
      ]
    },
    {
      "cell_type": "markdown",
      "metadata": {
        "id": "gCjz4Jkj9M8D"
      },
      "source": [
        "# 1.1 Import Libraries and Read the Data from CSV"
      ]
    },
    {
      "cell_type": "code",
      "metadata": {
        "id": "8k7OC14z9SFr"
      },
      "source": [
        "import numpy as np\n",
        "import pandas as pd\n",
        "import seaborn as sns\n",
        "import matplotlib.pyplot as plt\n",
        "import itertools\n",
        "import matplotlib as mpl\n",
        "import tensorflow as tf\n",
        "from sklearn.metrics import classification_report\n",
        "from sklearn.metrics import plot_confusion_matrix\n",
        "from sklearn.metrics import confusion_matrix"
      ],
      "execution_count": 253,
      "outputs": []
    },
    {
      "cell_type": "code",
      "metadata": {
        "id": "pyGoejdPAJxg"
      },
      "source": [
        "path = '/content/drive/My Drive/Underdog/data/Diameter_Asteroid_data.csv'\n",
        "\n",
        "data = pd.read_csv(path, delimiter=',')\n",
        "# data1 = pd.read_csv(io.StringIO(data.to_csv(index=False)))"
      ],
      "execution_count": 254,
      "outputs": []
    },
    {
      "cell_type": "code",
      "metadata": {
        "colab": {
          "base_uri": "https://localhost:8080/",
          "height": 204
        },
        "id": "b-eNhMne9e4K",
        "outputId": "f098ccb9-3cf1-45d9-a342-71281687e993"
      },
      "source": [
        "data.head()"
      ],
      "execution_count": 255,
      "outputs": [
        {
          "output_type": "execute_result",
          "data": {
            "text/html": [
              "<div>\n",
              "<style scoped>\n",
              "    .dataframe tbody tr th:only-of-type {\n",
              "        vertical-align: middle;\n",
              "    }\n",
              "\n",
              "    .dataframe tbody tr th {\n",
              "        vertical-align: top;\n",
              "    }\n",
              "\n",
              "    .dataframe thead th {\n",
              "        text-align: right;\n",
              "    }\n",
              "</style>\n",
              "<table border=\"1\" class=\"dataframe\">\n",
              "  <thead>\n",
              "    <tr style=\"text-align: right;\">\n",
              "      <th></th>\n",
              "      <th>name</th>\n",
              "      <th>diameter</th>\n",
              "      <th>rot_per</th>\n",
              "      <th>Clustered3</th>\n",
              "    </tr>\n",
              "  </thead>\n",
              "  <tbody>\n",
              "    <tr>\n",
              "      <th>0</th>\n",
              "      <td>Agathe</td>\n",
              "      <td>9.300</td>\n",
              "      <td>6.4840</td>\n",
              "      <td>4</td>\n",
              "    </tr>\n",
              "    <tr>\n",
              "      <th>1</th>\n",
              "      <td>Augusta</td>\n",
              "      <td>12.467</td>\n",
              "      <td>5.8949</td>\n",
              "      <td>1</td>\n",
              "    </tr>\n",
              "    <tr>\n",
              "      <th>2</th>\n",
              "      <td>Valda</td>\n",
              "      <td>14.645</td>\n",
              "      <td>17.3860</td>\n",
              "      <td>1</td>\n",
              "    </tr>\n",
              "    <tr>\n",
              "      <th>3</th>\n",
              "      <td>Lucretia</td>\n",
              "      <td>11.036</td>\n",
              "      <td>4.3480</td>\n",
              "      <td>1</td>\n",
              "    </tr>\n",
              "    <tr>\n",
              "      <th>4</th>\n",
              "      <td>Bruna</td>\n",
              "      <td>9.822</td>\n",
              "      <td>13.8070</td>\n",
              "      <td>3</td>\n",
              "    </tr>\n",
              "  </tbody>\n",
              "</table>\n",
              "</div>"
            ],
            "text/plain": [
              "       name  diameter  rot_per  Clustered3\n",
              "0    Agathe     9.300   6.4840           4\n",
              "1   Augusta    12.467   5.8949           1\n",
              "2     Valda    14.645  17.3860           1\n",
              "3  Lucretia    11.036   4.3480           1\n",
              "4     Bruna     9.822  13.8070           3"
            ]
          },
          "metadata": {
            "tags": []
          },
          "execution_count": 255
        }
      ]
    },
    {
      "cell_type": "markdown",
      "metadata": {
        "id": "0YVV6NhCr1t6"
      },
      "source": [
        "# 1.2 Data Preparation "
      ]
    },
    {
      "cell_type": "code",
      "metadata": {
        "id": "Cbi8SdT43Uij"
      },
      "source": [
        "# data.drop(['Clustered3'], axis=1, inplace=True)\n",
        "data = data.rename(columns={\"Clustered3\": \"category\"})"
      ],
      "execution_count": 256,
      "outputs": []
    },
    {
      "cell_type": "code",
      "metadata": {
        "colab": {
          "base_uri": "https://localhost:8080/"
        },
        "id": "AyISgH3JDVQ_",
        "outputId": "9efcfbff-212f-4b7f-deb4-39cb6bb5c33f"
      },
      "source": [
        "data.shape"
      ],
      "execution_count": 257,
      "outputs": [
        {
          "output_type": "execute_result",
          "data": {
            "text/plain": [
              "(3051, 4)"
            ]
          },
          "metadata": {
            "tags": []
          },
          "execution_count": 257
        }
      ]
    },
    {
      "cell_type": "code",
      "metadata": {
        "colab": {
          "base_uri": "https://localhost:8080/",
          "height": 204
        },
        "id": "ZvlETLCYF2-O",
        "outputId": "002d05d7-8df4-46c0-f6d9-fb5c4659d888"
      },
      "source": [
        "data.head()"
      ],
      "execution_count": 258,
      "outputs": [
        {
          "output_type": "execute_result",
          "data": {
            "text/html": [
              "<div>\n",
              "<style scoped>\n",
              "    .dataframe tbody tr th:only-of-type {\n",
              "        vertical-align: middle;\n",
              "    }\n",
              "\n",
              "    .dataframe tbody tr th {\n",
              "        vertical-align: top;\n",
              "    }\n",
              "\n",
              "    .dataframe thead th {\n",
              "        text-align: right;\n",
              "    }\n",
              "</style>\n",
              "<table border=\"1\" class=\"dataframe\">\n",
              "  <thead>\n",
              "    <tr style=\"text-align: right;\">\n",
              "      <th></th>\n",
              "      <th>name</th>\n",
              "      <th>diameter</th>\n",
              "      <th>rot_per</th>\n",
              "      <th>category</th>\n",
              "    </tr>\n",
              "  </thead>\n",
              "  <tbody>\n",
              "    <tr>\n",
              "      <th>0</th>\n",
              "      <td>Agathe</td>\n",
              "      <td>9.300</td>\n",
              "      <td>6.4840</td>\n",
              "      <td>4</td>\n",
              "    </tr>\n",
              "    <tr>\n",
              "      <th>1</th>\n",
              "      <td>Augusta</td>\n",
              "      <td>12.467</td>\n",
              "      <td>5.8949</td>\n",
              "      <td>1</td>\n",
              "    </tr>\n",
              "    <tr>\n",
              "      <th>2</th>\n",
              "      <td>Valda</td>\n",
              "      <td>14.645</td>\n",
              "      <td>17.3860</td>\n",
              "      <td>1</td>\n",
              "    </tr>\n",
              "    <tr>\n",
              "      <th>3</th>\n",
              "      <td>Lucretia</td>\n",
              "      <td>11.036</td>\n",
              "      <td>4.3480</td>\n",
              "      <td>1</td>\n",
              "    </tr>\n",
              "    <tr>\n",
              "      <th>4</th>\n",
              "      <td>Bruna</td>\n",
              "      <td>9.822</td>\n",
              "      <td>13.8070</td>\n",
              "      <td>3</td>\n",
              "    </tr>\n",
              "  </tbody>\n",
              "</table>\n",
              "</div>"
            ],
            "text/plain": [
              "       name  diameter  rot_per  category\n",
              "0    Agathe     9.300   6.4840         4\n",
              "1   Augusta    12.467   5.8949         1\n",
              "2     Valda    14.645  17.3860         1\n",
              "3  Lucretia    11.036   4.3480         1\n",
              "4     Bruna     9.822  13.8070         3"
            ]
          },
          "metadata": {
            "tags": []
          },
          "execution_count": 258
        }
      ]
    },
    {
      "cell_type": "code",
      "metadata": {
        "id": "KtTKxq4SLBvT"
      },
      "source": [
        "# data.round(1)"
      ],
      "execution_count": 259,
      "outputs": []
    },
    {
      "cell_type": "markdown",
      "metadata": {
        "id": "xwk9-WaIMygz"
      },
      "source": [
        "## Convert the diameter and rotation period data to Int"
      ]
    },
    {
      "cell_type": "code",
      "metadata": {
        "id": "LUwZ82KzA2XF"
      },
      "source": [
        "data['diameter'] = data['diameter'].astype(int) \n",
        "data['rot_per'] = data['rot_per'].astype(int) "
      ],
      "execution_count": 260,
      "outputs": []
    },
    {
      "cell_type": "code",
      "metadata": {
        "colab": {
          "base_uri": "https://localhost:8080/"
        },
        "id": "b4ZaO-R4mza6",
        "outputId": "dd05ecd6-b30a-49bf-a807-26e97f893edf"
      },
      "source": [
        "data.dtypes"
      ],
      "execution_count": 261,
      "outputs": [
        {
          "output_type": "execute_result",
          "data": {
            "text/plain": [
              "name        object\n",
              "diameter     int64\n",
              "rot_per      int64\n",
              "category     int64\n",
              "dtype: object"
            ]
          },
          "metadata": {
            "tags": []
          },
          "execution_count": 261
        }
      ]
    },
    {
      "cell_type": "code",
      "metadata": {
        "colab": {
          "base_uri": "https://localhost:8080/",
          "height": 511
        },
        "id": "Vh4sJQe411nj",
        "outputId": "04723498-278a-489e-8d76-f689d25c2bfa"
      },
      "source": [
        "corr = data.corr()\n",
        "g = sns.heatmap(corr,  vmax=.3, center=0,square=True, linewidths=1, cbar_kws={\"shrink\": 0.5}, annot=True, fmt='.2f', cmap='coolwarm')\n",
        "sns.despine()\n",
        "g.figure.set_size_inches(10,15)\n",
        "plt.title('Correlation Clustered Asteroid Dataset')\n",
        "plt.show()"
      ],
      "execution_count": 262,
      "outputs": [
        {
          "output_type": "display_data",
          "data": {
            "image/png": "[encoded data removed]",
            "text/plain": [
              "<Figure size 720x1080 with 2 Axes>"
            ]
          },
          "metadata": {
            "tags": [],
            "needs_background": "light"
          }
        }
      ]
    },
    {
      "cell_type": "code",
      "metadata": {
        "colab": {
          "base_uri": "https://localhost:8080/",
          "height": 713
        },
        "id": "PWmgNV8XNf-B",
        "outputId": "5bcaec1b-67ad-4144-e71b-216f726374b2"
      },
      "source": [
        "g = sns.pairplot(data, diag_kind=\"hist\")\n",
        "g.fig.set_size_inches(10,10)"
      ],
      "execution_count": 263,
      "outputs": [
        {
          "output_type": "display_data",
          "data": {
            "image/png": "[encoded data removed]",
            "text/plain": [
              "<Figure size 720x720 with 12 Axes>"
            ]
          },
          "metadata": {
            "tags": [],
            "needs_background": "light"
          }
        }
      ]
    },
    {
      "cell_type": "markdown",
      "metadata": {
        "id": "CACmgIA55EUl"
      },
      "source": [
        "# 2. HPO Muller Loop Classification"
      ]
    },
    {
      "cell_type": "code",
      "metadata": {
        "id": "bmLA-gKgNbyn"
      },
      "source": [
        "from sklearn.preprocessing import LabelEncoder\n",
        "le = LabelEncoder()\n",
        "data['name'] = le.fit_transform(data['name'])"
      ],
      "execution_count": 266,
      "outputs": []
    },
    {
      "cell_type": "code",
      "metadata": {
        "colab": {
          "base_uri": "https://localhost:8080/"
        },
        "id": "yP0GyXmLPtfS",
        "outputId": "cc1d465c-6949-4576-f5f4-707e3548e347"
      },
      "source": [
        "data['name']"
      ],
      "execution_count": 267,
      "outputs": [
        {
          "output_type": "execute_result",
          "data": {
            "text/plain": [
              "0         31\n",
              "1        183\n",
              "2       2787\n",
              "3       1601\n",
              "4        382\n",
              "        ... \n",
              "3046     410\n",
              "3047    2855\n",
              "3048    2196\n",
              "3049      34\n",
              "3050    1561\n",
              "Name: name, Length: 3051, dtype: int64"
            ]
          },
          "metadata": {
            "tags": []
          },
          "execution_count": 267
        }
      ]
    },
    {
      "cell_type": "code",
      "metadata": {
        "id": "V7cw1ELrNKUH"
      },
      "source": [
        "X = data[['name','diameter', 'rot_per']]\n",
        "y = data['category']"
      ],
      "execution_count": 268,
      "outputs": []
    },
    {
      "cell_type": "code",
      "metadata": {
        "colab": {
          "base_uri": "https://localhost:8080/",
          "height": 419
        },
        "id": "HgPM21-5PnvX",
        "outputId": "04680deb-5eb6-483b-9589-4138d17e90d3"
      },
      "source": [
        "X"
      ],
      "execution_count": 269,
      "outputs": [
        {
          "output_type": "execute_result",
          "data": {
            "text/html": [
              "<div>\n",
              "<style scoped>\n",
              "    .dataframe tbody tr th:only-of-type {\n",
              "        vertical-align: middle;\n",
              "    }\n",
              "\n",
              "    .dataframe tbody tr th {\n",
              "        vertical-align: top;\n",
              "    }\n",
              "\n",
              "    .dataframe thead th {\n",
              "        text-align: right;\n",
              "    }\n",
              "</style>\n",
              "<table border=\"1\" class=\"dataframe\">\n",
              "  <thead>\n",
              "    <tr style=\"text-align: right;\">\n",
              "      <th></th>\n",
              "      <th>name</th>\n",
              "      <th>diameter</th>\n",
              "      <th>rot_per</th>\n",
              "    </tr>\n",
              "  </thead>\n",
              "  <tbody>\n",
              "    <tr>\n",
              "      <th>0</th>\n",
              "      <td>31</td>\n",
              "      <td>9</td>\n",
              "      <td>6</td>\n",
              "    </tr>\n",
              "    <tr>\n",
              "      <th>1</th>\n",
              "      <td>183</td>\n",
              "      <td>12</td>\n",
              "      <td>5</td>\n",
              "    </tr>\n",
              "    <tr>\n",
              "      <th>2</th>\n",
              "      <td>2787</td>\n",
              "      <td>14</td>\n",
              "      <td>17</td>\n",
              "    </tr>\n",
              "    <tr>\n",
              "      <th>3</th>\n",
              "      <td>1601</td>\n",
              "      <td>11</td>\n",
              "      <td>4</td>\n",
              "    </tr>\n",
              "    <tr>\n",
              "      <th>4</th>\n",
              "      <td>382</td>\n",
              "      <td>9</td>\n",
              "      <td>13</td>\n",
              "    </tr>\n",
              "    <tr>\n",
              "      <th>...</th>\n",
              "      <td>...</td>\n",
              "      <td>...</td>\n",
              "      <td>...</td>\n",
              "    </tr>\n",
              "    <tr>\n",
              "      <th>3046</th>\n",
              "      <td>410</td>\n",
              "      <td>1</td>\n",
              "      <td>3</td>\n",
              "    </tr>\n",
              "    <tr>\n",
              "      <th>3047</th>\n",
              "      <td>2855</td>\n",
              "      <td>4</td>\n",
              "      <td>8</td>\n",
              "    </tr>\n",
              "    <tr>\n",
              "      <th>3048</th>\n",
              "      <td>2196</td>\n",
              "      <td>1</td>\n",
              "      <td>7</td>\n",
              "    </tr>\n",
              "    <tr>\n",
              "      <th>3049</th>\n",
              "      <td>34</td>\n",
              "      <td>0</td>\n",
              "      <td>21</td>\n",
              "    </tr>\n",
              "    <tr>\n",
              "      <th>3050</th>\n",
              "      <td>1561</td>\n",
              "      <td>1</td>\n",
              "      <td>15</td>\n",
              "    </tr>\n",
              "  </tbody>\n",
              "</table>\n",
              "<p>3051 rows × 3 columns</p>\n",
              "</div>"
            ],
            "text/plain": [
              "      name  diameter  rot_per\n",
              "0       31         9        6\n",
              "1      183        12        5\n",
              "2     2787        14       17\n",
              "3     1601        11        4\n",
              "4      382         9       13\n",
              "...    ...       ...      ...\n",
              "3046   410         1        3\n",
              "3047  2855         4        8\n",
              "3048  2196         1        7\n",
              "3049    34         0       21\n",
              "3050  1561         1       15\n",
              "\n",
              "[3051 rows x 3 columns]"
            ]
          },
          "metadata": {
            "tags": []
          },
          "execution_count": 269
        }
      ]
    },
    {
      "cell_type": "code",
      "metadata": {
        "id": "TCE3ZzRVNbmq"
      },
      "source": [
        "# Scaling the Dataset\n",
        "from sklearn.preprocessing import StandardScaler\n",
        "scaler = StandardScaler()\n",
        "X = scaler.fit_transform(X)"
      ],
      "execution_count": 270,
      "outputs": []
    },
    {
      "cell_type": "code",
      "metadata": {
        "colab": {
          "base_uri": "https://localhost:8080/",
          "height": 726
        },
        "id": "EEn8DdCfJUkD",
        "outputId": "4f6a2671-5cdb-46f4-86dc-981907dd373f"
      },
      "source": [
        "g = sns.pairplot(data[['name','diameter', 'rot_per','category']], diag_kind=\"hist\")\n",
        "g.fig.set_size_inches(10,10)"
      ],
      "execution_count": 274,
      "outputs": [
        {
          "output_type": "display_data",
          "data": {
            "image/png": "[encoded data removed]",
            "text/plain": [
              "<Figure size 720x720 with 20 Axes>"
            ]
          },
          "metadata": {
            "tags": [],
            "needs_background": "light"
          }
        }
      ]
    },
    {
      "cell_type": "code",
      "metadata": {
        "colab": {
          "base_uri": "https://localhost:8080/",
          "height": 511
        },
        "id": "Zy6CQhh4MFfZ",
        "outputId": "02610803-9a00-4448-f656-9e29cb56a215"
      },
      "source": [
        "corr = data[['name','diameter', 'rot_per','category']].corr()\n",
        "g = sns.heatmap(corr,  vmax=.3, center=0,square=True, linewidths=1, cbar_kws={\"shrink\": 0.5}, annot=True, fmt='.2f', cmap='coolwarm')\n",
        "sns.despine()\n",
        "g.figure.set_size_inches(10,15)\n",
        "plt.title('Correlation Clustered Asteroid Dataset')\n",
        "plt.show()"
      ],
      "execution_count": 276,
      "outputs": [
        {
          "output_type": "display_data",
          "data": {
            "image/png": "[encoded data removed]",
            "text/plain": [
              "<Figure size 720x1080 with 2 Axes>"
            ]
          },
          "metadata": {
            "tags": [],
            "needs_background": "light"
          }
        }
      ]
    },
    {
      "cell_type": "markdown",
      "metadata": {
        "id": "bq1cMFvauBQj"
      },
      "source": [
        "## 2.1 DecisionTreeClassifier(max_depth=5)\n",
        "##     MLPClassifier(solver='adam',alpha=1, max_iter=1000)\n",
        "Data Narrative: Classification Accuracy above 95%\n",
        "MLP got the highest accuracy of 96.39"
      ]
    },
    {
      "cell_type": "code",
      "metadata": {
        "colab": {
          "base_uri": "https://localhost:8080/",
          "height": 1000
        },
        "id": "ScnJRM2N1_NZ",
        "outputId": "05512a2b-919f-48d2-b983-dab741174f33"
      },
      "source": [
        "X = data[['name','diameter', 'rot_per']]\n",
        "y = data['category']\n",
        "\n",
        "from sklearn.preprocessing import StandardScaler\n",
        "scaler = StandardScaler()\n",
        "X = scaler.fit_transform(X)\n",
        "\n",
        "X_train, X_test, y_train, y_test = train_test_split(X, y, test_size=0.30)\n",
        "\n",
        "names = [\"Decision Tree\", \"MLP Neural Net\"]\n",
        "\n",
        "classifiers = [\n",
        "    DecisionTreeClassifier(max_depth=5),\n",
        "    MLPClassifier(solver='adam',alpha=1, max_iter=1000)\n",
        "    ]\n",
        "output = pd.DataFrame(columns=['classifier','mae', 'mse', 'Rsquared', 'accuracy'])\n",
        "\n",
        "max_score = 0.0\n",
        "max_class = ''\n",
        "# iterate over classifiers\n",
        "\n",
        "for name, clf in zip(names, classifiers):\n",
        "    # start_time = time()\n",
        "    clf.fit(X_train, y_train)\n",
        "    y_predict = clf.predict(X_test)\n",
        "\n",
        "    # score = 100.0 * clf.score(X_test, y_test)\n",
        "\n",
        "    score = metrics.accuracy_score(y_test, y_predict)\n",
        "    print(\"accuracy:   %0.3f\" % score)\n",
        "    print(metrics.classification_report(y_test, y_predict))\n",
        "    plot_confusion_matrix(clf, X_test, y_test) \n",
        "  \n",
        "    mae = np.round(metrics.mean_absolute_error(y_test, y_predict), 2)\n",
        "    mse = np.round(metrics.mean_squared_error(y_test, y_predict), 2)\n",
        "    rsquared = np.round(metrics.r2_score(y_test, y_predict), 2)\n",
        "    output = output.append({'classifier': name,'mae':mae, 'mse':mse,'Rsquared':rsquared, 'accuracy':score}, ignore_index=True)\n",
        "   \n",
        "    print('Classifier = %s, Score (test, accuracy) = %.2f' %(name, score))\n",
        "    if score > max_score:\n",
        "        clf_best = clf\n",
        "        max_score = score\n",
        "        max_class = name\n",
        "\n",
        "print(80*'-' )\n",
        "print('Best --> Classifier = %s, Score (test, accuracy) = %.2f' %(max_class, max_score))\n",
        "display(output)"
      ],
      "execution_count": 223,
      "outputs": [
        {
          "output_type": "stream",
          "text": [
            "accuracy:   0.952\n",
            "              precision    recall  f1-score   support\n",
            "\n",
            "           0       0.97      0.98      0.98       300\n",
            "           1       0.99      0.88      0.94       180\n",
            "           2       1.00      0.98      0.99        46\n",
            "           3       0.86      0.93      0.89       109\n",
            "           4       0.94      0.98      0.96       281\n",
            "\n",
            "    accuracy                           0.95       916\n",
            "   macro avg       0.95      0.95      0.95       916\n",
            "weighted avg       0.95      0.95      0.95       916\n",
            "\n",
            "Classifier = Decision Tree, Score (test, accuracy) = 0.95\n",
            "accuracy:   0.964\n",
            "              precision    recall  f1-score   support\n",
            "\n",
            "           0       0.97      0.98      0.98       300\n",
            "           1       0.99      0.94      0.97       180\n",
            "           2       1.00      1.00      1.00        46\n",
            "           3       0.98      0.86      0.92       109\n",
            "           4       0.93      0.99      0.96       281\n",
            "\n",
            "    accuracy                           0.96       916\n",
            "   macro avg       0.97      0.96      0.96       916\n",
            "weighted avg       0.96      0.96      0.96       916\n",
            "\n",
            "Classifier = MLP Neural Net, Score (test, accuracy) = 0.96\n",
            "--------------------------------------------------------------------------------\n",
            "Best --> Classifier = MLP Neural Net, Score (test, accuracy) = 0.96\n"
          ],
          "name": "stdout"
        },
        {
          "output_type": "display_data",
          "data": {
            "text/html": [
              "<div>\n",
              "<style scoped>\n",
              "    .dataframe tbody tr th:only-of-type {\n",
              "        vertical-align: middle;\n",
              "    }\n",
              "\n",
              "    .dataframe tbody tr th {\n",
              "        vertical-align: top;\n",
              "    }\n",
              "\n",
              "    .dataframe thead th {\n",
              "        text-align: right;\n",
              "    }\n",
              "</style>\n",
              "<table border=\"1\" class=\"dataframe\">\n",
              "  <thead>\n",
              "    <tr style=\"text-align: right;\">\n",
              "      <th></th>\n",
              "      <th>classifier</th>\n",
              "      <th>mae</th>\n",
              "      <th>mse</th>\n",
              "      <th>Rsquared</th>\n",
              "      <th>accuracy</th>\n",
              "    </tr>\n",
              "  </thead>\n",
              "  <tbody>\n",
              "    <tr>\n",
              "      <th>0</th>\n",
              "      <td>Decision Tree</td>\n",
              "      <td>0.12</td>\n",
              "      <td>0.36</td>\n",
              "      <td>0.87</td>\n",
              "      <td>0.951965</td>\n",
              "    </tr>\n",
              "    <tr>\n",
              "      <th>1</th>\n",
              "      <td>MLP Neural Net</td>\n",
              "      <td>0.10</td>\n",
              "      <td>0.30</td>\n",
              "      <td>0.90</td>\n",
              "      <td>0.963974</td>\n",
              "    </tr>\n",
              "  </tbody>\n",
              "</table>\n",
              "</div>"
            ],
            "text/plain": [
              "       classifier   mae   mse  Rsquared  accuracy\n",
              "0   Decision Tree  0.12  0.36      0.87  0.951965\n",
              "1  MLP Neural Net  0.10  0.30      0.90  0.963974"
            ]
          },
          "metadata": {
            "tags": []
          }
        },
        {
          "output_type": "display_data",
          "data": {
            "image/png": "[encoded data removed]",
            "text/plain": [
              "<Figure size 432x288 with 2 Axes>"
            ]
          },
          "metadata": {
            "tags": [],
            "needs_background": "light"
          }
        },
        {
          "output_type": "display_data",
          "data": {
            "image/png": "[encoded data removed]",
            "text/plain": [
              "<Figure size 432x288 with 2 Axes>"
            ]
          },
          "metadata": {
            "tags": [],
            "needs_background": "light"
          }
        }
      ]
    },
    {
      "cell_type": "code",
      "metadata": {
        "colab": {
          "base_uri": "https://localhost:8080/",
          "height": 285
        },
        "id": "BbqLhrMIigpM",
        "outputId": "b2c80fee-a77b-472e-94ad-ea7198a51da4"
      },
      "source": [
        "output.boxplot()"
      ],
      "execution_count": 224,
      "outputs": [
        {
          "output_type": "execute_result",
          "data": {
            "text/plain": [
              "<matplotlib.axes._subplots.AxesSubplot at 0x7fcb9418ff10>"
            ]
          },
          "metadata": {
            "tags": []
          },
          "execution_count": 224
        },
        {
          "output_type": "display_data",
          "data": {
            "image/png": "[encoded data removed]",
            "text/plain": [
              "<Figure size 432x288 with 1 Axes>"
            ]
          },
          "metadata": {
            "tags": [],
            "needs_background": "light"
          }
        }
      ]
    },
    {
      "cell_type": "markdown",
      "metadata": {
        "id": "pL7a6Qc5ua7X"
      },
      "source": [
        "## 2.2 DecisionTreeClassifier(max_depth=6),\n",
        "##     MLPClassifier(solver='sgd',alpha=1, max_iter=1000)\n",
        "Data Narrative: Classification Accuracy above 95%\n",
        "Decision Tree got the highest accuracy of 97.27"
      ]
    },
    {
      "cell_type": "code",
      "metadata": {
        "colab": {
          "base_uri": "https://localhost:8080/",
          "height": 1000
        },
        "id": "EYSf0ekGua7X",
        "outputId": "e1bc17fb-8322-4e82-96e1-d2bd93b8030f"
      },
      "source": [
        "X_train, X_test, y_train, y_test = train_test_split(X, y, test_size=0.30)\n",
        "\n",
        "names = [\"Decision Tree\", \"MLP Neural Net\"]\n",
        "\n",
        "classifiers = [\n",
        "    DecisionTreeClassifier(max_depth=6),\n",
        "    MLPClassifier(solver='sgd',alpha=1, max_iter=1000)\n",
        "    ]\n",
        "output = pd.DataFrame(columns=['classifier', 'mae', 'mse', 'Rsquared', 'accuracy'])\n",
        "\n",
        "max_score = 0.0\n",
        "max_class = ''\n",
        "# iterate over classifiers\n",
        "\n",
        "for name, clf in zip(names, classifiers):\n",
        "    # start_time = time()\n",
        "    clf.fit(X_train, y_train)\n",
        "    y_predict = clf.predict(X_test)\n",
        "    # score = 100.0 * clf.score(X_test, y_test)\n",
        "\n",
        "    score = metrics.accuracy_score(y_test, y_predict)\n",
        "    print(\"accuracy:   %0.3f\" % score)\n",
        "    print(metrics.classification_report(y_test, y_predict))\n",
        "    plot_confusion_matrix(clf, X_test, y_test) \n",
        "\n",
        "    mae = np.round(metrics.mean_absolute_error(y_test, y_predict), 2)\n",
        "    mse = np.round(metrics.mean_squared_error(y_test, y_predict), 2)\n",
        "    rsquared = np.round(metrics.r2_score(y_test, y_predict), 2)\n",
        "    output = output.append({'classifier': name, 'mae':mae, 'mse':mse,'Rsquared':rsquared, 'accuracy':score}, ignore_index=True)\n",
        "  \n",
        "    print('Classifier = %s, Score (test, accuracy) = %.2f' %(name, score))\n",
        "    if score > max_score:\n",
        "        clf_best = clf\n",
        "        max_score = score\n",
        "        max_class = name\n",
        "\n",
        "print(80*'-' )\n",
        "print('Best --> Classifier = %s, Score (test, accuracy) = %.2f' %(max_class, max_score))\n",
        "\n",
        "display(output)"
      ],
      "execution_count": 225,
      "outputs": [
        {
          "output_type": "stream",
          "text": [
            "accuracy:   0.959\n",
            "              precision    recall  f1-score   support\n",
            "\n",
            "           0       0.99      0.98      0.99       326\n",
            "           1       0.96      0.89      0.93       178\n",
            "           2       0.93      1.00      0.96        40\n",
            "           3       0.91      0.95      0.93       101\n",
            "           4       0.94      0.97      0.95       271\n",
            "\n",
            "    accuracy                           0.96       916\n",
            "   macro avg       0.95      0.96      0.95       916\n",
            "weighted avg       0.96      0.96      0.96       916\n",
            "\n",
            "Classifier = Decision Tree, Score (test, accuracy) = 0.96\n",
            "accuracy:   0.973\n",
            "              precision    recall  f1-score   support\n",
            "\n",
            "           0       0.99      0.98      0.98       326\n",
            "           1       0.97      0.96      0.96       178\n",
            "           2       1.00      0.97      0.99        40\n",
            "           3       0.99      0.95      0.97       101\n",
            "           4       0.95      0.98      0.96       271\n",
            "\n",
            "    accuracy                           0.97       916\n",
            "   macro avg       0.98      0.97      0.97       916\n",
            "weighted avg       0.97      0.97      0.97       916\n",
            "\n",
            "Classifier = MLP Neural Net, Score (test, accuracy) = 0.97\n",
            "--------------------------------------------------------------------------------\n",
            "Best --> Classifier = MLP Neural Net, Score (test, accuracy) = 0.97\n"
          ],
          "name": "stdout"
        },
        {
          "output_type": "display_data",
          "data": {
            "text/html": [
              "<div>\n",
              "<style scoped>\n",
              "    .dataframe tbody tr th:only-of-type {\n",
              "        vertical-align: middle;\n",
              "    }\n",
              "\n",
              "    .dataframe tbody tr th {\n",
              "        vertical-align: top;\n",
              "    }\n",
              "\n",
              "    .dataframe thead th {\n",
              "        text-align: right;\n",
              "    }\n",
              "</style>\n",
              "<table border=\"1\" class=\"dataframe\">\n",
              "  <thead>\n",
              "    <tr style=\"text-align: right;\">\n",
              "      <th></th>\n",
              "      <th>classifier</th>\n",
              "      <th>mae</th>\n",
              "      <th>mse</th>\n",
              "      <th>Rsquared</th>\n",
              "      <th>accuracy</th>\n",
              "    </tr>\n",
              "  </thead>\n",
              "  <tbody>\n",
              "    <tr>\n",
              "      <th>0</th>\n",
              "      <td>Decision Tree</td>\n",
              "      <td>0.11</td>\n",
              "      <td>0.34</td>\n",
              "      <td>0.88</td>\n",
              "      <td>0.958515</td>\n",
              "    </tr>\n",
              "    <tr>\n",
              "      <th>1</th>\n",
              "      <td>MLP Neural Net</td>\n",
              "      <td>0.08</td>\n",
              "      <td>0.27</td>\n",
              "      <td>0.90</td>\n",
              "      <td>0.972707</td>\n",
              "    </tr>\n",
              "  </tbody>\n",
              "</table>\n",
              "</div>"
            ],
            "text/plain": [
              "       classifier   mae   mse  Rsquared  accuracy\n",
              "0   Decision Tree  0.11  0.34      0.88  0.958515\n",
              "1  MLP Neural Net  0.08  0.27      0.90  0.972707"
            ]
          },
          "metadata": {
            "tags": []
          }
        },
        {
          "output_type": "display_data",
          "data": {
            "image/png": "[encoded data removed]",
            "text/plain": [
              "<Figure size 432x288 with 2 Axes>"
            ]
          },
          "metadata": {
            "tags": [],
            "needs_background": "light"
          }
        },
        {
          "output_type": "display_data",
          "data": {
            "image/png": "[encoded data removed]",
            "text/plain": [
              "<Figure size 432x288 with 2 Axes>"
            ]
          },
          "metadata": {
            "tags": [],
            "needs_background": "light"
          }
        }
      ]
    },
    {
      "cell_type": "code",
      "metadata": {
        "colab": {
          "base_uri": "https://localhost:8080/",
          "height": 282
        },
        "id": "9nyAO_HuidJj",
        "outputId": "fb797e39-a8b9-4ef3-fc18-f5277a36b763"
      },
      "source": [
        "output.boxplot()"
      ],
      "execution_count": 226,
      "outputs": [
        {
          "output_type": "execute_result",
          "data": {
            "text/plain": [
              "<matplotlib.axes._subplots.AxesSubplot at 0x7fcb93a7ed90>"
            ]
          },
          "metadata": {
            "tags": []
          },
          "execution_count": 226
        },
        {
          "output_type": "display_data",
          "data": {
            "image/png": "[encoded data removed]",
            "text/plain": [
              "<Figure size 432x288 with 1 Axes>"
            ]
          },
          "metadata": {
            "tags": [],
            "needs_background": "light"
          }
        }
      ]
    },
    {
      "cell_type": "markdown",
      "metadata": {
        "id": "ZH1Xzhg0vQe9"
      },
      "source": [
        "## 2.3 DecisionTreeClassifier(max_depth=7),\n",
        "##     MLPClassifier(solver='lbfgs',alpha=1, max_iter=1000)\n",
        "Data Narrative: Classification Accuracy above 95%. MLP got the highest accuracy of 97.37%"
      ]
    },
    {
      "cell_type": "code",
      "metadata": {
        "colab": {
          "base_uri": "https://localhost:8080/",
          "height": 1000
        },
        "id": "TTgER6uov8A6",
        "outputId": "2efea44d-253f-4144-f02d-49603997018e"
      },
      "source": [
        "X_train, X_test, y_train, y_test = train_test_split(X, y, test_size=0.30)\n",
        "\n",
        "names = [\"Decision Tree\", \"MLP Neural Net\"]\n",
        "\n",
        "classifiers = [\n",
        "    DecisionTreeClassifier(max_depth=6),\n",
        "    MLPClassifier(solver='lbfgs',alpha=1, max_iter=1000)\n",
        "    ]\n",
        "output = pd.DataFrame(columns=['classifier', 'mae', 'mse', 'Rsquared', 'accuracy'])\n",
        "\n",
        "max_score = 0.0\n",
        "max_class = ''\n",
        "# iterate over classifiers\n",
        "\n",
        "for name, clf in zip(names, classifiers):\n",
        "    # start_time = time()\n",
        "    clf.fit(X_train, y_train)\n",
        "    y_predict = clf.predict(X_test)\n",
        "    # score = 100.0 * clf.score(X_test, y_test)\n",
        "\n",
        "    score = metrics.accuracy_score(y_test, y_predict)\n",
        "    print(\"accuracy:   %0.3f\" % score)\n",
        "    print(metrics.classification_report(y_test, y_predict))\n",
        "    plot_confusion_matrix(clf, X_test, y_test) \n",
        "\n",
        "    mae = np.round(metrics.mean_absolute_error(y_test, y_predict), 2)\n",
        "    mse = np.round(metrics.mean_squared_error(y_test, y_predict), 2)\n",
        "    rsquared = np.round(metrics.r2_score(y_test, y_predict), 2)\n",
        "    output = output.append({'classifier': name, 'mae':mae, 'mse':mse,'Rsquared':rsquared, 'accuracy':score}, ignore_index=True)\n",
        "  \n",
        "    print('Classifier = %s, Score (test, accuracy) = %.2f' %(name, score))\n",
        "    if score > max_score:\n",
        "        clf_best = clf\n",
        "        max_score = score\n",
        "        max_class = name\n",
        "\n",
        "print(80*'-' )\n",
        "print('Best --> Classifier = %s, Score (test, accuracy) = %.2f' %(max_class, max_score))\n",
        "\n",
        "display(output)"
      ],
      "execution_count": 227,
      "outputs": [
        {
          "output_type": "stream",
          "text": [
            "accuracy:   0.961\n",
            "              precision    recall  f1-score   support\n",
            "\n",
            "           0       0.99      0.98      0.98       308\n",
            "           1       0.96      0.96      0.96       155\n",
            "           2       0.91      1.00      0.95        53\n",
            "           3       0.90      0.89      0.90       107\n",
            "           4       0.97      0.96      0.96       293\n",
            "\n",
            "    accuracy                           0.96       916\n",
            "   macro avg       0.95      0.96      0.95       916\n",
            "weighted avg       0.96      0.96      0.96       916\n",
            "\n",
            "Classifier = Decision Tree, Score (test, accuracy) = 0.96\n",
            "accuracy:   0.974\n",
            "              precision    recall  f1-score   support\n",
            "\n",
            "           0       0.99      0.98      0.98       308\n",
            "           1       0.98      0.95      0.97       155\n",
            "           2       0.98      0.98      0.98        53\n",
            "           3       0.97      0.93      0.95       107\n",
            "           4       0.96      0.99      0.97       293\n",
            "\n",
            "    accuracy                           0.97       916\n",
            "   macro avg       0.98      0.97      0.97       916\n",
            "weighted avg       0.97      0.97      0.97       916\n",
            "\n",
            "Classifier = MLP Neural Net, Score (test, accuracy) = 0.97\n",
            "--------------------------------------------------------------------------------\n",
            "Best --> Classifier = MLP Neural Net, Score (test, accuracy) = 0.97\n"
          ],
          "name": "stdout"
        },
        {
          "output_type": "display_data",
          "data": {
            "text/html": [
              "<div>\n",
              "<style scoped>\n",
              "    .dataframe tbody tr th:only-of-type {\n",
              "        vertical-align: middle;\n",
              "    }\n",
              "\n",
              "    .dataframe tbody tr th {\n",
              "        vertical-align: top;\n",
              "    }\n",
              "\n",
              "    .dataframe thead th {\n",
              "        text-align: right;\n",
              "    }\n",
              "</style>\n",
              "<table border=\"1\" class=\"dataframe\">\n",
              "  <thead>\n",
              "    <tr style=\"text-align: right;\">\n",
              "      <th></th>\n",
              "      <th>classifier</th>\n",
              "      <th>mae</th>\n",
              "      <th>mse</th>\n",
              "      <th>Rsquared</th>\n",
              "      <th>accuracy</th>\n",
              "    </tr>\n",
              "  </thead>\n",
              "  <tbody>\n",
              "    <tr>\n",
              "      <th>0</th>\n",
              "      <td>Decision Tree</td>\n",
              "      <td>0.09</td>\n",
              "      <td>0.26</td>\n",
              "      <td>0.91</td>\n",
              "      <td>0.960699</td>\n",
              "    </tr>\n",
              "    <tr>\n",
              "      <th>1</th>\n",
              "      <td>MLP Neural Net</td>\n",
              "      <td>0.07</td>\n",
              "      <td>0.22</td>\n",
              "      <td>0.92</td>\n",
              "      <td>0.973799</td>\n",
              "    </tr>\n",
              "  </tbody>\n",
              "</table>\n",
              "</div>"
            ],
            "text/plain": [
              "       classifier   mae   mse  Rsquared  accuracy\n",
              "0   Decision Tree  0.09  0.26      0.91  0.960699\n",
              "1  MLP Neural Net  0.07  0.22      0.92  0.973799"
            ]
          },
          "metadata": {
            "tags": []
          }
        },
        {
          "output_type": "display_data",
          "data": {
            "image/png": "[encoded data removed]",
            "text/plain": [
              "<Figure size 432x288 with 2 Axes>"
            ]
          },
          "metadata": {
            "tags": [],
            "needs_background": "light"
          }
        },
        {
          "output_type": "display_data",
          "data": {
            "image/png": "[encoded data removed]",
            "text/plain": [
              "<Figure size 432x288 with 2 Axes>"
            ]
          },
          "metadata": {
            "tags": [],
            "needs_background": "light"
          }
        }
      ]
    },
    {
      "cell_type": "code",
      "metadata": {
        "colab": {
          "base_uri": "https://localhost:8080/",
          "height": 282
        },
        "id": "yInFlMwXZQvW",
        "outputId": "cef00898-241a-47d8-86fa-da14dad8da18"
      },
      "source": [
        "output.boxplot()"
      ],
      "execution_count": 228,
      "outputs": [
        {
          "output_type": "execute_result",
          "data": {
            "text/plain": [
              "<matplotlib.axes._subplots.AxesSubplot at 0x7fcb92ef5850>"
            ]
          },
          "metadata": {
            "tags": []
          },
          "execution_count": 228
        },
        {
          "output_type": "display_data",
          "data": {
            "image/png": "[encoded data removed]",
            "text/plain": [
              "<Figure size 432x288 with 1 Axes>"
            ]
          },
          "metadata": {
            "tags": [],
            "needs_background": "light"
          }
        }
      ]
    },
    {
      "cell_type": "code",
      "metadata": {
        "id": "NtsWLpSnfsD4"
      },
      "source": [
        ""
      ],
      "execution_count": null,
      "outputs": []
    },
    {
      "cell_type": "markdown",
      "metadata": {
        "id": "RrmFYFZBftWm"
      },
      "source": [
        "# 3. Using Autogloun Classification "
      ]
    },
    {
      "cell_type": "code",
      "metadata": {
        "colab": {
          "base_uri": "https://localhost:8080/",
          "height": 1000
        },
        "id": "HwrlW0nKgRqM",
        "outputId": "b0ab4f44-150b-4bce-f887-7ad18f25fb3d"
      },
      "source": [
        "# Uninstall mkl for faster neural-network training time\n",
        "!pip uninstall -y mkl\n",
        "# Upgrade pip to ensure the latest package versions are available\n",
        "!pip install -U pip\n",
        "!pip install -U \"mxnet<2.0.0\"\n",
        "!pip install autogluon\n",
        "!pip install -U ipykernel"
      ],
      "execution_count": 4,
      "outputs": [
        {
          "output_type": "stream",
          "text": [
            "Uninstalling mkl-2019.0:\n",
            "  Successfully uninstalled mkl-2019.0\n",
            "Collecting pip\n",
            "\u001b[?25l  Downloading https://files.pythonhosted.org/packages/fe/ef/60d7ba03b5c442309ef42e7d69959f73aacccd0d86008362a681c4698e83/pip-21.0.1-py3-none-any.whl (1.5MB)\n",
            "\u001b[K     |████████████████████████████████| 1.5MB 8.7MB/s \n",
            "\u001b[?25hInstalling collected packages: pip\n",
            "  Found existing installation: pip 19.3.1\n",
            "    Uninstalling pip-19.3.1:\n",
            "      Successfully uninstalled pip-19.3.1\n",
            "Successfully installed pip-21.0.1\n",
            "Collecting mxnet<2.0.0\n",
            "  Downloading mxnet-1.7.0.post2-py2.py3-none-manylinux2014_x86_64.whl (54.7 MB)\n",
            "\u001b[K     |████████████████████████████████| 54.7 MB 8.5 kB/s \n",
            "\u001b[?25hRequirement already satisfied: numpy<2.0.0,>1.16.0 in /usr/local/lib/python3.7/dist-packages (from mxnet<2.0.0) (1.19.5)\n",
            "Requirement already satisfied: requests<3,>=2.20.0 in /usr/local/lib/python3.7/dist-packages (from mxnet<2.0.0) (2.23.0)\n",
            "Collecting graphviz<0.9.0,>=0.8.1\n",
            "  Downloading graphviz-0.8.4-py2.py3-none-any.whl (16 kB)\n",
            "Requirement already satisfied: urllib3!=1.25.0,!=1.25.1,<1.26,>=1.21.1 in /usr/local/lib/python3.7/dist-packages (from requests<3,>=2.20.0->mxnet<2.0.0) (1.24.3)\n",
            "Requirement already satisfied: idna<3,>=2.5 in /usr/local/lib/python3.7/dist-packages (from requests<3,>=2.20.0->mxnet<2.0.0) (2.10)\n",
            "Requirement already satisfied: chardet<4,>=3.0.2 in /usr/local/lib/python3.7/dist-packages (from requests<3,>=2.20.0->mxnet<2.0.0) (3.0.4)\n",
            "Requirement already satisfied: certifi>=2017.4.17 in /usr/local/lib/python3.7/dist-packages (from requests<3,>=2.20.0->mxnet<2.0.0) (2020.12.5)\n",
            "Installing collected packages: graphviz, mxnet\n",
            "  Attempting uninstall: graphviz\n",
            "    Found existing installation: graphviz 0.10.1\n",
            "    Uninstalling graphviz-0.10.1:\n",
            "      Successfully uninstalled graphviz-0.10.1\n",
            "Successfully installed graphviz-0.8.4 mxnet-1.7.0.post2\n",
            "Collecting autogluon\n",
            "  Downloading autogluon-0.1.0-py3-none-any.whl (5.4 kB)\n",
            "Collecting autogluon.tabular[all]==0.1.0\n",
            "  Downloading autogluon.tabular-0.1.0-py3-none-any.whl (230 kB)\n",
            "\u001b[K     |████████████████████████████████| 230 kB 8.7 MB/s \n",
            "\u001b[?25hCollecting autogluon.core==0.1.0\n",
            "  Downloading autogluon.core-0.1.0-py3-none-any.whl (311 kB)\n",
            "\u001b[K     |████████████████████████████████| 311 kB 8.3 MB/s \n",
            "\u001b[?25hCollecting autogluon.vision==0.1.0\n",
            "  Downloading autogluon.vision-0.1.0-py3-none-any.whl (28 kB)\n",
            "Collecting autogluon.extra==0.1.0\n",
            "  Downloading autogluon.extra-0.1.0-py3-none-any.whl (23 kB)\n",
            "Collecting autogluon.mxnet==0.1.0\n",
            "  Downloading autogluon.mxnet-0.1.0-py3-none-any.whl (31 kB)\n",
            "Collecting autogluon.features==0.1.0\n",
            "  Downloading autogluon.features-0.1.0-py3-none-any.whl (48 kB)\n",
            "\u001b[K     |████████████████████████████████| 48 kB 6.7 MB/s \n",
            "\u001b[?25hCollecting autogluon.text==0.1.0\n",
            "  Downloading autogluon.text-0.1.0-py3-none-any.whl (48 kB)\n",
            "\u001b[K     |████████████████████████████████| 48 kB 6.1 MB/s \n",
            "\u001b[?25hRequirement already satisfied: scikit-learn<0.25,>=0.22.0 in /usr/local/lib/python3.7/dist-packages (from autogluon.core==0.1.0->autogluon) (0.22.2.post1)\n",
            "Requirement already satisfied: tqdm>=4.38.0 in /usr/local/lib/python3.7/dist-packages (from autogluon.core==0.1.0->autogluon) (4.41.1)\n",
            "Requirement already satisfied: matplotlib in /usr/local/lib/python3.7/dist-packages (from autogluon.core==0.1.0->autogluon) (3.2.2)\n",
            "Requirement already satisfied: cython in /usr/local/lib/python3.7/dist-packages (from autogluon.core==0.1.0->autogluon) (0.29.22)\n",
            "Requirement already satisfied: dask>=2.6.0 in /usr/local/lib/python3.7/dist-packages (from autogluon.core==0.1.0->autogluon) (2.12.0)\n",
            "Collecting boto3\n",
            "  Downloading boto3-1.17.22-py2.py3-none-any.whl (130 kB)\n",
            "\u001b[K     |████████████████████████████████| 130 kB 16.8 MB/s \n",
            "\u001b[?25hRequirement already satisfied: graphviz<0.9.0,>=0.8.1 in /usr/local/lib/python3.7/dist-packages (from autogluon.core==0.1.0->autogluon) (0.8.4)\n",
            "Requirement already satisfied: requests in /usr/local/lib/python3.7/dist-packages (from autogluon.core==0.1.0->autogluon) (2.23.0)\n",
            "Requirement already satisfied: numpy==1.19.5 in /usr/local/lib/python3.7/dist-packages (from autogluon.core==0.1.0->autogluon) (1.19.5)\n",
            "Collecting distributed>=2.6.0\n",
            "  Downloading distributed-2021.3.0-py3-none-any.whl (675 kB)\n",
            "\u001b[K     |████████████████████████████████| 675 kB 16.6 MB/s \n",
            "\u001b[?25hRequirement already satisfied: pandas<2.0,>=1.0.0 in /usr/local/lib/python3.7/dist-packages (from autogluon.core==0.1.0->autogluon) (1.1.5)\n",
            "Requirement already satisfied: autograd>=1.3 in /usr/local/lib/python3.7/dist-packages (from autogluon.core==0.1.0->autogluon) (1.3)\n",
            "Collecting scipy==1.5.4\n",
            "  Downloading scipy-1.5.4-cp37-cp37m-manylinux1_x86_64.whl (25.9 MB)\n",
            "\u001b[K     |████████████████████████████████| 25.9 MB 89.3 MB/s \n",
            "\u001b[?25hCollecting ConfigSpace==0.4.18\n",
            "  Downloading ConfigSpace-0.4.18.tar.gz (950 kB)\n",
            "\u001b[K     |████████████████████████████████| 950 kB 81.9 MB/s \n",
            "\u001b[?25h  Installing build dependencies ... \u001b[?25l\u001b[?25hdone\n",
            "  Getting requirements to build wheel ... \u001b[?25l\u001b[?25hdone\n",
            "    Preparing wheel metadata ... \u001b[?25l\u001b[?25hdone\n",
            "Collecting paramiko>=2.4\n",
            "  Downloading paramiko-2.7.2-py2.py3-none-any.whl (206 kB)\n",
            "\u001b[K     |████████████████████████████████| 206 kB 68.1 MB/s \n",
            "\u001b[?25hRequirement already satisfied: dill==0.3.3 in /usr/local/lib/python3.7/dist-packages (from autogluon.core==0.1.0->autogluon) (0.3.3)\n",
            "Requirement already satisfied: tornado>=5.0.1 in /usr/local/lib/python3.7/dist-packages (from autogluon.core==0.1.0->autogluon) (5.1.1)\n",
            "Collecting gluoncv<0.11.0,>=0.9.4\n",
            "  Downloading gluoncv-0.9.4.post1-py3-none-any.whl (1.1 MB)\n",
            "\u001b[K     |████████████████████████████████| 1.1 MB 54.2 MB/s \n",
            "\u001b[?25hRequirement already satisfied: bokeh in /usr/local/lib/python3.7/dist-packages (from autogluon.extra==0.1.0->autogluon) (2.1.1)\n",
            "Requirement already satisfied: pytest in /usr/local/lib/python3.7/dist-packages (from autogluon.extra==0.1.0->autogluon) (3.6.4)\n",
            "Collecting openml\n",
            "  Downloading openml-0.11.0.tar.gz (110 kB)\n",
            "\u001b[K     |████████████████████████████████| 110 kB 90.9 MB/s \n",
            "\u001b[?25hRequirement already satisfied: Pillow<=8.1 in /usr/local/lib/python3.7/dist-packages (from autogluon.mxnet==0.1.0->autogluon) (7.0.0)\n",
            "Requirement already satisfied: psutil<=5.7.0,>=5.0.0 in /usr/local/lib/python3.7/dist-packages (from autogluon.tabular[all]==0.1.0->autogluon) (5.4.8)\n",
            "Requirement already satisfied: networkx<3.0,>=2.3 in /usr/local/lib/python3.7/dist-packages (from autogluon.tabular[all]==0.1.0->autogluon) (2.5)\n",
            "Collecting lightgbm<4.0,>=3.0\n",
            "  Downloading lightgbm-3.1.1-py2.py3-none-manylinux1_x86_64.whl (1.8 MB)\n",
            "\u001b[K     |████████████████████████████████| 1.8 MB 64.8 MB/s \n",
            "\u001b[?25hRequirement already satisfied: torch<2.0,>=1.0 in /usr/local/lib/python3.7/dist-packages (from autogluon.tabular[all]==0.1.0->autogluon) (1.8.0+cu101)\n",
            "Collecting xgboost<1.4,>=1.3.2\n",
            "  Downloading xgboost-1.3.3-py3-none-manylinux2010_x86_64.whl (157.5 MB)\n",
            "\u001b[K     |████████████████████████████████| 157.5 MB 61 kB/s \n",
            "\u001b[?25hRequirement already satisfied: fastai<2.0,>=1.0 in /usr/local/lib/python3.7/dist-packages (from autogluon.tabular[all]==0.1.0->autogluon) (1.0.61)\n",
            "Collecting catboost<0.25,>=0.23.0\n",
            "  Downloading catboost-0.24.4-cp37-none-manylinux1_x86_64.whl (65.7 MB)\n",
            "\u001b[K     |████████████████████████████████| 65.7 MB 12 kB/s \n",
            "\u001b[?25hCollecting autogluon-contrib-nlp==0.0.1b20210201\n",
            "  Downloading autogluon_contrib_nlp-0.0.1b20210201-py3-none-any.whl (157 kB)\n",
            "\u001b[K     |████████████████████████████████| 157 kB 64.9 MB/s \n",
            "\u001b[?25hRequirement already satisfied: pyarrow>=3.0.0 in /usr/local/lib/python3.7/dist-packages (from autogluon.text==0.1.0->autogluon) (3.0.0)\n",
            "Collecting tokenizers==0.9.4\n",
            "  Downloading tokenizers-0.9.4-cp37-cp37m-manylinux2010_x86_64.whl (2.9 MB)\n",
            "\u001b[K     |████████████████████████████████| 2.9 MB 52.9 MB/s \n",
            "\u001b[?25hRequirement already satisfied: regex in /usr/local/lib/python3.7/dist-packages (from autogluon-contrib-nlp==0.0.1b20210201->autogluon.text==0.1.0->autogluon) (2019.12.20)\n",
            "Collecting sacrebleu\n",
            "  Downloading sacrebleu-1.5.1-py3-none-any.whl (54 kB)\n",
            "\u001b[K     |████████████████████████████████| 54 kB 4.1 MB/s \n",
            "\u001b[?25hCollecting contextvars\n",
            "  Downloading contextvars-2.4.tar.gz (9.6 kB)\n",
            "Collecting sacremoses>=0.0.38\n",
            "  Downloading sacremoses-0.0.43.tar.gz (883 kB)\n",
            "\u001b[K     |████████████████████████████████| 883 kB 62.0 MB/s \n",
            "\u001b[?25hCollecting sentencepiece==0.1.95\n",
            "  Downloading sentencepiece-0.1.95-cp37-cp37m-manylinux2014_x86_64.whl (1.2 MB)\n",
            "\u001b[K     |████████████████████████████████| 1.2 MB 50.7 MB/s \n",
            "\u001b[?25hCollecting yacs>=0.1.6\n",
            "  Downloading yacs-0.1.8-py3-none-any.whl (14 kB)\n",
            "Requirement already satisfied: protobuf in /usr/local/lib/python3.7/dist-packages (from autogluon-contrib-nlp==0.0.1b20210201->autogluon.text==0.1.0->autogluon) (3.12.4)\n",
            "Collecting flake8\n",
            "  Downloading flake8-3.8.4-py2.py3-none-any.whl (72 kB)\n",
            "\u001b[K     |████████████████████████████████| 72 kB 1.9 MB/s \n",
            "\u001b[?25hCollecting d8<1.0,>=0.0.2\n",
            "  Downloading d8-0.0.2.post0-py3-none-any.whl (28 kB)\n",
            "Requirement already satisfied: pyparsing in /usr/local/lib/python3.7/dist-packages (from ConfigSpace==0.4.18->autogluon.core==0.1.0->autogluon) (2.4.7)\n",
            "Requirement already satisfied: future>=0.15.2 in /usr/local/lib/python3.7/dist-packages (from autograd>=1.3->autogluon.core==0.1.0->autogluon) (0.16.0)\n",
            "Requirement already satisfied: plotly in /usr/local/lib/python3.7/dist-packages (from catboost<0.25,>=0.23.0->autogluon.tabular[all]==0.1.0->autogluon) (4.4.1)\n",
            "Requirement already satisfied: six in /usr/local/lib/python3.7/dist-packages (from catboost<0.25,>=0.23.0->autogluon.tabular[all]==0.1.0->autogluon) (1.15.0)\n",
            "Requirement already satisfied: kaggle in /usr/local/lib/python3.7/dist-packages (from d8<1.0,>=0.0.2->autogluon.vision==0.1.0->autogluon) (1.5.10)\n",
            "Collecting xxhash\n",
            "  Downloading xxhash-2.0.0-cp37-cp37m-manylinux2010_x86_64.whl (243 kB)\n",
            "\u001b[K     |████████████████████████████████| 243 kB 67.4 MB/s \n",
            "\u001b[?25hRequirement already satisfied: msgpack>=0.6.0 in /usr/local/lib/python3.7/dist-packages (from distributed>=2.6.0->autogluon.core==0.1.0->autogluon) (1.0.2)\n",
            "Requirement already satisfied: click>=6.6 in /usr/local/lib/python3.7/dist-packages (from distributed>=2.6.0->autogluon.core==0.1.0->autogluon) (7.1.2)\n",
            "Requirement already satisfied: toolz>=0.8.2 in /usr/local/lib/python3.7/dist-packages (from distributed>=2.6.0->autogluon.core==0.1.0->autogluon) (0.11.1)\n",
            "Requirement already satisfied: zict>=0.1.3 in /usr/local/lib/python3.7/dist-packages (from distributed>=2.6.0->autogluon.core==0.1.0->autogluon) (2.0.0)\n",
            "Collecting dask>=2.6.0\n",
            "  Downloading dask-2021.3.0-py3-none-any.whl (925 kB)\n",
            "\u001b[K     |████████████████████████████████| 925 kB 56.9 MB/s \n",
            "\u001b[?25hCollecting cloudpickle>=1.5.0\n",
            "  Downloading cloudpickle-1.6.0-py3-none-any.whl (23 kB)\n",
            "Requirement already satisfied: pyyaml in /usr/local/lib/python3.7/dist-packages (from distributed>=2.6.0->autogluon.core==0.1.0->autogluon) (3.13)\n",
            "Requirement already satisfied: setuptools in /usr/local/lib/python3.7/dist-packages (from distributed>=2.6.0->autogluon.core==0.1.0->autogluon) (54.0.0)\n",
            "Requirement already satisfied: tblib>=1.6.0 in /usr/local/lib/python3.7/dist-packages (from distributed>=2.6.0->autogluon.core==0.1.0->autogluon) (1.7.0)\n",
            "Requirement already satisfied: sortedcontainers!=2.0.0,!=2.0.1 in /usr/local/lib/python3.7/dist-packages (from distributed>=2.6.0->autogluon.core==0.1.0->autogluon) (2.3.0)\n",
            "Requirement already satisfied: packaging in /usr/local/lib/python3.7/dist-packages (from fastai<2.0,>=1.0->autogluon.tabular[all]==0.1.0->autogluon) (20.9)\n",
            "Requirement already satisfied: torchvision in /usr/local/lib/python3.7/dist-packages (from fastai<2.0,>=1.0->autogluon.tabular[all]==0.1.0->autogluon) (0.9.0+cu101)\n",
            "Requirement already satisfied: fastprogress>=0.2.1 in /usr/local/lib/python3.7/dist-packages (from fastai<2.0,>=1.0->autogluon.tabular[all]==0.1.0->autogluon) (1.0.0)\n",
            "Requirement already satisfied: spacy>=2.0.18 in /usr/local/lib/python3.7/dist-packages (from fastai<2.0,>=1.0->autogluon.tabular[all]==0.1.0->autogluon) (2.2.4)\n",
            "Requirement already satisfied: beautifulsoup4 in /usr/local/lib/python3.7/dist-packages (from fastai<2.0,>=1.0->autogluon.tabular[all]==0.1.0->autogluon) (4.6.3)\n",
            "Requirement already satisfied: nvidia-ml-py3 in /usr/local/lib/python3.7/dist-packages (from fastai<2.0,>=1.0->autogluon.tabular[all]==0.1.0->autogluon) (7.352.0)\n",
            "Requirement already satisfied: numexpr in /usr/local/lib/python3.7/dist-packages (from fastai<2.0,>=1.0->autogluon.tabular[all]==0.1.0->autogluon) (2.7.3)\n",
            "Requirement already satisfied: bottleneck in /usr/local/lib/python3.7/dist-packages (from fastai<2.0,>=1.0->autogluon.tabular[all]==0.1.0->autogluon) (1.3.2)\n",
            "Collecting portalocker\n",
            "  Downloading portalocker-2.2.1-py2.py3-none-any.whl (15 kB)\n",
            "Collecting decord\n",
            "  Downloading decord-0.5.2-py3-none-manylinux2010_x86_64.whl (14.1 MB)\n",
            "\u001b[K     |████████████████████████████████| 14.1 MB 64 kB/s \n",
            "\u001b[?25hCollecting autocfg\n",
            "  Downloading autocfg-0.0.8-py3-none-any.whl (13 kB)\n",
            "Collecting tensorboardx\n",
            "  Downloading tensorboardX-2.1-py2.py3-none-any.whl (308 kB)\n",
            "\u001b[K     |████████████████████████████████| 308 kB 75.6 MB/s \n",
            "\u001b[?25hRequirement already satisfied: opencv-python in /usr/local/lib/python3.7/dist-packages (from gluoncv<0.11.0,>=0.9.4->autogluon.extra==0.1.0->autogluon) (4.1.2.30)\n",
            "Requirement already satisfied: wheel in /usr/local/lib/python3.7/dist-packages (from lightgbm<4.0,>=3.0->autogluon.tabular[all]==0.1.0->autogluon) (0.36.2)\n",
            "Requirement already satisfied: decorator>=4.3.0 in /usr/local/lib/python3.7/dist-packages (from networkx<3.0,>=2.3->autogluon.tabular[all]==0.1.0->autogluon) (4.4.2)\n",
            "Requirement already satisfied: python-dateutil>=2.7.3 in /usr/local/lib/python3.7/dist-packages (from pandas<2.0,>=1.0.0->autogluon.core==0.1.0->autogluon) (2.8.1)\n",
            "Requirement already satisfied: pytz>=2017.2 in /usr/local/lib/python3.7/dist-packages (from pandas<2.0,>=1.0.0->autogluon.core==0.1.0->autogluon) (2018.9)\n",
            "Collecting bcrypt>=3.1.3\n",
            "  Downloading bcrypt-3.2.0-cp36-abi3-manylinux2010_x86_64.whl (63 kB)\n",
            "\u001b[K     |████████████████████████████████| 63 kB 3.6 MB/s \n",
            "\u001b[?25hCollecting pynacl>=1.0.1\n",
            "  Downloading PyNaCl-1.4.0-cp35-abi3-manylinux1_x86_64.whl (961 kB)\n",
            "\u001b[K     |████████████████████████████████| 961 kB 66.9 MB/s \n",
            "\u001b[?25hCollecting cryptography>=2.5\n",
            "  Downloading cryptography-3.4.6-cp36-abi3-manylinux2014_x86_64.whl (3.2 MB)\n",
            "\u001b[K     |████████████████████████████████| 3.2 MB 56.7 MB/s \n",
            "\u001b[?25hRequirement already satisfied: cffi>=1.1 in /usr/local/lib/python3.7/dist-packages (from bcrypt>=3.1.3->paramiko>=2.4->autogluon.core==0.1.0->autogluon) (1.14.5)\n",
            "Requirement already satisfied: pycparser in /usr/local/lib/python3.7/dist-packages (from cffi>=1.1->bcrypt>=3.1.3->paramiko>=2.4->autogluon.core==0.1.0->autogluon) (2.20)\n",
            "Requirement already satisfied: joblib in /usr/local/lib/python3.7/dist-packages (from sacremoses>=0.0.38->autogluon-contrib-nlp==0.0.1b20210201->autogluon.text==0.1.0->autogluon) (1.0.1)\n",
            "Requirement already satisfied: catalogue<1.1.0,>=0.0.7 in /usr/local/lib/python3.7/dist-packages (from spacy>=2.0.18->fastai<2.0,>=1.0->autogluon.tabular[all]==0.1.0->autogluon) (1.0.0)\n",
            "Requirement already satisfied: preshed<3.1.0,>=3.0.2 in /usr/local/lib/python3.7/dist-packages (from spacy>=2.0.18->fastai<2.0,>=1.0->autogluon.tabular[all]==0.1.0->autogluon) (3.0.5)\n",
            "Requirement already satisfied: plac<1.2.0,>=0.9.6 in /usr/local/lib/python3.7/dist-packages (from spacy>=2.0.18->fastai<2.0,>=1.0->autogluon.tabular[all]==0.1.0->autogluon) (1.1.3)\n",
            "Requirement already satisfied: thinc==7.4.0 in /usr/local/lib/python3.7/dist-packages (from spacy>=2.0.18->fastai<2.0,>=1.0->autogluon.tabular[all]==0.1.0->autogluon) (7.4.0)\n",
            "Requirement already satisfied: murmurhash<1.1.0,>=0.28.0 in /usr/local/lib/python3.7/dist-packages (from spacy>=2.0.18->fastai<2.0,>=1.0->autogluon.tabular[all]==0.1.0->autogluon) (1.0.5)\n",
            "Requirement already satisfied: blis<0.5.0,>=0.4.0 in /usr/local/lib/python3.7/dist-packages (from spacy>=2.0.18->fastai<2.0,>=1.0->autogluon.tabular[all]==0.1.0->autogluon) (0.4.1)\n",
            "Requirement already satisfied: srsly<1.1.0,>=1.0.2 in /usr/local/lib/python3.7/dist-packages (from spacy>=2.0.18->fastai<2.0,>=1.0->autogluon.tabular[all]==0.1.0->autogluon) (1.0.5)\n",
            "Requirement already satisfied: wasabi<1.1.0,>=0.4.0 in /usr/local/lib/python3.7/dist-packages (from spacy>=2.0.18->fastai<2.0,>=1.0->autogluon.tabular[all]==0.1.0->autogluon) (0.8.2)\n",
            "Requirement already satisfied: cymem<2.1.0,>=2.0.2 in /usr/local/lib/python3.7/dist-packages (from spacy>=2.0.18->fastai<2.0,>=1.0->autogluon.tabular[all]==0.1.0->autogluon) (2.0.5)\n",
            "Requirement already satisfied: importlib-metadata>=0.20 in /usr/local/lib/python3.7/dist-packages (from catalogue<1.1.0,>=0.0.7->spacy>=2.0.18->fastai<2.0,>=1.0->autogluon.tabular[all]==0.1.0->autogluon) (3.7.0)\n",
            "Requirement already satisfied: zipp>=0.5 in /usr/local/lib/python3.7/dist-packages (from importlib-metadata>=0.20->catalogue<1.1.0,>=0.0.7->spacy>=2.0.18->fastai<2.0,>=1.0->autogluon.tabular[all]==0.1.0->autogluon) (3.4.1)\n",
            "Requirement already satisfied: typing-extensions>=3.6.4 in /usr/local/lib/python3.7/dist-packages (from importlib-metadata>=0.20->catalogue<1.1.0,>=0.0.7->spacy>=2.0.18->fastai<2.0,>=1.0->autogluon.tabular[all]==0.1.0->autogluon) (3.7.4.3)\n",
            "Requirement already satisfied: idna<3,>=2.5 in /usr/local/lib/python3.7/dist-packages (from requests->autogluon.core==0.1.0->autogluon) (2.10)\n",
            "Requirement already satisfied: urllib3!=1.25.0,!=1.25.1,<1.26,>=1.21.1 in /usr/local/lib/python3.7/dist-packages (from requests->autogluon.core==0.1.0->autogluon) (1.24.3)\n",
            "Requirement already satisfied: certifi>=2017.4.17 in /usr/local/lib/python3.7/dist-packages (from requests->autogluon.core==0.1.0->autogluon) (2020.12.5)\n",
            "Requirement already satisfied: chardet<4,>=3.0.2 in /usr/local/lib/python3.7/dist-packages (from requests->autogluon.core==0.1.0->autogluon) (3.0.4)\n",
            "Requirement already satisfied: heapdict in /usr/local/lib/python3.7/dist-packages (from zict>=0.1.3->distributed>=2.6.0->autogluon.core==0.1.0->autogluon) (1.0.1)\n",
            "Requirement already satisfied: Jinja2>=2.7 in /usr/local/lib/python3.7/dist-packages (from bokeh->autogluon.extra==0.1.0->autogluon) (2.11.3)\n",
            "Requirement already satisfied: MarkupSafe>=0.23 in /usr/local/lib/python3.7/dist-packages (from Jinja2>=2.7->bokeh->autogluon.extra==0.1.0->autogluon) (1.1.1)\n",
            "Collecting s3transfer<0.4.0,>=0.3.0\n",
            "  Downloading s3transfer-0.3.4-py2.py3-none-any.whl (69 kB)\n",
            "\u001b[K     |████████████████████████████████| 69 kB 10.1 MB/s \n",
            "\u001b[?25hCollecting botocore<1.21.0,>=1.20.22\n",
            "  Downloading botocore-1.20.22-py2.py3-none-any.whl (7.3 MB)\n",
            "\u001b[K     |████████████████████████████████| 7.3 MB 13.4 MB/s \n",
            "\u001b[?25hCollecting jmespath<1.0.0,>=0.7.1\n",
            "  Downloading jmespath-0.10.0-py2.py3-none-any.whl (24 kB)\n",
            "Collecting urllib3!=1.25.0,!=1.25.1,<1.26,>=1.21.1\n",
            "  Downloading urllib3-1.25.11-py2.py3-none-any.whl (127 kB)\n",
            "\u001b[K     |████████████████████████████████| 127 kB 91.1 MB/s \n",
            "\u001b[?25hCollecting immutables>=0.9\n",
            "  Downloading immutables-0.15-cp37-cp37m-manylinux1_x86_64.whl (101 kB)\n",
            "\u001b[K     |████████████████████████████████| 101 kB 15.9 MB/s \n",
            "\u001b[?25hCollecting mccabe<0.7.0,>=0.6.0\n",
            "  Downloading mccabe-0.6.1-py2.py3-none-any.whl (8.6 kB)\n",
            "Collecting pyflakes<2.3.0,>=2.2.0\n",
            "  Downloading pyflakes-2.2.0-py2.py3-none-any.whl (66 kB)\n",
            "\u001b[K     |████████████████████████████████| 66 kB 7.8 MB/s \n",
            "\u001b[?25hCollecting pycodestyle<2.7.0,>=2.6.0a1\n",
            "  Downloading pycodestyle-2.6.0-py2.py3-none-any.whl (41 kB)\n",
            "\u001b[K     |████████████████████████████████| 41 kB 470 kB/s \n",
            "\u001b[?25hRequirement already satisfied: python-slugify in /usr/local/lib/python3.7/dist-packages (from kaggle->d8<1.0,>=0.0.2->autogluon.vision==0.1.0->autogluon) (4.0.1)\n",
            "Requirement already satisfied: kiwisolver>=1.0.1 in /usr/local/lib/python3.7/dist-packages (from matplotlib->autogluon.core==0.1.0->autogluon) (1.3.1)\n",
            "Requirement already satisfied: cycler>=0.10 in /usr/local/lib/python3.7/dist-packages (from matplotlib->autogluon.core==0.1.0->autogluon) (0.10.0)\n",
            "Collecting liac-arff>=2.4.0\n",
            "  Downloading liac-arff-2.5.0.tar.gz (13 kB)\n",
            "Collecting xmltodict\n",
            "  Downloading xmltodict-0.12.0-py2.py3-none-any.whl (9.2 kB)\n",
            "Requirement already satisfied: retrying>=1.3.3 in /usr/local/lib/python3.7/dist-packages (from plotly->catboost<0.25,>=0.23.0->autogluon.tabular[all]==0.1.0->autogluon) (1.3.3)\n",
            "Requirement already satisfied: more-itertools>=4.0.0 in /usr/local/lib/python3.7/dist-packages (from pytest->autogluon.extra==0.1.0->autogluon) (8.7.0)\n",
            "Requirement already satisfied: attrs>=17.4.0 in /usr/local/lib/python3.7/dist-packages (from pytest->autogluon.extra==0.1.0->autogluon) (20.3.0)\n",
            "Requirement already satisfied: pluggy<0.8,>=0.5 in /usr/local/lib/python3.7/dist-packages (from pytest->autogluon.extra==0.1.0->autogluon) (0.7.1)\n",
            "Requirement already satisfied: py>=1.5.0 in /usr/local/lib/python3.7/dist-packages (from pytest->autogluon.extra==0.1.0->autogluon) (1.10.0)\n",
            "Requirement already satisfied: atomicwrites>=1.0 in /usr/local/lib/python3.7/dist-packages (from pytest->autogluon.extra==0.1.0->autogluon) (1.4.0)\n",
            "Requirement already satisfied: text-unidecode>=1.3 in /usr/local/lib/python3.7/dist-packages (from python-slugify->kaggle->d8<1.0,>=0.0.2->autogluon.vision==0.1.0->autogluon) (1.3)\n",
            "Collecting portalocker\n",
            "  Downloading portalocker-2.0.0-py2.py3-none-any.whl (11 kB)\n",
            "Building wheels for collected packages: ConfigSpace, sacremoses, contextvars, openml, liac-arff\n",
            "  Building wheel for ConfigSpace (PEP 517) ... \u001b[?25l\u001b[?25hdone\n",
            "  Created wheel for ConfigSpace: filename=ConfigSpace-0.4.18-cp37-cp37m-linux_x86_64.whl size=2880007 sha256=99ce44de09401a67dffb4223ef2152e5da9f9979872956cedc190da1454864b5\n",
            "  Stored in directory: /root/.cache/pip/wheels/36/f7/0f/36f368c419ea1a8024fc3d6c078c3111dfef43fa1d14cfebe0\n",
            "  Building wheel for sacremoses (setup.py) ... \u001b[?25l\u001b[?25hdone\n",
            "  Created wheel for sacremoses: filename=sacremoses-0.0.43-py3-none-any.whl size=893258 sha256=96366f6ec9f8d341cc1306d828ad1e57d8622b3533e04172a9a86d264244284c\n",
            "  Stored in directory: /root/.cache/pip/wheels/69/09/d1/bf058f7d6fa0ecba2ce7c66be3b8d012beb4bf61a6e0c101c0\n",
            "  Building wheel for contextvars (setup.py) ... \u001b[?25l\u001b[?25hdone\n",
            "  Created wheel for contextvars: filename=contextvars-2.4-py3-none-any.whl size=7665 sha256=1f06a3f56c93aa38aa4d4cc19945682743da1057a13270dcbdc3b40ed7c21184\n",
            "  Stored in directory: /root/.cache/pip/wheels/0a/11/79/e70e668095c0bb1f94718af672ef2d35ee7a023fee56ef54d9\n",
            "  Building wheel for openml (setup.py) ... \u001b[?25l\u001b[?25hdone\n",
            "  Created wheel for openml: filename=openml-0.11.0-py3-none-any.whl size=127467 sha256=28e4411296cdec40d3f4add6765e56f19805bb903dee81b84bceac8354b513b9\n",
            "  Stored in directory: /root/.cache/pip/wheels/ef/fb/e8/723bdd14d02172ed4322b0cf6efcde4466069339e1c4fddc60\n",
            "  Building wheel for liac-arff (setup.py) ... \u001b[?25l\u001b[?25hdone\n",
            "  Created wheel for liac-arff: filename=liac_arff-2.5.0-py3-none-any.whl size=11731 sha256=ee3accd27e1700fd7bd46a8eb205be6e5b3d081a00e0d49d398862e7fe441d10\n",
            "  Stored in directory: /root/.cache/pip/wheels/1f/0f/15/332ca86cbebf25ddf98518caaf887945fbe1712b97a0f2493b\n",
            "Successfully built ConfigSpace sacremoses contextvars openml liac-arff\n",
            "Installing collected packages: urllib3, jmespath, botocore, scipy, s3transfer, pynacl, dask, cryptography, cloudpickle, bcrypt, paramiko, distributed, ConfigSpace, boto3, xmltodict, pyflakes, pycodestyle, portalocker, mccabe, liac-arff, immutables, autogluon.core, yacs, xxhash, tokenizers, tensorboardx, sentencepiece, sacremoses, sacrebleu, openml, flake8, decord, contextvars, autogluon.features, autocfg, xgboost, lightgbm, gluoncv, d8, catboost, autogluon.tabular, autogluon.mxnet, autogluon-contrib-nlp, autogluon.vision, autogluon.text, autogluon.extra, autogluon\n",
            "  Attempting uninstall: urllib3\n",
            "    Found existing installation: urllib3 1.24.3\n",
            "    Uninstalling urllib3-1.24.3:\n",
            "      Successfully uninstalled urllib3-1.24.3\n",
            "  Attempting uninstall: scipy\n",
            "    Found existing installation: scipy 1.4.1\n",
            "    Uninstalling scipy-1.4.1:\n",
            "      Successfully uninstalled scipy-1.4.1\n",
            "  Attempting uninstall: dask\n",
            "    Found existing installation: dask 2.12.0\n",
            "    Uninstalling dask-2.12.0:\n",
            "      Successfully uninstalled dask-2.12.0\n",
            "  Attempting uninstall: cloudpickle\n",
            "    Found existing installation: cloudpickle 1.3.0\n",
            "    Uninstalling cloudpickle-1.3.0:\n",
            "      Successfully uninstalled cloudpickle-1.3.0\n",
            "  Attempting uninstall: distributed\n",
            "    Found existing installation: distributed 1.25.3\n",
            "    Uninstalling distributed-1.25.3:\n",
            "      Successfully uninstalled distributed-1.25.3\n",
            "  Attempting uninstall: xgboost\n",
            "    Found existing installation: xgboost 0.90\n",
            "    Uninstalling xgboost-0.90:\n",
            "      Successfully uninstalled xgboost-0.90\n",
            "  Attempting uninstall: lightgbm\n",
            "    Found existing installation: lightgbm 2.2.3\n",
            "    Uninstalling lightgbm-2.2.3:\n",
            "      Successfully uninstalled lightgbm-2.2.3\n",
            "\u001b[31mERROR: pip's dependency resolver does not currently take into account all the packages that are installed. This behaviour is the source of the following dependency conflicts.\n",
            "datascience 0.10.6 requires folium==0.2.1, but you have folium 0.8.3 which is incompatible.\n",
            "albumentations 0.1.12 requires imgaug<0.2.7,>=0.2.5, but you have imgaug 0.2.9 which is incompatible.\u001b[0m\n",
            "Successfully installed ConfigSpace-0.4.18 autocfg-0.0.8 autogluon-0.1.0 autogluon-contrib-nlp-0.0.1b20210201 autogluon.core-0.1.0 autogluon.extra-0.1.0 autogluon.features-0.1.0 autogluon.mxnet-0.1.0 autogluon.tabular-0.1.0 autogluon.text-0.1.0 autogluon.vision-0.1.0 bcrypt-3.2.0 boto3-1.17.22 botocore-1.20.22 catboost-0.24.4 cloudpickle-1.6.0 contextvars-2.4 cryptography-3.4.6 d8-0.0.2.post0 dask-2021.3.0 decord-0.5.2 distributed-2021.3.0 flake8-3.8.4 gluoncv-0.9.4.post1 immutables-0.15 jmespath-0.10.0 liac-arff-2.5.0 lightgbm-3.1.1 mccabe-0.6.1 openml-0.11.0 paramiko-2.7.2 portalocker-2.0.0 pycodestyle-2.6.0 pyflakes-2.2.0 pynacl-1.4.0 s3transfer-0.3.4 sacrebleu-1.5.1 sacremoses-0.0.43 scipy-1.5.4 sentencepiece-0.1.95 tensorboardx-2.1 tokenizers-0.9.4 urllib3-1.25.11 xgboost-1.3.3 xmltodict-0.12.0 xxhash-2.0.0 yacs-0.1.8\n"
          ],
          "name": "stdout"
        },
        {
          "output_type": "display_data",
          "data": {
            "application/vnd.colab-display-data+json": {
              "pip_warning": {
                "packages": [
                  "contextvars",
                  "numpy"
                ]
              }
            }
          },
          "metadata": {
            "tags": []
          }
        },
        {
          "output_type": "stream",
          "text": [
            "Requirement already satisfied: ipykernel in /usr/local/lib/python3.7/dist-packages (4.10.1)\n",
            "Collecting ipykernel\n",
            "  Downloading ipykernel-5.5.0-py3-none-any.whl (120 kB)\n",
            "\u001b[K     |████████████████████████████████| 120 kB 8.4 MB/s \n",
            "\u001b[?25hRequirement already satisfied: traitlets>=4.1.0 in /usr/local/lib/python3.7/dist-packages (from ipykernel) (5.0.5)\n",
            "Requirement already satisfied: ipython>=5.0.0 in /usr/local/lib/python3.7/dist-packages (from ipykernel) (5.5.0)\n",
            "Requirement already satisfied: tornado>=4.2 in /usr/local/lib/python3.7/dist-packages (from ipykernel) (5.1.1)\n",
            "Requirement already satisfied: jupyter-client in /usr/local/lib/python3.7/dist-packages (from ipykernel) (5.3.5)\n",
            "Requirement already satisfied: pygments in /usr/local/lib/python3.7/dist-packages (from ipython>=5.0.0->ipykernel) (2.6.1)\n",
            "Requirement already satisfied: simplegeneric>0.8 in /usr/local/lib/python3.7/dist-packages (from ipython>=5.0.0->ipykernel) (0.8.1)\n",
            "Requirement already satisfied: pexpect in /usr/local/lib/python3.7/dist-packages (from ipython>=5.0.0->ipykernel) (4.8.0)\n",
            "Requirement already satisfied: prompt-toolkit<2.0.0,>=1.0.4 in /usr/local/lib/python3.7/dist-packages (from ipython>=5.0.0->ipykernel) (1.0.18)\n",
            "Requirement already satisfied: setuptools>=18.5 in /usr/local/lib/python3.7/dist-packages (from ipython>=5.0.0->ipykernel) (54.0.0)\n",
            "Requirement already satisfied: decorator in /usr/local/lib/python3.7/dist-packages (from ipython>=5.0.0->ipykernel) (4.4.2)\n",
            "Requirement already satisfied: pickleshare in /usr/local/lib/python3.7/dist-packages (from ipython>=5.0.0->ipykernel) (0.7.5)\n",
            "Requirement already satisfied: wcwidth in /usr/local/lib/python3.7/dist-packages (from prompt-toolkit<2.0.0,>=1.0.4->ipython>=5.0.0->ipykernel) (0.2.5)\n",
            "Requirement already satisfied: six>=1.9.0 in /usr/local/lib/python3.7/dist-packages (from prompt-toolkit<2.0.0,>=1.0.4->ipython>=5.0.0->ipykernel) (1.15.0)\n",
            "Requirement already satisfied: ipython-genutils in /usr/local/lib/python3.7/dist-packages (from traitlets>=4.1.0->ipykernel) (0.2.0)\n",
            "Requirement already satisfied: pyzmq>=13 in /usr/local/lib/python3.7/dist-packages (from jupyter-client->ipykernel) (22.0.3)\n",
            "Requirement already satisfied: python-dateutil>=2.1 in /usr/local/lib/python3.7/dist-packages (from jupyter-client->ipykernel) (2.8.1)\n",
            "Requirement already satisfied: jupyter-core>=4.6.0 in /usr/local/lib/python3.7/dist-packages (from jupyter-client->ipykernel) (4.7.1)\n",
            "Requirement already satisfied: ptyprocess>=0.5 in /usr/local/lib/python3.7/dist-packages (from pexpect->ipython>=5.0.0->ipykernel) (0.7.0)\n",
            "Installing collected packages: ipykernel\n",
            "  Attempting uninstall: ipykernel\n",
            "    Found existing installation: ipykernel 4.10.1\n",
            "    Uninstalling ipykernel-4.10.1:\n",
            "      Successfully uninstalled ipykernel-4.10.1\n",
            "\u001b[31mERROR: pip's dependency resolver does not currently take into account all the packages that are installed. This behaviour is the source of the following dependency conflicts.\n",
            "google-colab 1.0.0 requires ipykernel~=4.10, but you have ipykernel 5.5.0 which is incompatible.\u001b[0m\n",
            "Successfully installed ipykernel-5.5.0\n"
          ],
          "name": "stdout"
        },
        {
          "output_type": "display_data",
          "data": {
            "application/vnd.colab-display-data+json": {
              "pip_warning": {
                "packages": [
                  "ipykernel"
                ]
              }
            }
          },
          "metadata": {
            "tags": []
          }
        }
      ]
    },
    {
      "cell_type": "code",
      "metadata": {
        "id": "0ZzM8NMjfzNx"
      },
      "source": [
        "import numpy as np\n",
        "import pandas as pd\n",
        "from autogluon.tabular import TabularDataset, TabularPredictor"
      ],
      "execution_count": 230,
      "outputs": []
    },
    {
      "cell_type": "code",
      "metadata": {
        "id": "Aus0P2qKhxks"
      },
      "source": [
        "path = '/content/drive/My Drive/Underdog/data/Diameter_Asteroid_data.csv'\n",
        "# data = pd.read_csv(path, delimiter=',')"
      ],
      "execution_count": 247,
      "outputs": []
    },
    {
      "cell_type": "code",
      "metadata": {
        "colab": {
          "base_uri": "https://localhost:8080/",
          "height": 221
        },
        "id": "IFtQv0ajjawB",
        "outputId": "a8063162-46da-4c65-879e-ab456c559264"
      },
      "source": [
        "train_data = TabularDataset(path)\n",
        "subsample_size = 500  # subsample subset of data for faster demo, try setting this to much larger values\n",
        "train_data = train_data.sample(n=subsample_size, random_state=0)\n",
        "train_data.head()"
      ],
      "execution_count": 248,
      "outputs": [
        {
          "output_type": "stream",
          "text": [
            "Loaded data from: /content/drive/My Drive/Underdog/data/Diameter_Asteroid_data.csv | Columns = 4 / 4 | Rows = 3051 -> 3051\n"
          ],
          "name": "stderr"
        },
        {
          "output_type": "execute_result",
          "data": {
            "text/html": [
              "<div>\n",
              "<style scoped>\n",
              "    .dataframe tbody tr th:only-of-type {\n",
              "        vertical-align: middle;\n",
              "    }\n",
              "\n",
              "    .dataframe tbody tr th {\n",
              "        vertical-align: top;\n",
              "    }\n",
              "\n",
              "    .dataframe thead th {\n",
              "        text-align: right;\n",
              "    }\n",
              "</style>\n",
              "<table border=\"1\" class=\"dataframe\">\n",
              "  <thead>\n",
              "    <tr style=\"text-align: right;\">\n",
              "      <th></th>\n",
              "      <th>name</th>\n",
              "      <th>diameter</th>\n",
              "      <th>rot_per</th>\n",
              "      <th>Clustered3</th>\n",
              "    </tr>\n",
              "  </thead>\n",
              "  <tbody>\n",
              "    <tr>\n",
              "      <th>453</th>\n",
              "      <td>Marietta</td>\n",
              "      <td>15.677</td>\n",
              "      <td>5.488</td>\n",
              "      <td>1</td>\n",
              "    </tr>\n",
              "    <tr>\n",
              "      <th>1880</th>\n",
              "      <td>Aktsynovia</td>\n",
              "      <td>8.854</td>\n",
              "      <td>4.123</td>\n",
              "      <td>4</td>\n",
              "    </tr>\n",
              "    <tr>\n",
              "      <th>2796</th>\n",
              "      <td>Sikhote-Alin</td>\n",
              "      <td>4.272</td>\n",
              "      <td>20.750</td>\n",
              "      <td>3</td>\n",
              "    </tr>\n",
              "    <tr>\n",
              "      <th>2198</th>\n",
              "      <td>Tanuki</td>\n",
              "      <td>4.061</td>\n",
              "      <td>2.886</td>\n",
              "      <td>0</td>\n",
              "    </tr>\n",
              "    <tr>\n",
              "      <th>3049</th>\n",
              "      <td>Agni</td>\n",
              "      <td>0.462</td>\n",
              "      <td>21.990</td>\n",
              "      <td>3</td>\n",
              "    </tr>\n",
              "  </tbody>\n",
              "</table>\n",
              "</div>"
            ],
            "text/plain": [
              "              name  diameter  rot_per  Clustered3\n",
              "453       Marietta    15.677    5.488           1\n",
              "1880    Aktsynovia     8.854    4.123           4\n",
              "2796  Sikhote-Alin     4.272   20.750           3\n",
              "2198        Tanuki     4.061    2.886           0\n",
              "3049          Agni     0.462   21.990           3"
            ]
          },
          "metadata": {
            "tags": []
          },
          "execution_count": 248
        }
      ]
    },
    {
      "cell_type": "code",
      "metadata": {
        "colab": {
          "base_uri": "https://localhost:8080/"
        },
        "id": "PI5c4c4SiJdJ",
        "outputId": "65c899a0-7a81-4f6e-89af-58a266f37eff"
      },
      "source": [
        "label = 'Clustered3'\n",
        "print(\"Summary of class variable: \\n\", train_data[label].describe())"
      ],
      "execution_count": 249,
      "outputs": [
        {
          "output_type": "stream",
          "text": [
            "Summary of class variable: \n",
            " count    500.000000\n",
            "mean       1.736000\n",
            "std        1.702969\n",
            "min        0.000000\n",
            "25%        0.000000\n",
            "50%        1.000000\n",
            "75%        4.000000\n",
            "max        4.000000\n",
            "Name: Clustered3, dtype: float64\n"
          ],
          "name": "stdout"
        }
      ]
    },
    {
      "cell_type": "code",
      "metadata": {
        "colab": {
          "base_uri": "https://localhost:8080/"
        },
        "id": "UGI3RtT7iUu7",
        "outputId": "93127468-34f4-4d30-900a-1dac7cb55a80"
      },
      "source": [
        "save_path = '/content/drive/My Drive/Underdog/data/trained_Diameter_Asteroid_data.csv'  # specifies folder to store trained models\n",
        "predictor = TabularPredictor(label=label, path=save_path).fit(train_data)"
      ],
      "execution_count": 250,
      "outputs": [
        {
          "output_type": "stream",
          "text": [
            "Warning: path already exists! This predictor may overwrite an existing predictor! path=\"/content/drive/My Drive/Underdog/data/trained_Diameter_Asteroid_data.csv\"\n",
            "Beginning AutoGluon training ...\n",
            "AutoGluon will save models to \"/content/drive/My Drive/Underdog/data/trained_Diameter_Asteroid_data.csv/\"\n",
            "AutoGluon Version:  0.1.0\n",
            "Train Data Rows:    500\n",
            "Train Data Columns: 3\n",
            "Preprocessing data ...\n",
            "AutoGluon infers your prediction problem is: 'multiclass' (because dtype of label-column == int, but few unique label-values observed).\n",
            "\t5 unique label values:  [1, 4, 3, 0, 2]\n",
            "\tIf 'multiclass' is not the correct problem_type, please manually specify the problem_type argument in fit() (You may specify problem_type as one of: ['binary', 'multiclass', 'regression'])\n",
            "Train Data Class Count: 5\n",
            "Using Feature Generators to preprocess the data ...\n",
            "Fitting AutoMLPipelineFeatureGenerator...\n",
            "\tAvailable Memory:                    12434.35 MB\n",
            "\tTrain Data (Original)  Memory Usage: 0.04 MB (0.0% of available memory)\n",
            "\tInferring data type of each feature based on column values. Set feature_metadata_in to manually specify special dtypes of the features.\n",
            "\tStage 1 Generators:\n",
            "\t\tFitting AsTypeFeatureGenerator...\n",
            "\tStage 2 Generators:\n",
            "\t\tFitting FillNaFeatureGenerator...\n",
            "\tStage 3 Generators:\n",
            "\t\tFitting IdentityFeatureGenerator...\n",
            "\t\tFitting CategoryFeatureGenerator...\n",
            "\t\t\tFitting CategoryMemoryMinimizeFeatureGenerator...\n",
            "\tStage 4 Generators:\n",
            "\t\tFitting DropUniqueFeatureGenerator...\n",
            "\tUnused Original Features (Count: 1): ['name']\n",
            "\t\tThese features were not used to generate any of the output features. Add a feature generator compatible with these features to utilize them.\n",
            "\t\tFeatures can also be unused if they carry very little information, such as being categorical but having almost entirely unique values or being duplicates of other features.\n",
            "\t\tThese features do not need to be present at inference time.\n",
            "\t\t('object', []) : 1 | ['name']\n",
            "\tTypes of features in original data (raw dtype, special dtypes):\n",
            "\t\t('float', []) : 2 | ['diameter', 'rot_per']\n",
            "\tTypes of features in processed data (raw dtype, special dtypes):\n",
            "\t\t('float', []) : 2 | ['diameter', 'rot_per']\n",
            "\t0.1s = Fit runtime\n",
            "\t2 features in original data used to generate 2 features in processed data.\n",
            "\tTrain Data (Processed) Memory Usage: 0.01 MB (0.0% of available memory)\n",
            "Data preprocessing and feature engineering runtime = 0.11s ...\n",
            "AutoGluon will gauge predictive performance using evaluation metric: 'accuracy'\n",
            "\tTo change this, specify the eval_metric argument of fit()\n",
            "Automatically generating train/validation split with holdout_frac=0.2, Train Rows: 400, Val Rows: 100\n",
            "Fitting model: NeuralNetMXNet ...\n",
            "\t0.99\t = Validation accuracy score\n",
            "\t3.96s\t = Training runtime\n",
            "\t0.01s\t = Validation runtime\n",
            "Fitting model: NeuralNetFastAI ...\n"
          ],
          "name": "stderr"
        },
        {
          "output_type": "stream",
          "text": [
            ""
          ],
          "name": "stdout"
        },
        {
          "output_type": "stream",
          "text": [
            "\t1.0\t = Validation accuracy score\n",
            "\t3.88s\t = Training runtime\n",
            "\t0.06s\t = Validation runtime\n",
            "Fitting model: KNeighborsUnif ...\n",
            "\t0.96\t = Validation accuracy score\n",
            "\t0.0s\t = Training runtime\n",
            "\t0.1s\t = Validation runtime\n",
            "Fitting model: KNeighborsDist ...\n",
            "\t0.96\t = Validation accuracy score\n",
            "\t0.0s\t = Training runtime\n",
            "\t0.1s\t = Validation runtime\n",
            "Fitting model: RandomForestGini ...\n",
            "\t0.97\t = Validation accuracy score\n",
            "\t0.73s\t = Training runtime\n",
            "\t0.1s\t = Validation runtime\n",
            "Fitting model: RandomForestEntr ...\n",
            "\t0.97\t = Validation accuracy score\n",
            "\t0.73s\t = Training runtime\n",
            "\t0.1s\t = Validation runtime\n",
            "Fitting model: ExtraTreesGini ...\n",
            "\t0.99\t = Validation accuracy score\n",
            "\t0.64s\t = Training runtime\n",
            "\t0.1s\t = Validation runtime\n",
            "Fitting model: ExtraTreesEntr ...\n",
            "\t0.99\t = Validation accuracy score\n",
            "\t0.63s\t = Training runtime\n",
            "\t0.1s\t = Validation runtime\n",
            "Fitting model: LightGBM ...\n",
            "\t0.99\t = Validation accuracy score\n",
            "\t0.37s\t = Training runtime\n",
            "\t0.0s\t = Validation runtime\n",
            "Fitting model: LightGBMXT ...\n",
            "\t0.97\t = Validation accuracy score\n",
            "\t0.36s\t = Training runtime\n",
            "\t0.01s\t = Validation runtime\n",
            "Fitting model: CatBoost ...\n",
            "\t0.99\t = Validation accuracy score\n",
            "\t0.4s\t = Training runtime\n",
            "\t0.0s\t = Validation runtime\n",
            "Fitting model: XGBoost ...\n",
            "\t0.98\t = Validation accuracy score\n",
            "\t0.16s\t = Training runtime\n",
            "\t0.0s\t = Validation runtime\n",
            "Fitting model: LightGBMLarge ...\n",
            "\t0.98\t = Validation accuracy score\n",
            "\t0.69s\t = Training runtime\n",
            "\t0.01s\t = Validation runtime\n"
          ],
          "name": "stderr"
        },
        {
          "output_type": "stream",
          "text": [
            "█\r"
          ],
          "name": "stdout"
        },
        {
          "output_type": "stream",
          "text": [
            "Fitting model: WeightedEnsemble_L2 ...\n",
            "\t1.0\t = Validation accuracy score\n",
            "\t0.31s\t = Training runtime\n",
            "\t0.0s\t = Validation runtime\n",
            "AutoGluon training complete, total runtime = 15.37s ...\n",
            "TabularPredictor saved. To load, use: predictor = TabularPredictor.load(\"/content/drive/My Drive/Underdog/data/trained_Diameter_Asteroid_data.csv/\")\n"
          ],
          "name": "stderr"
        }
      ]
    },
    {
      "cell_type": "code",
      "metadata": {
        "colab": {
          "base_uri": "https://localhost:8080/",
          "height": 221
        },
        "id": "5YqtUd4uks0Q",
        "outputId": "6f93be21-bdf1-4bff-a4bf-af97d1c88e2c"
      },
      "source": [
        "test_data = TabularDataset(path)\n",
        "y_test = test_data[label]  # values to predict\n",
        "test_data_nolab = test_data.drop(columns=[label])  # delete label column to prove we're not cheating\n",
        "test_data_nolab.head()"
      ],
      "execution_count": 251,
      "outputs": [
        {
          "output_type": "stream",
          "text": [
            "Loaded data from: /content/drive/My Drive/Underdog/data/Diameter_Asteroid_data.csv | Columns = 4 / 4 | Rows = 3051 -> 3051\n"
          ],
          "name": "stderr"
        },
        {
          "output_type": "execute_result",
          "data": {
            "text/html": [
              "<div>\n",
              "<style scoped>\n",
              "    .dataframe tbody tr th:only-of-type {\n",
              "        vertical-align: middle;\n",
              "    }\n",
              "\n",
              "    .dataframe tbody tr th {\n",
              "        vertical-align: top;\n",
              "    }\n",
              "\n",
              "    .dataframe thead th {\n",
              "        text-align: right;\n",
              "    }\n",
              "</style>\n",
              "<table border=\"1\" class=\"dataframe\">\n",
              "  <thead>\n",
              "    <tr style=\"text-align: right;\">\n",
              "      <th></th>\n",
              "      <th>name</th>\n",
              "      <th>diameter</th>\n",
              "      <th>rot_per</th>\n",
              "    </tr>\n",
              "  </thead>\n",
              "  <tbody>\n",
              "    <tr>\n",
              "      <th>0</th>\n",
              "      <td>Agathe</td>\n",
              "      <td>9.300</td>\n",
              "      <td>6.4840</td>\n",
              "    </tr>\n",
              "    <tr>\n",
              "      <th>1</th>\n",
              "      <td>Augusta</td>\n",
              "      <td>12.467</td>\n",
              "      <td>5.8949</td>\n",
              "    </tr>\n",
              "    <tr>\n",
              "      <th>2</th>\n",
              "      <td>Valda</td>\n",
              "      <td>14.645</td>\n",
              "      <td>17.3860</td>\n",
              "    </tr>\n",
              "    <tr>\n",
              "      <th>3</th>\n",
              "      <td>Lucretia</td>\n",
              "      <td>11.036</td>\n",
              "      <td>4.3480</td>\n",
              "    </tr>\n",
              "    <tr>\n",
              "      <th>4</th>\n",
              "      <td>Bruna</td>\n",
              "      <td>9.822</td>\n",
              "      <td>13.8070</td>\n",
              "    </tr>\n",
              "  </tbody>\n",
              "</table>\n",
              "</div>"
            ],
            "text/plain": [
              "       name  diameter  rot_per\n",
              "0    Agathe     9.300   6.4840\n",
              "1   Augusta    12.467   5.8949\n",
              "2     Valda    14.645  17.3860\n",
              "3  Lucretia    11.036   4.3480\n",
              "4     Bruna     9.822  13.8070"
            ]
          },
          "metadata": {
            "tags": []
          },
          "execution_count": 251
        }
      ]
    },
    {
      "cell_type": "code",
      "metadata": {
        "id": "Fe-I6hVqygLF"
      },
      "source": [
        ""
      ],
      "execution_count": null,
      "outputs": []
    },
    {
      "cell_type": "code",
      "metadata": {
        "colab": {
          "base_uri": "https://localhost:8080/"
        },
        "id": "WiI8OMTnkzXL",
        "outputId": "ed4c0484-b394-4a29-dfd4-f9c9b730e944"
      },
      "source": [
        "predictor = TabularPredictor.load(save_path)  # unnecessary, just demonstrates how to load previously-trained predictor from file\n",
        "\n",
        "y_pred = predictor.predict(test_data_nolab)\n",
        "print(\"Predictions:  \\n\", y_pred)\n",
        "perf = predictor.evaluate_predictions(y_true=y_test, y_pred=y_pred, auxiliary_metrics=True)"
      ],
      "execution_count": 236,
      "outputs": [
        {
          "output_type": "stream",
          "text": [
            "Evaluation: accuracy on test data: 0.9619796787938381\n",
            "Evaluations on test data:\n",
            "{\n",
            "    \"accuracy\": 0.9619796787938381,\n",
            "    \"accuracy_score\": 0.9619796787938381,\n",
            "    \"balanced_accuracy_score\": 0.9330503048177079,\n",
            "    \"matthews_corrcoef\": 0.9484674199439911\n",
            "}\n",
            "Detailed (per-class) classification report:\n",
            "{\n",
            "    \"0\": {\n",
            "        \"precision\": 0.9577594123048668,\n",
            "        \"recall\": 0.9980861244019139,\n",
            "        \"f1-score\": 0.9775070290534208,\n",
            "        \"support\": 1045\n",
            "    },\n",
            "    \"1\": {\n",
            "        \"precision\": 0.9539249146757679,\n",
            "        \"recall\": 0.9621342512908778,\n",
            "        \"f1-score\": 0.9580119965724079,\n",
            "        \"support\": 581\n",
            "    },\n",
            "    \"2\": {\n",
            "        \"precision\": 0.9931506849315068,\n",
            "        \"recall\": 0.8895705521472392,\n",
            "        \"f1-score\": 0.9385113268608415,\n",
            "        \"support\": 163\n",
            "    },\n",
            "    \"3\": {\n",
            "        \"precision\": 0.9351535836177475,\n",
            "        \"recall\": 0.8379204892966361,\n",
            "        \"f1-score\": 0.8838709677419355,\n",
            "        \"support\": 327\n",
            "    },\n",
            "    \"4\": {\n",
            "        \"precision\": 0.9754535752401281,\n",
            "        \"recall\": 0.9775401069518717,\n",
            "        \"f1-score\": 0.9764957264957266,\n",
            "        \"support\": 935\n",
            "    },\n",
            "    \"accuracy\": 0.9619796787938381,\n",
            "    \"macro avg\": {\n",
            "        \"precision\": 0.9630884341540036,\n",
            "        \"recall\": 0.9330503048177079,\n",
            "        \"f1-score\": 0.9468794093448665,\n",
            "        \"support\": 3051\n",
            "    },\n",
            "    \"weighted avg\": {\n",
            "        \"precision\": 0.9619196452381402,\n",
            "        \"recall\": 0.9619796787938381,\n",
            "        \"f1-score\": 0.9613656087750994,\n",
            "        \"support\": 3051\n",
            "    }\n",
            "}\n"
          ],
          "name": "stderr"
        },
        {
          "output_type": "stream",
          "text": [
            "Predictions:  \n",
            " 0       4\n",
            "1       1\n",
            "2       1\n",
            "3       1\n",
            "4       3\n",
            "       ..\n",
            "3046    0\n",
            "3047    0\n",
            "3048    0\n",
            "3049    3\n",
            "3050    3\n",
            "Name: Clustered3, Length: 3051, dtype: int64\n"
          ],
          "name": "stdout"
        }
      ]
    },
    {
      "cell_type": "code",
      "metadata": {
        "colab": {
          "base_uri": "https://localhost:8080/",
          "height": 204
        },
        "id": "H2fKgtfLl21w",
        "outputId": "fbcb94fd-f335-4226-af8c-cbde678e8700"
      },
      "source": [
        "pred_probs = predictor.predict_proba(test_data_nolab)\n",
        "pred_probs.head(5)"
      ],
      "execution_count": 237,
      "outputs": [
        {
          "output_type": "execute_result",
          "data": {
            "text/html": [
              "<div>\n",
              "<style scoped>\n",
              "    .dataframe tbody tr th:only-of-type {\n",
              "        vertical-align: middle;\n",
              "    }\n",
              "\n",
              "    .dataframe tbody tr th {\n",
              "        vertical-align: top;\n",
              "    }\n",
              "\n",
              "    .dataframe thead th {\n",
              "        text-align: right;\n",
              "    }\n",
              "</style>\n",
              "<table border=\"1\" class=\"dataframe\">\n",
              "  <thead>\n",
              "    <tr style=\"text-align: right;\">\n",
              "      <th></th>\n",
              "      <th>0</th>\n",
              "      <th>1</th>\n",
              "      <th>2</th>\n",
              "      <th>3</th>\n",
              "      <th>4</th>\n",
              "    </tr>\n",
              "  </thead>\n",
              "  <tbody>\n",
              "    <tr>\n",
              "      <th>0</th>\n",
              "      <td>0.091605</td>\n",
              "      <td>0.098407</td>\n",
              "      <td>0.091836</td>\n",
              "      <td>0.100705</td>\n",
              "      <td>0.617447</td>\n",
              "    </tr>\n",
              "    <tr>\n",
              "      <th>1</th>\n",
              "      <td>0.096895</td>\n",
              "      <td>0.597961</td>\n",
              "      <td>0.097396</td>\n",
              "      <td>0.097083</td>\n",
              "      <td>0.110666</td>\n",
              "    </tr>\n",
              "    <tr>\n",
              "      <th>2</th>\n",
              "      <td>0.130957</td>\n",
              "      <td>0.397646</td>\n",
              "      <td>0.195335</td>\n",
              "      <td>0.145347</td>\n",
              "      <td>0.130715</td>\n",
              "    </tr>\n",
              "    <tr>\n",
              "      <th>3</th>\n",
              "      <td>0.116360</td>\n",
              "      <td>0.424214</td>\n",
              "      <td>0.117008</td>\n",
              "      <td>0.118289</td>\n",
              "      <td>0.224128</td>\n",
              "    </tr>\n",
              "    <tr>\n",
              "      <th>4</th>\n",
              "      <td>0.127911</td>\n",
              "      <td>0.153656</td>\n",
              "      <td>0.152955</td>\n",
              "      <td>0.309189</td>\n",
              "      <td>0.256289</td>\n",
              "    </tr>\n",
              "  </tbody>\n",
              "</table>\n",
              "</div>"
            ],
            "text/plain": [
              "          0         1         2         3         4\n",
              "0  0.091605  0.098407  0.091836  0.100705  0.617447\n",
              "1  0.096895  0.597961  0.097396  0.097083  0.110666\n",
              "2  0.130957  0.397646  0.195335  0.145347  0.130715\n",
              "3  0.116360  0.424214  0.117008  0.118289  0.224128\n",
              "4  0.127911  0.153656  0.152955  0.309189  0.256289"
            ]
          },
          "metadata": {
            "tags": []
          },
          "execution_count": 237
        }
      ]
    },
    {
      "cell_type": "code",
      "metadata": {
        "colab": {
          "base_uri": "https://localhost:8080/"
        },
        "id": "UsEDoe7QmJt9",
        "outputId": "ae1ebd5c-7a41-4e4d-864f-d64ba72b1d77"
      },
      "source": [
        "results = predictor.fit_summary()"
      ],
      "execution_count": 238,
      "outputs": [
        {
          "output_type": "stream",
          "text": [
            "*** Summary of fit() ***\n",
            "Estimated performance of each model:\n",
            "                  model  score_val  pred_time_val   fit_time  pred_time_val_marginal  fit_time_marginal  stack_level  can_infer  fit_order\n",
            "0              CatBoost       0.99       0.001653   0.419576                0.001653           0.419576            1       True         11\n",
            "1   WeightedEnsemble_L2       0.99       0.002135   0.715739                0.000482           0.296163            2       True         14\n",
            "2              LightGBM       0.99       0.003138   0.388790                0.003138           0.388790            1       True          9\n",
            "3        NeuralNetMXNet       0.99       0.008195   4.123319                0.008195           4.123319            1       True          1\n",
            "4        ExtraTreesEntr       0.99       0.102065   0.629346                0.102065           0.629346            1       True          8\n",
            "5        ExtraTreesGini       0.99       0.102068   0.532774                0.102068           0.532774            1       True          7\n",
            "6               XGBoost       0.98       0.003443   0.190469                0.003443           0.190469            1       True         12\n",
            "7         LightGBMLarge       0.98       0.004406   0.669798                0.004406           0.669798            1       True         13\n",
            "8            LightGBMXT       0.97       0.005647   0.358752                0.005647           0.358752            1       True         10\n",
            "9       NeuralNetFastAI       0.97       0.053714  13.485374                0.053714          13.485374            1       True          2\n",
            "10     RandomForestGini       0.97       0.101945   0.728580                0.101945           0.728580            1       True          5\n",
            "11     RandomForestEntr       0.97       0.101997   0.736539                0.101997           0.736539            1       True          6\n",
            "12       KNeighborsUnif       0.96       0.103648   0.003627                0.103648           0.003627            1       True          3\n",
            "13       KNeighborsDist       0.96       0.104455   0.002355                0.104455           0.002355            1       True          4\n",
            "Number of models trained: 14\n",
            "Types of models trained:\n",
            "{'XTModel', 'KNNModel', 'WeightedEnsembleModel', 'RFModel', 'CatBoostModel', 'XGBoostModel', 'LGBModel', 'NNFastAiTabularModel', 'TabularNeuralNetModel'}\n",
            "Bagging used: False \n",
            "Multi-layer stack-ensembling used: False \n",
            "Feature Metadata (Processed):\n",
            "(raw dtype, special dtypes):\n",
            "('float', []) : 2 | ['diameter', 'rot_per']\n",
            "Plot summary of models saved to file: /content/drive/My Drive/Underdog/data/trained_Diameter_Asteroid_data.csv/SummaryOfModels.html\n",
            "*** End of fit() summary ***\n"
          ],
          "name": "stdout"
        }
      ]
    },
    {
      "cell_type": "code",
      "metadata": {
        "colab": {
          "base_uri": "https://localhost:8080/"
        },
        "id": "Mq2O8RDwm3SI",
        "outputId": "ef804d54-3105-49be-c063-d221e2233d08"
      },
      "source": [
        "print(\"AutoGluon infers problem type is: \", predictor.problem_type)\n",
        "print(\"AutoGluon identified the following types of features:\")\n",
        "print(predictor.feature_metadata)"
      ],
      "execution_count": 239,
      "outputs": [
        {
          "output_type": "stream",
          "text": [
            "AutoGluon infers problem type is:  multiclass\n",
            "AutoGluon identified the following types of features:\n",
            "('float', []) : 2 | ['diameter', 'rot_per']\n"
          ],
          "name": "stdout"
        }
      ]
    },
    {
      "cell_type": "code",
      "metadata": {
        "colab": {
          "base_uri": "https://localhost:8080/",
          "height": 503
        },
        "id": "O8NkkG_Ym8ka",
        "outputId": "73c606a7-2683-43e0-82c7-3033c253a8e0"
      },
      "source": [
        "predictor.leaderboard(test_data, silent=True)"
      ],
      "execution_count": 240,
      "outputs": [
        {
          "output_type": "stream",
          "text": [
            "█\r"
          ],
          "name": "stdout"
        },
        {
          "output_type": "execute_result",
          "data": {
            "text/html": [
              "<div>\n",
              "<style scoped>\n",
              "    .dataframe tbody tr th:only-of-type {\n",
              "        vertical-align: middle;\n",
              "    }\n",
              "\n",
              "    .dataframe tbody tr th {\n",
              "        vertical-align: top;\n",
              "    }\n",
              "\n",
              "    .dataframe thead th {\n",
              "        text-align: right;\n",
              "    }\n",
              "</style>\n",
              "<table border=\"1\" class=\"dataframe\">\n",
              "  <thead>\n",
              "    <tr style=\"text-align: right;\">\n",
              "      <th></th>\n",
              "      <th>model</th>\n",
              "      <th>score_test</th>\n",
              "      <th>score_val</th>\n",
              "      <th>pred_time_test</th>\n",
              "      <th>pred_time_val</th>\n",
              "      <th>fit_time</th>\n",
              "      <th>pred_time_test_marginal</th>\n",
              "      <th>pred_time_val_marginal</th>\n",
              "      <th>fit_time_marginal</th>\n",
              "      <th>stack_level</th>\n",
              "      <th>can_infer</th>\n",
              "      <th>fit_order</th>\n",
              "    </tr>\n",
              "  </thead>\n",
              "  <tbody>\n",
              "    <tr>\n",
              "      <th>0</th>\n",
              "      <td>ExtraTreesEntr</td>\n",
              "      <td>0.978040</td>\n",
              "      <td>0.99</td>\n",
              "      <td>0.226420</td>\n",
              "      <td>0.102065</td>\n",
              "      <td>0.629346</td>\n",
              "      <td>0.226420</td>\n",
              "      <td>0.102065</td>\n",
              "      <td>0.629346</td>\n",
              "      <td>1</td>\n",
              "      <td>True</td>\n",
              "      <td>8</td>\n",
              "    </tr>\n",
              "    <tr>\n",
              "      <th>1</th>\n",
              "      <td>ExtraTreesGini</td>\n",
              "      <td>0.978040</td>\n",
              "      <td>0.99</td>\n",
              "      <td>0.232523</td>\n",
              "      <td>0.102068</td>\n",
              "      <td>0.532774</td>\n",
              "      <td>0.232523</td>\n",
              "      <td>0.102068</td>\n",
              "      <td>0.532774</td>\n",
              "      <td>1</td>\n",
              "      <td>True</td>\n",
              "      <td>7</td>\n",
              "    </tr>\n",
              "    <tr>\n",
              "      <th>2</th>\n",
              "      <td>RandomForestGini</td>\n",
              "      <td>0.976073</td>\n",
              "      <td>0.97</td>\n",
              "      <td>0.215852</td>\n",
              "      <td>0.101945</td>\n",
              "      <td>0.728580</td>\n",
              "      <td>0.215852</td>\n",
              "      <td>0.101945</td>\n",
              "      <td>0.728580</td>\n",
              "      <td>1</td>\n",
              "      <td>True</td>\n",
              "      <td>5</td>\n",
              "    </tr>\n",
              "    <tr>\n",
              "      <th>3</th>\n",
              "      <td>RandomForestEntr</td>\n",
              "      <td>0.974107</td>\n",
              "      <td>0.97</td>\n",
              "      <td>0.216104</td>\n",
              "      <td>0.101997</td>\n",
              "      <td>0.736539</td>\n",
              "      <td>0.216104</td>\n",
              "      <td>0.101997</td>\n",
              "      <td>0.736539</td>\n",
              "      <td>1</td>\n",
              "      <td>True</td>\n",
              "      <td>6</td>\n",
              "    </tr>\n",
              "    <tr>\n",
              "      <th>4</th>\n",
              "      <td>LightGBM</td>\n",
              "      <td>0.972140</td>\n",
              "      <td>0.99</td>\n",
              "      <td>0.037225</td>\n",
              "      <td>0.003138</td>\n",
              "      <td>0.388790</td>\n",
              "      <td>0.037225</td>\n",
              "      <td>0.003138</td>\n",
              "      <td>0.388790</td>\n",
              "      <td>1</td>\n",
              "      <td>True</td>\n",
              "      <td>9</td>\n",
              "    </tr>\n",
              "    <tr>\n",
              "      <th>5</th>\n",
              "      <td>LightGBMLarge</td>\n",
              "      <td>0.971157</td>\n",
              "      <td>0.98</td>\n",
              "      <td>0.085430</td>\n",
              "      <td>0.004406</td>\n",
              "      <td>0.669798</td>\n",
              "      <td>0.085430</td>\n",
              "      <td>0.004406</td>\n",
              "      <td>0.669798</td>\n",
              "      <td>1</td>\n",
              "      <td>True</td>\n",
              "      <td>13</td>\n",
              "    </tr>\n",
              "    <tr>\n",
              "      <th>6</th>\n",
              "      <td>XGBoost</td>\n",
              "      <td>0.970829</td>\n",
              "      <td>0.98</td>\n",
              "      <td>0.045021</td>\n",
              "      <td>0.003443</td>\n",
              "      <td>0.190469</td>\n",
              "      <td>0.045021</td>\n",
              "      <td>0.003443</td>\n",
              "      <td>0.190469</td>\n",
              "      <td>1</td>\n",
              "      <td>True</td>\n",
              "      <td>12</td>\n",
              "    </tr>\n",
              "    <tr>\n",
              "      <th>7</th>\n",
              "      <td>NeuralNetMXNet</td>\n",
              "      <td>0.968863</td>\n",
              "      <td>0.99</td>\n",
              "      <td>0.098037</td>\n",
              "      <td>0.008195</td>\n",
              "      <td>4.123319</td>\n",
              "      <td>0.098037</td>\n",
              "      <td>0.008195</td>\n",
              "      <td>4.123319</td>\n",
              "      <td>1</td>\n",
              "      <td>True</td>\n",
              "      <td>1</td>\n",
              "    </tr>\n",
              "    <tr>\n",
              "      <th>8</th>\n",
              "      <td>LightGBMXT</td>\n",
              "      <td>0.963618</td>\n",
              "      <td>0.97</td>\n",
              "      <td>0.128933</td>\n",
              "      <td>0.005647</td>\n",
              "      <td>0.358752</td>\n",
              "      <td>0.128933</td>\n",
              "      <td>0.005647</td>\n",
              "      <td>0.358752</td>\n",
              "      <td>1</td>\n",
              "      <td>True</td>\n",
              "      <td>10</td>\n",
              "    </tr>\n",
              "    <tr>\n",
              "      <th>9</th>\n",
              "      <td>CatBoost</td>\n",
              "      <td>0.961980</td>\n",
              "      <td>0.99</td>\n",
              "      <td>0.006567</td>\n",
              "      <td>0.001653</td>\n",
              "      <td>0.419576</td>\n",
              "      <td>0.006567</td>\n",
              "      <td>0.001653</td>\n",
              "      <td>0.419576</td>\n",
              "      <td>1</td>\n",
              "      <td>True</td>\n",
              "      <td>11</td>\n",
              "    </tr>\n",
              "    <tr>\n",
              "      <th>10</th>\n",
              "      <td>WeightedEnsemble_L2</td>\n",
              "      <td>0.961980</td>\n",
              "      <td>0.99</td>\n",
              "      <td>0.010187</td>\n",
              "      <td>0.002135</td>\n",
              "      <td>0.715739</td>\n",
              "      <td>0.003620</td>\n",
              "      <td>0.000482</td>\n",
              "      <td>0.296163</td>\n",
              "      <td>2</td>\n",
              "      <td>True</td>\n",
              "      <td>14</td>\n",
              "    </tr>\n",
              "    <tr>\n",
              "      <th>11</th>\n",
              "      <td>KNeighborsDist</td>\n",
              "      <td>0.961980</td>\n",
              "      <td>0.96</td>\n",
              "      <td>0.105453</td>\n",
              "      <td>0.104455</td>\n",
              "      <td>0.002355</td>\n",
              "      <td>0.105453</td>\n",
              "      <td>0.104455</td>\n",
              "      <td>0.002355</td>\n",
              "      <td>1</td>\n",
              "      <td>True</td>\n",
              "      <td>4</td>\n",
              "    </tr>\n",
              "    <tr>\n",
              "      <th>12</th>\n",
              "      <td>KNeighborsUnif</td>\n",
              "      <td>0.950180</td>\n",
              "      <td>0.96</td>\n",
              "      <td>0.103681</td>\n",
              "      <td>0.103648</td>\n",
              "      <td>0.003627</td>\n",
              "      <td>0.103681</td>\n",
              "      <td>0.103648</td>\n",
              "      <td>0.003627</td>\n",
              "      <td>1</td>\n",
              "      <td>True</td>\n",
              "      <td>3</td>\n",
              "    </tr>\n",
              "    <tr>\n",
              "      <th>13</th>\n",
              "      <td>NeuralNetFastAI</td>\n",
              "      <td>0.934775</td>\n",
              "      <td>0.97</td>\n",
              "      <td>0.272232</td>\n",
              "      <td>0.053714</td>\n",
              "      <td>13.485374</td>\n",
              "      <td>0.272232</td>\n",
              "      <td>0.053714</td>\n",
              "      <td>13.485374</td>\n",
              "      <td>1</td>\n",
              "      <td>True</td>\n",
              "      <td>2</td>\n",
              "    </tr>\n",
              "  </tbody>\n",
              "</table>\n",
              "</div>"
            ],
            "text/plain": [
              "                  model  score_test  ...  can_infer  fit_order\n",
              "0        ExtraTreesEntr    0.978040  ...       True          8\n",
              "1        ExtraTreesGini    0.978040  ...       True          7\n",
              "2      RandomForestGini    0.976073  ...       True          5\n",
              "3      RandomForestEntr    0.974107  ...       True          6\n",
              "4              LightGBM    0.972140  ...       True          9\n",
              "5         LightGBMLarge    0.971157  ...       True         13\n",
              "6               XGBoost    0.970829  ...       True         12\n",
              "7        NeuralNetMXNet    0.968863  ...       True          1\n",
              "8            LightGBMXT    0.963618  ...       True         10\n",
              "9              CatBoost    0.961980  ...       True         11\n",
              "10  WeightedEnsemble_L2    0.961980  ...       True         14\n",
              "11       KNeighborsDist    0.961980  ...       True          4\n",
              "12       KNeighborsUnif    0.950180  ...       True          3\n",
              "13      NeuralNetFastAI    0.934775  ...       True          2\n",
              "\n",
              "[14 rows x 12 columns]"
            ]
          },
          "metadata": {
            "tags": []
          },
          "execution_count": 240
        }
      ]
    },
    {
      "cell_type": "code",
      "metadata": {
        "colab": {
          "base_uri": "https://localhost:8080/"
        },
        "id": "hjXPNRhvm_dD",
        "outputId": "306c2761-1eee-4f50-bd8b-3c5f93f49f4e"
      },
      "source": [
        "predictor.predict(test_data, model='RandomForestGini')"
      ],
      "execution_count": 241,
      "outputs": [
        {
          "output_type": "execute_result",
          "data": {
            "text/plain": [
              "0       4\n",
              "1       1\n",
              "2       1\n",
              "3       1\n",
              "4       3\n",
              "       ..\n",
              "3046    0\n",
              "3047    0\n",
              "3048    0\n",
              "3049    3\n",
              "3050    3\n",
              "Name: Clustered3, Length: 3051, dtype: int64"
            ]
          },
          "metadata": {
            "tags": []
          },
          "execution_count": 241
        }
      ]
    },
    {
      "cell_type": "code",
      "metadata": {
        "colab": {
          "base_uri": "https://localhost:8080/"
        },
        "id": "3H6_pmmWt-q3",
        "outputId": "53eea2d8-f24b-409c-e934-4b588385f7a3"
      },
      "source": [
        "predictor.predict(test_data, model='RandomForestEntr')"
      ],
      "execution_count": 242,
      "outputs": [
        {
          "output_type": "execute_result",
          "data": {
            "text/plain": [
              "0       4\n",
              "1       1\n",
              "2       1\n",
              "3       1\n",
              "4       3\n",
              "       ..\n",
              "3046    0\n",
              "3047    0\n",
              "3048    0\n",
              "3049    3\n",
              "3050    3\n",
              "Name: Clustered3, Length: 3051, dtype: int64"
            ]
          },
          "metadata": {
            "tags": []
          },
          "execution_count": 242
        }
      ]
    },
    {
      "cell_type": "markdown",
      "metadata": {
        "id": "SYD1-b22yoh4"
      },
      "source": [
        "## Maximizing predictive performance"
      ]
    },
    {
      "cell_type": "code",
      "metadata": {
        "colab": {
          "base_uri": "https://localhost:8080/",
          "height": 1000
        },
        "id": "-PK6q_qiz8sw",
        "outputId": "18412df5-20f6-458c-efb9-08b41bddffd2"
      },
      "source": [
        "time_limit = 60  # for quick demonstration only, you should set this to longest time you are willing to wait (in seconds)\n",
        "metric = 'mean_absolute_error'  # specify your evaluation metric here\n",
        "predictor = TabularPredictor(label, eval_metric=metric).fit(train_data, time_limit=time_limit, presets='best_quality')\n",
        "predictor.leaderboard(test_data, silent=True)"
      ],
      "execution_count": 246,
      "outputs": [
        {
          "output_type": "stream",
          "text": [
            "No path specified. Models will be saved in: \"AutogluonModels/ag-20210309_021336/\"\n",
            "Presets specified: ['best_quality']\n",
            "Beginning AutoGluon training ... Time limit = 60s\n",
            "AutoGluon will save models to \"AutogluonModels/ag-20210309_021336/\"\n",
            "AutoGluon Version:  0.1.0\n",
            "Train Data Rows:    500\n",
            "Train Data Columns: 3\n",
            "Preprocessing data ...\n",
            "AutoGluon infers your prediction problem is: 'multiclass' (because dtype of label-column == int, but few unique label-values observed).\n",
            "\t5 unique label values:  [1, 4, 3, 0, 2]\n",
            "\tIf 'multiclass' is not the correct problem_type, please manually specify the problem_type argument in fit() (You may specify problem_type as one of: ['binary', 'multiclass', 'regression'])\n",
            "Train Data Class Count: 5\n",
            "Using Feature Generators to preprocess the data ...\n",
            "Fitting AutoMLPipelineFeatureGenerator...\n",
            "\tAvailable Memory:                    12434.53 MB\n",
            "\tTrain Data (Original)  Memory Usage: 0.04 MB (0.0% of available memory)\n",
            "\tInferring data type of each feature based on column values. Set feature_metadata_in to manually specify special dtypes of the features.\n",
            "\tStage 1 Generators:\n",
            "\t\tFitting AsTypeFeatureGenerator...\n",
            "\tStage 2 Generators:\n",
            "\t\tFitting FillNaFeatureGenerator...\n",
            "\tStage 3 Generators:\n",
            "\t\tFitting IdentityFeatureGenerator...\n",
            "\t\tFitting CategoryFeatureGenerator...\n",
            "\t\t\tFitting CategoryMemoryMinimizeFeatureGenerator...\n",
            "\tStage 4 Generators:\n",
            "\t\tFitting DropUniqueFeatureGenerator...\n",
            "\tUnused Original Features (Count: 1): ['name']\n",
            "\t\tThese features were not used to generate any of the output features. Add a feature generator compatible with these features to utilize them.\n",
            "\t\tFeatures can also be unused if they carry very little information, such as being categorical but having almost entirely unique values or being duplicates of other features.\n",
            "\t\tThese features do not need to be present at inference time.\n",
            "\t\t('object', []) : 1 | ['name']\n",
            "\tTypes of features in original data (raw dtype, special dtypes):\n",
            "\t\t('float', []) : 2 | ['diameter', 'rot_per']\n",
            "\tTypes of features in processed data (raw dtype, special dtypes):\n",
            "\t\t('float', []) : 2 | ['diameter', 'rot_per']\n",
            "\t0.1s = Fit runtime\n",
            "\t2 features in original data used to generate 2 features in processed data.\n",
            "\tTrain Data (Processed) Memory Usage: 0.01 MB (0.0% of available memory)\n",
            "Data preprocessing and feature engineering runtime = 0.11s ...\n",
            "AutoGluon will gauge predictive performance using evaluation metric: 'mean_absolute_error'\n",
            "\tTo change this, specify the eval_metric argument of fit()\n",
            "Fitting model: NeuralNetMXNet_BAG_L1 ... Training model for up to 59.89s of the 59.89s of remaining time.\n",
            "\t-0.364\t = Validation mean_absolute_error score\n",
            "\t11.63s\t = Training runtime\n",
            "\t0.04s\t = Validation runtime\n",
            "Fitting model: NeuralNetFastAI_BAG_L1 ... Training model for up to 48.17s of the 48.17s of remaining time.\n"
          ],
          "name": "stderr"
        },
        {
          "output_type": "stream",
          "text": [
            ""
          ],
          "name": "stdout"
        },
        {
          "output_type": "stream",
          "text": [
            "\tWarning: Exception caused NeuralNetFastAI_BAG_L1 to fail during training... Skipping this model.\n",
            "\t\tExpected output and target to have the same number of elements but got 500 and 100.\n",
            "Detailed Traceback:\n",
            "Traceback (most recent call last):\n",
            "  File \"/usr/local/lib/python3.7/dist-packages/autogluon/tabular/trainer/abstract_trainer.py\", line 911, in _train_and_save\n",
            "    model = self._train_single(X, y, model, X_val, y_val, **model_fit_kwargs)\n",
            "  File \"/usr/local/lib/python3.7/dist-packages/autogluon/tabular/trainer/abstract_trainer.py\", line 881, in _train_single\n",
            "    model.fit(X=X, y=y, **model_fit_kwargs)\n",
            "  File \"/usr/local/lib/python3.7/dist-packages/autogluon/core/models/abstract/abstract_model.py\", line 405, in fit\n",
            "    self._fit(**kwargs)\n",
            "  File \"/usr/local/lib/python3.7/dist-packages/autogluon/core/models/ensemble/stacker_ensemble_model.py\", line 142, in _fit\n",
            "    super()._fit(X=X, y=y, time_limit=time_limit, **kwargs)\n",
            "  File \"/usr/local/lib/python3.7/dist-packages/autogluon/core/models/ensemble/bagged_ensemble_model.py\", line 216, in _fit\n",
            "    fold_model.fit(X=X_fold, y=y_fold, X_val=X_val_fold, y_val=y_val_fold, time_limit=time_limit_fold, **kwargs_fold)\n",
            "  File \"/usr/local/lib/python3.7/dist-packages/autogluon/core/models/abstract/abstract_model.py\", line 405, in fit\n",
            "    self._fit(**kwargs)\n",
            "  File \"/usr/local/lib/python3.7/dist-packages/autogluon/tabular/models/fastainn/tabular_nn_fastai.py\", line 241, in _fit\n",
            "    model.fit_one_cycle(params['epochs'], params['lr'], callbacks=save_callback)\n",
            "  File \"/usr/local/lib/python3.7/dist-packages/fastai/train.py\", line 23, in fit_one_cycle\n",
            "    learn.fit(cyc_len, max_lr, wd=wd, callbacks=callbacks)\n",
            "  File \"/usr/local/lib/python3.7/dist-packages/fastai/basic_train.py\", line 200, in fit\n",
            "    fit(epochs, self, metrics=self.metrics, callbacks=self.callbacks+callbacks)\n",
            "  File \"/usr/local/lib/python3.7/dist-packages/fastai/basic_train.py\", line 106, in fit\n",
            "    cb_handler=cb_handler, pbar=pbar)\n",
            "  File \"/usr/local/lib/python3.7/dist-packages/fastai/basic_train.py\", line 63, in validate\n",
            "    if cb_handler and cb_handler.on_batch_end(val_losses[-1]): break\n",
            "  File \"/usr/local/lib/python3.7/dist-packages/fastai/callback.py\", line 308, in on_batch_end\n",
            "    self('batch_end', call_mets = not self.state_dict['train'])\n",
            "  File \"/usr/local/lib/python3.7/dist-packages/fastai/callback.py\", line 250, in __call__\n",
            "    for met in self.metrics: self._call_and_update(met, cb_name, **kwargs)\n",
            "  File \"/usr/local/lib/python3.7/dist-packages/fastai/callback.py\", line 241, in _call_and_update\n",
            "    new = ifnone(getattr(cb, f'on_{cb_name}')(**self.state_dict, **kwargs), dict())\n",
            "  File \"/usr/local/lib/python3.7/dist-packages/fastai/callback.py\", line 344, in on_batch_end\n",
            "    val = self.func(last_output, *last_target)\n",
            "  File \"/usr/local/lib/python3.7/dist-packages/fastai/metrics.py\", line 77, in mean_absolute_error\n",
            "    pred,targ = flatten_check(pred,targ)\n",
            "  File \"/usr/local/lib/python3.7/dist-packages/fastai/torch_core.py\", line 379, in flatten_check\n",
            "    assert len(out) == len(targ), f\"Expected output and target to have the same number of elements but got {len(out)} and {len(targ)}.\"\n",
            "AssertionError: Expected output and target to have the same number of elements but got 500 and 100.\n",
            "Fitting model: KNeighborsUnif_BAG_L1 ... Training model for up to 48.01s of the 48.01s of remaining time.\n",
            "\t-0.142\t = Validation mean_absolute_error score\n",
            "\t0.01s\t = Training runtime\n",
            "\t0.51s\t = Validation runtime\n",
            "Fitting model: KNeighborsDist_BAG_L1 ... Training model for up to 47.48s of the 47.47s of remaining time.\n",
            "\t-0.112\t = Validation mean_absolute_error score\n",
            "\t0.01s\t = Training runtime\n",
            "\t0.51s\t = Validation runtime\n",
            "Fitting model: RandomForestGini_BAG_L1 ... Training model for up to 46.94s of the 46.94s of remaining time.\n",
            "\tWarning: Reducing model 'n_estimators' from 300 -> 290 due to low time. Expected time usage reduced from 7.8s -> 7.5s...\n",
            "\t-0.052\t = Validation mean_absolute_error score\n",
            "\t3.62s\t = Training runtime\n",
            "\t0.51s\t = Validation runtime\n",
            "Fitting model: RandomForestEntr_BAG_L1 ... Training model for up to 42.74s of the 42.73s of remaining time.\n",
            "\tWarning: Reducing model 'n_estimators' from 300 -> 263 due to low time. Expected time usage reduced from 7.8s -> 6.8s...\n",
            "\t-0.052\t = Validation mean_absolute_error score\n",
            "\t3.61s\t = Training runtime\n",
            "\t0.51s\t = Validation runtime\n",
            "Fitting model: ExtraTreesGini_BAG_L1 ... Training model for up to 38.54s of the 38.54s of remaining time.\n",
            "\tWarning: Reducing model 'n_estimators' from 300 -> 238 due to low time. Expected time usage reduced from 7.7s -> 6.2s...\n",
            "\tWarning: Reducing model 'n_estimators' from 300 -> 293 due to low time. Expected time usage reduced from 7.8s -> 7.6s...\n",
            "\t-0.068\t = Validation mean_absolute_error score\n",
            "\t2.68s\t = Training runtime\n",
            "\t0.51s\t = Validation runtime\n",
            "Fitting model: ExtraTreesEntr_BAG_L1 ... Training model for up to 35.25s of the 35.25s of remaining time.\n",
            "\tWarning: Reducing model 'n_estimators' from 300 -> 217 due to low time. Expected time usage reduced from 7.8s -> 5.6s...\n",
            "\tWarning: Reducing model 'n_estimators' from 300 -> 268 due to low time. Expected time usage reduced from 7.7s -> 6.9s...\n",
            "\t-0.068\t = Validation mean_absolute_error score\n",
            "\t2.87s\t = Training runtime\n",
            "\t0.51s\t = Validation runtime\n",
            "Fitting model: LightGBM_BAG_L1 ... Training model for up to 31.78s of the 31.78s of remaining time.\n",
            "\t-0.056\t = Validation mean_absolute_error score\n",
            "\t2.6s\t = Training runtime\n",
            "\t0.02s\t = Validation runtime\n",
            "Fitting model: LightGBMXT_BAG_L1 ... Training model for up to 29.0s of the 29.0s of remaining time.\n",
            "\t-0.062\t = Validation mean_absolute_error score\n",
            "\t2.75s\t = Training runtime\n",
            "\t0.02s\t = Validation runtime\n",
            "Fitting model: CatBoost_BAG_L1 ... Training model for up to 26.13s of the 26.12s of remaining time.\n",
            "\t-0.038\t = Validation mean_absolute_error score\n",
            "\t3.98s\t = Training runtime\n",
            "\t0.0s\t = Validation runtime\n",
            "Fitting model: XGBoost_BAG_L1 ... Training model for up to 22.13s of the 22.12s of remaining time.\n"
          ],
          "name": "stderr"
        },
        {
          "output_type": "stream",
          "text": [
            "[02:14:14] WARNING: ../src/learner.cc:1061: Starting in XGBoost 1.3.0, the default evaluation metric used with the objective 'multi:softprob' was changed from 'merror' to 'mlogloss'. Explicitly set eval_metric if you'd like to restore the old behavior.\n",
            "[02:14:14] WARNING: ../src/learner.cc:1061: Starting in XGBoost 1.3.0, the default evaluation metric used with the objective 'multi:softprob' was changed from 'merror' to 'mlogloss'. Explicitly set eval_metric if you'd like to restore the old behavior.\n",
            "[02:14:14] WARNING: ../src/learner.cc:1061: Starting in XGBoost 1.3.0, the default evaluation metric used with the objective 'multi:softprob' was changed from 'merror' to 'mlogloss'. Explicitly set eval_metric if you'd like to restore the old behavior.\n",
            "[02:14:15] WARNING: ../src/learner.cc:1061: Starting in XGBoost 1.3.0, the default evaluation metric used with the objective 'multi:softprob' was changed from 'merror' to 'mlogloss'. Explicitly set eval_metric if you'd like to restore the old behavior.\n",
            "[02:14:15] WARNING: ../src/learner.cc:1061: Starting in XGBoost 1.3.0, the default evaluation metric used with the objective 'multi:softprob' was changed from 'merror' to 'mlogloss'. Explicitly set eval_metric if you'd like to restore the old behavior.\n"
          ],
          "name": "stdout"
        },
        {
          "output_type": "stream",
          "text": [
            "\t-0.056\t = Validation mean_absolute_error score\n",
            "\t1.33s\t = Training runtime\n",
            "\t0.01s\t = Validation runtime\n",
            "Fitting model: LightGBMLarge_BAG_L1 ... Training model for up to 20.65s of the 20.65s of remaining time.\n",
            "\t-0.064\t = Validation mean_absolute_error score\n",
            "\t3.58s\t = Training runtime\n",
            "\t0.02s\t = Validation runtime\n",
            "Completed 1/20 k-fold bagging repeats ...\n",
            "Fitting model: WeightedEnsemble_L2 ... Training model for up to 59.89s of the 16.69s of remaining time.\n",
            "\t-0.036\t = Validation mean_absolute_error score\n",
            "\t0.38s\t = Training runtime\n",
            "\t0.0s\t = Validation runtime\n",
            "AutoGluon training complete, total runtime = 43.71s ...\n",
            "TabularPredictor saved. To load, use: predictor = TabularPredictor.load(\"AutogluonModels/ag-20210309_021336/\")\n"
          ],
          "name": "stderr"
        },
        {
          "output_type": "execute_result",
          "data": {
            "text/html": [
              "<div>\n",
              "<style scoped>\n",
              "    .dataframe tbody tr th:only-of-type {\n",
              "        vertical-align: middle;\n",
              "    }\n",
              "\n",
              "    .dataframe tbody tr th {\n",
              "        vertical-align: top;\n",
              "    }\n",
              "\n",
              "    .dataframe thead th {\n",
              "        text-align: right;\n",
              "    }\n",
              "</style>\n",
              "<table border=\"1\" class=\"dataframe\">\n",
              "  <thead>\n",
              "    <tr style=\"text-align: right;\">\n",
              "      <th></th>\n",
              "      <th>model</th>\n",
              "      <th>score_test</th>\n",
              "      <th>score_val</th>\n",
              "      <th>pred_time_test</th>\n",
              "      <th>pred_time_val</th>\n",
              "      <th>fit_time</th>\n",
              "      <th>pred_time_test_marginal</th>\n",
              "      <th>pred_time_val_marginal</th>\n",
              "      <th>fit_time_marginal</th>\n",
              "      <th>stack_level</th>\n",
              "      <th>can_infer</th>\n",
              "      <th>fit_order</th>\n",
              "    </tr>\n",
              "  </thead>\n",
              "  <tbody>\n",
              "    <tr>\n",
              "      <th>0</th>\n",
              "      <td>ExtraTreesEntr_BAG_L1</td>\n",
              "      <td>-0.043265</td>\n",
              "      <td>-0.068</td>\n",
              "      <td>0.963855</td>\n",
              "      <td>0.508642</td>\n",
              "      <td>2.866100</td>\n",
              "      <td>0.963855</td>\n",
              "      <td>0.508642</td>\n",
              "      <td>2.866100</td>\n",
              "      <td>1</td>\n",
              "      <td>True</td>\n",
              "      <td>7</td>\n",
              "    </tr>\n",
              "    <tr>\n",
              "      <th>1</th>\n",
              "      <td>ExtraTreesGini_BAG_L1</td>\n",
              "      <td>-0.043265</td>\n",
              "      <td>-0.068</td>\n",
              "      <td>1.063426</td>\n",
              "      <td>0.508026</td>\n",
              "      <td>2.675173</td>\n",
              "      <td>1.063426</td>\n",
              "      <td>0.508026</td>\n",
              "      <td>2.675173</td>\n",
              "      <td>1</td>\n",
              "      <td>True</td>\n",
              "      <td>6</td>\n",
              "    </tr>\n",
              "    <tr>\n",
              "      <th>2</th>\n",
              "      <td>NeuralNetMXNet_BAG_L1</td>\n",
              "      <td>-0.045559</td>\n",
              "      <td>-0.364</td>\n",
              "      <td>0.407245</td>\n",
              "      <td>0.038619</td>\n",
              "      <td>11.628832</td>\n",
              "      <td>0.407245</td>\n",
              "      <td>0.038619</td>\n",
              "      <td>11.628832</td>\n",
              "      <td>1</td>\n",
              "      <td>True</td>\n",
              "      <td>1</td>\n",
              "    </tr>\n",
              "    <tr>\n",
              "      <th>3</th>\n",
              "      <td>RandomForestEntr_BAG_L1</td>\n",
              "      <td>-0.047853</td>\n",
              "      <td>-0.052</td>\n",
              "      <td>1.049634</td>\n",
              "      <td>0.508245</td>\n",
              "      <td>3.612072</td>\n",
              "      <td>1.049634</td>\n",
              "      <td>0.508245</td>\n",
              "      <td>3.612072</td>\n",
              "      <td>1</td>\n",
              "      <td>True</td>\n",
              "      <td>5</td>\n",
              "    </tr>\n",
              "    <tr>\n",
              "      <th>4</th>\n",
              "      <td>RandomForestGini_BAG_L1</td>\n",
              "      <td>-0.048509</td>\n",
              "      <td>-0.052</td>\n",
              "      <td>1.048021</td>\n",
              "      <td>0.508188</td>\n",
              "      <td>3.620506</td>\n",
              "      <td>1.048021</td>\n",
              "      <td>0.508188</td>\n",
              "      <td>3.620506</td>\n",
              "      <td>1</td>\n",
              "      <td>True</td>\n",
              "      <td>4</td>\n",
              "    </tr>\n",
              "    <tr>\n",
              "      <th>5</th>\n",
              "      <td>WeightedEnsemble_L2</td>\n",
              "      <td>-0.050803</td>\n",
              "      <td>-0.036</td>\n",
              "      <td>1.092325</td>\n",
              "      <td>0.512386</td>\n",
              "      <td>7.036704</td>\n",
              "      <td>0.002784</td>\n",
              "      <td>0.000466</td>\n",
              "      <td>0.384745</td>\n",
              "      <td>2</td>\n",
              "      <td>True</td>\n",
              "      <td>13</td>\n",
              "    </tr>\n",
              "    <tr>\n",
              "      <th>6</th>\n",
              "      <td>LightGBMXT_BAG_L1</td>\n",
              "      <td>-0.051786</td>\n",
              "      <td>-0.062</td>\n",
              "      <td>0.508991</td>\n",
              "      <td>0.023456</td>\n",
              "      <td>2.745361</td>\n",
              "      <td>0.508991</td>\n",
              "      <td>0.023456</td>\n",
              "      <td>2.745361</td>\n",
              "      <td>1</td>\n",
              "      <td>True</td>\n",
              "      <td>9</td>\n",
              "    </tr>\n",
              "    <tr>\n",
              "      <th>7</th>\n",
              "      <td>LightGBM_BAG_L1</td>\n",
              "      <td>-0.052114</td>\n",
              "      <td>-0.056</td>\n",
              "      <td>0.256173</td>\n",
              "      <td>0.016028</td>\n",
              "      <td>2.604527</td>\n",
              "      <td>0.256173</td>\n",
              "      <td>0.016028</td>\n",
              "      <td>2.604527</td>\n",
              "      <td>1</td>\n",
              "      <td>True</td>\n",
              "      <td>8</td>\n",
              "    </tr>\n",
              "    <tr>\n",
              "      <th>8</th>\n",
              "      <td>XGBoost_BAG_L1</td>\n",
              "      <td>-0.053753</td>\n",
              "      <td>-0.056</td>\n",
              "      <td>0.235775</td>\n",
              "      <td>0.012284</td>\n",
              "      <td>1.333790</td>\n",
              "      <td>0.235775</td>\n",
              "      <td>0.012284</td>\n",
              "      <td>1.333790</td>\n",
              "      <td>1</td>\n",
              "      <td>True</td>\n",
              "      <td>11</td>\n",
              "    </tr>\n",
              "    <tr>\n",
              "      <th>9</th>\n",
              "      <td>LightGBMLarge_BAG_L1</td>\n",
              "      <td>-0.056703</td>\n",
              "      <td>-0.064</td>\n",
              "      <td>0.376414</td>\n",
              "      <td>0.019254</td>\n",
              "      <td>3.579384</td>\n",
              "      <td>0.376414</td>\n",
              "      <td>0.019254</td>\n",
              "      <td>3.579384</td>\n",
              "      <td>1</td>\n",
              "      <td>True</td>\n",
              "      <td>12</td>\n",
              "    </tr>\n",
              "    <tr>\n",
              "      <th>10</th>\n",
              "      <td>CatBoost_BAG_L1</td>\n",
              "      <td>-0.058342</td>\n",
              "      <td>-0.038</td>\n",
              "      <td>0.026115</td>\n",
              "      <td>0.003895</td>\n",
              "      <td>3.976786</td>\n",
              "      <td>0.026115</td>\n",
              "      <td>0.003895</td>\n",
              "      <td>3.976786</td>\n",
              "      <td>1</td>\n",
              "      <td>True</td>\n",
              "      <td>10</td>\n",
              "    </tr>\n",
              "    <tr>\n",
              "      <th>11</th>\n",
              "      <td>KNeighborsDist_BAG_L1</td>\n",
              "      <td>-0.084890</td>\n",
              "      <td>-0.112</td>\n",
              "      <td>0.513164</td>\n",
              "      <td>0.508648</td>\n",
              "      <td>0.009453</td>\n",
              "      <td>0.513164</td>\n",
              "      <td>0.508648</td>\n",
              "      <td>0.009453</td>\n",
              "      <td>1</td>\n",
              "      <td>True</td>\n",
              "      <td>3</td>\n",
              "    </tr>\n",
              "    <tr>\n",
              "      <th>12</th>\n",
              "      <td>KNeighborsUnif_BAG_L1</td>\n",
              "      <td>-0.119305</td>\n",
              "      <td>-0.142</td>\n",
              "      <td>0.511625</td>\n",
              "      <td>0.508856</td>\n",
              "      <td>0.010677</td>\n",
              "      <td>0.511625</td>\n",
              "      <td>0.508856</td>\n",
              "      <td>0.010677</td>\n",
              "      <td>1</td>\n",
              "      <td>True</td>\n",
              "      <td>2</td>\n",
              "    </tr>\n",
              "  </tbody>\n",
              "</table>\n",
              "</div>"
            ],
            "text/plain": [
              "                      model  score_test  ...  can_infer  fit_order\n",
              "0     ExtraTreesEntr_BAG_L1   -0.043265  ...       True          7\n",
              "1     ExtraTreesGini_BAG_L1   -0.043265  ...       True          6\n",
              "2     NeuralNetMXNet_BAG_L1   -0.045559  ...       True          1\n",
              "3   RandomForestEntr_BAG_L1   -0.047853  ...       True          5\n",
              "4   RandomForestGini_BAG_L1   -0.048509  ...       True          4\n",
              "5       WeightedEnsemble_L2   -0.050803  ...       True         13\n",
              "6         LightGBMXT_BAG_L1   -0.051786  ...       True          9\n",
              "7           LightGBM_BAG_L1   -0.052114  ...       True          8\n",
              "8            XGBoost_BAG_L1   -0.053753  ...       True         11\n",
              "9      LightGBMLarge_BAG_L1   -0.056703  ...       True         12\n",
              "10          CatBoost_BAG_L1   -0.058342  ...       True         10\n",
              "11    KNeighborsDist_BAG_L1   -0.084890  ...       True          3\n",
              "12    KNeighborsUnif_BAG_L1   -0.119305  ...       True          2\n",
              "\n",
              "[13 rows x 12 columns]"
            ]
          },
          "metadata": {
            "tags": []
          },
          "execution_count": 246
        }
      ]
    },
    {
      "cell_type": "code",
      "metadata": {
        "colab": {
          "base_uri": "https://localhost:8080/",
          "height": 1000
        },
        "id": "JlyLzrUcyvH_",
        "outputId": "04e54ee9-2823-4a87-d907-3091e35605a3"
      },
      "source": [
        "time_limit = 60  # for quick demonstration only, you should set this to longest time you are willing to wait (in seconds)\n",
        "metric = 'mean_squared_error'  # specify your evaluation metric here\n",
        "predictor = TabularPredictor(label, eval_metric=metric).fit(train_data, time_limit=time_limit, presets='best_quality')\n",
        "predictor.leaderboard(test_data, silent=True)"
      ],
      "execution_count": 245,
      "outputs": [
        {
          "output_type": "stream",
          "text": [
            "No path specified. Models will be saved in: \"AutogluonModels/ag-20210309_021210/\"\n",
            "Presets specified: ['best_quality']\n",
            "Beginning AutoGluon training ... Time limit = 60s\n",
            "AutoGluon will save models to \"AutogluonModels/ag-20210309_021210/\"\n",
            "AutoGluon Version:  0.1.0\n",
            "Train Data Rows:    500\n",
            "Train Data Columns: 3\n",
            "Preprocessing data ...\n",
            "AutoGluon infers your prediction problem is: 'multiclass' (because dtype of label-column == int, but few unique label-values observed).\n",
            "\t5 unique label values:  [1, 4, 3, 0, 2]\n",
            "\tIf 'multiclass' is not the correct problem_type, please manually specify the problem_type argument in fit() (You may specify problem_type as one of: ['binary', 'multiclass', 'regression'])\n",
            "Train Data Class Count: 5\n",
            "Using Feature Generators to preprocess the data ...\n",
            "Fitting AutoMLPipelineFeatureGenerator...\n",
            "\tAvailable Memory:                    12424.05 MB\n",
            "\tTrain Data (Original)  Memory Usage: 0.04 MB (0.0% of available memory)\n",
            "\tInferring data type of each feature based on column values. Set feature_metadata_in to manually specify special dtypes of the features.\n",
            "\tStage 1 Generators:\n",
            "\t\tFitting AsTypeFeatureGenerator...\n",
            "\tStage 2 Generators:\n",
            "\t\tFitting FillNaFeatureGenerator...\n",
            "\tStage 3 Generators:\n",
            "\t\tFitting IdentityFeatureGenerator...\n",
            "\t\tFitting CategoryFeatureGenerator...\n",
            "\t\t\tFitting CategoryMemoryMinimizeFeatureGenerator...\n",
            "\tStage 4 Generators:\n",
            "\t\tFitting DropUniqueFeatureGenerator...\n",
            "\tUnused Original Features (Count: 1): ['name']\n",
            "\t\tThese features were not used to generate any of the output features. Add a feature generator compatible with these features to utilize them.\n",
            "\t\tFeatures can also be unused if they carry very little information, such as being categorical but having almost entirely unique values or being duplicates of other features.\n",
            "\t\tThese features do not need to be present at inference time.\n",
            "\t\t('object', []) : 1 | ['name']\n",
            "\tTypes of features in original data (raw dtype, special dtypes):\n",
            "\t\t('float', []) : 2 | ['diameter', 'rot_per']\n",
            "\tTypes of features in processed data (raw dtype, special dtypes):\n",
            "\t\t('float', []) : 2 | ['diameter', 'rot_per']\n",
            "\t0.1s = Fit runtime\n",
            "\t2 features in original data used to generate 2 features in processed data.\n",
            "\tTrain Data (Processed) Memory Usage: 0.01 MB (0.0% of available memory)\n",
            "Data preprocessing and feature engineering runtime = 0.11s ...\n",
            "AutoGluon will gauge predictive performance using evaluation metric: 'mean_squared_error'\n",
            "\tTo change this, specify the eval_metric argument of fit()\n",
            "Fitting model: NeuralNetMXNet_BAG_L1 ... Training model for up to 59.89s of the 59.89s of remaining time.\n",
            "\t-1.778\t = Validation mean_squared_error score\n",
            "\t13.22s\t = Training runtime\n",
            "\t0.04s\t = Validation runtime\n",
            "Fitting model: NeuralNetFastAI_BAG_L1 ... Training model for up to 46.59s of the 46.58s of remaining time.\n"
          ],
          "name": "stderr"
        },
        {
          "output_type": "stream",
          "text": [
            ""
          ],
          "name": "stdout"
        },
        {
          "output_type": "stream",
          "text": [
            "\tWarning: Exception caused NeuralNetFastAI_BAG_L1 to fail during training... Skipping this model.\n",
            "\t\tExpected output and target to have the same number of elements but got 500 and 100.\n",
            "Detailed Traceback:\n",
            "Traceback (most recent call last):\n",
            "  File \"/usr/local/lib/python3.7/dist-packages/autogluon/tabular/trainer/abstract_trainer.py\", line 911, in _train_and_save\n",
            "    model = self._train_single(X, y, model, X_val, y_val, **model_fit_kwargs)\n",
            "  File \"/usr/local/lib/python3.7/dist-packages/autogluon/tabular/trainer/abstract_trainer.py\", line 881, in _train_single\n",
            "    model.fit(X=X, y=y, **model_fit_kwargs)\n",
            "  File \"/usr/local/lib/python3.7/dist-packages/autogluon/core/models/abstract/abstract_model.py\", line 405, in fit\n",
            "    self._fit(**kwargs)\n",
            "  File \"/usr/local/lib/python3.7/dist-packages/autogluon/core/models/ensemble/stacker_ensemble_model.py\", line 142, in _fit\n",
            "    super()._fit(X=X, y=y, time_limit=time_limit, **kwargs)\n",
            "  File \"/usr/local/lib/python3.7/dist-packages/autogluon/core/models/ensemble/bagged_ensemble_model.py\", line 216, in _fit\n",
            "    fold_model.fit(X=X_fold, y=y_fold, X_val=X_val_fold, y_val=y_val_fold, time_limit=time_limit_fold, **kwargs_fold)\n",
            "  File \"/usr/local/lib/python3.7/dist-packages/autogluon/core/models/abstract/abstract_model.py\", line 405, in fit\n",
            "    self._fit(**kwargs)\n",
            "  File \"/usr/local/lib/python3.7/dist-packages/autogluon/tabular/models/fastainn/tabular_nn_fastai.py\", line 241, in _fit\n",
            "    model.fit_one_cycle(params['epochs'], params['lr'], callbacks=save_callback)\n",
            "  File \"/usr/local/lib/python3.7/dist-packages/fastai/train.py\", line 23, in fit_one_cycle\n",
            "    learn.fit(cyc_len, max_lr, wd=wd, callbacks=callbacks)\n",
            "  File \"/usr/local/lib/python3.7/dist-packages/fastai/basic_train.py\", line 200, in fit\n",
            "    fit(epochs, self, metrics=self.metrics, callbacks=self.callbacks+callbacks)\n",
            "  File \"/usr/local/lib/python3.7/dist-packages/fastai/basic_train.py\", line 106, in fit\n",
            "    cb_handler=cb_handler, pbar=pbar)\n",
            "  File \"/usr/local/lib/python3.7/dist-packages/fastai/basic_train.py\", line 63, in validate\n",
            "    if cb_handler and cb_handler.on_batch_end(val_losses[-1]): break\n",
            "  File \"/usr/local/lib/python3.7/dist-packages/fastai/callback.py\", line 308, in on_batch_end\n",
            "    self('batch_end', call_mets = not self.state_dict['train'])\n",
            "  File \"/usr/local/lib/python3.7/dist-packages/fastai/callback.py\", line 250, in __call__\n",
            "    for met in self.metrics: self._call_and_update(met, cb_name, **kwargs)\n",
            "  File \"/usr/local/lib/python3.7/dist-packages/fastai/callback.py\", line 241, in _call_and_update\n",
            "    new = ifnone(getattr(cb, f'on_{cb_name}')(**self.state_dict, **kwargs), dict())\n",
            "  File \"/usr/local/lib/python3.7/dist-packages/fastai/callback.py\", line 344, in on_batch_end\n",
            "    val = self.func(last_output, *last_target)\n",
            "  File \"/usr/local/lib/python3.7/dist-packages/fastai/metrics.py\", line 82, in mean_squared_error\n",
            "    pred,targ = flatten_check(pred,targ)\n",
            "  File \"/usr/local/lib/python3.7/dist-packages/fastai/torch_core.py\", line 379, in flatten_check\n",
            "    assert len(out) == len(targ), f\"Expected output and target to have the same number of elements but got {len(out)} and {len(targ)}.\"\n",
            "AssertionError: Expected output and target to have the same number of elements but got 500 and 100.\n",
            "Fitting model: KNeighborsUnif_BAG_L1 ... Training model for up to 46.41s of the 46.41s of remaining time.\n",
            "\t-0.494\t = Validation mean_squared_error score\n",
            "\t0.01s\t = Training runtime\n",
            "\t0.51s\t = Validation runtime\n",
            "Fitting model: KNeighborsDist_BAG_L1 ... Training model for up to 45.88s of the 45.87s of remaining time.\n",
            "\t-0.38\t = Validation mean_squared_error score\n",
            "\t0.01s\t = Training runtime\n",
            "\t0.51s\t = Validation runtime\n",
            "Fitting model: RandomForestGini_BAG_L1 ... Training model for up to 45.34s of the 45.34s of remaining time.\n",
            "\tWarning: Reducing model 'n_estimators' from 300 -> 275 due to low time. Expected time usage reduced from 7.9s -> 7.3s...\n",
            "\t-0.12\t = Validation mean_squared_error score\n",
            "\t3.51s\t = Training runtime\n",
            "\t0.51s\t = Validation runtime\n",
            "Fitting model: RandomForestEntr_BAG_L1 ... Training model for up to 41.25s of the 41.24s of remaining time.\n",
            "\tWarning: Reducing model 'n_estimators' from 300 -> 254 due to low time. Expected time usage reduced from 7.8s -> 6.6s...\n",
            "\t-0.12\t = Validation mean_squared_error score\n",
            "\t3.5s\t = Training runtime\n",
            "\t0.51s\t = Validation runtime\n",
            "Fitting model: ExtraTreesGini_BAG_L1 ... Training model for up to 37.16s of the 37.16s of remaining time.\n",
            "\tWarning: Reducing model 'n_estimators' from 300 -> 224 due to low time. Expected time usage reduced from 7.9s -> 5.9s...\n",
            "\tWarning: Reducing model 'n_estimators' from 300 -> 282 due to low time. Expected time usage reduced from 7.7s -> 7.3s...\n",
            "\t-0.204\t = Validation mean_squared_error score\n",
            "\t2.68s\t = Training runtime\n",
            "\t0.51s\t = Validation runtime\n",
            "Fitting model: ExtraTreesEntr_BAG_L1 ... Training model for up to 33.87s of the 33.86s of remaining time.\n",
            "\tWarning: Reducing model 'n_estimators' from 300 -> 209 due to low time. Expected time usage reduced from 7.7s -> 5.4s...\n",
            "\tWarning: Reducing model 'n_estimators' from 300 -> 257 due to low time. Expected time usage reduced from 7.7s -> 6.7s...\n",
            "\t-0.204\t = Validation mean_squared_error score\n",
            "\t2.87s\t = Training runtime\n",
            "\t0.51s\t = Validation runtime\n",
            "Fitting model: LightGBM_BAG_L1 ... Training model for up to 30.4s of the 30.39s of remaining time.\n",
            "\t-0.156\t = Validation mean_squared_error score\n",
            "\t2.64s\t = Training runtime\n",
            "\t0.02s\t = Validation runtime\n",
            "Fitting model: LightGBMXT_BAG_L1 ... Training model for up to 27.58s of the 27.58s of remaining time.\n",
            "\t-0.192\t = Validation mean_squared_error score\n",
            "\t2.45s\t = Training runtime\n",
            "\t0.02s\t = Validation runtime\n",
            "Fitting model: CatBoost_BAG_L1 ... Training model for up to 25.02s of the 25.02s of remaining time.\n",
            "\t-0.09\t = Validation mean_squared_error score\n",
            "\t3.99s\t = Training runtime\n",
            "\t0.0s\t = Validation runtime\n",
            "Fitting model: XGBoost_BAG_L1 ... Training model for up to 21.0s of the 21.0s of remaining time.\n"
          ],
          "name": "stderr"
        },
        {
          "output_type": "stream",
          "text": [
            "[02:12:49] WARNING: ../src/learner.cc:1061: Starting in XGBoost 1.3.0, the default evaluation metric used with the objective 'multi:softprob' was changed from 'merror' to 'mlogloss'. Explicitly set eval_metric if you'd like to restore the old behavior.\n",
            "[02:12:49] WARNING: ../src/learner.cc:1061: Starting in XGBoost 1.3.0, the default evaluation metric used with the objective 'multi:softprob' was changed from 'merror' to 'mlogloss'. Explicitly set eval_metric if you'd like to restore the old behavior.\n",
            "[02:12:50] WARNING: ../src/learner.cc:1061: Starting in XGBoost 1.3.0, the default evaluation metric used with the objective 'multi:softprob' was changed from 'merror' to 'mlogloss'. Explicitly set eval_metric if you'd like to restore the old behavior.\n",
            "[02:12:50] WARNING: ../src/learner.cc:1061: Starting in XGBoost 1.3.0, the default evaluation metric used with the objective 'multi:softprob' was changed from 'merror' to 'mlogloss'. Explicitly set eval_metric if you'd like to restore the old behavior.\n",
            "[02:12:50] WARNING: ../src/learner.cc:1061: Starting in XGBoost 1.3.0, the default evaluation metric used with the objective 'multi:softprob' was changed from 'merror' to 'mlogloss'. Explicitly set eval_metric if you'd like to restore the old behavior.\n"
          ],
          "name": "stdout"
        },
        {
          "output_type": "stream",
          "text": [
            "\t-0.144\t = Validation mean_squared_error score\n",
            "\t1.33s\t = Training runtime\n",
            "\t0.02s\t = Validation runtime\n",
            "Fitting model: LightGBMLarge_BAG_L1 ... Training model for up to 19.52s of the 19.52s of remaining time.\n",
            "\t-0.188\t = Validation mean_squared_error score\n",
            "\t3.63s\t = Training runtime\n",
            "\t0.02s\t = Validation runtime\n",
            "Completed 1/20 k-fold bagging repeats ...\n",
            "Fitting model: WeightedEnsemble_L2 ... Training model for up to 59.89s of the 15.5s of remaining time.\n",
            "\t-0.088\t = Validation mean_squared_error score\n",
            "\t0.38s\t = Training runtime\n",
            "\t0.0s\t = Validation runtime\n",
            "AutoGluon training complete, total runtime = 44.89s ...\n",
            "TabularPredictor saved. To load, use: predictor = TabularPredictor.load(\"AutogluonModels/ag-20210309_021210/\")\n"
          ],
          "name": "stderr"
        },
        {
          "output_type": "execute_result",
          "data": {
            "text/html": [
              "<div>\n",
              "<style scoped>\n",
              "    .dataframe tbody tr th:only-of-type {\n",
              "        vertical-align: middle;\n",
              "    }\n",
              "\n",
              "    .dataframe tbody tr th {\n",
              "        vertical-align: top;\n",
              "    }\n",
              "\n",
              "    .dataframe thead th {\n",
              "        text-align: right;\n",
              "    }\n",
              "</style>\n",
              "<table border=\"1\" class=\"dataframe\">\n",
              "  <thead>\n",
              "    <tr style=\"text-align: right;\">\n",
              "      <th></th>\n",
              "      <th>model</th>\n",
              "      <th>score_test</th>\n",
              "      <th>score_val</th>\n",
              "      <th>pred_time_test</th>\n",
              "      <th>pred_time_val</th>\n",
              "      <th>fit_time</th>\n",
              "      <th>pred_time_test_marginal</th>\n",
              "      <th>pred_time_val_marginal</th>\n",
              "      <th>fit_time_marginal</th>\n",
              "      <th>stack_level</th>\n",
              "      <th>can_infer</th>\n",
              "      <th>fit_order</th>\n",
              "    </tr>\n",
              "  </thead>\n",
              "  <tbody>\n",
              "    <tr>\n",
              "      <th>0</th>\n",
              "      <td>NeuralNetMXNet_BAG_L1</td>\n",
              "      <td>-0.109472</td>\n",
              "      <td>-1.778</td>\n",
              "      <td>0.416027</td>\n",
              "      <td>0.038669</td>\n",
              "      <td>13.215127</td>\n",
              "      <td>0.416027</td>\n",
              "      <td>0.038669</td>\n",
              "      <td>13.215127</td>\n",
              "      <td>1</td>\n",
              "      <td>True</td>\n",
              "      <td>1</td>\n",
              "    </tr>\n",
              "    <tr>\n",
              "      <th>1</th>\n",
              "      <td>ExtraTreesGini_BAG_L1</td>\n",
              "      <td>-0.112094</td>\n",
              "      <td>-0.204</td>\n",
              "      <td>0.966699</td>\n",
              "      <td>0.508420</td>\n",
              "      <td>2.676616</td>\n",
              "      <td>0.966699</td>\n",
              "      <td>0.508420</td>\n",
              "      <td>2.676616</td>\n",
              "      <td>1</td>\n",
              "      <td>True</td>\n",
              "      <td>6</td>\n",
              "    </tr>\n",
              "    <tr>\n",
              "      <th>2</th>\n",
              "      <td>ExtraTreesEntr_BAG_L1</td>\n",
              "      <td>-0.117339</td>\n",
              "      <td>-0.204</td>\n",
              "      <td>0.970702</td>\n",
              "      <td>0.508191</td>\n",
              "      <td>2.865288</td>\n",
              "      <td>0.970702</td>\n",
              "      <td>0.508191</td>\n",
              "      <td>2.865288</td>\n",
              "      <td>1</td>\n",
              "      <td>True</td>\n",
              "      <td>7</td>\n",
              "    </tr>\n",
              "    <tr>\n",
              "      <th>3</th>\n",
              "      <td>RandomForestGini_BAG_L1</td>\n",
              "      <td>-0.124549</td>\n",
              "      <td>-0.120</td>\n",
              "      <td>1.057098</td>\n",
              "      <td>0.508172</td>\n",
              "      <td>3.508025</td>\n",
              "      <td>1.057098</td>\n",
              "      <td>0.508172</td>\n",
              "      <td>3.508025</td>\n",
              "      <td>1</td>\n",
              "      <td>True</td>\n",
              "      <td>4</td>\n",
              "    </tr>\n",
              "    <tr>\n",
              "      <th>4</th>\n",
              "      <td>RandomForestEntr_BAG_L1</td>\n",
              "      <td>-0.125533</td>\n",
              "      <td>-0.120</td>\n",
              "      <td>0.950948</td>\n",
              "      <td>0.507935</td>\n",
              "      <td>3.501137</td>\n",
              "      <td>0.950948</td>\n",
              "      <td>0.507935</td>\n",
              "      <td>3.501137</td>\n",
              "      <td>1</td>\n",
              "      <td>True</td>\n",
              "      <td>5</td>\n",
              "    </tr>\n",
              "    <tr>\n",
              "      <th>5</th>\n",
              "      <td>LightGBM_BAG_L1</td>\n",
              "      <td>-0.131432</td>\n",
              "      <td>-0.156</td>\n",
              "      <td>0.255788</td>\n",
              "      <td>0.016624</td>\n",
              "      <td>2.641274</td>\n",
              "      <td>0.255788</td>\n",
              "      <td>0.016624</td>\n",
              "      <td>2.641274</td>\n",
              "      <td>1</td>\n",
              "      <td>True</td>\n",
              "      <td>8</td>\n",
              "    </tr>\n",
              "    <tr>\n",
              "      <th>6</th>\n",
              "      <td>WeightedEnsemble_L2</td>\n",
              "      <td>-0.132416</td>\n",
              "      <td>-0.088</td>\n",
              "      <td>0.445189</td>\n",
              "      <td>0.043529</td>\n",
              "      <td>17.580544</td>\n",
              "      <td>0.003078</td>\n",
              "      <td>0.000511</td>\n",
              "      <td>0.377047</td>\n",
              "      <td>2</td>\n",
              "      <td>True</td>\n",
              "      <td>13</td>\n",
              "    </tr>\n",
              "    <tr>\n",
              "      <th>7</th>\n",
              "      <td>XGBoost_BAG_L1</td>\n",
              "      <td>-0.138971</td>\n",
              "      <td>-0.144</td>\n",
              "      <td>0.259155</td>\n",
              "      <td>0.019141</td>\n",
              "      <td>1.325225</td>\n",
              "      <td>0.259155</td>\n",
              "      <td>0.019141</td>\n",
              "      <td>1.325225</td>\n",
              "      <td>1</td>\n",
              "      <td>True</td>\n",
              "      <td>11</td>\n",
              "    </tr>\n",
              "    <tr>\n",
              "      <th>8</th>\n",
              "      <td>LightGBMLarge_BAG_L1</td>\n",
              "      <td>-0.141265</td>\n",
              "      <td>-0.188</td>\n",
              "      <td>0.383774</td>\n",
              "      <td>0.019693</td>\n",
              "      <td>3.631752</td>\n",
              "      <td>0.383774</td>\n",
              "      <td>0.019693</td>\n",
              "      <td>3.631752</td>\n",
              "      <td>1</td>\n",
              "      <td>True</td>\n",
              "      <td>12</td>\n",
              "    </tr>\n",
              "    <tr>\n",
              "      <th>9</th>\n",
              "      <td>CatBoost_BAG_L1</td>\n",
              "      <td>-0.154703</td>\n",
              "      <td>-0.090</td>\n",
              "      <td>0.026085</td>\n",
              "      <td>0.004349</td>\n",
              "      <td>3.988369</td>\n",
              "      <td>0.026085</td>\n",
              "      <td>0.004349</td>\n",
              "      <td>3.988369</td>\n",
              "      <td>1</td>\n",
              "      <td>True</td>\n",
              "      <td>10</td>\n",
              "    </tr>\n",
              "    <tr>\n",
              "      <th>10</th>\n",
              "      <td>LightGBMXT_BAG_L1</td>\n",
              "      <td>-0.169125</td>\n",
              "      <td>-0.192</td>\n",
              "      <td>0.349288</td>\n",
              "      <td>0.018804</td>\n",
              "      <td>2.450274</td>\n",
              "      <td>0.349288</td>\n",
              "      <td>0.018804</td>\n",
              "      <td>2.450274</td>\n",
              "      <td>1</td>\n",
              "      <td>True</td>\n",
              "      <td>9</td>\n",
              "    </tr>\n",
              "    <tr>\n",
              "      <th>11</th>\n",
              "      <td>KNeighborsDist_BAG_L1</td>\n",
              "      <td>-0.255326</td>\n",
              "      <td>-0.380</td>\n",
              "      <td>0.516390</td>\n",
              "      <td>0.507956</td>\n",
              "      <td>0.008527</td>\n",
              "      <td>0.516390</td>\n",
              "      <td>0.507956</td>\n",
              "      <td>0.008527</td>\n",
              "      <td>1</td>\n",
              "      <td>True</td>\n",
              "      <td>3</td>\n",
              "    </tr>\n",
              "    <tr>\n",
              "      <th>12</th>\n",
              "      <td>KNeighborsUnif_BAG_L1</td>\n",
              "      <td>-0.371026</td>\n",
              "      <td>-0.494</td>\n",
              "      <td>0.514552</td>\n",
              "      <td>0.508352</td>\n",
              "      <td>0.010144</td>\n",
              "      <td>0.514552</td>\n",
              "      <td>0.508352</td>\n",
              "      <td>0.010144</td>\n",
              "      <td>1</td>\n",
              "      <td>True</td>\n",
              "      <td>2</td>\n",
              "    </tr>\n",
              "  </tbody>\n",
              "</table>\n",
              "</div>"
            ],
            "text/plain": [
              "                      model  score_test  ...  can_infer  fit_order\n",
              "0     NeuralNetMXNet_BAG_L1   -0.109472  ...       True          1\n",
              "1     ExtraTreesGini_BAG_L1   -0.112094  ...       True          6\n",
              "2     ExtraTreesEntr_BAG_L1   -0.117339  ...       True          7\n",
              "3   RandomForestGini_BAG_L1   -0.124549  ...       True          4\n",
              "4   RandomForestEntr_BAG_L1   -0.125533  ...       True          5\n",
              "5           LightGBM_BAG_L1   -0.131432  ...       True          8\n",
              "6       WeightedEnsemble_L2   -0.132416  ...       True         13\n",
              "7            XGBoost_BAG_L1   -0.138971  ...       True         11\n",
              "8      LightGBMLarge_BAG_L1   -0.141265  ...       True         12\n",
              "9           CatBoost_BAG_L1   -0.154703  ...       True         10\n",
              "10        LightGBMXT_BAG_L1   -0.169125  ...       True          9\n",
              "11    KNeighborsDist_BAG_L1   -0.255326  ...       True          3\n",
              "12    KNeighborsUnif_BAG_L1   -0.371026  ...       True          2\n",
              "\n",
              "[13 rows x 12 columns]"
            ]
          },
          "metadata": {
            "tags": []
          },
          "execution_count": 245
        }
      ]
    }
  ]
}