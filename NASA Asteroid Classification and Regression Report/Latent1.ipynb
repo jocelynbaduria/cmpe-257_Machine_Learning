{
  "nbformat": 4,
  "nbformat_minor": 0,
  "metadata": {
    "colab": {
      "name": "Latent1.ipynb",
      "provenance": [],
      "authorship_tag": "ABX9TyMughZN/2Z20Hpa8cpOvKFh",
      "include_colab_link": true
    },
    "kernelspec": {
      "name": "python3",
      "display_name": "Python 3"
    },
    "language_info": {
      "name": "python"
    }
  },
  "cells": [
    {
      "cell_type": "markdown",
      "metadata": {
        "id": "view-in-github",
        "colab_type": "text"
      },
      "source": [
        "<a href=\"https://colab.research.google.com/github/jocelynbaduria/cmpe-257_Numeric_Project/blob/main/Latent1.ipynb\" target=\"_parent\"><img src=\"https://colab.research.google.com/assets/colab-badge.svg\" alt=\"Open In Colab\"/></a>"
      ]
    },
    {
      "cell_type": "code",
      "metadata": {
        "id": "KynbTQ7tscKa"
      },
      "source": [
        "import requests\n",
        "import json\n",
        "import csv\n",
        "import re\n",
        "import pandas as pd\n"
      ],
      "execution_count": null,
      "outputs": []
    },
    {
      "cell_type": "code",
      "metadata": {
        "colab": {
          "base_uri": "https://localhost:8080/"
        },
        "id": "DNl1cBVBstSq",
        "outputId": "2ee4ba70-1165-417d-9291-6ca7a30be859"
      },
      "source": [
        "from google.colab import drive\n",
        "drive.mount('/content/drive')\n"
      ],
      "execution_count": null,
      "outputs": [
        {
          "output_type": "stream",
          "text": [
            "Drive already mounted at /content/drive; to attempt to forcibly remount, call drive.mount(\"/content/drive\", force_remount=True).\n"
          ],
          "name": "stdout"
        }
      ]
    },
    {
      "cell_type": "code",
      "metadata": {
        "id": "O3Ahci4zswCp"
      },
      "source": [
        "def get_astroid_data(astroid_name: str):\n",
        "    astroid_name = astroid_name.replace(\" \",\"%20\")\n",
        "    base_url: str = f\"https://ssd-api.jpl.nasa.gov/sbdb.api?sstr={astroid_name}\"\n",
        "    r = requests.request(\"GET\", base_url)\n",
        "    return json.loads(r.text)"
      ],
      "execution_count": null,
      "outputs": []
    },
    {
      "cell_type": "code",
      "metadata": {
        "id": "GkqA44YIyeRU"
      },
      "source": [
        "def _return_object_data(record):\n",
        "    result = dict()\n",
        "    object_json = record.get(\"object\")\n",
        "    result.update(des=object_json.get(\"des\"))\n",
        "    result.update(fullname=object_json.get(\"fullname\"))\n",
        "    result.update(neo=object_json.get(\"neo\"))\n",
        "    result.update(pha=object_json.get(\"pha\"))\n",
        "    result.update(spkid=object_json.get(\"spkid\"))\n",
        "    result.update(moid=record.get(\"orbit\").get(\"moid\"))\n",
        "    return result"
      ],
      "execution_count": null,
      "outputs": []
    },
    {
      "cell_type": "code",
      "metadata": {
        "id": "RZIAWjagyivC"
      },
      "source": [
        "def _return_orbit_data(record):\n",
        "    record_data = record.get(\"orbit\").get(\"elements\")\n",
        "    result = dict()\n",
        "    for row in record_data:\n",
        "        result[row.get(\"name\")]=row.get(\"value\")\n",
        "    return result"
      ],
      "execution_count": null,
      "outputs": []
    },
    {
      "cell_type": "code",
      "metadata": {
        "id": "yOVA0tStyoDf"
      },
      "source": [
        "def _unnest_json(astroid_data):\n",
        "    #object - des, fullname, neo, pha, spkid, moid\n",
        "    #orbit/elements - name, value\n",
        "    transformed_json = dict()\n",
        "    transformed_json.update(_return_object_data(astroid_data))\n",
        "    transformed_json.update(_return_orbit_data(astroid_data))\n",
        "    return transformed_json"
      ],
      "execution_count": null,
      "outputs": []
    },
    {
      "cell_type": "code",
      "metadata": {
        "id": "AxnuQ-qKzWIk"
      },
      "source": [
        "path = '/content/drive/MyDrive/Colab Notebooks/MLSpring-2021/teams/Underdog/Midterm-Project/Data/Data_Created/cneos_sentry_cleaned.csv'\n",
        "\n",
        "df_impact = pd.read_csv(path)"
      ],
      "execution_count": null,
      "outputs": []
    },
    {
      "cell_type": "code",
      "metadata": {
        "colab": {
          "base_uri": "https://localhost:8080/"
        },
        "id": "2EEuKTYjzuES",
        "outputId": "8a593a2d-dab7-48ec-dfea-35abb1c96861"
      },
      "source": [
        "names = list()\n",
        "for name in df_impact['Name']:\n",
        "  result = re.search(r'\\((.*?)\\)',name).group(1)\n",
        "  names.append(result)\n",
        "names"
      ],
      "execution_count": null,
      "outputs": [
        {
          "output_type": "execute_result",
          "data": {
            "text/plain": [
              "['1950 DA', '1999 RQ36', '1979 XB', '2000 SG344', '2009 JF1']"
            ]
          },
          "metadata": {
            "tags": []
          },
          "execution_count": 29
        }
      ]
    },
    {
      "cell_type": "code",
      "metadata": {
        "id": "aeIaookZ0wqq"
      },
      "source": [
        "asteroid_data =[get_astroid_data(name) for name in names]\n",
        "transformed_data = [_unnest_json(a_data) for a_data in asteroid_data]"
      ],
      "execution_count": null,
      "outputs": []
    },
    {
      "cell_type": "code",
      "metadata": {
        "colab": {
          "base_uri": "https://localhost:8080/"
        },
        "id": "OKOg13dt1MG0",
        "outputId": "c852baf3-71b8-48dd-f632-da05ab4722af"
      },
      "source": [
        "transformed_data[:5]"
      ],
      "execution_count": null,
      "outputs": [
        {
          "output_type": "execute_result",
          "data": {
            "text/plain": [
              "[{'a': '1.7',\n",
              "  'ad': '2.56',\n",
              "  'des': '29075',\n",
              "  'e': '0.508',\n",
              "  'fullname': '29075 (1950 DA)',\n",
              "  'i': '12.2',\n",
              "  'ma': '320',\n",
              "  'moid': '0.0401',\n",
              "  'n': '0.445',\n",
              "  'neo': True,\n",
              "  'om': '357',\n",
              "  'per': '809',\n",
              "  'pha': True,\n",
              "  'q': '0.836',\n",
              "  'spkid': '2029075',\n",
              "  'tp': '2459290.524',\n",
              "  'w': '225'},\n",
              " {'a': '1.13',\n",
              "  'ad': '1.36',\n",
              "  'des': '101955',\n",
              "  'e': '0.204',\n",
              "  'fullname': '101955 Bennu (1999 RQ36)',\n",
              "  'i': '6.03',\n",
              "  'ma': '102',\n",
              "  'moid': '0.00322',\n",
              "  'n': '0.824',\n",
              "  'neo': True,\n",
              "  'om': '2.06',\n",
              "  'per': '437',\n",
              "  'pha': True,\n",
              "  'q': '0.897',\n",
              "  'spkid': '2101955',\n",
              "  'tp': '2455439.142',\n",
              "  'w': '66.2'},\n",
              " {'a': '2.23',\n",
              "  'ad': '3.81',\n",
              "  'des': '1979 XB',\n",
              "  'e': '0.708',\n",
              "  'fullname': '(1979 XB)',\n",
              "  'i': '24.7',\n",
              "  'ma': '346',\n",
              "  'moid': '0.0239',\n",
              "  'n': '0.296',\n",
              "  'neo': True,\n",
              "  'om': '86.1',\n",
              "  'per': '1210',\n",
              "  'pha': True,\n",
              "  'q': '0.65',\n",
              "  'spkid': '3012393',\n",
              "  'tp': '2444267.667',\n",
              "  'w': '75.6'},\n",
              " {'a': '0.977',\n",
              "  'ad': '1.04',\n",
              "  'des': '2000 SG344',\n",
              "  'e': '0.0669',\n",
              "  'fullname': '(2000 SG344)',\n",
              "  'i': '0.112',\n",
              "  'ma': '240',\n",
              "  'moid': '0.000903',\n",
              "  'n': '1.02',\n",
              "  'neo': True,\n",
              "  'om': '192',\n",
              "  'per': '353',\n",
              "  'pha': False,\n",
              "  'q': '0.912',\n",
              "  'spkid': '3054374',\n",
              "  'tp': '2459318.496',\n",
              "  'w': '275'},\n",
              " {'a': '1.89',\n",
              "  'ad': '3.29',\n",
              "  'des': '2009 JF1',\n",
              "  'e': '0.738',\n",
              "  'fullname': '(2009 JF1)',\n",
              "  'i': '6.15',\n",
              "  'ma': '149',\n",
              "  'moid': '0.000194',\n",
              "  'n': '0.378',\n",
              "  'neo': True,\n",
              "  'om': '45.6',\n",
              "  'per': '951',\n",
              "  'pha': False,\n",
              "  'q': '0.496',\n",
              "  'spkid': '3459473',\n",
              "  'tp': '2458806.998',\n",
              "  'w': '281'}]"
            ]
          },
          "metadata": {
            "tags": []
          },
          "execution_count": 34
        }
      ]
    },
    {
      "cell_type": "code",
      "metadata": {
        "colab": {
          "base_uri": "https://localhost:8080/"
        },
        "id": "K1JYftxP1Qez",
        "outputId": "79fdaf36-14eb-4958-9dcb-0d7107736289"
      },
      "source": [
        "df_latent = pd.DataFrame(transformed_data)\n",
        "df_latent.info()"
      ],
      "execution_count": null,
      "outputs": [
        {
          "output_type": "stream",
          "text": [
            "<class 'pandas.core.frame.DataFrame'>\n",
            "RangeIndex: 1149 entries, 0 to 1148\n",
            "Data columns (total 17 columns):\n",
            " #   Column    Non-Null Count  Dtype \n",
            "---  ------    --------------  ----- \n",
            " 0   des       1149 non-null   object\n",
            " 1   fullname  1149 non-null   object\n",
            " 2   neo       1149 non-null   bool  \n",
            " 3   pha       1149 non-null   bool  \n",
            " 4   spkid     1149 non-null   object\n",
            " 5   moid      1149 non-null   object\n",
            " 6   e         1149 non-null   object\n",
            " 7   a         1149 non-null   object\n",
            " 8   q         1149 non-null   object\n",
            " 9   i         1149 non-null   object\n",
            " 10  om        1149 non-null   object\n",
            " 11  w         1149 non-null   object\n",
            " 12  ma        1149 non-null   object\n",
            " 13  tp        1149 non-null   object\n",
            " 14  per       1149 non-null   object\n",
            " 15  n         1149 non-null   object\n",
            " 16  ad        1149 non-null   object\n",
            "dtypes: bool(2), object(15)\n",
            "memory usage: 137.0+ KB\n"
          ],
          "name": "stdout"
        }
      ]
    },
    {
      "cell_type": "code",
      "metadata": {
        "id": "1E-_Tfwa_wG4"
      },
      "source": [
        "path = '/content/drive/MyDrive/Colab Notebooks/MLSpring-2021/teams/Underdog/Midterm-Project/Data/Data_Created/latent_orbit.csv'\n",
        "df_latent.to_csv(path, index=False)"
      ],
      "execution_count": null,
      "outputs": []
    }
  ]
}