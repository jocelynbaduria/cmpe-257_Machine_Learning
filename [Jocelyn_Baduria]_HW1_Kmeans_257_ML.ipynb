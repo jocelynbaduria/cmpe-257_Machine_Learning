{
  "nbformat": 4,
  "nbformat_minor": 0,
  "metadata": {
    "colab": {
      "name": " [Jocelyn_Baduria] HW1_Kmeans_257_ML.ipynb",
      "provenance": [],
      "collapsed_sections": [],
      "toc_visible": true,
      "authorship_tag": "ABX9TyPHe/Xcu64B0fe6JCkmDzlw",
      "include_colab_link": true
    },
    "kernelspec": {
      "name": "python3",
      "display_name": "Python 3"
    }
  },
  "cells": [
    {
      "cell_type": "markdown",
      "metadata": {
        "id": "view-in-github",
        "colab_type": "text"
      },
      "source": [
        "<a href=\"https://colab.research.google.com/github/jocelynbaduria/cmpe-257_Machine_Learning/blob/main/%5BJocelyn_Baduria%5D_HW1_Kmeans_257_ML.ipynb\" target=\"_parent\"><img src=\"https://colab.research.google.com/assets/colab-badge.svg\" alt=\"Open In Colab\"/></a>"
      ]
    },
    {
      "cell_type": "markdown",
      "metadata": {
        "id": "wMu65bhx7wI1"
      },
      "source": [
        "# 1. Data Wrangling "
      ]
    },
    {
      "cell_type": "code",
      "metadata": {
        "colab": {
          "base_uri": "https://localhost:8080/"
        },
        "id": "Z7jNuEmj7W4g",
        "outputId": "0f04761d-b903-498a-bbd9-a05a0e817bde"
      },
      "source": [
        "from google.colab import drive\n",
        "drive.mount('/content/drive')"
      ],
      "execution_count": 6,
      "outputs": [
        {
          "output_type": "stream",
          "text": [
            "Mounted at /content/drive\n"
          ],
          "name": "stdout"
        }
      ]
    },
    {
      "cell_type": "markdown",
      "metadata": {
        "id": "gCjz4Jkj9M8D"
      },
      "source": [
        "## Import Libraries and Read the Data from CSV"
      ]
    },
    {
      "cell_type": "code",
      "metadata": {
        "id": "8k7OC14z9SFr"
      },
      "source": [
        "import numpy as np\n",
        "import pandas as pd\n",
        "import seaborn as sns\n",
        "import matplotlib.pyplot as plt"
      ],
      "execution_count": 7,
      "outputs": []
    },
    {
      "cell_type": "code",
      "metadata": {
        "colab": {
          "base_uri": "https://localhost:8080/"
        },
        "id": "pyGoejdPAJxg",
        "outputId": "b92016a0-8197-4ea3-f1a3-4c2129b0295c"
      },
      "source": [
        "path = '/content/drive/My Drive/Asteroid_Updated.csv'\n",
        "\n",
        "data = pd.read_csv(path)"
      ],
      "execution_count": 8,
      "outputs": [
        {
          "output_type": "stream",
          "text": [
            "/usr/local/lib/python3.6/dist-packages/IPython/core/interactiveshell.py:2718: DtypeWarning: Columns (0,10,15,16,23,24) have mixed types.Specify dtype option on import or set low_memory=False.\n",
            "  interactivity=interactivity, compiler=compiler, result=result)\n"
          ],
          "name": "stderr"
        }
      ]
    },
    {
      "cell_type": "code",
      "metadata": {
        "colab": {
          "base_uri": "https://localhost:8080/",
          "height": 413
        },
        "id": "b-eNhMne9e4K",
        "outputId": "7e60c531-ed6e-49af-e390-86f51e35890d"
      },
      "source": [
        "data.head(10)"
      ],
      "execution_count": 9,
      "outputs": [
        {
          "output_type": "execute_result",
          "data": {
            "text/html": [
              "<div>\n",
              "<style scoped>\n",
              "    .dataframe tbody tr th:only-of-type {\n",
              "        vertical-align: middle;\n",
              "    }\n",
              "\n",
              "    .dataframe tbody tr th {\n",
              "        vertical-align: top;\n",
              "    }\n",
              "\n",
              "    .dataframe thead th {\n",
              "        text-align: right;\n",
              "    }\n",
              "</style>\n",
              "<table border=\"1\" class=\"dataframe\">\n",
              "  <thead>\n",
              "    <tr style=\"text-align: right;\">\n",
              "      <th></th>\n",
              "      <th>name</th>\n",
              "      <th>a</th>\n",
              "      <th>e</th>\n",
              "      <th>i</th>\n",
              "      <th>om</th>\n",
              "      <th>w</th>\n",
              "      <th>q</th>\n",
              "      <th>ad</th>\n",
              "      <th>per_y</th>\n",
              "      <th>data_arc</th>\n",
              "      <th>condition_code</th>\n",
              "      <th>n_obs_used</th>\n",
              "      <th>H</th>\n",
              "      <th>neo</th>\n",
              "      <th>pha</th>\n",
              "      <th>diameter</th>\n",
              "      <th>extent</th>\n",
              "      <th>albedo</th>\n",
              "      <th>rot_per</th>\n",
              "      <th>GM</th>\n",
              "      <th>BV</th>\n",
              "      <th>UB</th>\n",
              "      <th>IR</th>\n",
              "      <th>spec_B</th>\n",
              "      <th>spec_T</th>\n",
              "      <th>G</th>\n",
              "      <th>moid</th>\n",
              "      <th>class</th>\n",
              "      <th>n</th>\n",
              "      <th>per</th>\n",
              "      <th>ma</th>\n",
              "    </tr>\n",
              "  </thead>\n",
              "  <tbody>\n",
              "    <tr>\n",
              "      <th>0</th>\n",
              "      <td>Ceres</td>\n",
              "      <td>2.769165</td>\n",
              "      <td>0.076009</td>\n",
              "      <td>10.594067</td>\n",
              "      <td>80.305532</td>\n",
              "      <td>73.597694</td>\n",
              "      <td>2.558684</td>\n",
              "      <td>2.979647</td>\n",
              "      <td>4.608202</td>\n",
              "      <td>8822.0</td>\n",
              "      <td>0</td>\n",
              "      <td>1002</td>\n",
              "      <td>3.34</td>\n",
              "      <td>N</td>\n",
              "      <td>N</td>\n",
              "      <td>939.4</td>\n",
              "      <td>964.4 x 964.2 x 891.8</td>\n",
              "      <td>0.0900</td>\n",
              "      <td>9.074170</td>\n",
              "      <td>62.6284</td>\n",
              "      <td>0.713</td>\n",
              "      <td>0.426</td>\n",
              "      <td>NaN</td>\n",
              "      <td>C</td>\n",
              "      <td>G</td>\n",
              "      <td>0.12</td>\n",
              "      <td>1.594780</td>\n",
              "      <td>MBA</td>\n",
              "      <td>0.213885</td>\n",
              "      <td>1683.145708</td>\n",
              "      <td>77.372096</td>\n",
              "    </tr>\n",
              "    <tr>\n",
              "      <th>1</th>\n",
              "      <td>Pallas</td>\n",
              "      <td>2.772466</td>\n",
              "      <td>0.230337</td>\n",
              "      <td>34.836234</td>\n",
              "      <td>173.080063</td>\n",
              "      <td>310.048857</td>\n",
              "      <td>2.133865</td>\n",
              "      <td>3.411067</td>\n",
              "      <td>4.616444</td>\n",
              "      <td>72318.0</td>\n",
              "      <td>0</td>\n",
              "      <td>8490</td>\n",
              "      <td>4.13</td>\n",
              "      <td>N</td>\n",
              "      <td>N</td>\n",
              "      <td>545</td>\n",
              "      <td>582x556x500</td>\n",
              "      <td>0.1010</td>\n",
              "      <td>7.813200</td>\n",
              "      <td>14.3000</td>\n",
              "      <td>0.635</td>\n",
              "      <td>0.284</td>\n",
              "      <td>NaN</td>\n",
              "      <td>B</td>\n",
              "      <td>B</td>\n",
              "      <td>0.11</td>\n",
              "      <td>1.233240</td>\n",
              "      <td>MBA</td>\n",
              "      <td>0.213503</td>\n",
              "      <td>1686.155999</td>\n",
              "      <td>59.699133</td>\n",
              "    </tr>\n",
              "    <tr>\n",
              "      <th>2</th>\n",
              "      <td>Juno</td>\n",
              "      <td>2.669150</td>\n",
              "      <td>0.256942</td>\n",
              "      <td>12.988919</td>\n",
              "      <td>169.852760</td>\n",
              "      <td>248.138626</td>\n",
              "      <td>1.983332</td>\n",
              "      <td>3.354967</td>\n",
              "      <td>4.360814</td>\n",
              "      <td>72684.0</td>\n",
              "      <td>0</td>\n",
              "      <td>7104</td>\n",
              "      <td>5.33</td>\n",
              "      <td>N</td>\n",
              "      <td>N</td>\n",
              "      <td>246.596</td>\n",
              "      <td>NaN</td>\n",
              "      <td>0.2140</td>\n",
              "      <td>7.210000</td>\n",
              "      <td>NaN</td>\n",
              "      <td>0.824</td>\n",
              "      <td>0.433</td>\n",
              "      <td>NaN</td>\n",
              "      <td>Sk</td>\n",
              "      <td>S</td>\n",
              "      <td>0.32</td>\n",
              "      <td>1.034540</td>\n",
              "      <td>MBA</td>\n",
              "      <td>0.226019</td>\n",
              "      <td>1592.787285</td>\n",
              "      <td>34.925016</td>\n",
              "    </tr>\n",
              "    <tr>\n",
              "      <th>3</th>\n",
              "      <td>Vesta</td>\n",
              "      <td>2.361418</td>\n",
              "      <td>0.088721</td>\n",
              "      <td>7.141771</td>\n",
              "      <td>103.810804</td>\n",
              "      <td>150.728541</td>\n",
              "      <td>2.151909</td>\n",
              "      <td>2.570926</td>\n",
              "      <td>3.628837</td>\n",
              "      <td>24288.0</td>\n",
              "      <td>0</td>\n",
              "      <td>9325</td>\n",
              "      <td>3.20</td>\n",
              "      <td>N</td>\n",
              "      <td>N</td>\n",
              "      <td>525.4</td>\n",
              "      <td>572.6 x 557.2 x 446.4</td>\n",
              "      <td>0.4228</td>\n",
              "      <td>5.342128</td>\n",
              "      <td>17.8000</td>\n",
              "      <td>0.782</td>\n",
              "      <td>0.492</td>\n",
              "      <td>NaN</td>\n",
              "      <td>V</td>\n",
              "      <td>V</td>\n",
              "      <td>0.32</td>\n",
              "      <td>1.139480</td>\n",
              "      <td>MBA</td>\n",
              "      <td>0.271609</td>\n",
              "      <td>1325.432765</td>\n",
              "      <td>95.861936</td>\n",
              "    </tr>\n",
              "    <tr>\n",
              "      <th>4</th>\n",
              "      <td>Astraea</td>\n",
              "      <td>2.574249</td>\n",
              "      <td>0.191095</td>\n",
              "      <td>5.366988</td>\n",
              "      <td>141.576605</td>\n",
              "      <td>358.687607</td>\n",
              "      <td>2.082324</td>\n",
              "      <td>3.066174</td>\n",
              "      <td>4.130323</td>\n",
              "      <td>63507.0</td>\n",
              "      <td>0</td>\n",
              "      <td>2916</td>\n",
              "      <td>6.85</td>\n",
              "      <td>N</td>\n",
              "      <td>N</td>\n",
              "      <td>106.699</td>\n",
              "      <td>NaN</td>\n",
              "      <td>0.2740</td>\n",
              "      <td>16.806000</td>\n",
              "      <td>NaN</td>\n",
              "      <td>0.826</td>\n",
              "      <td>0.411</td>\n",
              "      <td>NaN</td>\n",
              "      <td>S</td>\n",
              "      <td>S</td>\n",
              "      <td>NaN</td>\n",
              "      <td>1.095890</td>\n",
              "      <td>MBA</td>\n",
              "      <td>0.238632</td>\n",
              "      <td>1508.600458</td>\n",
              "      <td>282.366289</td>\n",
              "    </tr>\n",
              "    <tr>\n",
              "      <th>5</th>\n",
              "      <td>Hebe</td>\n",
              "      <td>2.425160</td>\n",
              "      <td>0.203007</td>\n",
              "      <td>14.737901</td>\n",
              "      <td>138.640203</td>\n",
              "      <td>239.807490</td>\n",
              "      <td>1.932835</td>\n",
              "      <td>2.917485</td>\n",
              "      <td>3.776755</td>\n",
              "      <td>62329.0</td>\n",
              "      <td>0</td>\n",
              "      <td>6034</td>\n",
              "      <td>5.71</td>\n",
              "      <td>N</td>\n",
              "      <td>N</td>\n",
              "      <td>185.18</td>\n",
              "      <td>NaN</td>\n",
              "      <td>0.2679</td>\n",
              "      <td>7.274500</td>\n",
              "      <td>NaN</td>\n",
              "      <td>0.822</td>\n",
              "      <td>0.399</td>\n",
              "      <td>NaN</td>\n",
              "      <td>S</td>\n",
              "      <td>S</td>\n",
              "      <td>0.24</td>\n",
              "      <td>0.973965</td>\n",
              "      <td>MBA</td>\n",
              "      <td>0.260972</td>\n",
              "      <td>1379.459705</td>\n",
              "      <td>86.197923</td>\n",
              "    </tr>\n",
              "    <tr>\n",
              "      <th>6</th>\n",
              "      <td>Iris</td>\n",
              "      <td>2.385334</td>\n",
              "      <td>0.231206</td>\n",
              "      <td>5.523651</td>\n",
              "      <td>259.563231</td>\n",
              "      <td>145.265106</td>\n",
              "      <td>1.833831</td>\n",
              "      <td>2.936837</td>\n",
              "      <td>3.684105</td>\n",
              "      <td>62452.0</td>\n",
              "      <td>0</td>\n",
              "      <td>5206</td>\n",
              "      <td>5.51</td>\n",
              "      <td>N</td>\n",
              "      <td>N</td>\n",
              "      <td>199.83</td>\n",
              "      <td>NaN</td>\n",
              "      <td>0.2766</td>\n",
              "      <td>7.139000</td>\n",
              "      <td>NaN</td>\n",
              "      <td>0.855</td>\n",
              "      <td>0.484</td>\n",
              "      <td>NaN</td>\n",
              "      <td>S</td>\n",
              "      <td>S</td>\n",
              "      <td>NaN</td>\n",
              "      <td>0.846100</td>\n",
              "      <td>MBA</td>\n",
              "      <td>0.267535</td>\n",
              "      <td>1345.619196</td>\n",
              "      <td>140.419656</td>\n",
              "    </tr>\n",
              "    <tr>\n",
              "      <th>7</th>\n",
              "      <td>Flora</td>\n",
              "      <td>2.201764</td>\n",
              "      <td>0.156499</td>\n",
              "      <td>5.886955</td>\n",
              "      <td>110.889330</td>\n",
              "      <td>285.287462</td>\n",
              "      <td>1.857190</td>\n",
              "      <td>2.546339</td>\n",
              "      <td>3.267115</td>\n",
              "      <td>62655.0</td>\n",
              "      <td>0</td>\n",
              "      <td>2744</td>\n",
              "      <td>6.49</td>\n",
              "      <td>N</td>\n",
              "      <td>N</td>\n",
              "      <td>147.491</td>\n",
              "      <td>NaN</td>\n",
              "      <td>0.2260</td>\n",
              "      <td>12.865000</td>\n",
              "      <td>NaN</td>\n",
              "      <td>0.885</td>\n",
              "      <td>0.489</td>\n",
              "      <td>NaN</td>\n",
              "      <td>NaN</td>\n",
              "      <td>S</td>\n",
              "      <td>0.28</td>\n",
              "      <td>0.874176</td>\n",
              "      <td>MBA</td>\n",
              "      <td>0.301681</td>\n",
              "      <td>1193.313717</td>\n",
              "      <td>194.882895</td>\n",
              "    </tr>\n",
              "    <tr>\n",
              "      <th>8</th>\n",
              "      <td>Metis</td>\n",
              "      <td>2.385637</td>\n",
              "      <td>0.123114</td>\n",
              "      <td>5.576816</td>\n",
              "      <td>68.908577</td>\n",
              "      <td>6.417369</td>\n",
              "      <td>2.091931</td>\n",
              "      <td>2.679342</td>\n",
              "      <td>3.684806</td>\n",
              "      <td>61821.0</td>\n",
              "      <td>0</td>\n",
              "      <td>2649</td>\n",
              "      <td>6.28</td>\n",
              "      <td>N</td>\n",
              "      <td>N</td>\n",
              "      <td>190</td>\n",
              "      <td>NaN</td>\n",
              "      <td>0.1180</td>\n",
              "      <td>5.079000</td>\n",
              "      <td>NaN</td>\n",
              "      <td>0.858</td>\n",
              "      <td>0.496</td>\n",
              "      <td>NaN</td>\n",
              "      <td>NaN</td>\n",
              "      <td>S</td>\n",
              "      <td>0.17</td>\n",
              "      <td>1.106910</td>\n",
              "      <td>MBA</td>\n",
              "      <td>0.267484</td>\n",
              "      <td>1345.875362</td>\n",
              "      <td>276.861623</td>\n",
              "    </tr>\n",
              "    <tr>\n",
              "      <th>9</th>\n",
              "      <td>Hygiea</td>\n",
              "      <td>3.141539</td>\n",
              "      <td>0.112461</td>\n",
              "      <td>3.831560</td>\n",
              "      <td>283.202167</td>\n",
              "      <td>312.315206</td>\n",
              "      <td>2.788240</td>\n",
              "      <td>3.494839</td>\n",
              "      <td>5.568291</td>\n",
              "      <td>62175.0</td>\n",
              "      <td>0</td>\n",
              "      <td>3409</td>\n",
              "      <td>5.43</td>\n",
              "      <td>N</td>\n",
              "      <td>N</td>\n",
              "      <td>407.12</td>\n",
              "      <td>NaN</td>\n",
              "      <td>0.0717</td>\n",
              "      <td>27.630000</td>\n",
              "      <td>7.0000</td>\n",
              "      <td>0.696</td>\n",
              "      <td>0.351</td>\n",
              "      <td>NaN</td>\n",
              "      <td>C</td>\n",
              "      <td>C</td>\n",
              "      <td>NaN</td>\n",
              "      <td>1.778390</td>\n",
              "      <td>MBA</td>\n",
              "      <td>0.177007</td>\n",
              "      <td>2033.818284</td>\n",
              "      <td>152.184851</td>\n",
              "    </tr>\n",
              "  </tbody>\n",
              "</table>\n",
              "</div>"
            ],
            "text/plain": [
              "      name         a         e  ...         n          per          ma\n",
              "0    Ceres  2.769165  0.076009  ...  0.213885  1683.145708   77.372096\n",
              "1   Pallas  2.772466  0.230337  ...  0.213503  1686.155999   59.699133\n",
              "2     Juno  2.669150  0.256942  ...  0.226019  1592.787285   34.925016\n",
              "3    Vesta  2.361418  0.088721  ...  0.271609  1325.432765   95.861936\n",
              "4  Astraea  2.574249  0.191095  ...  0.238632  1508.600458  282.366289\n",
              "5     Hebe  2.425160  0.203007  ...  0.260972  1379.459705   86.197923\n",
              "6     Iris  2.385334  0.231206  ...  0.267535  1345.619196  140.419656\n",
              "7    Flora  2.201764  0.156499  ...  0.301681  1193.313717  194.882895\n",
              "8    Metis  2.385637  0.123114  ...  0.267484  1345.875362  276.861623\n",
              "9   Hygiea  3.141539  0.112461  ...  0.177007  2033.818284  152.184851\n",
              "\n",
              "[10 rows x 31 columns]"
            ]
          },
          "metadata": {
            "tags": []
          },
          "execution_count": 9
        }
      ]
    },
    {
      "cell_type": "markdown",
      "metadata": {
        "id": "FJn5O-LxBBQP"
      },
      "source": [
        "## Check Missing and Drop Rows With No Data For Diameter and Rotation Period Data Feature . There are 83% Missing Diameter Data and 3% Missing Rotation Period Data"
      ]
    },
    {
      "cell_type": "code",
      "metadata": {
        "colab": {
          "base_uri": "https://localhost:8080/"
        },
        "id": "Ep7pzV_oBMJM",
        "outputId": "d218ed88-1320-483b-e6a1-d5fdbbf02cca"
      },
      "source": [
        "data.isnull().sum()"
      ],
      "execution_count": 10,
      "outputs": [
        {
          "output_type": "execute_result",
          "data": {
            "text/plain": [
              "name              817747\n",
              "a                      2\n",
              "e                      0\n",
              "i                      0\n",
              "om                     0\n",
              "w                      0\n",
              "q                      0\n",
              "ad                     6\n",
              "per_y                  1\n",
              "data_arc           15474\n",
              "condition_code       867\n",
              "n_obs_used             0\n",
              "H                   2689\n",
              "neo                    6\n",
              "pha                16442\n",
              "diameter          702078\n",
              "extent            839696\n",
              "albedo            703305\n",
              "rot_per           820918\n",
              "GM                839700\n",
              "BV                838693\n",
              "UB                838735\n",
              "IR                839713\n",
              "spec_B            838048\n",
              "spec_T            838734\n",
              "G                 839595\n",
              "moid               16442\n",
              "class                  0\n",
              "n                      2\n",
              "per                    6\n",
              "ma                     8\n",
              "dtype: int64"
            ]
          },
          "metadata": {
            "tags": []
          },
          "execution_count": 10
        }
      ]
    },
    {
      "cell_type": "code",
      "metadata": {
        "colab": {
          "base_uri": "https://localhost:8080/"
        },
        "id": "AyISgH3JDVQ_",
        "outputId": "08cb8ad9-179d-42af-a315-d4055b036f65"
      },
      "source": [
        "data.shape"
      ],
      "execution_count": 11,
      "outputs": [
        {
          "output_type": "execute_result",
          "data": {
            "text/plain": [
              "(839714, 31)"
            ]
          },
          "metadata": {
            "tags": []
          },
          "execution_count": 11
        }
      ]
    },
    {
      "cell_type": "code",
      "metadata": {
        "colab": {
          "base_uri": "https://localhost:8080/"
        },
        "id": "5SQi0Gr9BlmA",
        "outputId": "c29546d7-b640-4d20-dc91-9e56f65c4099"
      },
      "source": [
        "data.columns"
      ],
      "execution_count": 12,
      "outputs": [
        {
          "output_type": "execute_result",
          "data": {
            "text/plain": [
              "Index(['name', 'a', 'e', 'i', 'om', 'w', 'q', 'ad', 'per_y', 'data_arc',\n",
              "       'condition_code', 'n_obs_used', 'H', 'neo', 'pha', 'diameter', 'extent',\n",
              "       'albedo', 'rot_per', 'GM', 'BV', 'UB', 'IR', 'spec_B', 'spec_T', 'G',\n",
              "       'moid', 'class', 'n', 'per', 'ma'],\n",
              "      dtype='object')"
            ]
          },
          "metadata": {
            "tags": []
          },
          "execution_count": 12
        }
      ]
    },
    {
      "cell_type": "code",
      "metadata": {
        "colab": {
          "base_uri": "https://localhost:8080/"
        },
        "id": "qq1ToxZ8F8Hn",
        "outputId": "f8164ba3-8c68-485f-e12d-19d8ef3fc4d0"
      },
      "source": [
        "dia_percent_missing = (702078/839714) * 100\n",
        "dia_percent_missing"
      ],
      "execution_count": 13,
      "outputs": [
        {
          "output_type": "execute_result",
          "data": {
            "text/plain": [
              "83.60918122122533"
            ]
          },
          "metadata": {
            "tags": []
          },
          "execution_count": 13
        }
      ]
    },
    {
      "cell_type": "code",
      "metadata": {
        "colab": {
          "base_uri": "https://localhost:8080/"
        },
        "id": "xnPGEIFcAjFS",
        "outputId": "16ae1b9c-a5cf-41e9-8bbd-670ade9323d8"
      },
      "source": [
        "rotation_period_missing = (820918/839714) * 100\n",
        "rotation_period_missing"
      ],
      "execution_count": 14,
      "outputs": [
        {
          "output_type": "execute_result",
          "data": {
            "text/plain": [
              "97.76161883688971"
            ]
          },
          "metadata": {
            "tags": []
          },
          "execution_count": 14
        }
      ]
    },
    {
      "cell_type": "markdown",
      "metadata": {
        "id": "uvukHjjCMFW-"
      },
      "source": [
        "## Drop Missing Rows Data for Diameter and Rotation Period"
      ]
    },
    {
      "cell_type": "code",
      "metadata": {
        "colab": {
          "base_uri": "https://localhost:8080/"
        },
        "id": "fdDFwtqQE2I0",
        "outputId": "220d80c2-d96b-4284-d5fa-b821a325dffc"
      },
      "source": [
        "data = data.dropna(subset=['diameter','rot_per'])\n",
        "data.shape"
      ],
      "execution_count": 15,
      "outputs": [
        {
          "output_type": "execute_result",
          "data": {
            "text/plain": [
              "(11188, 31)"
            ]
          },
          "metadata": {
            "tags": []
          },
          "execution_count": 15
        }
      ]
    },
    {
      "cell_type": "code",
      "metadata": {
        "colab": {
          "base_uri": "https://localhost:8080/"
        },
        "id": "ZvlETLCYF2-O",
        "outputId": "4f32a7e5-9ec9-49a2-88f5-2f581d9870b2"
      },
      "source": [
        "data.isnull().sum()"
      ],
      "execution_count": 16,
      "outputs": [
        {
          "output_type": "execute_result",
          "data": {
            "text/plain": [
              "name               5761\n",
              "a                     0\n",
              "e                     0\n",
              "i                     0\n",
              "om                    0\n",
              "w                     0\n",
              "q                     0\n",
              "ad                    0\n",
              "per_y                 0\n",
              "data_arc              0\n",
              "condition_code        0\n",
              "n_obs_used            0\n",
              "H                     0\n",
              "neo                   0\n",
              "pha                   0\n",
              "diameter              0\n",
              "extent            11172\n",
              "albedo               34\n",
              "rot_per               0\n",
              "GM                11174\n",
              "BV                10205\n",
              "UB                10245\n",
              "IR                11187\n",
              "spec_B            10066\n",
              "spec_T            10246\n",
              "G                 11069\n",
              "moid                  0\n",
              "class                 0\n",
              "n                     0\n",
              "per                   0\n",
              "ma                    0\n",
              "dtype: int64"
            ]
          },
          "metadata": {
            "tags": []
          },
          "execution_count": 16
        }
      ]
    },
    {
      "cell_type": "code",
      "metadata": {
        "colab": {
          "base_uri": "https://localhost:8080/",
          "height": 473
        },
        "id": "1DkbkbPiUeOz",
        "outputId": "26aa6203-ac39-4fb8-f3fc-b22237952bcc"
      },
      "source": [
        "data.round(1)"
      ],
      "execution_count": 17,
      "outputs": [
        {
          "output_type": "execute_result",
          "data": {
            "text/html": [
              "<div>\n",
              "<style scoped>\n",
              "    .dataframe tbody tr th:only-of-type {\n",
              "        vertical-align: middle;\n",
              "    }\n",
              "\n",
              "    .dataframe tbody tr th {\n",
              "        vertical-align: top;\n",
              "    }\n",
              "\n",
              "    .dataframe thead th {\n",
              "        text-align: right;\n",
              "    }\n",
              "</style>\n",
              "<table border=\"1\" class=\"dataframe\">\n",
              "  <thead>\n",
              "    <tr style=\"text-align: right;\">\n",
              "      <th></th>\n",
              "      <th>name</th>\n",
              "      <th>a</th>\n",
              "      <th>e</th>\n",
              "      <th>i</th>\n",
              "      <th>om</th>\n",
              "      <th>w</th>\n",
              "      <th>q</th>\n",
              "      <th>ad</th>\n",
              "      <th>per_y</th>\n",
              "      <th>data_arc</th>\n",
              "      <th>condition_code</th>\n",
              "      <th>n_obs_used</th>\n",
              "      <th>H</th>\n",
              "      <th>neo</th>\n",
              "      <th>pha</th>\n",
              "      <th>diameter</th>\n",
              "      <th>extent</th>\n",
              "      <th>albedo</th>\n",
              "      <th>rot_per</th>\n",
              "      <th>GM</th>\n",
              "      <th>BV</th>\n",
              "      <th>UB</th>\n",
              "      <th>IR</th>\n",
              "      <th>spec_B</th>\n",
              "      <th>spec_T</th>\n",
              "      <th>G</th>\n",
              "      <th>moid</th>\n",
              "      <th>class</th>\n",
              "      <th>n</th>\n",
              "      <th>per</th>\n",
              "      <th>ma</th>\n",
              "    </tr>\n",
              "  </thead>\n",
              "  <tbody>\n",
              "    <tr>\n",
              "      <th>0</th>\n",
              "      <td>Ceres</td>\n",
              "      <td>2.8</td>\n",
              "      <td>0.1</td>\n",
              "      <td>10.6</td>\n",
              "      <td>80.3</td>\n",
              "      <td>73.6</td>\n",
              "      <td>2.6</td>\n",
              "      <td>3.0</td>\n",
              "      <td>4.6</td>\n",
              "      <td>8822.0</td>\n",
              "      <td>0</td>\n",
              "      <td>1002</td>\n",
              "      <td>3.3</td>\n",
              "      <td>N</td>\n",
              "      <td>N</td>\n",
              "      <td>939.4</td>\n",
              "      <td>964.4 x 964.2 x 891.8</td>\n",
              "      <td>0.1</td>\n",
              "      <td>9.1</td>\n",
              "      <td>62.6</td>\n",
              "      <td>0.7</td>\n",
              "      <td>0.4</td>\n",
              "      <td>NaN</td>\n",
              "      <td>C</td>\n",
              "      <td>G</td>\n",
              "      <td>0.1</td>\n",
              "      <td>1.6</td>\n",
              "      <td>MBA</td>\n",
              "      <td>0.2</td>\n",
              "      <td>1683.1</td>\n",
              "      <td>77.4</td>\n",
              "    </tr>\n",
              "    <tr>\n",
              "      <th>1</th>\n",
              "      <td>Pallas</td>\n",
              "      <td>2.8</td>\n",
              "      <td>0.2</td>\n",
              "      <td>34.8</td>\n",
              "      <td>173.1</td>\n",
              "      <td>310.0</td>\n",
              "      <td>2.1</td>\n",
              "      <td>3.4</td>\n",
              "      <td>4.6</td>\n",
              "      <td>72318.0</td>\n",
              "      <td>0</td>\n",
              "      <td>8490</td>\n",
              "      <td>4.1</td>\n",
              "      <td>N</td>\n",
              "      <td>N</td>\n",
              "      <td>545</td>\n",
              "      <td>582x556x500</td>\n",
              "      <td>0.1</td>\n",
              "      <td>7.8</td>\n",
              "      <td>14.3</td>\n",
              "      <td>0.6</td>\n",
              "      <td>0.3</td>\n",
              "      <td>NaN</td>\n",
              "      <td>B</td>\n",
              "      <td>B</td>\n",
              "      <td>0.1</td>\n",
              "      <td>1.2</td>\n",
              "      <td>MBA</td>\n",
              "      <td>0.2</td>\n",
              "      <td>1686.2</td>\n",
              "      <td>59.7</td>\n",
              "    </tr>\n",
              "    <tr>\n",
              "      <th>2</th>\n",
              "      <td>Juno</td>\n",
              "      <td>2.7</td>\n",
              "      <td>0.3</td>\n",
              "      <td>13.0</td>\n",
              "      <td>169.9</td>\n",
              "      <td>248.1</td>\n",
              "      <td>2.0</td>\n",
              "      <td>3.4</td>\n",
              "      <td>4.4</td>\n",
              "      <td>72684.0</td>\n",
              "      <td>0</td>\n",
              "      <td>7104</td>\n",
              "      <td>5.3</td>\n",
              "      <td>N</td>\n",
              "      <td>N</td>\n",
              "      <td>246.596</td>\n",
              "      <td>NaN</td>\n",
              "      <td>0.2</td>\n",
              "      <td>7.2</td>\n",
              "      <td>NaN</td>\n",
              "      <td>0.8</td>\n",
              "      <td>0.4</td>\n",
              "      <td>NaN</td>\n",
              "      <td>Sk</td>\n",
              "      <td>S</td>\n",
              "      <td>0.3</td>\n",
              "      <td>1.0</td>\n",
              "      <td>MBA</td>\n",
              "      <td>0.2</td>\n",
              "      <td>1592.8</td>\n",
              "      <td>34.9</td>\n",
              "    </tr>\n",
              "    <tr>\n",
              "      <th>3</th>\n",
              "      <td>Vesta</td>\n",
              "      <td>2.4</td>\n",
              "      <td>0.1</td>\n",
              "      <td>7.1</td>\n",
              "      <td>103.8</td>\n",
              "      <td>150.7</td>\n",
              "      <td>2.2</td>\n",
              "      <td>2.6</td>\n",
              "      <td>3.6</td>\n",
              "      <td>24288.0</td>\n",
              "      <td>0</td>\n",
              "      <td>9325</td>\n",
              "      <td>3.2</td>\n",
              "      <td>N</td>\n",
              "      <td>N</td>\n",
              "      <td>525.4</td>\n",
              "      <td>572.6 x 557.2 x 446.4</td>\n",
              "      <td>0.4</td>\n",
              "      <td>5.3</td>\n",
              "      <td>17.8</td>\n",
              "      <td>0.8</td>\n",
              "      <td>0.5</td>\n",
              "      <td>NaN</td>\n",
              "      <td>V</td>\n",
              "      <td>V</td>\n",
              "      <td>0.3</td>\n",
              "      <td>1.1</td>\n",
              "      <td>MBA</td>\n",
              "      <td>0.3</td>\n",
              "      <td>1325.4</td>\n",
              "      <td>95.9</td>\n",
              "    </tr>\n",
              "    <tr>\n",
              "      <th>4</th>\n",
              "      <td>Astraea</td>\n",
              "      <td>2.6</td>\n",
              "      <td>0.2</td>\n",
              "      <td>5.4</td>\n",
              "      <td>141.6</td>\n",
              "      <td>358.7</td>\n",
              "      <td>2.1</td>\n",
              "      <td>3.1</td>\n",
              "      <td>4.1</td>\n",
              "      <td>63507.0</td>\n",
              "      <td>0</td>\n",
              "      <td>2916</td>\n",
              "      <td>6.8</td>\n",
              "      <td>N</td>\n",
              "      <td>N</td>\n",
              "      <td>106.699</td>\n",
              "      <td>NaN</td>\n",
              "      <td>0.3</td>\n",
              "      <td>16.8</td>\n",
              "      <td>NaN</td>\n",
              "      <td>0.8</td>\n",
              "      <td>0.4</td>\n",
              "      <td>NaN</td>\n",
              "      <td>S</td>\n",
              "      <td>S</td>\n",
              "      <td>NaN</td>\n",
              "      <td>1.1</td>\n",
              "      <td>MBA</td>\n",
              "      <td>0.2</td>\n",
              "      <td>1508.6</td>\n",
              "      <td>282.4</td>\n",
              "    </tr>\n",
              "    <tr>\n",
              "      <th>...</th>\n",
              "      <td>...</td>\n",
              "      <td>...</td>\n",
              "      <td>...</td>\n",
              "      <td>...</td>\n",
              "      <td>...</td>\n",
              "      <td>...</td>\n",
              "      <td>...</td>\n",
              "      <td>...</td>\n",
              "      <td>...</td>\n",
              "      <td>...</td>\n",
              "      <td>...</td>\n",
              "      <td>...</td>\n",
              "      <td>...</td>\n",
              "      <td>...</td>\n",
              "      <td>...</td>\n",
              "      <td>...</td>\n",
              "      <td>...</td>\n",
              "      <td>...</td>\n",
              "      <td>...</td>\n",
              "      <td>...</td>\n",
              "      <td>...</td>\n",
              "      <td>...</td>\n",
              "      <td>...</td>\n",
              "      <td>...</td>\n",
              "      <td>...</td>\n",
              "      <td>...</td>\n",
              "      <td>...</td>\n",
              "      <td>...</td>\n",
              "      <td>...</td>\n",
              "      <td>...</td>\n",
              "      <td>...</td>\n",
              "    </tr>\n",
              "    <tr>\n",
              "      <th>694201</th>\n",
              "      <td>NaN</td>\n",
              "      <td>2.3</td>\n",
              "      <td>0.6</td>\n",
              "      <td>12.2</td>\n",
              "      <td>182.7</td>\n",
              "      <td>325.8</td>\n",
              "      <td>1.0</td>\n",
              "      <td>3.5</td>\n",
              "      <td>3.4</td>\n",
              "      <td>1038.0</td>\n",
              "      <td>1</td>\n",
              "      <td>529</td>\n",
              "      <td>19.3</td>\n",
              "      <td>Y</td>\n",
              "      <td>Y</td>\n",
              "      <td>0.653</td>\n",
              "      <td>NaN</td>\n",
              "      <td>0.1</td>\n",
              "      <td>2.9</td>\n",
              "      <td>NaN</td>\n",
              "      <td>NaN</td>\n",
              "      <td>NaN</td>\n",
              "      <td>NaN</td>\n",
              "      <td>NaN</td>\n",
              "      <td>NaN</td>\n",
              "      <td>NaN</td>\n",
              "      <td>0.0</td>\n",
              "      <td>APO</td>\n",
              "      <td>0.3</td>\n",
              "      <td>1240.3</td>\n",
              "      <td>188.0</td>\n",
              "    </tr>\n",
              "    <tr>\n",
              "      <th>699814</th>\n",
              "      <td>NaN</td>\n",
              "      <td>2.3</td>\n",
              "      <td>0.6</td>\n",
              "      <td>25.5</td>\n",
              "      <td>178.8</td>\n",
              "      <td>82.0</td>\n",
              "      <td>1.0</td>\n",
              "      <td>3.5</td>\n",
              "      <td>3.4</td>\n",
              "      <td>227.0</td>\n",
              "      <td>3</td>\n",
              "      <td>563</td>\n",
              "      <td>18.8</td>\n",
              "      <td>Y</td>\n",
              "      <td>N</td>\n",
              "      <td>0.453</td>\n",
              "      <td>NaN</td>\n",
              "      <td>0.3</td>\n",
              "      <td>6.0</td>\n",
              "      <td>NaN</td>\n",
              "      <td>NaN</td>\n",
              "      <td>NaN</td>\n",
              "      <td>NaN</td>\n",
              "      <td>NaN</td>\n",
              "      <td>NaN</td>\n",
              "      <td>NaN</td>\n",
              "      <td>0.3</td>\n",
              "      <td>APO</td>\n",
              "      <td>0.3</td>\n",
              "      <td>1237.1</td>\n",
              "      <td>158.0</td>\n",
              "    </tr>\n",
              "    <tr>\n",
              "      <th>704641</th>\n",
              "      <td>NaN</td>\n",
              "      <td>0.9</td>\n",
              "      <td>0.3</td>\n",
              "      <td>26.4</td>\n",
              "      <td>257.6</td>\n",
              "      <td>144.5</td>\n",
              "      <td>0.6</td>\n",
              "      <td>1.1</td>\n",
              "      <td>0.8</td>\n",
              "      <td>1495.0</td>\n",
              "      <td>1</td>\n",
              "      <td>299</td>\n",
              "      <td>18.9</td>\n",
              "      <td>Y</td>\n",
              "      <td>Y</td>\n",
              "      <td>0.325</td>\n",
              "      <td>NaN</td>\n",
              "      <td>0.3</td>\n",
              "      <td>16.0</td>\n",
              "      <td>NaN</td>\n",
              "      <td>NaN</td>\n",
              "      <td>NaN</td>\n",
              "      <td>NaN</td>\n",
              "      <td>NaN</td>\n",
              "      <td>NaN</td>\n",
              "      <td>NaN</td>\n",
              "      <td>0.0</td>\n",
              "      <td>ATE</td>\n",
              "      <td>1.3</td>\n",
              "      <td>286.6</td>\n",
              "      <td>315.5</td>\n",
              "    </tr>\n",
              "    <tr>\n",
              "      <th>721964</th>\n",
              "      <td>NaN</td>\n",
              "      <td>2.8</td>\n",
              "      <td>0.7</td>\n",
              "      <td>23.8</td>\n",
              "      <td>277.5</td>\n",
              "      <td>115.4</td>\n",
              "      <td>0.9</td>\n",
              "      <td>4.6</td>\n",
              "      <td>4.6</td>\n",
              "      <td>8438.0</td>\n",
              "      <td>0</td>\n",
              "      <td>317</td>\n",
              "      <td>17.9</td>\n",
              "      <td>Y</td>\n",
              "      <td>N</td>\n",
              "      <td>0.694</td>\n",
              "      <td>NaN</td>\n",
              "      <td>0.3</td>\n",
              "      <td>5.2</td>\n",
              "      <td>NaN</td>\n",
              "      <td>NaN</td>\n",
              "      <td>NaN</td>\n",
              "      <td>NaN</td>\n",
              "      <td>NaN</td>\n",
              "      <td>NaN</td>\n",
              "      <td>NaN</td>\n",
              "      <td>0.1</td>\n",
              "      <td>APO</td>\n",
              "      <td>0.2</td>\n",
              "      <td>1678.0</td>\n",
              "      <td>350.9</td>\n",
              "    </tr>\n",
              "    <tr>\n",
              "      <th>729174</th>\n",
              "      <td>NaN</td>\n",
              "      <td>2.4</td>\n",
              "      <td>0.5</td>\n",
              "      <td>48.0</td>\n",
              "      <td>114.6</td>\n",
              "      <td>12.8</td>\n",
              "      <td>1.1</td>\n",
              "      <td>3.7</td>\n",
              "      <td>3.8</td>\n",
              "      <td>1458.0</td>\n",
              "      <td>1</td>\n",
              "      <td>266</td>\n",
              "      <td>18.8</td>\n",
              "      <td>Y</td>\n",
              "      <td>N</td>\n",
              "      <td>1.626</td>\n",
              "      <td>NaN</td>\n",
              "      <td>0.0</td>\n",
              "      <td>6.8</td>\n",
              "      <td>NaN</td>\n",
              "      <td>NaN</td>\n",
              "      <td>NaN</td>\n",
              "      <td>NaN</td>\n",
              "      <td>NaN</td>\n",
              "      <td>NaN</td>\n",
              "      <td>NaN</td>\n",
              "      <td>0.1</td>\n",
              "      <td>AMO</td>\n",
              "      <td>0.3</td>\n",
              "      <td>1380.8</td>\n",
              "      <td>44.7</td>\n",
              "    </tr>\n",
              "  </tbody>\n",
              "</table>\n",
              "<p>11188 rows × 31 columns</p>\n",
              "</div>"
            ],
            "text/plain": [
              "           name    a    e     i     om  ...  moid  class    n     per     ma\n",
              "0         Ceres  2.8  0.1  10.6   80.3  ...   1.6    MBA  0.2  1683.1   77.4\n",
              "1        Pallas  2.8  0.2  34.8  173.1  ...   1.2    MBA  0.2  1686.2   59.7\n",
              "2          Juno  2.7  0.3  13.0  169.9  ...   1.0    MBA  0.2  1592.8   34.9\n",
              "3         Vesta  2.4  0.1   7.1  103.8  ...   1.1    MBA  0.3  1325.4   95.9\n",
              "4       Astraea  2.6  0.2   5.4  141.6  ...   1.1    MBA  0.2  1508.6  282.4\n",
              "...         ...  ...  ...   ...    ...  ...   ...    ...  ...     ...    ...\n",
              "694201      NaN  2.3  0.6  12.2  182.7  ...   0.0    APO  0.3  1240.3  188.0\n",
              "699814      NaN  2.3  0.6  25.5  178.8  ...   0.3    APO  0.3  1237.1  158.0\n",
              "704641      NaN  0.9  0.3  26.4  257.6  ...   0.0    ATE  1.3   286.6  315.5\n",
              "721964      NaN  2.8  0.7  23.8  277.5  ...   0.1    APO  0.2  1678.0  350.9\n",
              "729174      NaN  2.4  0.5  48.0  114.6  ...   0.1    AMO  0.3  1380.8   44.7\n",
              "\n",
              "[11188 rows x 31 columns]"
            ]
          },
          "metadata": {
            "tags": []
          },
          "execution_count": 17
        }
      ]
    },
    {
      "cell_type": "markdown",
      "metadata": {
        "id": "xwk9-WaIMygz"
      },
      "source": [
        "## Check the diameter and rotation period data if all Numeric. Diameter data is Object "
      ]
    },
    {
      "cell_type": "code",
      "metadata": {
        "colab": {
          "base_uri": "https://localhost:8080/",
          "height": 317
        },
        "id": "2DBzX1KSmX9K",
        "outputId": "53960f07-56b7-4260-c895-08014b7ea9bd"
      },
      "source": [
        "data.describe()"
      ],
      "execution_count": 18,
      "outputs": [
        {
          "output_type": "execute_result",
          "data": {
            "text/html": [
              "<div>\n",
              "<style scoped>\n",
              "    .dataframe tbody tr th:only-of-type {\n",
              "        vertical-align: middle;\n",
              "    }\n",
              "\n",
              "    .dataframe tbody tr th {\n",
              "        vertical-align: top;\n",
              "    }\n",
              "\n",
              "    .dataframe thead th {\n",
              "        text-align: right;\n",
              "    }\n",
              "</style>\n",
              "<table border=\"1\" class=\"dataframe\">\n",
              "  <thead>\n",
              "    <tr style=\"text-align: right;\">\n",
              "      <th></th>\n",
              "      <th>a</th>\n",
              "      <th>e</th>\n",
              "      <th>i</th>\n",
              "      <th>om</th>\n",
              "      <th>w</th>\n",
              "      <th>q</th>\n",
              "      <th>ad</th>\n",
              "      <th>per_y</th>\n",
              "      <th>data_arc</th>\n",
              "      <th>n_obs_used</th>\n",
              "      <th>H</th>\n",
              "      <th>albedo</th>\n",
              "      <th>rot_per</th>\n",
              "      <th>GM</th>\n",
              "      <th>BV</th>\n",
              "      <th>UB</th>\n",
              "      <th>IR</th>\n",
              "      <th>G</th>\n",
              "      <th>moid</th>\n",
              "      <th>n</th>\n",
              "      <th>per</th>\n",
              "      <th>ma</th>\n",
              "    </tr>\n",
              "  </thead>\n",
              "  <tbody>\n",
              "    <tr>\n",
              "      <th>count</th>\n",
              "      <td>11188.000000</td>\n",
              "      <td>11188.000000</td>\n",
              "      <td>11188.000000</td>\n",
              "      <td>11188.000000</td>\n",
              "      <td>11188.000000</td>\n",
              "      <td>11188.000000</td>\n",
              "      <td>11188.000000</td>\n",
              "      <td>11188.000000</td>\n",
              "      <td>11188.00000</td>\n",
              "      <td>11188.000000</td>\n",
              "      <td>11188.000000</td>\n",
              "      <td>11154.000000</td>\n",
              "      <td>11188.000000</td>\n",
              "      <td>1.400000e+01</td>\n",
              "      <td>983.000000</td>\n",
              "      <td>943.000000</td>\n",
              "      <td>1.00</td>\n",
              "      <td>119.000000</td>\n",
              "      <td>11188.000000</td>\n",
              "      <td>11188.000000</td>\n",
              "      <td>11188.000000</td>\n",
              "      <td>11188.000000</td>\n",
              "    </tr>\n",
              "    <tr>\n",
              "      <th>mean</th>\n",
              "      <td>2.779236</td>\n",
              "      <td>0.151046</td>\n",
              "      <td>9.627074</td>\n",
              "      <td>178.123898</td>\n",
              "      <td>175.627491</td>\n",
              "      <td>2.361651</td>\n",
              "      <td>3.196821</td>\n",
              "      <td>4.829644</td>\n",
              "      <td>18146.09966</td>\n",
              "      <td>1568.495263</td>\n",
              "      <td>13.336766</td>\n",
              "      <td>0.191055</td>\n",
              "      <td>23.566011</td>\n",
              "      <td>7.821928e+00</td>\n",
              "      <td>0.770041</td>\n",
              "      <td>0.365006</td>\n",
              "      <td>-0.33</td>\n",
              "      <td>0.178739</td>\n",
              "      <td>1.381669</td>\n",
              "      <td>0.234549</td>\n",
              "      <td>1764.027333</td>\n",
              "      <td>177.451046</td>\n",
              "    </tr>\n",
              "    <tr>\n",
              "      <th>std</th>\n",
              "      <td>1.182358</td>\n",
              "      <td>0.090520</td>\n",
              "      <td>6.914192</td>\n",
              "      <td>103.207737</td>\n",
              "      <td>103.570016</td>\n",
              "      <td>0.810493</td>\n",
              "      <td>1.773115</td>\n",
              "      <td>7.038733</td>\n",
              "      <td>11753.50312</td>\n",
              "      <td>762.843533</td>\n",
              "      <td>2.026919</td>\n",
              "      <td>0.142057</td>\n",
              "      <td>74.829904</td>\n",
              "      <td>1.678880e+01</td>\n",
              "      <td>0.087852</td>\n",
              "      <td>0.095784</td>\n",
              "      <td>NaN</td>\n",
              "      <td>0.134603</td>\n",
              "      <td>0.800556</td>\n",
              "      <td>0.093660</td>\n",
              "      <td>2570.897249</td>\n",
              "      <td>103.289813</td>\n",
              "    </tr>\n",
              "    <tr>\n",
              "      <th>min</th>\n",
              "      <td>0.642196</td>\n",
              "      <td>0.001141</td>\n",
              "      <td>0.042710</td>\n",
              "      <td>0.000738</td>\n",
              "      <td>0.026563</td>\n",
              "      <td>0.092048</td>\n",
              "      <td>0.999956</td>\n",
              "      <td>0.514647</td>\n",
              "      <td>3.00000</td>\n",
              "      <td>51.000000</td>\n",
              "      <td>3.200000</td>\n",
              "      <td>0.008000</td>\n",
              "      <td>0.029952</td>\n",
              "      <td>2.100000e-09</td>\n",
              "      <td>0.580000</td>\n",
              "      <td>0.120000</td>\n",
              "      <td>-0.33</td>\n",
              "      <td>-0.250000</td>\n",
              "      <td>0.000166</td>\n",
              "      <td>0.002489</td>\n",
              "      <td>187.974705</td>\n",
              "      <td>0.057141</td>\n",
              "    </tr>\n",
              "    <tr>\n",
              "      <th>25%</th>\n",
              "      <td>2.386762</td>\n",
              "      <td>0.091108</td>\n",
              "      <td>4.404671</td>\n",
              "      <td>92.791170</td>\n",
              "      <td>85.971896</td>\n",
              "      <td>1.987885</td>\n",
              "      <td>2.790189</td>\n",
              "      <td>3.687415</td>\n",
              "      <td>8780.50000</td>\n",
              "      <td>974.750000</td>\n",
              "      <td>12.300000</td>\n",
              "      <td>0.070000</td>\n",
              "      <td>4.670000</td>\n",
              "      <td>1.022225e-03</td>\n",
              "      <td>0.700000</td>\n",
              "      <td>0.289000</td>\n",
              "      <td>-0.33</td>\n",
              "      <td>0.100000</td>\n",
              "      <td>0.997351</td>\n",
              "      <td>0.187335</td>\n",
              "      <td>1346.828239</td>\n",
              "      <td>88.507158</td>\n",
              "    </tr>\n",
              "    <tr>\n",
              "      <th>50%</th>\n",
              "      <td>2.663624</td>\n",
              "      <td>0.139279</td>\n",
              "      <td>8.457703</td>\n",
              "      <td>171.779133</td>\n",
              "      <td>170.516653</td>\n",
              "      <td>2.264351</td>\n",
              "      <td>3.065596</td>\n",
              "      <td>4.347279</td>\n",
              "      <td>13976.00000</td>\n",
              "      <td>1561.000000</td>\n",
              "      <td>13.600000</td>\n",
              "      <td>0.171000</td>\n",
              "      <td>7.560000</td>\n",
              "      <td>6.192500e-01</td>\n",
              "      <td>0.743000</td>\n",
              "      <td>0.363000</td>\n",
              "      <td>-0.33</td>\n",
              "      <td>0.190000</td>\n",
              "      <td>1.279900</td>\n",
              "      <td>0.226723</td>\n",
              "      <td>1587.843790</td>\n",
              "      <td>175.119504</td>\n",
              "    </tr>\n",
              "    <tr>\n",
              "      <th>75%</th>\n",
              "      <td>3.024991</td>\n",
              "      <td>0.192696</td>\n",
              "      <td>13.063146</td>\n",
              "      <td>270.162992</td>\n",
              "      <td>266.077611</td>\n",
              "      <td>2.652792</td>\n",
              "      <td>3.394470</td>\n",
              "      <td>5.261316</td>\n",
              "      <td>24723.00000</td>\n",
              "      <td>2130.000000</td>\n",
              "      <td>14.600000</td>\n",
              "      <td>0.273000</td>\n",
              "      <td>14.579500</td>\n",
              "      <td>6.500000e+00</td>\n",
              "      <td>0.850000</td>\n",
              "      <td>0.439500</td>\n",
              "      <td>-0.33</td>\n",
              "      <td>0.250000</td>\n",
              "      <td>1.659543</td>\n",
              "      <td>0.267295</td>\n",
              "      <td>1921.695650</td>\n",
              "      <td>264.723491</td>\n",
              "    </tr>\n",
              "    <tr>\n",
              "      <th>max</th>\n",
              "      <td>53.920190</td>\n",
              "      <td>0.954480</td>\n",
              "      <td>118.969965</td>\n",
              "      <td>359.915763</td>\n",
              "      <td>359.988886</td>\n",
              "      <td>40.465671</td>\n",
              "      <td>105.385948</td>\n",
              "      <td>395.945419</td>\n",
              "      <td>72684.00000</td>\n",
              "      <td>9325.000000</td>\n",
              "      <td>29.900000</td>\n",
              "      <td>1.000000</td>\n",
              "      <td>1880.000000</td>\n",
              "      <td>6.262840e+01</td>\n",
              "      <td>1.077000</td>\n",
              "      <td>0.655000</td>\n",
              "      <td>-0.33</td>\n",
              "      <td>0.600000</td>\n",
              "      <td>39.507000</td>\n",
              "      <td>1.915151</td>\n",
              "      <td>144619.064198</td>\n",
              "      <td>359.989549</td>\n",
              "    </tr>\n",
              "  </tbody>\n",
              "</table>\n",
              "</div>"
            ],
            "text/plain": [
              "                  a             e  ...            per            ma\n",
              "count  11188.000000  11188.000000  ...   11188.000000  11188.000000\n",
              "mean       2.779236      0.151046  ...    1764.027333    177.451046\n",
              "std        1.182358      0.090520  ...    2570.897249    103.289813\n",
              "min        0.642196      0.001141  ...     187.974705      0.057141\n",
              "25%        2.386762      0.091108  ...    1346.828239     88.507158\n",
              "50%        2.663624      0.139279  ...    1587.843790    175.119504\n",
              "75%        3.024991      0.192696  ...    1921.695650    264.723491\n",
              "max       53.920190      0.954480  ...  144619.064198    359.989549\n",
              "\n",
              "[8 rows x 22 columns]"
            ]
          },
          "metadata": {
            "tags": []
          },
          "execution_count": 18
        }
      ]
    },
    {
      "cell_type": "code",
      "metadata": {
        "colab": {
          "base_uri": "https://localhost:8080/"
        },
        "id": "b4ZaO-R4mza6",
        "outputId": "414add5a-fb9b-441e-9097-2f83dea524b1"
      },
      "source": [
        "data.dtypes"
      ],
      "execution_count": 19,
      "outputs": [
        {
          "output_type": "execute_result",
          "data": {
            "text/plain": [
              "name               object\n",
              "a                 float64\n",
              "e                 float64\n",
              "i                 float64\n",
              "om                float64\n",
              "w                 float64\n",
              "q                 float64\n",
              "ad                float64\n",
              "per_y             float64\n",
              "data_arc          float64\n",
              "condition_code     object\n",
              "n_obs_used          int64\n",
              "H                 float64\n",
              "neo                object\n",
              "pha                object\n",
              "diameter           object\n",
              "extent             object\n",
              "albedo            float64\n",
              "rot_per           float64\n",
              "GM                float64\n",
              "BV                float64\n",
              "UB                float64\n",
              "IR                float64\n",
              "spec_B             object\n",
              "spec_T             object\n",
              "G                 float64\n",
              "moid              float64\n",
              "class              object\n",
              "n                 float64\n",
              "per               float64\n",
              "ma                float64\n",
              "dtype: object"
            ]
          },
          "metadata": {
            "tags": []
          },
          "execution_count": 19
        }
      ]
    },
    {
      "cell_type": "markdown",
      "metadata": {
        "id": "hkZuvTMLNsRx"
      },
      "source": [
        "## Convert Diameter Data to Float"
      ]
    },
    {
      "cell_type": "code",
      "metadata": {
        "colab": {
          "base_uri": "https://localhost:8080/"
        },
        "id": "lmU79AFiokf0",
        "outputId": "43ac9161-760a-4077-b86c-38735b26e350"
      },
      "source": [
        "data['diameter'] = data['diameter'].astype(float) \n",
        "data.dtypes"
      ],
      "execution_count": 20,
      "outputs": [
        {
          "output_type": "execute_result",
          "data": {
            "text/plain": [
              "name               object\n",
              "a                 float64\n",
              "e                 float64\n",
              "i                 float64\n",
              "om                float64\n",
              "w                 float64\n",
              "q                 float64\n",
              "ad                float64\n",
              "per_y             float64\n",
              "data_arc          float64\n",
              "condition_code     object\n",
              "n_obs_used          int64\n",
              "H                 float64\n",
              "neo                object\n",
              "pha                object\n",
              "diameter          float64\n",
              "extent             object\n",
              "albedo            float64\n",
              "rot_per           float64\n",
              "GM                float64\n",
              "BV                float64\n",
              "UB                float64\n",
              "IR                float64\n",
              "spec_B             object\n",
              "spec_T             object\n",
              "G                 float64\n",
              "moid              float64\n",
              "class              object\n",
              "n                 float64\n",
              "per               float64\n",
              "ma                float64\n",
              "dtype: object"
            ]
          },
          "metadata": {
            "tags": []
          },
          "execution_count": 20
        }
      ]
    },
    {
      "cell_type": "markdown",
      "metadata": {
        "id": "d2FWiT9gHkar"
      },
      "source": [
        "# 2. Perform Kmeans and Agglomerative Clustering Using Ward linkage"
      ]
    },
    {
      "cell_type": "code",
      "metadata": {
        "id": "_TKEpMPOHjKx"
      },
      "source": [
        "from sklearn.cluster import KMeans\n",
        "from sklearn import metrics\n",
        "import numpy as np\n",
        "import matplotlib.pyplot as plt\n",
        "from matplotlib import style"
      ],
      "execution_count": 21,
      "outputs": []
    },
    {
      "cell_type": "code",
      "metadata": {
        "id": "5QtvF2ZQIA_1"
      },
      "source": [
        "X = data.iloc[:, [15, 18]].values"
      ],
      "execution_count": 22,
      "outputs": []
    },
    {
      "cell_type": "code",
      "metadata": {
        "colab": {
          "base_uri": "https://localhost:8080/",
          "height": 295
        },
        "id": "MFSJUKAIS1x6",
        "outputId": "681a8099-9ef6-4f65-8b81-371df93b35da"
      },
      "source": [
        "from sklearn.cluster import KMeans\n",
        "# Within-Cluster-Sum-of-Squares \n",
        "wcss = []\n",
        "for i in range(1, 11):\n",
        "    kmeans = KMeans(n_clusters = i, init = 'k-means++', random_state = 42)\n",
        "    kmeans.fit(X)\n",
        "    wcss.append(kmeans.inertia_)\n",
        "plt.plot(range(1, 11), wcss)\n",
        "plt.title('The Elbow Method')\n",
        "plt.xlabel('Number of clusters')\n",
        "plt.ylabel('WCSS')\n",
        "plt.show()"
      ],
      "execution_count": 23,
      "outputs": [
        {
          "output_type": "display_data",
          "data": {
            "image/png": "[encoded data removed]",
            "text/plain": [
              "<Figure size 432x288 with 1 Axes>"
            ]
          },
          "metadata": {
            "tags": [],
            "needs_background": "light"
          }
        }
      ]
    },
    {
      "cell_type": "code",
      "metadata": {
        "id": "Emk3io_QR1Rm"
      },
      "source": [
        "kmeans = KMeans(n_clusters = 5, init = 'k-means++', random_state = 42)\n",
        "y_kmeans = kmeans.fit_predict(X)"
      ],
      "execution_count": 24,
      "outputs": []
    },
    {
      "cell_type": "code",
      "metadata": {
        "colab": {
          "base_uri": "https://localhost:8080/"
        },
        "id": "QIWyTEFlQxBo",
        "outputId": "da3d7ec9-fd67-42fa-d5e9-10e3177c722d"
      },
      "source": [
        "# Check the values gathered if correct\n",
        "print(X)\n",
        "X.dtype"
      ],
      "execution_count": 25,
      "outputs": [
        {
          "output_type": "stream",
          "text": [
            "[[9.39400e+02 9.07417e+00]\n",
            " [5.45000e+02 7.81320e+00]\n",
            " [2.46596e+02 7.21000e+00]\n",
            " ...\n",
            " [3.25000e-01 1.60000e+01]\n",
            " [6.94000e-01 5.20600e+00]\n",
            " [1.62600e+00 6.83000e+00]]\n"
          ],
          "name": "stdout"
        },
        {
          "output_type": "execute_result",
          "data": {
            "text/plain": [
              "dtype('float64')"
            ]
          },
          "metadata": {
            "tags": []
          },
          "execution_count": 25
        }
      ]
    },
    {
      "cell_type": "code",
      "metadata": {
        "colab": {
          "base_uri": "https://localhost:8080/",
          "height": 621
        },
        "id": "MDfe4GfHRVCd",
        "outputId": "bd6de763-a33b-4b8e-bf51-ead1ed0f3882"
      },
      "source": [
        "plt.figure(figsize=(15,10))\n",
        "plt.scatter(X[y_kmeans == 0, 0], X[y_kmeans == 0, 1], s = 100, c = 'red', label = 'Cluster 1')\n",
        "plt.scatter(X[y_kmeans == 1, 0], X[y_kmeans == 1, 1], s = 100, c = 'blue', label = 'Cluster 2')\n",
        "plt.scatter(X[y_kmeans == 2, 0], X[y_kmeans == 2, 1], s = 100, c = 'green', label = 'Cluster 3')\n",
        "plt.scatter(X[y_kmeans == 3, 0], X[y_kmeans == 3, 1], s = 100, c = 'cyan', label = 'Cluster 4')\n",
        "plt.scatter(X[y_kmeans == 4, 0], X[y_kmeans == 4, 1], s = 100, c = 'magenta', label = 'Cluster 5')\n",
        "plt.scatter(kmeans.cluster_centers_[:, 0], kmeans.cluster_centers_[:, 1], s = 150, c = 'yellow', label = 'Centroids')\n",
        "plt.title('Asteroid KMeans Clusters - Diameter vs Rotation Period of Asteroids')\n",
        "plt.xlabel('Diameter')\n",
        "plt.ylabel('Rotation Period of Asteroids')\n",
        "plt.legend()\n",
        "plt.show()"
      ],
      "execution_count": 26,
      "outputs": [
        {
          "output_type": "display_data",
          "data": {
            "image/png": "[encoded data removed]",
            "text/plain": [
              "<Figure size 1080x720 with 1 Axes>"
            ]
          },
          "metadata": {
            "tags": [],
            "needs_background": "light"
          }
        }
      ]
    },
    {
      "cell_type": "code",
      "metadata": {
        "id": "7C-P5m3TGkUs"
      },
      "source": [
        "import matplotlib.pyplot as plt\n",
        "from scipy.cluster.hierarchy import linkage\n",
        "from sklearn.cluster import AgglomerativeClustering\n",
        "import numpy as np"
      ],
      "execution_count": 27,
      "outputs": []
    },
    {
      "cell_type": "code",
      "metadata": {
        "colab": {
          "base_uri": "https://localhost:8080/",
          "height": 655
        },
        "id": "Rs7HYLnVGu9G",
        "outputId": "f8931ce2-42cd-4a0e-b1ca-f35672064c14"
      },
      "source": [
        "# Using Ward Linkage Method\n",
        "plt.figure(figsize=(15,10))\n",
        "data1 = AgglomerativeClustering(n_clusters=5, affinity='euclidean', linkage='ward')\n",
        "hc_pred = data1.fit_predict(X)\n",
        "print('Agglomerative Clustering Using Ward Method')\n",
        "print(hc_pred)\n",
        "plt.scatter(X[:, 0], X[:, 1], cmap = 'rainbow', label = 'Cluster 1')\n",
        "plt.scatter(X[:, 0], X[:, 1], cmap = 'rainbow', label = 'Cluster 2')\n",
        "plt.scatter(X[:, 0], X[:, 1], cmap = 'rainbow', label = 'Cluster 3')\n",
        "plt.scatter(X[:, 0], X[:, 1], cmap = 'rainbow', label = 'Cluster 4')\n",
        "plt.scatter(X[:, 0], X[:, 1], cmap = 'rainbow', label = 'Cluster 5')\n",
        "plt.scatter(X[:, 0], X[:, 1], c=data1.labels_, cmap='rainbow')\n",
        "plt.title('Asteroid Agglomerative Ward Clustering - Diameter vs Rotation Period of Asteroids')\n",
        "plt.xlabel('Diameter')\n",
        "plt.ylabel('Rotation Period of Asteroids')\n",
        "plt.legend()\n",
        "plt.show()"
      ],
      "execution_count": 28,
      "outputs": [
        {
          "output_type": "stream",
          "text": [
            "Agglomerative Clustering Using Ward Method\n",
            "[1 1 1 ... 4 4 4]\n"
          ],
          "name": "stdout"
        },
        {
          "output_type": "display_data",
          "data": {
            "image/png": "[encoded data removed]",
            "text/plain": [
              "<Figure size 1080x720 with 1 Axes>"
            ]
          },
          "metadata": {
            "tags": [],
            "needs_background": "light"
          }
        }
      ]
    },
    {
      "cell_type": "markdown",
      "metadata": {
        "id": "WhecJzFIKUQq"
      },
      "source": [
        "# 3. Implement Kmeans Pytorch"
      ]
    },
    {
      "cell_type": "code",
      "metadata": {
        "colab": {
          "base_uri": "https://localhost:8080/"
        },
        "id": "1vyczfoQKYpC",
        "outputId": "450af416-ae77-4e74-914d-e52ada930617"
      },
      "source": [
        "!pip install kmeans-pytorch"
      ],
      "execution_count": 29,
      "outputs": [
        {
          "output_type": "stream",
          "text": [
            "Requirement already satisfied: kmeans-pytorch in /usr/local/lib/python3.6/dist-packages (0.3)\n"
          ],
          "name": "stdout"
        }
      ]
    },
    {
      "cell_type": "code",
      "metadata": {
        "id": "Qi0WSPgbLrmc"
      },
      "source": [
        "import torch\n",
        "import numpy as np\n",
        "import matplotlib.pyplot as plt\n",
        "from kmeans_pytorch import kmeans, kmeans_predict"
      ],
      "execution_count": 30,
      "outputs": []
    },
    {
      "cell_type": "code",
      "metadata": {
        "id": "ejb6JSeYLyfi"
      },
      "source": [
        "# data\n",
        "data_size, dims, num_clusters = X, 2, 3\n",
        "x = torch.from_numpy(X)"
      ],
      "execution_count": 31,
      "outputs": []
    },
    {
      "cell_type": "code",
      "metadata": {
        "colab": {
          "base_uri": "https://localhost:8080/"
        },
        "id": "lzdAzZg9RPtt",
        "outputId": "1fdb1e53-b91f-405b-de5b-99a4f672ca9f"
      },
      "source": [
        "print(x)"
      ],
      "execution_count": 32,
      "outputs": [
        {
          "output_type": "stream",
          "text": [
            "tensor([[9.3940e+02, 9.0742e+00],\n",
            "        [5.4500e+02, 7.8132e+00],\n",
            "        [2.4660e+02, 7.2100e+00],\n",
            "        ...,\n",
            "        [3.2500e-01, 1.6000e+01],\n",
            "        [6.9400e-01, 5.2060e+00],\n",
            "        [1.6260e+00, 6.8300e+00]], dtype=torch.float64)\n"
          ],
          "name": "stdout"
        }
      ]
    },
    {
      "cell_type": "code",
      "metadata": {
        "colab": {
          "base_uri": "https://localhost:8080/"
        },
        "id": "tAmwgwhBMDsj",
        "outputId": "a2ea7369-58c9-424f-a48f-49aac3278441"
      },
      "source": [
        "# k-means\n",
        "cluster_ids_x, cluster_centers = kmeans(\n",
        "    X=x, num_clusters=num_clusters, distance='euclidean'\n",
        ")"
      ],
      "execution_count": 33,
      "outputs": [
        {
          "output_type": "stream",
          "text": [
            "[running kmeans]: 11it [00:00, 48.25it/s, center_shift=3245.012451, iteration=12, tol=0.000100]"
          ],
          "name": "stderr"
        },
        {
          "output_type": "stream",
          "text": [
            "running k-means on cpu..\n"
          ],
          "name": "stdout"
        },
        {
          "output_type": "stream",
          "text": [
            "[running kmeans]: 20it [00:00, 71.81it/s, center_shift=0.000000, iteration=20, tol=0.000100]\n"
          ],
          "name": "stderr"
        }
      ]
    },
    {
      "cell_type": "code",
      "metadata": {
        "colab": {
          "base_uri": "https://localhost:8080/"
        },
        "id": "Sbqae9TgMjz5",
        "outputId": "bc3742ed-726c-436e-b919-5a054c32edb6"
      },
      "source": [
        "# cluster IDs and cluster centers\n",
        "print(cluster_ids_x)\n",
        "print(cluster_centers)"
      ],
      "execution_count": 34,
      "outputs": [
        {
          "output_type": "stream",
          "text": [
            "tensor([0, 0, 0,  ..., 0, 0, 0])\n",
            "tensor([[ 15.5346,  12.6994],\n",
            "        [ 10.5282, 222.6761],\n",
            "        [ 12.7203, 887.5752]])\n"
          ],
          "name": "stdout"
        }
      ]
    },
    {
      "cell_type": "code",
      "metadata": {
        "id": "h6ASKG5wOihO"
      },
      "source": [
        "# more data\n",
        "y = np.random.randn(3, dims) / 6\n",
        "y_kmeans = torch.from_numpy(y)"
      ],
      "execution_count": 35,
      "outputs": []
    },
    {
      "cell_type": "code",
      "metadata": {
        "colab": {
          "base_uri": "https://localhost:8080/"
        },
        "id": "2lQtGfhb45MA",
        "outputId": "9c5f5725-b645-4cfa-fe7b-183ef89b2e1e"
      },
      "source": [
        "# predict cluster ids for y\n",
        "cluster_ids_y = kmeans_predict(\n",
        "    y_kmeans, cluster_centers, 'euclidean'\n",
        ")"
      ],
      "execution_count": 36,
      "outputs": [
        {
          "output_type": "stream",
          "text": [
            "predicting on cpu..\n"
          ],
          "name": "stdout"
        }
      ]
    },
    {
      "cell_type": "code",
      "metadata": {
        "colab": {
          "base_uri": "https://localhost:8080/"
        },
        "id": "UnmPWeTv5D0w",
        "outputId": "265c1c73-721b-4b38-acf4-5d7985ec1606"
      },
      "source": [
        "print(cluster_ids_y)"
      ],
      "execution_count": 37,
      "outputs": [
        {
          "output_type": "stream",
          "text": [
            "tensor([0, 0, 0])\n"
          ],
          "name": "stdout"
        }
      ]
    },
    {
      "cell_type": "code",
      "metadata": {
        "colab": {
          "base_uri": "https://localhost:8080/",
          "height": 631
        },
        "id": "1y6rjH0JMqeC",
        "outputId": "2fbe65cf-a2d9-448f-e6b1-f3a4d9e2997a"
      },
      "source": [
        "# plot\n",
        "plt.figure(figsize=(10, 7), dpi=100)\n",
        "plt.scatter(x[:, 0], x[:, 1], c=cluster_ids_x, cmap='cool')\n",
        "plt.scatter(y[:, 0], y[:, 1], c=cluster_ids_y, cmap='cool')\n",
        "plt.scatter(cluster_centers[:, 0], cluster_centers[:, 1], c='yellow', alpha=0.6, edgecolors='black', linewidths=2)\n",
        "plt.title('Asteroid PyTorch Kmeans Clustering - Diameter vs Rotation Period of Asteroids')\n",
        "plt.xlabel('Diameter')\n",
        "plt.ylabel('Rotation Period of Asteroids')\n",
        "plt.show()\n"
      ],
      "execution_count": 41,
      "outputs": [
        {
          "output_type": "display_data",
          "data": {
            "image/png": "[encoded data removed]",
            "text/plain": [
              "<Figure size 1000x700 with 1 Axes>"
            ]
          },
          "metadata": {
            "tags": [],
            "needs_background": "light"
          }
        }
      ]
    }
  ]
}